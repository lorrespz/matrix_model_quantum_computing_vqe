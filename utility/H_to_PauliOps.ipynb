{
 "cells": [
  {
   "cell_type": "code",
   "execution_count": 1,
   "id": "00ee5cd0-bcbf-4a65-b737-aaf548fbe7a9",
   "metadata": {},
   "outputs": [],
   "source": [
    "from qiskit.quantum_info import SparsePauliOp\n",
    "from qiskit_algorithms import NumPyEigensolver"
   ]
  },
  {
   "cell_type": "code",
   "execution_count": 2,
   "id": "ca601860-e9d2-4186-9900-41c155498307",
   "metadata": {},
   "outputs": [],
   "source": [
    "import sys\n",
    "sys.path.append('../utility')\n",
    "from define_hamiltonian import *"
   ]
  },
  {
   "cell_type": "code",
   "execution_count": 3,
   "id": "1f099fcf-9586-4222-97b2-9b7d903eabc1",
   "metadata": {},
   "outputs": [],
   "source": [
    "numBosons = 6\n",
    "bosonMatrixDim = 2"
   ]
  },
  {
   "cell_type": "markdown",
   "id": "fdab42c6-0cc3-49d9-9923-dfc489a935b0",
   "metadata": {},
   "source": [
    "## lambda = 0.2"
   ]
  },
  {
   "cell_type": "code",
   "execution_count": 4,
   "id": "8705808c-9476-4ec1-9132-2d8adc1b7cd5",
   "metadata": {},
   "outputs": [
    {
     "data": {
      "text/plain": [
       "3.14808"
      ]
     },
     "execution_count": 4,
     "metadata": {},
     "output_type": "execute_result"
    }
   ],
   "source": [
    "H2MM, H4MM1 = bosonHamiltonians(numBosons, bosonMatrixDim, coupling=0.1) \n",
    "E, V = np.linalg.eigh(H4MM1)\n",
    "np.round(E[0], 5)"
   ]
  },
  {
   "cell_type": "code",
   "execution_count": 5,
   "id": "e6909578-261a-4517-9ca3-b765a7ff6451",
   "metadata": {},
   "outputs": [
    {
     "data": {
      "text/plain": [
       "('6.15*IIIIII+-0.5*IIIIIZ+-0.5*IIIIZI+-0.5*IIIZII+-0.5*IIZIII+-0.05*IXXIXX+-0.5*IZIIII+-0.05*XIXXIX+-0.05*XXIXXI+-0.5*ZIIIII',\n",
       " [('IIIIII', 6.15),\n",
       "  ('IIIIIZ', -0.5),\n",
       "  ('IIIIZI', -0.5),\n",
       "  ('IIIZII', -0.5),\n",
       "  ('IIZIII', -0.5),\n",
       "  ('IXXIXX', -0.05),\n",
       "  ('IZIIII', -0.5),\n",
       "  ('XIXXIX', -0.05),\n",
       "  ('XXIXXI', -0.05),\n",
       "  ('ZIIIII', -0.5)])"
      ]
     },
     "execution_count": 5,
     "metadata": {},
     "output_type": "execute_result"
    }
   ],
   "source": [
    "## Converting H to Pauli Ops\n",
    "H_p = decompose(H4MM1, tol=4)\n",
    "H_plist = get_pauli_op_w_coeffs(H_p)\n",
    "H_p, H_plist"
   ]
  },
  {
   "cell_type": "code",
   "execution_count": 6,
   "id": "85bb5844-03e0-4588-81d8-4b209e0db5f1",
   "metadata": {},
   "outputs": [
    {
     "name": "stdout",
     "output_type": "stream",
     "text": [
      "Exact Result of qubit hamiltonian: [3.14807787 4.14674965 4.14674965 4.14674965]\n"
     ]
    }
   ],
   "source": [
    "#check that the converted H has the right eigenvalues\n",
    "H4q = SparsePauliOp.from_list(H_plist)\n",
    "solver = NumPyEigensolver(k=4)\n",
    "exact_solution = solver.compute_eigenvalues(H4q)\n",
    "print(\"Exact Result of qubit hamiltonian:\", np.real(exact_solution.eigenvalues))"
   ]
  },
  {
   "cell_type": "markdown",
   "id": "411bf632-6e40-4f19-a1b4-3e7815f26b4e",
   "metadata": {},
   "source": [
    "# lambda = 0.5"
   ]
  },
  {
   "cell_type": "code",
   "execution_count": 3,
   "id": "783b77b9-17ad-4fbe-ad7e-5ca04a48ba24",
   "metadata": {},
   "outputs": [
    {
     "data": {
      "text/plain": [
       "3.36254"
      ]
     },
     "execution_count": 3,
     "metadata": {},
     "output_type": "execute_result"
    }
   ],
   "source": [
    "H2MM, H4MM1 = bosonHamiltonians(numBosons, bosonMatrixDim, coupling=0.25) \n",
    "E, V = np.linalg.eigh(H4MM1)\n",
    "np.round(E[0], 5)"
   ]
  },
  {
   "cell_type": "code",
   "execution_count": 4,
   "id": "5047c83e-b9a5-4c76-b971-b1e31b98076a",
   "metadata": {},
   "outputs": [
    {
     "data": {
      "text/plain": [
       "('6.375*IIIIII+-0.5*IIIIIZ+-0.5*IIIIZI+-0.5*IIIZII+-0.5*IIZIII+-0.125*IXXIXX+-0.5*IZIIII+-0.125*XIXXIX+-0.125*XXIXXI+-0.5*ZIIIII',\n",
       " [('IIIIII', 6.375),\n",
       "  ('IIIIIZ', -0.5),\n",
       "  ('IIIIZI', -0.5),\n",
       "  ('IIIZII', -0.5),\n",
       "  ('IIZIII', -0.5),\n",
       "  ('IXXIXX', -0.125),\n",
       "  ('IZIIII', -0.5),\n",
       "  ('XIXXIX', -0.125),\n",
       "  ('XXIXXI', -0.125),\n",
       "  ('ZIIIII', -0.5)])"
      ]
     },
     "execution_count": 4,
     "metadata": {},
     "output_type": "execute_result"
    }
   ],
   "source": [
    "## Converting H to Pauli Ops\n",
    "H_p = decompose(H4MM1, tol=4)\n",
    "H_plist = get_pauli_op_w_coeffs(H_p)\n",
    "H_p, H_plist"
   ]
  },
  {
   "cell_type": "code",
   "execution_count": 5,
   "id": "c7b29384-a280-4baa-a10b-2d5ad9491eb2",
   "metadata": {},
   "outputs": [
    {
     "name": "stdout",
     "output_type": "stream",
     "text": [
      "Exact Result of qubit hamiltonian: [3.36254139 4.35352431 4.35352431 4.35352431]\n"
     ]
    }
   ],
   "source": [
    "#check that the converted H has the right eigenvalues\n",
    "H4q = SparsePauliOp.from_list(H_plist)\n",
    "solver = NumPyEigensolver(k=4)\n",
    "exact_solution = solver.compute_eigenvalues(H4q)\n",
    "print(\"Exact Result of qubit hamiltonian:\", np.real(exact_solution.eigenvalues))"
   ]
  },
  {
   "cell_type": "markdown",
   "id": "6d9b5bef-2b8c-4692-b2e3-7c214c649cb2",
   "metadata": {},
   "source": [
    "# lambda = 1.0"
   ]
  },
  {
   "cell_type": "code",
   "execution_count": 6,
   "id": "3af704c6-03ab-4354-9bf3-6e215d50c8e0",
   "metadata": {},
   "outputs": [
    {
     "data": {
      "text/plain": [
       "3.69722"
      ]
     },
     "execution_count": 6,
     "metadata": {},
     "output_type": "execute_result"
    }
   ],
   "source": [
    "H2MM, H4MM1 = bosonHamiltonians(numBosons, bosonMatrixDim, coupling=0.5) \n",
    "E, V = np.linalg.eigh(H4MM1)\n",
    "np.round(E[0], 5)"
   ]
  },
  {
   "cell_type": "code",
   "execution_count": 7,
   "id": "cd3b174a-dc38-4c69-a560-89500d241379",
   "metadata": {},
   "outputs": [
    {
     "data": {
      "text/plain": [
       "('6.75*IIIIII+-0.5*IIIIIZ+-0.5*IIIIZI+-0.5*IIIZII+-0.5*IIZIII+-0.25*IXXIXX+-0.5*IZIIII+-0.25*XIXXIX+-0.25*XXIXXI+-0.5*ZIIIII',\n",
       " [('IIIIII', 6.75),\n",
       "  ('IIIIIZ', -0.5),\n",
       "  ('IIIIZI', -0.5),\n",
       "  ('IIIZII', -0.5),\n",
       "  ('IIZIII', -0.5),\n",
       "  ('IXXIXX', -0.25),\n",
       "  ('IZIIII', -0.5),\n",
       "  ('XIXXIX', -0.25),\n",
       "  ('XXIXXI', -0.25),\n",
       "  ('ZIIIII', -0.5)])"
      ]
     },
     "execution_count": 7,
     "metadata": {},
     "output_type": "execute_result"
    }
   ],
   "source": [
    "## Converting H to Pauli Ops\n",
    "H_p = decompose(H4MM1, tol=4)\n",
    "H_plist = get_pauli_op_w_coeffs(H_p)\n",
    "H_p, H_plist"
   ]
  },
  {
   "cell_type": "code",
   "execution_count": 8,
   "id": "d8c991a8-6a75-43ed-8c7c-cc14cac7f2df",
   "metadata": {},
   "outputs": [
    {
     "name": "stdout",
     "output_type": "stream",
     "text": [
      "Exact Result of qubit hamiltonian: [3.69722436 4.65707692 4.65707692 4.65707692]\n"
     ]
    }
   ],
   "source": [
    "#check that the converted H has the right eigenvalues\n",
    "H4q = SparsePauliOp.from_list(H_plist)\n",
    "solver = NumPyEigensolver(k=4)\n",
    "exact_solution = solver.compute_eigenvalues(H4q)\n",
    "print(\"Exact Result of qubit hamiltonian:\", np.real(exact_solution.eigenvalues))"
   ]
  },
  {
   "cell_type": "markdown",
   "id": "7b079256-def6-47df-84dc-685c329d5835",
   "metadata": {},
   "source": [
    "# lambda = 2.0"
   ]
  },
  {
   "cell_type": "code",
   "execution_count": 10,
   "id": "c1360277-1afb-4489-a8a6-ef922610c893",
   "metadata": {},
   "outputs": [
    {
     "data": {
      "text/plain": [
       "4.26795"
      ]
     },
     "execution_count": 10,
     "metadata": {},
     "output_type": "execute_result"
    }
   ],
   "source": [
    "H2MM, H4MM1 = bosonHamiltonians(numBosons, bosonMatrixDim, coupling=1.0) \n",
    "E, V = np.linalg.eigh(H4MM1)\n",
    "np.round(E[0], 5)"
   ]
  },
  {
   "cell_type": "code",
   "execution_count": 11,
   "id": "3f0d9cbe-880f-4a8f-8ca1-7e40522775c8",
   "metadata": {},
   "outputs": [
    {
     "data": {
      "text/plain": [
       "('7.5*IIIIII+-0.5*IIIIIZ+-0.5*IIIIZI+-0.5*IIIZII+-0.5*IIZIII+-0.5*IXXIXX+-0.5*IZIIII+-0.5*XIXXIX+-0.5*XXIXXI+-0.5*ZIIIII',\n",
       " [('IIIIII', 7.5),\n",
       "  ('IIIIIZ', -0.5),\n",
       "  ('IIIIZI', -0.5),\n",
       "  ('IIIZII', -0.5),\n",
       "  ('IIZIII', -0.5),\n",
       "  ('IXXIXX', -0.5),\n",
       "  ('IZIIII', -0.5),\n",
       "  ('XIXXIX', -0.5),\n",
       "  ('XXIXXI', -0.5),\n",
       "  ('ZIIIII', -0.5)])"
      ]
     },
     "execution_count": 11,
     "metadata": {},
     "output_type": "execute_result"
    }
   ],
   "source": [
    "## Converting H to Pauli Ops\n",
    "H_p = decompose(H4MM1, tol=4)\n",
    "H_plist = get_pauli_op_w_coeffs(H_p)\n",
    "H_p, H_plist"
   ]
  },
  {
   "cell_type": "code",
   "execution_count": 12,
   "id": "78993e0b-607a-438f-a821-e0601729c3f9",
   "metadata": {},
   "outputs": [
    {
     "name": "stdout",
     "output_type": "stream",
     "text": [
      "Exact Result of qubit hamiltonian: [4.26794919 5.09678807 5.09678807 5.09678807]\n"
     ]
    }
   ],
   "source": [
    "#check that the converted H has the right eigenvalues\n",
    "H4q = SparsePauliOp.from_list(H_plist)\n",
    "solver = NumPyEigensolver(k=4)\n",
    "exact_solution = solver.compute_eigenvalues(H4q)\n",
    "print(\"Exact Result of qubit hamiltonian:\", np.real(exact_solution.eigenvalues))"
   ]
  }
 ],
 "metadata": {
  "kernelspec": {
   "display_name": "Python 3 (ipykernel)",
   "language": "python",
   "name": "python3"
  },
  "language_info": {
   "codemirror_mode": {
    "name": "ipython",
    "version": 3
   },
   "file_extension": ".py",
   "mimetype": "text/x-python",
   "name": "python",
   "nbconvert_exporter": "python",
   "pygments_lexer": "ipython3",
   "version": "3.9.7"
  }
 },
 "nbformat": 4,
 "nbformat_minor": 5
}
