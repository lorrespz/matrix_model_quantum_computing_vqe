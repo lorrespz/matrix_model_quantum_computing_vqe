{
 "cells": [
  {
   "cell_type": "markdown",
   "id": "6d77ce32-71db-421e-97de-3422e331f97c",
   "metadata": {},
   "source": [
    "# SU2 BMN model: Lambda=2 - Build H in PauliOps form\n",
    "\n",
    "In this notebook, the $\\Lambda=2$ Hamiltonian at 4 couplings $\\lambda = 0.2, 0.5, 1.0, 2.0$ are built from scratch. This notebook must be run with qiskit 0.28 (or older), since the module `opflow' that are crucial for this code is deprecated in later versions. \n",
    "https://docs.quantum.ibm.com/api/qiskit/0.41/qiskit.opflow.list_ops.TensoredOp\n",
    "\n",
    "This notebook is based partly on:\n",
    "https://github.com/erinaldi/bmn2-qiskit/blob/main/notebooks/QISKIT_susy_matrices_VQE.ipynb"
   ]
  },
  {
   "cell_type": "code",
   "execution_count": 1,
   "id": "18d132aa",
   "metadata": {},
   "outputs": [],
   "source": [
    "import numpy as np\n",
    "from scipy.sparse import diags\n",
    "from scipy.sparse import identity\n",
    "from scipy.sparse import kron\n",
    "L=2"
   ]
  },
  {
   "cell_type": "code",
   "execution_count": 2,
   "id": "828b204d",
   "metadata": {},
   "outputs": [
    {
     "name": "stderr",
     "output_type": "stream",
     "text": [
      "/opt/anaconda3/lib/python3.9/site-packages/qiskit/circuit/equivalence.py:18: DeprecationWarning: The retworkx package is deprecated and has been renamed to rustworkx. Rustworkx is a drop-in replacement and can be used by replacing `import retworkx` with import `rustworkx`. \n",
      "  import retworkx as rx\n"
     ]
    }
   ],
   "source": [
    "import qiskit\n",
    "from qiskit.opflow import MatrixOp\n",
    "from qiskit.opflow import ListOp, TensoredOp\n",
    "from qiskit.opflow import SummedOp\n",
    "from qiskit.opflow import I\n",
    "\n",
    "from qiskit.algorithms import NumPyMinimumEigensolver\n",
    "from scipy.sparse.linalg import eigsh"
   ]
  },
  {
   "cell_type": "markdown",
   "id": "b502027b",
   "metadata": {},
   "source": [
    "# Define annihilation operators\n",
    "\n"
   ]
  },
  {
   "cell_type": "code",
   "execution_count": 3,
   "id": "13abc5b3",
   "metadata": {},
   "outputs": [
    {
     "data": {
      "text/plain": [
       "(array([[0, 1],\n",
       "        [1, 0]]),\n",
       " array([[ 0.+0.j, -0.-1.j],\n",
       "        [ 0.+1.j,  0.+0.j]]),\n",
       " array([[0.+0.j, 1.+0.j],\n",
       "        [0.+0.j, 0.+0.j]]))"
      ]
     },
     "execution_count": 3,
     "metadata": {},
     "output_type": "execute_result"
    }
   ],
   "source": [
    "X= np.array([[0,1],[1,0]])\n",
    "Y = np.array([[0, -1j], [1j, 0]])\n",
    "XY = 0.5*X + 0.5j*Y\n",
    "X, Y, XY"
   ]
  },
  {
   "cell_type": "code",
   "execution_count": 4,
   "id": "dc241d68",
   "metadata": {},
   "outputs": [],
   "source": [
    "def to_pauli(op):\n",
    "    qubitOp = MatrixOp(primitive = op)\n",
    "    op_pauli = qubitOp.to_pauli_op()\n",
    "    return op_pauli"
   ]
  },
  {
   "cell_type": "code",
   "execution_count": 5,
   "id": "132d87f2",
   "metadata": {},
   "outputs": [
    {
     "data": {
      "text/plain": [
       "(matrix([[0., 1.],\n",
       "         [0., 0.]]),\n",
       " matrix([[0., 1.],\n",
       "         [0., 0.]]),\n",
       " matrix([[1., 0.],\n",
       "         [0., 1.]]),\n",
       " matrix([[1., 0.],\n",
       "         [0., 1.]]),\n",
       " matrix([[ 1.,  0.],\n",
       "         [ 0., -1.]]))"
      ]
     },
     "execution_count": 5,
     "metadata": {},
     "output_type": "execute_result"
    }
   ],
   "source": [
    "a_b = diags(np.sqrt(np.linspace(1,L-1,L-1)),offsets=1)\n",
    "a_f = diags(np.sqrt(np.linspace(1,1,1)),offsets=1)\n",
    "i_b = identity(L)\n",
    "i_f = identity(2)\n",
    "sz = diags([1.0,-1.0])\n",
    "a_b.todense(),a_f.todense(), i_b.todense(), i_f.todense(), sz.todense()"
   ]
  },
  {
   "cell_type": "code",
   "execution_count": 6,
   "id": "7d450111",
   "metadata": {},
   "outputs": [
    {
     "data": {
      "text/plain": [
       "(SummedOp([PauliOp(Pauli('X'), coeff=0.5), PauliOp(Pauli('Y'), coeff=0.5j)], coeff=1.0, abelian=False),\n",
       " SummedOp([PauliOp(Pauli('X'), coeff=0.5), PauliOp(Pauli('Y'), coeff=0.5j)], coeff=1.0, abelian=False),\n",
       " PauliOp(Pauli('I'), coeff=1.0),\n",
       " PauliOp(Pauli('I'), coeff=1.0),\n",
       " PauliOp(Pauli('Z'), coeff=1.0))"
      ]
     },
     "execution_count": 6,
     "metadata": {},
     "output_type": "execute_result"
    }
   ],
   "source": [
    "a_b_pauli = to_pauli(a_b)\n",
    "i_b_pauli = to_pauli(i_b)\n",
    "i_f_pauli = to_pauli(i_f)\n",
    "a_f_pauli = to_pauli(a_f)\n",
    "sz_p = to_pauli(sz)\n",
    "a_b_pauli,  a_f_pauli, i_b_pauli, i_f_pauli, sz_p"
   ]
  },
  {
   "cell_type": "markdown",
   "id": "aedc7726",
   "metadata": {},
   "source": [
    "# Bosonic space "
   ]
  },
  {
   "cell_type": "code",
   "execution_count": 7,
   "id": "4c2ea238",
   "metadata": {},
   "outputs": [
    {
     "data": {
      "text/plain": [
       "ListOp([PauliOp(Pauli('I'), coeff=1.0), PauliOp(Pauli('I'), coeff=1.0), PauliOp(Pauli('I'), coeff=1.0), PauliOp(Pauli('I'), coeff=1.0), PauliOp(Pauli('I'), coeff=1.0), SummedOp([PauliOp(Pauli('X'), coeff=0.5), PauliOp(Pauli('Y'), coeff=0.5j)], coeff=1.0, abelian=False)], coeff=1.0, abelian=False)"
      ]
     },
     "execution_count": 7,
     "metadata": {},
     "output_type": "execute_result"
    }
   ],
   "source": [
    "N_bos = 6\n",
    "a_b_list = []  \n",
    "for i in np.arange(0,N_bos): \n",
    "    operator_list = [i_b_pauli] * N_bos\n",
    "    operator_list[i] = a_b_pauli  \n",
    "    a_b_list.append(ListOp(operator_list))\n",
    "    \n",
    "a_b_list[5]"
   ]
  },
  {
   "cell_type": "code",
   "execution_count": 8,
   "id": "2f4af084",
   "metadata": {},
   "outputs": [
    {
     "data": {
      "text/plain": [
       "TensoredOp([PauliOp(Pauli('I'), coeff=1.0), PauliOp(Pauli('I'), coeff=1.0), SummedOp([PauliOp(Pauli('X'), coeff=0.5), PauliOp(Pauli('Y'), coeff=0.5j)], coeff=1.0, abelian=False), PauliOp(Pauli('I'), coeff=1.0), PauliOp(Pauli('I'), coeff=1.0), PauliOp(Pauli('I'), coeff=1.0)], coeff=1.0, abelian=False)"
      ]
     },
     "execution_count": 8,
     "metadata": {},
     "output_type": "execute_result"
    }
   ],
   "source": [
    "a_b_tensor = [TensoredOp(x) for x in a_b_list]\n",
    "a_b_tensor[2]"
   ]
  },
  {
   "cell_type": "markdown",
   "id": "1f3f0e83",
   "metadata": {},
   "source": [
    "# Fermionic space "
   ]
  },
  {
   "cell_type": "code",
   "execution_count": 9,
   "id": "85fd4d8a",
   "metadata": {},
   "outputs": [
    {
     "data": {
      "text/plain": [
       "[ListOp([SummedOp([PauliOp(Pauli('X'), coeff=0.5), PauliOp(Pauli('Y'), coeff=0.5j)], coeff=1.0, abelian=False), PauliOp(Pauli('I'), coeff=1.0), PauliOp(Pauli('I'), coeff=1.0)], coeff=1.0, abelian=False),\n",
       " ListOp([PauliOp(Pauli('Z'), coeff=1.0), SummedOp([PauliOp(Pauli('X'), coeff=0.5), PauliOp(Pauli('Y'), coeff=0.5j)], coeff=1.0, abelian=False), PauliOp(Pauli('I'), coeff=1.0)], coeff=1.0, abelian=False),\n",
       " ListOp([PauliOp(Pauli('Z'), coeff=1.0), PauliOp(Pauli('Z'), coeff=1.0), SummedOp([PauliOp(Pauli('X'), coeff=0.5), PauliOp(Pauli('Y'), coeff=0.5j)], coeff=1.0, abelian=False)], coeff=1.0, abelian=False)]"
      ]
     },
     "execution_count": 9,
     "metadata": {},
     "output_type": "execute_result"
    }
   ],
   "source": [
    "N_f = 3 \n",
    "a_f_list = []  \n",
    "for i in np.arange(0,N_f):  \n",
    "    operator_list = [i_f_pauli] * N_f   \n",
    "    operator_list[i] = a_f_pauli  \n",
    "    for j in np.arange(0,i): \n",
    "        operator_list[j] = sz_p\n",
    "    a_f_list.append(ListOp(operator_list))  \n",
    "a_f_list"
   ]
  },
  {
   "cell_type": "code",
   "execution_count": 10,
   "id": "2aeebd6c",
   "metadata": {},
   "outputs": [
    {
     "data": {
      "text/plain": [
       "TensoredOp([PauliOp(Pauli('Z'), coeff=1.0), PauliOp(Pauli('Z'), coeff=1.0), SummedOp([PauliOp(Pauli('X'), coeff=0.5), PauliOp(Pauli('Y'), coeff=0.5j)], coeff=1.0, abelian=False)], coeff=1.0, abelian=False)"
      ]
     },
     "execution_count": 10,
     "metadata": {},
     "output_type": "execute_result"
    }
   ],
   "source": [
    "a_f_tensor = [TensoredOp(x) for x in a_f_list]\n",
    "a_f_tensor[2]"
   ]
  },
  {
   "cell_type": "markdown",
   "id": "f140e04d",
   "metadata": {},
   "source": [
    "# Combine Bosonic and Fermionic spaces"
   ]
  },
  {
   "cell_type": "code",
   "execution_count": 11,
   "id": "9e822b99",
   "metadata": {},
   "outputs": [
    {
     "data": {
      "text/plain": [
       "(<64x64 sparse matrix of type '<class 'numpy.float64'>'\n",
       " \twith 64 stored elements (1 diagonals) in DIAgonal format>,\n",
       " <8x8 sparse matrix of type '<class 'numpy.float64'>'\n",
       " \twith 8 stored elements (1 diagonals) in DIAgonal format>)"
      ]
     },
     "execution_count": 11,
     "metadata": {},
     "output_type": "execute_result"
    }
   ],
   "source": [
    "i_b_tot = identity(L**N_bos) \n",
    "i_f_tot = identity(2**N_f)\n",
    "i_b_tot, i_f_tot"
   ]
  },
  {
   "cell_type": "code",
   "execution_count": 12,
   "id": "83ab5fe0",
   "metadata": {},
   "outputs": [
    {
     "data": {
      "text/plain": [
       "(PauliOp(Pauli('IIIIII'), coeff=1.0), PauliOp(Pauli('III'), coeff=1.0))"
      ]
     },
     "execution_count": 12,
     "metadata": {},
     "output_type": "execute_result"
    }
   ],
   "source": [
    "i_b_tot_pauli = to_pauli(i_b_tot)\n",
    "i_f_tot_pauli = to_pauli(i_f_tot)\n",
    "i_b_tot_pauli, i_f_tot_pauli"
   ]
  },
  {
   "cell_type": "code",
   "execution_count": 13,
   "id": "e5089a57",
   "metadata": {},
   "outputs": [],
   "source": [
    "a_b_t2 = []\n",
    "a_f_t2 = []\n",
    "for i in range(len(a_b_tensor)):\n",
    "    a_b_t2.append(ListOp([a_b_tensor[i], i_f_tot_pauli]))\n",
    "for i in range(len(a_f_tensor)):\n",
    "    a_f_t2.append(ListOp([i_b_tot_pauli, a_f_tensor[i]]))\n",
    "    \n",
    "a_b_tt = [TensoredOp(x) for x in a_b_t2]\n",
    "a_f_tt = [TensoredOp(x) for x in a_f_t2]"
   ]
  },
  {
   "cell_type": "code",
   "execution_count": 14,
   "id": "c0e52c8e",
   "metadata": {},
   "outputs": [
    {
     "data": {
      "text/plain": [
       "(6,\n",
       " 3,\n",
       " TensoredOp([TensoredOp([SummedOp([PauliOp(Pauli('X'), coeff=0.5), PauliOp(Pauli('Y'), coeff=0.5j)], coeff=1.0, abelian=False), PauliOp(Pauli('I'), coeff=1.0), PauliOp(Pauli('I'), coeff=1.0), PauliOp(Pauli('I'), coeff=1.0), PauliOp(Pauli('I'), coeff=1.0), PauliOp(Pauli('I'), coeff=1.0)], coeff=1.0, abelian=False), PauliOp(Pauli('III'), coeff=1.0)], coeff=1.0, abelian=False),\n",
       " PauliSumOp(SparsePauliOp([[False, False, False, False, False, False, False, False,\n",
       "                  True, False, False, False, False, False, False, False,\n",
       "                 False, False],\n",
       "                [False, False, False, False, False, False, False, False,\n",
       "                  True, False, False, False, False, False, False, False,\n",
       "                 False,  True]],\n",
       "               coeffs=[0.5+0.j , 0. +0.5j]), coeff=1.0))"
      ]
     },
     "execution_count": 14,
     "metadata": {},
     "output_type": "execute_result"
    }
   ],
   "source": [
    "len(a_b_tt), len(a_f_tt), a_b_tt[0], a_b_tt[0].to_pauli_op()"
   ]
  },
  {
   "cell_type": "markdown",
   "id": "62bb5d22",
   "metadata": {},
   "source": [
    "# Build the Hamiltonian"
   ]
  },
  {
   "cell_type": "code",
   "execution_count": 15,
   "id": "574e45ca",
   "metadata": {},
   "outputs": [],
   "source": [
    "x_list = []\n",
    "bosons = a_b_tt\n",
    "fermions = a_f_tt\n",
    "\n",
    "# for each boson they are constructed using a and adag\n",
    "x_list = [1/np.sqrt(2)*(~x + x) for x in bosons]"
   ]
  },
  {
   "cell_type": "code",
   "execution_count": 38,
   "id": "aadd2af5",
   "metadata": {},
   "outputs": [],
   "source": [
    "#[x.to_pauli_op() for x in a_b_tt]"
   ]
  },
  {
   "cell_type": "code",
   "execution_count": 16,
   "id": "c9a005b3",
   "metadata": {},
   "outputs": [
    {
     "data": {
      "text/plain": [
       "(SummedOp([TensoredOp([TensoredOp([SummedOp([PauliOp(Pauli('X'), coeff=0.5), PauliOp(Pauli('Y'), coeff=-0.5j)], coeff=1.0, abelian=False), PauliOp(Pauli('I'), coeff=1.0), PauliOp(Pauli('I'), coeff=1.0), PauliOp(Pauli('I'), coeff=1.0), PauliOp(Pauli('I'), coeff=1.0), PauliOp(Pauli('I'), coeff=1.0)], coeff=1.0, abelian=False), PauliOp(Pauli('III'), coeff=1.0)], coeff=1.0, abelian=False), TensoredOp([TensoredOp([SummedOp([PauliOp(Pauli('X'), coeff=0.5), PauliOp(Pauli('Y'), coeff=0.5j)], coeff=1.0, abelian=False), PauliOp(Pauli('I'), coeff=1.0), PauliOp(Pauli('I'), coeff=1.0), PauliOp(Pauli('I'), coeff=1.0), PauliOp(Pauli('I'), coeff=1.0), PauliOp(Pauli('I'), coeff=1.0)], coeff=1.0, abelian=False), PauliOp(Pauli('III'), coeff=1.0)], coeff=1.0, abelian=False)], coeff=0.7071067811865475, abelian=False),\n",
       " PauliOp(Pauli('XIIIIIIII'), coeff=0.7071067811865475))"
      ]
     },
     "execution_count": 16,
     "metadata": {},
     "output_type": "execute_result"
    }
   ],
   "source": [
    "x_list[0], x_list[0].to_pauli_op()"
   ]
  },
  {
   "cell_type": "code",
   "execution_count": 17,
   "id": "d110ae03",
   "metadata": {},
   "outputs": [
    {
     "data": {
      "text/plain": [
       "[PauliOp(Pauli('XIIIIIIII'), coeff=0.7071067811865475),\n",
       " PauliOp(Pauli('IXIIIIIII'), coeff=0.7071067811865475),\n",
       " PauliOp(Pauli('IIXIIIIII'), coeff=0.7071067811865475),\n",
       " PauliOp(Pauli('IIIXIIIII'), coeff=0.7071067811865475),\n",
       " PauliOp(Pauli('IIIIXIIII'), coeff=0.7071067811865475),\n",
       " PauliOp(Pauli('IIIIIXIII'), coeff=0.7071067811865475)]"
      ]
     },
     "execution_count": 17,
     "metadata": {},
     "output_type": "execute_result"
    }
   ],
   "source": [
    "[x.to_pauli_op() for x in x_list]"
   ]
  },
  {
   "cell_type": "code",
   "execution_count": 18,
   "id": "bd8cea82",
   "metadata": {},
   "outputs": [
    {
     "data": {
      "text/plain": [
       "[PauliOp(Pauli('XIIIIIIII'), coeff=0.7071067811865475),\n",
       " PauliOp(Pauli('IXIIIIIII'), coeff=0.7071067811865475),\n",
       " PauliOp(Pauli('IIXIIIIII'), coeff=0.7071067811865475),\n",
       " PauliOp(Pauli('IIIXIIIII'), coeff=0.7071067811865475),\n",
       " PauliOp(Pauli('IIIIXIIII'), coeff=0.7071067811865475),\n",
       " PauliOp(Pauli('IIIIIXIII'), coeff=0.7071067811865475)]"
      ]
     },
     "execution_count": 18,
     "metadata": {},
     "output_type": "execute_result"
    }
   ],
   "source": [
    "[(~x).to_pauli_op() for x in x_list]"
   ]
  },
  {
   "cell_type": "markdown",
   "id": "2eb2a133",
   "metadata": {},
   "source": [
    "## Free H"
   ]
  },
  {
   "cell_type": "code",
   "execution_count": 19,
   "id": "1d3b3d95",
   "metadata": {},
   "outputs": [
    {
     "data": {
      "text/plain": [
       "PauliOp(Pauli('IIIIIIIII'), coeff=1.0)"
      ]
     },
     "execution_count": 19,
     "metadata": {},
     "output_type": "execute_result"
    }
   ],
   "source": [
    "i_tensor = TensoredOp(ListOp([i_b_pauli] * (N_bos+N_f)))\n",
    "i_tensor.to_pauli_op()"
   ]
  },
  {
   "cell_type": "code",
   "execution_count": 20,
   "id": "a5fb4952",
   "metadata": {},
   "outputs": [],
   "source": [
    "H_zero=(0.25 * (2 * N_bos - 3 * N_f - 3))*i_tensor\n",
    "H_list = [H_zero]\n",
    "for op in a_b_tt:\n",
    "    H_list.append((~op @ op))\n",
    "for op in a_f_tt:\n",
    "    H_list.append((3.0 / 2)*(~op @ op))"
   ]
  },
  {
   "cell_type": "code",
   "execution_count": 21,
   "id": "881070f5",
   "metadata": {},
   "outputs": [
    {
     "data": {
      "text/plain": [
       "(10,\n",
       " SummedOp([PauliOp(Pauli('IIIIIIIII'), coeff=5.25), PauliOp(Pauli('ZIIIIIIII'), coeff=-0.5), PauliOp(Pauli('IZIIIIIII'), coeff=-0.5), PauliOp(Pauli('IIZIIIIII'), coeff=-0.5), PauliOp(Pauli('IIIZIIIII'), coeff=-0.5), PauliOp(Pauli('IIIIZIIII'), coeff=-0.5), PauliOp(Pauli('IIIIIZIII'), coeff=-0.5), PauliOp(Pauli('IIIIIIZII'), coeff=-0.75), PauliOp(Pauli('IIIIIIIZI'), coeff=-0.75), PauliOp(Pauli('IIIIIIIIZ'), coeff=-0.75)], coeff=1.0, abelian=False))"
      ]
     },
     "execution_count": 21,
     "metadata": {},
     "output_type": "execute_result"
    }
   ],
   "source": [
    "H_free = SummedOp(ListOp(H_list))\n",
    "H_fr_pauli = H_free.to_pauli_op()\n",
    "len(H_fr_pauli), H_fr_pauli"
   ]
  },
  {
   "cell_type": "code",
   "execution_count": 22,
   "id": "517244ab",
   "metadata": {},
   "outputs": [
    {
     "name": "stdout",
     "output_type": "stream",
     "text": [
      "Ground state energy value: 0.0000000000\n"
     ]
    }
   ],
   "source": [
    "npme = NumPyMinimumEigensolver()\n",
    "result = npme.compute_minimum_eigenvalue(operator=H_fr_pauli)\n",
    "ref_value = result.eigenvalue.real\n",
    "print(f'Ground state energy value: {ref_value:.10f}')"
   ]
  },
  {
   "cell_type": "markdown",
   "id": "34594ef2",
   "metadata": {},
   "source": [
    "## With interactions"
   ]
  },
  {
   "cell_type": "code",
   "execution_count": 23,
   "id": "270cd7ce",
   "metadata": {},
   "outputs": [],
   "source": [
    "V_f1a = SummedOp([x_list[0]@(~fermions[1])@(~fermions[2]),\\\n",
    "                x_list[1]@(~fermions[2])@(~fermions[0]),\\\n",
    "                x_list[2] @(~fermions[0])@(~fermions[1])])\n",
    "\n",
    "V_f1b = SummedOp([x_list[3]@(~fermions[1])@(~fermions[2]),\\\n",
    "               x_list[4]@(~fermions[2])@(~fermions[0]),\\\n",
    "                x_list[5]@(~fermions[0])@(~fermions[1])], coeff= -1j)\n",
    "\n",
    "V_f2a = SummedOp([x_list[0] @fermions[2] @ fermions[1],\\\n",
    "                  x_list[1]@ fermions[0] @ fermions[2],\\\n",
    "                  x_list[2] @ fermions[1] @ fermions[0]], coeff= -1)\n",
    "\n",
    "V_f2b = SummedOp([x_list[3] @ fermions[2] @ fermions[1],\\\n",
    "                  x_list[4]@ fermions[0] @ fermions[2],\\\n",
    "                x_list[5] @ fermions[1] @ fermions[0]], coeff= -1j)\n",
    "\n",
    "V_bf = (2j / np.sqrt(2)) *(V_f1a + V_f1b+ V_f2a + V_f2b)"
   ]
  },
  {
   "cell_type": "code",
   "execution_count": 24,
   "id": "ffef4872",
   "metadata": {},
   "outputs": [
    {
     "data": {
      "text/plain": [
       "SummedOp([PauliOp(Pauli('IIXIIIYXI'), coeff=0.4999999999999999), PauliOp(Pauli('IIXIIIXYI'), coeff=0.4999999999999999), PauliOp(Pauli('IIIIIXXXI'), coeff=0.4999999999999999), PauliOp(Pauli('IIIIIXYYI'), coeff=-0.4999999999999999), PauliOp(Pauli('IXIIIIYZX'), coeff=-0.4999999999999999), PauliOp(Pauli('IXIIIIXZY'), coeff=-0.4999999999999999), PauliOp(Pauli('IIIIXIXZX'), coeff=-0.4999999999999999), PauliOp(Pauli('IIIIXIYZY'), coeff=0.4999999999999999), PauliOp(Pauli('XIIIIIIYX'), coeff=0.4999999999999999), PauliOp(Pauli('XIIIIIIXY'), coeff=0.4999999999999999), PauliOp(Pauli('IIIXIIIXX'), coeff=0.4999999999999999), PauliOp(Pauli('IIIXIIIYY'), coeff=-0.4999999999999999)], coeff=1.0, abelian=False)"
      ]
     },
     "execution_count": 24,
     "metadata": {},
     "output_type": "execute_result"
    }
   ],
   "source": [
    "V_bf.to_pauli_op()"
   ]
  },
  {
   "cell_type": "code",
   "execution_count": 25,
   "id": "e3d76d52",
   "metadata": {},
   "outputs": [],
   "source": [
    "#BOSONS INTERACTION TERM\n",
    "V_b1 = SummedOp([x_list[2]@x_list[2]@x_list[3]@x_list[3], \\\n",
    "                    x_list[2]@x_list[2]@x_list[4]@x_list[4], \\\n",
    "                    x_list[1]@x_list[1]@x_list[3]@x_list[3], \\\n",
    "                    x_list[1]@x_list[1]@x_list[5]@x_list[5], \\\n",
    "                    x_list[0]@x_list[0]@x_list[4]@x_list[4], \\\n",
    "                    x_list[0]@x_list[0]@x_list[5]@x_list[5]])\n",
    "V_b2 = SummedOp([x_list[0]@x_list[2]@x_list[3]@x_list[5],\\\n",
    "                    x_list[0]@x_list[1]@x_list[3]@x_list[4],\\\n",
    "                    x_list[1]@x_list[2]@x_list[4]@x_list[5]], coeff = -2.0)\n",
    "V_b = V_b1 + V_b2"
   ]
  },
  {
   "cell_type": "code",
   "execution_count": 26,
   "id": "d9afb088",
   "metadata": {},
   "outputs": [
    {
     "data": {
      "text/plain": [
       "SummedOp([PauliOp(Pauli('IIIIIIIII'), coeff=1.4999999999999996), PauliOp(Pauli('XXIXXIIII'), coeff=-0.49999999999999983), PauliOp(Pauli('XIXXIXIII'), coeff=-0.49999999999999983), PauliOp(Pauli('IXXIXXIII'), coeff=-0.49999999999999983)], coeff=1.0, abelian=False)"
      ]
     },
     "execution_count": 26,
     "metadata": {},
     "output_type": "execute_result"
    }
   ],
   "source": [
    "V_b.to_pauli_op()"
   ]
  },
  {
   "cell_type": "markdown",
   "id": "5bb021b8",
   "metadata": {},
   "source": [
    "# g2N= 0.2"
   ]
  },
  {
   "cell_type": "code",
   "execution_count": 27,
   "id": "c00c3c69",
   "metadata": {},
   "outputs": [],
   "source": [
    "# t'Hooft coupling\n",
    "g2N = 0.2\n",
    "# Number of colors\n",
    "N = 2\n",
    "# full hamiltonian\n",
    "H = H_free + g2N/N*V_b + np.sqrt(g2N/N)*V_bf"
   ]
  },
  {
   "cell_type": "code",
   "execution_count": 28,
   "id": "4e81129e",
   "metadata": {},
   "outputs": [
    {
     "name": "stdout",
     "output_type": "stream",
     "text": [
      "Number of terms in H: 25\n"
     ]
    },
    {
     "data": {
      "text/plain": [
       "SummedOp([PauliOp(Pauli('IIIIIIIII'), coeff=5.400000000000002), PauliOp(Pauli('ZIIIIIIII'), coeff=-0.5), PauliOp(Pauli('IZIIIIIII'), coeff=-0.5), PauliOp(Pauli('IIZIIIIII'), coeff=-0.5), PauliOp(Pauli('IIIZIIIII'), coeff=-0.5), PauliOp(Pauli('IIIIZIIII'), coeff=-0.5), PauliOp(Pauli('IIIIIZIII'), coeff=-0.5), PauliOp(Pauli('IIIIIIZII'), coeff=-0.75), PauliOp(Pauli('IIIIIIIZI'), coeff=-0.75), PauliOp(Pauli('IIIIIIIIZ'), coeff=-0.75), PauliOp(Pauli('XXIXXIIII'), coeff=-0.04999999999999999), PauliOp(Pauli('XIXXIXIII'), coeff=-0.04999999999999999), PauliOp(Pauli('IXXIXXIII'), coeff=-0.04999999999999999), PauliOp(Pauli('IIXIIIYXI'), coeff=0.15811388300841894), PauliOp(Pauli('IIXIIIXYI'), coeff=0.15811388300841894), PauliOp(Pauli('IIIIIXXXI'), coeff=0.15811388300841894), PauliOp(Pauli('IIIIIXYYI'), coeff=-0.15811388300841894), PauliOp(Pauli('IXIIIIYZX'), coeff=-0.15811388300841894), PauliOp(Pauli('IXIIIIXZY'), coeff=-0.15811388300841894), PauliOp(Pauli('IIIIXIXZX'), coeff=-0.15811388300841894), PauliOp(Pauli('IIIIXIYZY'), coeff=0.15811388300841894), PauliOp(Pauli('XIIIIIIYX'), coeff=0.15811388300841894), PauliOp(Pauli('XIIIIIIXY'), coeff=0.15811388300841894), PauliOp(Pauli('IIIXIIIXX'), coeff=0.15811388300841894), PauliOp(Pauli('IIIXIIIYY'), coeff=-0.15811388300841894)], coeff=1.0, abelian=False)"
      ]
     },
     "execution_count": 28,
     "metadata": {},
     "output_type": "execute_result"
    }
   ],
   "source": [
    "Hpauli = H.to_pauli_op()\n",
    "print(f\"Number of terms in H: {len(Hpauli.oplist)}\")\n",
    "Hpauli"
   ]
  },
  {
   "cell_type": "code",
   "execution_count": 30,
   "id": "576b4547",
   "metadata": {},
   "outputs": [
    {
     "name": "stdout",
     "output_type": "stream",
     "text": [
      "Ground state energy value: 0.00328726\n"
     ]
    }
   ],
   "source": [
    "npme = NumPyMinimumEigensolver()\n",
    "result = npme.compute_minimum_eigenvalue(operator=Hpauli)\n",
    "ref_value = result.eigenvalue.real\n",
    "#0.00328726\n",
    "print(f'Ground state energy value: {ref_value:.8f}')"
   ]
  },
  {
   "cell_type": "code",
   "execution_count": 31,
   "id": "966988d3",
   "metadata": {},
   "outputs": [],
   "source": [
    "with open('L2_BMN_l02_Hpauli.txt','w') as f:\n",
    "    print(Hpauli,file=f)"
   ]
  },
  {
   "cell_type": "markdown",
   "id": "71f74414",
   "metadata": {},
   "source": [
    "# g2N = 0.5"
   ]
  },
  {
   "cell_type": "code",
   "execution_count": 32,
   "id": "7e095693",
   "metadata": {},
   "outputs": [],
   "source": [
    "# t'Hooft coupling\n",
    "g2N = 0.5\n",
    "# Number of colors\n",
    "N = 2\n",
    "# full hamiltonian\n",
    "H = H_free + g2N/N*V_b + np.sqrt(g2N/N)*V_bf"
   ]
  },
  {
   "cell_type": "code",
   "execution_count": 33,
   "id": "957e49ef",
   "metadata": {},
   "outputs": [
    {
     "name": "stdout",
     "output_type": "stream",
     "text": [
      "Number of terms in H: 25\n"
     ]
    },
    {
     "data": {
      "text/plain": [
       "SummedOp([PauliOp(Pauli('IIIIIIIII'), coeff=5.625), PauliOp(Pauli('ZIIIIIIII'), coeff=-0.5), PauliOp(Pauli('IZIIIIIII'), coeff=-0.5), PauliOp(Pauli('IIZIIIIII'), coeff=-0.5), PauliOp(Pauli('IIIZIIIII'), coeff=-0.5), PauliOp(Pauli('IIIIZIIII'), coeff=-0.5), PauliOp(Pauli('IIIIIZIII'), coeff=-0.5), PauliOp(Pauli('IIIIIIZII'), coeff=-0.75), PauliOp(Pauli('IIIIIIIZI'), coeff=-0.75), PauliOp(Pauli('IIIIIIIIZ'), coeff=-0.75), PauliOp(Pauli('XXIXXIIII'), coeff=-0.12499999999999996), PauliOp(Pauli('XIXXIXIII'), coeff=-0.12499999999999996), PauliOp(Pauli('IXXIXXIII'), coeff=-0.12499999999999996), PauliOp(Pauli('IIXIIIYXI'), coeff=0.24999999999999994), PauliOp(Pauli('IIXIIIXYI'), coeff=0.24999999999999994), PauliOp(Pauli('IIIIIXXXI'), coeff=0.24999999999999994), PauliOp(Pauli('IIIIIXYYI'), coeff=-0.24999999999999994), PauliOp(Pauli('IXIIIIYZX'), coeff=-0.24999999999999994), PauliOp(Pauli('IXIIIIXZY'), coeff=-0.24999999999999994), PauliOp(Pauli('IIIIXIXZX'), coeff=-0.24999999999999994), PauliOp(Pauli('IIIIXIYZY'), coeff=0.24999999999999994), PauliOp(Pauli('XIIIIIIYX'), coeff=0.24999999999999994), PauliOp(Pauli('XIIIIIIXY'), coeff=0.24999999999999994), PauliOp(Pauli('IIIXIIIXX'), coeff=0.24999999999999994), PauliOp(Pauli('IIIXIIIYY'), coeff=-0.24999999999999994)], coeff=1.0, abelian=False)"
      ]
     },
     "execution_count": 33,
     "metadata": {},
     "output_type": "execute_result"
    }
   ],
   "source": [
    "Hpauli = H.to_pauli_op()\n",
    "print(f\"Number of terms in H: {len(Hpauli.oplist)}\")\n",
    "Hpauli"
   ]
  },
  {
   "cell_type": "code",
   "execution_count": 35,
   "id": "a08975ef",
   "metadata": {},
   "outputs": [
    {
     "name": "stdout",
     "output_type": "stream",
     "text": [
      "Ground state energy value: 0.01690123\n"
     ]
    }
   ],
   "source": [
    "npme = NumPyMinimumEigensolver()\n",
    "result = npme.compute_minimum_eigenvalue(operator=Hpauli)\n",
    "ref_value = result.eigenvalue.real\n",
    "#0.01690123\n",
    "print(f'Ground state energy value: {ref_value:.8f}')"
   ]
  },
  {
   "cell_type": "code",
   "execution_count": 36,
   "id": "78bf3321",
   "metadata": {},
   "outputs": [],
   "source": [
    "with open('L2_BMN_l05_Hpauli.txt','w') as f:\n",
    "    print(Hpauli,file=f)"
   ]
  },
  {
   "cell_type": "markdown",
   "id": "3c596dd9",
   "metadata": {},
   "source": [
    "# g2N = 1.0"
   ]
  },
  {
   "cell_type": "code",
   "execution_count": 37,
   "id": "7a71b74a",
   "metadata": {},
   "outputs": [],
   "source": [
    "# t'Hooft coupling\n",
    "g2N = 1.0\n",
    "# Number of colors\n",
    "N = 2\n",
    "# full hamiltonian\n",
    "H = H_free + g2N/N*V_b + np.sqrt(g2N/N)*V_bf"
   ]
  },
  {
   "cell_type": "code",
   "execution_count": 38,
   "id": "4981bf5d",
   "metadata": {},
   "outputs": [
    {
     "name": "stdout",
     "output_type": "stream",
     "text": [
      "Number of terms in H: 25\n"
     ]
    },
    {
     "data": {
      "text/plain": [
       "SummedOp([PauliOp(Pauli('IIIIIIIII'), coeff=6.0), PauliOp(Pauli('ZIIIIIIII'), coeff=-0.5), PauliOp(Pauli('IZIIIIIII'), coeff=-0.5), PauliOp(Pauli('IIZIIIIII'), coeff=-0.5), PauliOp(Pauli('IIIZIIIII'), coeff=-0.5), PauliOp(Pauli('IIIIZIIII'), coeff=-0.5), PauliOp(Pauli('IIIIIZIII'), coeff=-0.5), PauliOp(Pauli('IIIIIIZII'), coeff=-0.75), PauliOp(Pauli('IIIIIIIZI'), coeff=-0.75), PauliOp(Pauli('IIIIIIIIZ'), coeff=-0.75), PauliOp(Pauli('XXIXXIIII'), coeff=-0.24999999999999992), PauliOp(Pauli('XIXXIXIII'), coeff=-0.24999999999999992), PauliOp(Pauli('IXXIXXIII'), coeff=-0.24999999999999992), PauliOp(Pauli('IIXIIIYXI'), coeff=0.35355339059327373), PauliOp(Pauli('IIXIIIXYI'), coeff=0.35355339059327373), PauliOp(Pauli('IIIIIXXXI'), coeff=0.35355339059327373), PauliOp(Pauli('IIIIIXYYI'), coeff=-0.35355339059327373), PauliOp(Pauli('IXIIIIYZX'), coeff=-0.35355339059327373), PauliOp(Pauli('IXIIIIXZY'), coeff=-0.35355339059327373), PauliOp(Pauli('IIIIXIXZX'), coeff=-0.35355339059327373), PauliOp(Pauli('IIIIXIYZY'), coeff=0.35355339059327373), PauliOp(Pauli('XIIIIIIYX'), coeff=0.35355339059327373), PauliOp(Pauli('XIIIIIIXY'), coeff=0.35355339059327373), PauliOp(Pauli('IIIXIIIXX'), coeff=0.35355339059327373), PauliOp(Pauli('IIIXIIIYY'), coeff=-0.35355339059327373)], coeff=1.0, abelian=False)"
      ]
     },
     "execution_count": 38,
     "metadata": {},
     "output_type": "execute_result"
    }
   ],
   "source": [
    "Hpauli = H.to_pauli_op()\n",
    "print(f\"Number of terms in H: {len(Hpauli.oplist)}\")\n",
    "Hpauli"
   ]
  },
  {
   "cell_type": "code",
   "execution_count": 40,
   "id": "606c7760",
   "metadata": {},
   "outputs": [
    {
     "name": "stdout",
     "output_type": "stream",
     "text": [
      "Ground state energy value: 0.04829007\n"
     ]
    }
   ],
   "source": [
    "npme = NumPyMinimumEigensolver()\n",
    "result = npme.compute_minimum_eigenvalue(operator=Hpauli)\n",
    "ref_value = result.eigenvalue.real\n",
    "print(f'Ground state energy value: {ref_value:.8f}')"
   ]
  },
  {
   "cell_type": "code",
   "execution_count": 41,
   "id": "65c8cbf5",
   "metadata": {},
   "outputs": [],
   "source": [
    "with open('L2_BMN_l10_Hpauli.txt','w') as f:\n",
    "    print(Hpauli,file=f)"
   ]
  },
  {
   "cell_type": "markdown",
   "id": "95dbf6ce",
   "metadata": {},
   "source": [
    "# g2N = 2.0"
   ]
  },
  {
   "cell_type": "code",
   "execution_count": 42,
   "id": "f0541815",
   "metadata": {},
   "outputs": [],
   "source": [
    "# t'Hooft coupling\n",
    "g2N = 2.0\n",
    "# Number of colors\n",
    "N = 2\n",
    "# full hamiltonian\n",
    "H = H_free + g2N/N*V_b + np.sqrt(g2N/N)*V_bf"
   ]
  },
  {
   "cell_type": "code",
   "execution_count": 43,
   "id": "e0635486",
   "metadata": {},
   "outputs": [
    {
     "name": "stdout",
     "output_type": "stream",
     "text": [
      "Number of terms in H: 25\n"
     ]
    },
    {
     "data": {
      "text/plain": [
       "SummedOp([PauliOp(Pauli('IIIIIIIII'), coeff=6.75), PauliOp(Pauli('ZIIIIIIII'), coeff=-0.5), PauliOp(Pauli('IZIIIIIII'), coeff=-0.5), PauliOp(Pauli('IIZIIIIII'), coeff=-0.5), PauliOp(Pauli('IIIZIIIII'), coeff=-0.5), PauliOp(Pauli('IIIIZIIII'), coeff=-0.5), PauliOp(Pauli('IIIIIZIII'), coeff=-0.5), PauliOp(Pauli('IIIIIIZII'), coeff=-0.75), PauliOp(Pauli('IIIIIIIZI'), coeff=-0.75), PauliOp(Pauli('IIIIIIIIZ'), coeff=-0.75), PauliOp(Pauli('XXIXXIIII'), coeff=-0.49999999999999983), PauliOp(Pauli('XIXXIXIII'), coeff=-0.49999999999999983), PauliOp(Pauli('IXXIXXIII'), coeff=-0.49999999999999983), PauliOp(Pauli('IIXIIIYXI'), coeff=0.4999999999999999), PauliOp(Pauli('IIXIIIXYI'), coeff=0.4999999999999999), PauliOp(Pauli('IIIIIXXXI'), coeff=0.4999999999999999), PauliOp(Pauli('IIIIIXYYI'), coeff=-0.4999999999999999), PauliOp(Pauli('IXIIIIYZX'), coeff=-0.4999999999999999), PauliOp(Pauli('IXIIIIXZY'), coeff=-0.4999999999999999), PauliOp(Pauli('IIIIXIXZX'), coeff=-0.4999999999999999), PauliOp(Pauli('IIIIXIYZY'), coeff=0.4999999999999999), PauliOp(Pauli('XIIIIIIYX'), coeff=0.4999999999999999), PauliOp(Pauli('XIIIIIIXY'), coeff=0.4999999999999999), PauliOp(Pauli('IIIXIIIXX'), coeff=0.4999999999999999), PauliOp(Pauli('IIIXIIIYY'), coeff=-0.4999999999999999)], coeff=1.0, abelian=False)"
      ]
     },
     "execution_count": 43,
     "metadata": {},
     "output_type": "execute_result"
    }
   ],
   "source": [
    "\n",
    "Hpauli = H.to_pauli_op()\n",
    "print(f\"Number of terms in H: {len(Hpauli.oplist)}\")\n",
    "Hpauli"
   ]
  },
  {
   "cell_type": "code",
   "execution_count": 44,
   "id": "7709264c",
   "metadata": {},
   "outputs": [
    {
     "name": "stdout",
     "output_type": "stream",
     "text": [
      "Ground state energy value: 0.08385032\n"
     ]
    }
   ],
   "source": [
    "npme = NumPyMinimumEigensolver()\n",
    "result = npme.compute_minimum_eigenvalue(operator=Hpauli)\n",
    "#0.08385\n",
    "ref_value = result.eigenvalue.real\n",
    "print(f'Ground state energy value: {ref_value:.8f}')"
   ]
  },
  {
   "cell_type": "code",
   "execution_count": 45,
   "id": "8060d678",
   "metadata": {},
   "outputs": [],
   "source": [
    "with open('L2_BMN_l20_Hpauli.txt','w') as f:\n",
    "    print(Hpauli,file=f)"
   ]
  }
 ],
 "metadata": {
  "kernelspec": {
   "display_name": "Python 3 (ipykernel)",
   "language": "python",
   "name": "python3"
  },
  "language_info": {
   "codemirror_mode": {
    "name": "ipython",
    "version": 3
   },
   "file_extension": ".py",
   "mimetype": "text/x-python",
   "name": "python",
   "nbconvert_exporter": "python",
   "pygments_lexer": "ipython3",
   "version": "3.12.7"
  }
 },
 "nbformat": 4,
 "nbformat_minor": 5
}
