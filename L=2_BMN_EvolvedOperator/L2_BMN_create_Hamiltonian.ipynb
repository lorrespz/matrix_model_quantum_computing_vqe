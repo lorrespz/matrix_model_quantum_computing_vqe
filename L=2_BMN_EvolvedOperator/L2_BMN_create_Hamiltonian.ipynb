{
 "cells": [
  {
   "cell_type": "code",
   "execution_count": 4,
   "id": "18d132aa",
   "metadata": {},
   "outputs": [],
   "source": [
    "import numpy as np\n",
    "from scipy.sparse import diags\n",
    "from scipy.sparse import identity\n",
    "from scipy.sparse import kron\n",
    "\n",
    "L=2"
   ]
  },
  {
   "cell_type": "markdown",
   "id": "b502027b",
   "metadata": {},
   "source": [
    "# Define some operators"
   ]
  },
  {
   "cell_type": "code",
   "execution_count": 9,
   "id": "132d87f2",
   "metadata": {},
   "outputs": [
    {
     "data": {
      "text/plain": [
       "(matrix([[0., 1.],\n",
       "         [0., 0.]]),\n",
       " matrix([[1., 0.],\n",
       "         [0., 1.]]),\n",
       " matrix([[0., 1.],\n",
       "         [0., 0.]]),\n",
       " matrix([[ 1.,  0.],\n",
       "         [ 0., -1.]]))"
      ]
     },
     "execution_count": 9,
     "metadata": {},
     "output_type": "execute_result"
    }
   ],
   "source": [
    "a_b = diags(np.sqrt(np.linspace(1,L-1,L-1)),offsets=1)\n",
    "i_b = identity(L)\n",
    "a_f = diags(np.sqrt(np.linspace(1,1,1)),offsets=1)\n",
    "\n",
    "sz = diags([1.0,-1.0])\n",
    "i_f = identity(2)\n",
    "a_b.todense(), i_b.todense(), a_f.todense(), sz.todense()"
   ]
  },
  {
   "cell_type": "markdown",
   "id": "7ed7d509",
   "metadata": {},
   "source": [
    "# Bosonic Hilbert space"
   ]
  },
  {
   "cell_type": "code",
   "execution_count": 8,
   "id": "1572e2f4",
   "metadata": {},
   "outputs": [],
   "source": [
    "N_bos = 6\n",
    "product_list = [i_b] * N_bos  # only the identity for bosons repeated N_bos times\n",
    "a_b_list = []  # this will contain a1...a6\n",
    "for i in np.arange(0,N_bos):  # loop over all bosonic operators\n",
    "    operator_list = product_list.copy()  # all elements are the identity operator\n",
    "    operator_list[i] = a_b  # the i^th element is now the annihilation operator for a single boson\n",
    "    a_b_list.append(operator_list[0]) # start taking tensor products from first element\n",
    "    for a in operator_list[1:]:\n",
    "        a_b_list[i] = kron(a_b_list[i],a)  # do the outer product between each operator_list element"
   ]
  },
  {
   "cell_type": "code",
   "execution_count": 14,
   "id": "53eaab3b",
   "metadata": {},
   "outputs": [
    {
     "data": {
      "text/plain": [
       "[<64x64 sparse matrix of type '<class 'numpy.float64'>'\n",
       " \twith 1024 stored elements (blocksize = 2x2) in Block Sparse Row format>,\n",
       " <64x64 sparse matrix of type '<class 'numpy.float64'>'\n",
       " \twith 512 stored elements (blocksize = 2x2) in Block Sparse Row format>,\n",
       " <64x64 sparse matrix of type '<class 'numpy.float64'>'\n",
       " \twith 512 stored elements (blocksize = 2x2) in Block Sparse Row format>,\n",
       " <64x64 sparse matrix of type '<class 'numpy.float64'>'\n",
       " \twith 512 stored elements (blocksize = 2x2) in Block Sparse Row format>,\n",
       " <64x64 sparse matrix of type '<class 'numpy.float64'>'\n",
       " \twith 512 stored elements (blocksize = 2x2) in Block Sparse Row format>,\n",
       " <64x64 sparse matrix of type '<class 'numpy.float64'>'\n",
       " \twith 512 stored elements in COOrdinate format>]"
      ]
     },
     "execution_count": 14,
     "metadata": {},
     "output_type": "execute_result"
    }
   ],
   "source": [
    "a_b_list"
   ]
  },
  {
   "cell_type": "markdown",
   "id": "f4542e16",
   "metadata": {},
   "source": [
    "# Fermionic Hilbert space"
   ]
  },
  {
   "cell_type": "code",
   "execution_count": 15,
   "id": "41d9c996",
   "metadata": {},
   "outputs": [],
   "source": [
    "N_f = 3  # number of fermionic sites -> fixed for the supersymmetric model mini-BMN with 2 matrices "
   ]
  },
  {
   "cell_type": "code",
   "execution_count": 16,
   "id": "2ed70257",
   "metadata": {},
   "outputs": [],
   "source": [
    "product_list = [i_f] * N_f  # only the identity for fermions repeated N_f times\n",
    "a_f_list = []  # this will contain f1...f3\n",
    "for i in np.arange(0,N_f):  # loop over all bosonic operators\n",
    "    operator_list = product_list.copy()  # all elements are the identity operator\n",
    "    operator_list[i] = a_f  # the i^th element is now the annihilation operator for a single fermion\n",
    "    for j in np.arange(0,i):  # the 0:(i-1) elements are replaced by sigma_Z\n",
    "        operator_list[j] = sz\n",
    "    a_f_list.append(operator_list[0])  # start taking tensor products from the first operator\n",
    "    for a in operator_list[1:]:\n",
    "        a_f_list[i] = kron(a_f_list[i],a)  # do the outer product "
   ]
  },
  {
   "cell_type": "code",
   "execution_count": 17,
   "id": "e2f1dc35",
   "metadata": {},
   "outputs": [
    {
     "data": {
      "text/plain": [
       "[<8x8 sparse matrix of type '<class 'numpy.float64'>'\n",
       " \twith 16 stored elements (blocksize = 2x2) in Block Sparse Row format>,\n",
       " <8x8 sparse matrix of type '<class 'numpy.float64'>'\n",
       " \twith 8 stored elements (blocksize = 2x2) in Block Sparse Row format>,\n",
       " <8x8 sparse matrix of type '<class 'numpy.float64'>'\n",
       " \twith 8 stored elements in COOrdinate format>]"
      ]
     },
     "execution_count": 17,
     "metadata": {},
     "output_type": "execute_result"
    }
   ],
   "source": [
    "a_f_list"
   ]
  },
  {
   "cell_type": "markdown",
   "id": "f140e04d",
   "metadata": {},
   "source": [
    "# Combine Bosonic and Fermionic spaces"
   ]
  },
  {
   "cell_type": "code",
   "execution_count": 20,
   "id": "9e822b99",
   "metadata": {},
   "outputs": [],
   "source": [
    "i_b_tot = identity(L**N_bos) \n",
    "i_f_tot = identity(2**N_f)"
   ]
  },
  {
   "cell_type": "code",
   "execution_count": 21,
   "id": "7faf3e38",
   "metadata": {},
   "outputs": [],
   "source": [
    "op_list = []\n",
    "for a in a_b_list:\n",
    "    op_list.append(kron(a,i_f_tot))\n",
    "for a in a_f_list:\n",
    "    op_list.append(kron(i_b_tot,a))"
   ]
  },
  {
   "cell_type": "code",
   "execution_count": 22,
   "id": "12d0a23a",
   "metadata": {},
   "outputs": [
    {
     "data": {
      "text/plain": [
       "(9,\n",
       " [<512x512 sparse matrix of type '<class 'numpy.float64'>'\n",
       "  \twith 8192 stored elements in COOrdinate format>,\n",
       "  <512x512 sparse matrix of type '<class 'numpy.float64'>'\n",
       "  \twith 4096 stored elements in COOrdinate format>,\n",
       "  <512x512 sparse matrix of type '<class 'numpy.float64'>'\n",
       "  \twith 4096 stored elements in COOrdinate format>,\n",
       "  <512x512 sparse matrix of type '<class 'numpy.float64'>'\n",
       "  \twith 4096 stored elements in COOrdinate format>,\n",
       "  <512x512 sparse matrix of type '<class 'numpy.float64'>'\n",
       "  \twith 4096 stored elements in COOrdinate format>,\n",
       "  <512x512 sparse matrix of type '<class 'numpy.float64'>'\n",
       "  \twith 4096 stored elements in COOrdinate format>,\n",
       "  <512x512 sparse matrix of type '<class 'numpy.float64'>'\n",
       "  \twith 1024 stored elements in COOrdinate format>,\n",
       "  <512x512 sparse matrix of type '<class 'numpy.float64'>'\n",
       "  \twith 512 stored elements in COOrdinate format>,\n",
       "  <512x512 sparse matrix of type '<class 'numpy.float64'>'\n",
       "  \twith 512 stored elements in COOrdinate format>])"
      ]
     },
     "execution_count": 22,
     "metadata": {},
     "output_type": "execute_result"
    }
   ],
   "source": [
    "len(op_list), op_list"
   ]
  },
  {
   "cell_type": "markdown",
   "id": "62bb5d22",
   "metadata": {},
   "source": [
    "# Build the Hamiltonian"
   ]
  },
  {
   "cell_type": "code",
   "execution_count": 24,
   "id": "38588fd9",
   "metadata": {},
   "outputs": [],
   "source": [
    "x_list = []\n",
    "# only use the bosonic operators\n",
    "bosons = op_list[:N_bos]\n",
    "for op in bosons:\n",
    "    x_list.append(1/np.sqrt(2)*(op.conjugate().transpose() + op))\n",
    "    \n",
    "# save the fermions operators for convenience in a new list\n",
    "fermions = op_list[-N_f:]"
   ]
  },
  {
   "cell_type": "code",
   "execution_count": 25,
   "id": "d4bbce50",
   "metadata": {},
   "outputs": [],
   "source": [
    "# Create the simple quartic Hamiltonian.\n",
    "H_k = 0\n",
    "\n",
    "for a in op_list[:N_bos]:\n",
    "    H_k = H_k + a.conjugate().transpose() * a\n",
    "\n",
    "for a in op_list[-N_f:]:\n",
    "    H_k = H_k + (3.0 / 2) * a.conjugate().transpose() * a\n",
    "\n",
    "# vacuum energy\n",
    "H_k = H_k + 0.25 * (2 * N_bos - 3 * N_f - 3)"
   ]
  },
  {
   "cell_type": "code",
   "execution_count": 27,
   "id": "470389d7",
   "metadata": {},
   "outputs": [
    {
     "name": "stdout",
     "output_type": "stream",
     "text": [
      "Free Hamiltonian eigenvalues: [2.07724264e-16 1.00000000e+00 1.00000000e+00 1.00000000e+00\n",
      " 1.00000000e+00 1.00000000e+00 1.00000000e+00 1.50000000e+00\n",
      " 1.50000000e+00 1.50000000e+00]\n"
     ]
    }
   ],
   "source": [
    "from scipy.sparse.linalg import eigsh\n",
    "eigv = eigsh(H_k,k=10,which='SA',return_eigenvectors=False,tol=0)\n",
    "print(f\"Free Hamiltonian eigenvalues: {eigv[::-1]}\")"
   ]
  },
  {
   "cell_type": "code",
   "execution_count": 32,
   "id": "413ca094",
   "metadata": {},
   "outputs": [],
   "source": [
    "#BOSON INTERACTION\n",
    "V_b = (\n",
    "    x_list[2] * x_list[2] * x_list[3] * x_list[3]\n",
    "    + x_list[2] * x_list[2] * x_list[4] * x_list[4]\n",
    "    + x_list[1] * x_list[1] * x_list[3] * x_list[3]\n",
    "    + x_list[1] * x_list[1] * x_list[5] * x_list[5]\n",
    "    + x_list[0] * x_list[0] * x_list[4] * x_list[4]\n",
    "    + x_list[0] * x_list[0] * x_list[5] * x_list[5]\n",
    "    - 2 * x_list[0] * x_list[2] * x_list[3] * x_list[5]\n",
    "    - 2 * x_list[0] * x_list[1] * x_list[3] * x_list[4]\n",
    "    - 2 * x_list[1] * x_list[2] * x_list[4] * x_list[5]\n",
    ")\n",
    "#BOSONS-FERMIONS INTERACTION\n",
    "V_bf = (2j / np.sqrt(2)) * (\n",
    "    (x_list[0] - 1j * x_list[3])\n",
    "    * fermions[1].conjugate().transpose()\n",
    "    * fermions[2].conjugate().transpose()\n",
    "    + (x_list[1] - 1j * x_list[4])\n",
    "    * fermions[2].conjugate().transpose()\n",
    "    * fermions[0].conjugate().transpose()\n",
    "    + (x_list[2] - 1j * x_list[5])\n",
    "    * fermions[0].conjugate().transpose()\n",
    "    * fermions[1].conjugate().transpose()\n",
    "    - (x_list[0] + 1j * x_list[3]) * fermions[2] * fermions[1]\n",
    "    - (x_list[1] + 1j * x_list[4]) * fermions[0] * fermions[2]\n",
    "    - (x_list[2] + 1j * x_list[5]) * fermions[1] * fermions[0]\n",
    ")"
   ]
  },
  {
   "cell_type": "markdown",
   "id": "5bb021b8",
   "metadata": {},
   "source": [
    "# g2N= 0.2"
   ]
  },
  {
   "cell_type": "code",
   "execution_count": 29,
   "id": "c00c3c69",
   "metadata": {},
   "outputs": [],
   "source": [
    "# t'Hooft coupling\n",
    "g2N = 0.2\n",
    "# Number of colors\n",
    "N = 2\n",
    "# full hamiltonian\n",
    "H = H_k + g2N/N*V_b + np.sqrt(g2N/N)*V_bf"
   ]
  },
  {
   "cell_type": "code",
   "execution_count": 31,
   "id": "4e81129e",
   "metadata": {},
   "outputs": [
    {
     "name": "stdout",
     "output_type": "stream",
     "text": [
      "Full Hamiltonian with lambda=0.2 : [0.00328726 0.95978401 0.95978401 0.95978401 1.00188691 1.00188691\n",
      " 1.00188691 1.59620668 1.59620668 1.59620668]\n"
     ]
    }
   ],
   "source": [
    "eigv = eigsh(H,k=10,which='SM',return_eigenvectors=False,tol=0)\n",
    "print(f\"Full Hamiltonian with lambda={g2N} : {eigv[::-1]}\")"
   ]
  },
  {
   "cell_type": "code",
   "execution_count": 38,
   "id": "966988d3",
   "metadata": {},
   "outputs": [],
   "source": [
    "Hm = H.todense()\n",
    "np.save('L2_l02_BMN_H.npy', Hm)"
   ]
  },
  {
   "cell_type": "markdown",
   "id": "71f74414",
   "metadata": {},
   "source": [
    "# g2N = 0.5"
   ]
  },
  {
   "cell_type": "code",
   "execution_count": 39,
   "id": "7e095693",
   "metadata": {},
   "outputs": [],
   "source": [
    "# t'Hooft coupling\n",
    "g2N = 0.5\n",
    "# Number of colors\n",
    "N = 2\n",
    "# full hamiltonian\n",
    "H = H_k + g2N/N*V_b + np.sqrt(g2N/N)*V_bf"
   ]
  },
  {
   "cell_type": "code",
   "execution_count": 40,
   "id": "267a5422",
   "metadata": {},
   "outputs": [
    {
     "name": "stdout",
     "output_type": "stream",
     "text": [
      "Full Hamiltonian with lambda=0.5 : [0.01690123 0.92239557 0.92239557 0.92239557 1.00677384 1.00677384\n",
      " 1.00677384 1.68578715 1.72582874 1.72582874]\n"
     ]
    }
   ],
   "source": [
    "eigv = eigsh(H,k=10,which='SM',return_eigenvectors=False,tol=0)\n",
    "#0.01690\n",
    "print(f\"Full Hamiltonian with lambda={g2N} : {eigv[::-1]}\")"
   ]
  },
  {
   "cell_type": "code",
   "execution_count": 41,
   "id": "abd70188",
   "metadata": {},
   "outputs": [],
   "source": [
    "Hm = H.todense()\n",
    "np.save('L2_l05_BMN_H.npy', Hm)"
   ]
  },
  {
   "cell_type": "markdown",
   "id": "3c596dd9",
   "metadata": {},
   "source": [
    "# g2N = 1.0"
   ]
  },
  {
   "cell_type": "code",
   "execution_count": 42,
   "id": "7a71b74a",
   "metadata": {},
   "outputs": [],
   "source": [
    "# t'Hooft coupling\n",
    "g2N = 1.0\n",
    "# Number of colors\n",
    "N = 2\n",
    "# full hamiltonian\n",
    "H = H_k + g2N/N*V_b + np.sqrt(g2N/N)*V_bf"
   ]
  },
  {
   "cell_type": "code",
   "execution_count": 43,
   "id": "4981bf5d",
   "metadata": {},
   "outputs": [
    {
     "name": "stdout",
     "output_type": "stream",
     "text": [
      "Full Hamiltonian with lambda=1.0 : [0.04829007 0.87933179 0.87933179 0.87933179 0.99982335 0.99982335\n",
      " 0.99982335 1.4362856  1.58661088 1.58661088]\n"
     ]
    }
   ],
   "source": [
    "eigv = eigsh(H,k=10,which='SM',return_eigenvectors=False,tol=0)\n",
    "#0.04829\n",
    "print(f\"Full Hamiltonian with lambda={g2N} : {eigv[::-1]}\")"
   ]
  },
  {
   "cell_type": "code",
   "execution_count": 44,
   "id": "606c7760",
   "metadata": {},
   "outputs": [],
   "source": [
    "Hm = H.todense()\n",
    "np.save('L2_l10_BMN_H.npy', Hm)"
   ]
  },
  {
   "cell_type": "markdown",
   "id": "95dbf6ce",
   "metadata": {},
   "source": [
    "# g2N = 2.0"
   ]
  },
  {
   "cell_type": "code",
   "execution_count": 45,
   "id": "f0541815",
   "metadata": {},
   "outputs": [],
   "source": [
    "# t'Hooft coupling\n",
    "g2N = 2.0\n",
    "# Number of colors\n",
    "N = 2\n",
    "# full hamiltonian\n",
    "H = H_k + g2N/N*V_b + np.sqrt(g2N/N)*V_bf"
   ]
  },
  {
   "cell_type": "code",
   "execution_count": 46,
   "id": "e0635486",
   "metadata": {},
   "outputs": [
    {
     "name": "stdout",
     "output_type": "stream",
     "text": [
      "Full Hamiltonian with lambda=2.0 : [0.08385032 0.75061257 0.75061257 0.75061257 0.86896928 0.86896928\n",
      " 0.86896928 1.01454483 1.21948269 1.21948269]\n"
     ]
    }
   ],
   "source": [
    "#0.08385\n",
    "eigv = eigsh(H,k=10,which='SM',return_eigenvectors=False,tol=0)\n",
    "print(f\"Full Hamiltonian with lambda={g2N} : {eigv[::-1]}\")"
   ]
  },
  {
   "cell_type": "code",
   "execution_count": 47,
   "id": "7709264c",
   "metadata": {},
   "outputs": [],
   "source": [
    "Hm = H.todense()\n",
    "np.save('L2_l20_BMN_H.npy', Hm)"
   ]
  }
 ],
 "metadata": {
  "kernelspec": {
   "display_name": "Python 3 (ipykernel)",
   "language": "python",
   "name": "python3"
  },
  "language_info": {
   "codemirror_mode": {
    "name": "ipython",
    "version": 3
   },
   "file_extension": ".py",
   "mimetype": "text/x-python",
   "name": "python",
   "nbconvert_exporter": "python",
   "pygments_lexer": "ipython3",
   "version": "3.12.7"
  }
 },
 "nbformat": 4,
 "nbformat_minor": 5
}
