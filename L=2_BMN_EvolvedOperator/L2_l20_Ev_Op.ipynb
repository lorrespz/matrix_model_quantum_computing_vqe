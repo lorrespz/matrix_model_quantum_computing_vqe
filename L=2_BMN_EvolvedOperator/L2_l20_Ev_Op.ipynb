{
 "cells": [
  {
   "cell_type": "markdown",
   "id": "91a18a59",
   "metadata": {},
   "source": [
    "# L=2 BMN SU2 matrix model"
   ]
  },
  {
   "cell_type": "code",
   "execution_count": 1,
   "id": "de38b2ba",
   "metadata": {},
   "outputs": [],
   "source": [
    "import numpy as np\n",
    "import pylab\n",
    "import matplotlib.pyplot as plt\n",
    "import qiskit\n",
    "from qiskit.quantum_info import Pauli\n",
    "from qiskit.quantum_info import SparsePauliOp\n",
    "from qiskit.circuit.library import EvolvedOperatorAnsatz\n",
    "from qiskit_algorithms import NumPyEigensolver\n",
    "import time\n",
    "import sys\n",
    "sys.path.append('../utility')\n",
    "from vqe_run import *\n",
    "from qc_ansatze import *"
   ]
  },
  {
   "cell_type": "markdown",
   "id": "acc568a3",
   "metadata": {},
   "source": [
    "# Load H"
   ]
  },
  {
   "cell_type": "code",
   "execution_count": 2,
   "id": "b98ac420",
   "metadata": {},
   "outputs": [],
   "source": [
    "def open_n_process(file_link):\n",
    "    file = open(file_link, \"r\")\n",
    "    content = file.read()\n",
    "\n",
    "    data = content.split(',\\n')\n",
    "    data[0] = data[0].split('\\n')[1]\n",
    "    data[-1] = data[-1].split('\\n')[0]\n",
    "\n",
    "    data_coeff = []\n",
    "    data_str = []\n",
    "    for i in range(len(data)):\n",
    "        data_coeff.append(float(data[i].split('*')[0]))\n",
    "        data_str.append(data[i].split('*')[1].split(' ')[1])\n",
    "    return data_coeff, data_str\n",
    "    \n",
    "def check_min_max(data_coeff):\n",
    "    print(f'Min absolute value is {np.round(np.min(np.abs(data_coeff[1:])),6)}')\n",
    "    print(f'Max absolute value is {np.round(np.max(np.abs(data_coeff[1:])),5)}')\n",
    "    print(f'Mean absolute value is {np.round(np.mean(np.abs(data_coeff[1:])),5)}')\n",
    "    \n",
    "def get_k_largest_ops(data_coeff, data_str, k):\n",
    "    ind_list = np.argsort(np.abs(data_coeff[1:]))[-k:]\n",
    "    ops = [data_str[1:][i] for i in ind_list]\n",
    "    val= [np.round(data_coeff[1:][i],4) for i in ind_list]\n",
    "    return ind_list, ops, val"
   ]
  },
  {
   "cell_type": "code",
   "execution_count": 3,
   "id": "e62d8c98",
   "metadata": {},
   "outputs": [],
   "source": [
    "gg = '20'\n",
    "data_coeff, data_str = open_n_process(f\"../utility/L2_BMN_l{gg}_Hpauli.txt\")"
   ]
  },
  {
   "cell_type": "code",
   "execution_count": 4,
   "id": "054c86bc",
   "metadata": {},
   "outputs": [
    {
     "name": "stdout",
     "output_type": "stream",
     "text": [
      "Min absolute value is 0.5\n",
      "Max absolute value is 0.75\n",
      "Mean absolute value is 0.53125\n",
      "None\n",
      "E_exact = 0.08385\n"
     ]
    }
   ],
   "source": [
    "Hpauli = list(zip(data_str, data_coeff))\n",
    "H4q = SparsePauliOp.from_list(Hpauli)\n",
    "# exactly diagonalize the system using numpy routines\n",
    "solver = NumPyEigensolver(k=4)\n",
    "exact_solution = solver.compute_eigenvalues(H4q)\n",
    "#print(\"Exact Result of qubit hamiltonian:\", np.real(exact_solution.eigenvalues))\n",
    "E_exact = np.round(np.real(exact_solution.eigenvalues)[0],6)\n",
    "print(f'{check_min_max(data_coeff)}')\n",
    "print(f'E_exact = {E_exact}')"
   ]
  },
  {
   "cell_type": "code",
   "execution_count": 5,
   "id": "e7713453",
   "metadata": {},
   "outputs": [
    {
     "data": {
      "text/plain": [
       "[('IIIIIIIII', 6.75),\n",
       " ('ZIIIIIIII', -0.5),\n",
       " ('IZIIIIIII', -0.5),\n",
       " ('IIZIIIIII', -0.5),\n",
       " ('IIIZIIIII', -0.5),\n",
       " ('IIIIZIIII', -0.5),\n",
       " ('IIIIIZIII', -0.5),\n",
       " ('IIIIIIZII', -0.75),\n",
       " ('IIIIIIIZI', -0.75),\n",
       " ('IIIIIIIIZ', -0.75),\n",
       " ('XXIXXIIII', -0.49999999999999983),\n",
       " ('XIXXIXIII', -0.49999999999999983),\n",
       " ('IXXIXXIII', -0.49999999999999983),\n",
       " ('IIXIIIYXI', 0.4999999999999999),\n",
       " ('IIXIIIXYI', 0.4999999999999999),\n",
       " ('IIIIIXXXI', 0.4999999999999999),\n",
       " ('IIIIIXYYI', -0.4999999999999999),\n",
       " ('IXIIIIYZX', -0.4999999999999999),\n",
       " ('IXIIIIXZY', -0.4999999999999999),\n",
       " ('IIIIXIXZX', -0.4999999999999999),\n",
       " ('IIIIXIYZY', 0.4999999999999999),\n",
       " ('XIIIIIIYX', 0.4999999999999999),\n",
       " ('XIIIIIIXY', 0.4999999999999999),\n",
       " ('IIIXIIIXX', 0.4999999999999999),\n",
       " ('IIIXIIIYY', -0.4999999999999999)]"
      ]
     },
     "execution_count": 5,
     "metadata": {},
     "output_type": "execute_result"
    }
   ],
   "source": [
    "Hpauli"
   ]
  },
  {
   "cell_type": "markdown",
   "id": "2d40d34a",
   "metadata": {},
   "source": [
    "# EvolvedOperatorAnsatz"
   ]
  },
  {
   "cell_type": "code",
   "execution_count": 5,
   "id": "31ef3655",
   "metadata": {},
   "outputs": [],
   "source": [
    "ind15, ops15, vals15 = get_k_largest_ops(data_coeff, data_str, 15)\n",
    "ind20, ops20, vals20 = get_k_largest_ops(data_coeff, data_str, 20)\n",
    "\n",
    "ops_Hp15 =[Pauli(f'{ops15[i]}') for i in range(len(ops15))]\n",
    "ops_Hp20 =[Pauli(f'{ops20[i]}') for i in range(len(ops20))]\n",
    "ops_H =[Pauli(f'{data_str[1:][i]}') for i in range(len(data_str[1:]))]"
   ]
  },
  {
   "cell_type": "code",
   "execution_count": 6,
   "id": "bf7a12ca",
   "metadata": {},
   "outputs": [
    {
     "name": "stdout",
     "output_type": "stream",
     "text": [
      "number of params: [15, 20, 24, 30, 40, 48, 45, 60, 72, 60, 80, 96]\n"
     ]
    }
   ],
   "source": [
    "ev_op_Hp15 = EvolvedOperatorAnsatz(ops_Hp15, reps=1, insert_barriers=True)\n",
    "ev_op_Hp20 = EvolvedOperatorAnsatz(ops_Hp20, reps=1, insert_barriers=True)\n",
    "ev_op_H = EvolvedOperatorAnsatz(ops_H, reps=1, insert_barriers=True)\n",
    "\n",
    "ev_op_Hp15_2f = EvolvedOperatorAnsatz(ops_Hp15, reps=2, insert_barriers=True)\n",
    "ev_op_Hp20_2f = EvolvedOperatorAnsatz(ops_Hp20, reps=2, insert_barriers=True)\n",
    "ev_op_H_2f = EvolvedOperatorAnsatz(ops_H, reps=2, insert_barriers=True)\n",
    "\n",
    "ev_op_Hp15_3f = EvolvedOperatorAnsatz(ops_Hp15, reps=3, insert_barriers=True)\n",
    "ev_op_Hp20_3f = EvolvedOperatorAnsatz(ops_Hp20, reps=3, insert_barriers=True)\n",
    "ev_op_H_3f = EvolvedOperatorAnsatz(ops_H, reps=3, insert_barriers=True)\n",
    "\n",
    "ev_op_Hp15_4f = EvolvedOperatorAnsatz(ops_Hp15, reps=4, insert_barriers=True)\n",
    "ev_op_Hp20_4f = EvolvedOperatorAnsatz(ops_Hp20, reps=4, insert_barriers=True)\n",
    "ev_op_H_4f = EvolvedOperatorAnsatz(ops_H, reps=4, insert_barriers=True)\n",
    "\n",
    "ansatz_list = [ev_op_Hp15, ev_op_Hp20, ev_op_H, \n",
    "               ev_op_Hp15_2f, ev_op_Hp20_2f, ev_op_H_2f,\n",
    "               ev_op_Hp15_3f, ev_op_Hp20_3f, ev_op_H_3f,\n",
    "               ev_op_Hp15_4f, ev_op_Hp20_4f, ev_op_H_4f]\n",
    "\n",
    "ansatz_names = ['ev_op_Hp15', 'ev_op_Hp20', 'ev_op_H', \n",
    "               'ev_op_Hp15_2f','ev_op_Hp20_2f','ev_op_H_2f',\n",
    "               'ev_op_Hp15_3f','ev_op_Hp20_3f','ev_op_H_3f',\n",
    "               'ev_op_Hp15_4f','ev_op_Hp20_4f','ev_op_H_4f']\n",
    "\n",
    "print(f'number of params: {[ansatz_list[i].num_parameters for i in range(len(ansatz_list))]}')"
   ]
  },
  {
   "cell_type": "code",
   "execution_count": 8,
   "id": "26fcf231",
   "metadata": {},
   "outputs": [
    {
     "name": "stdout",
     "output_type": "stream",
     "text": [
      "('XIIIIIIYX', 0.5)\n",
      "('IIIIXIYZY', 0.5)\n",
      "('IIIIXIXZX', -0.5)\n",
      "('IXIIIIXZY', -0.5)\n",
      "('IXIIIIYZX', -0.5)\n",
      "('IIIIIXYYI', -0.5)\n",
      "('IIIIIXXXI', 0.5)\n",
      "('IIXIIIXYI', 0.5)\n",
      "('IIIXIIIYY', -0.5)\n",
      "('IIIXIIIXX', 0.5)\n",
      "('IIXIIIYXI', 0.5)\n",
      "('IIIIIZIII', -0.5)\n",
      "('IIIIZIIII', -0.5)\n",
      "('IIIZIIIII', -0.5)\n",
      "('IIZIIIIII', -0.5)\n",
      "('IZIIIIIII', -0.5)\n",
      "('ZIIIIIIII', -0.5)\n",
      "('IIIIIIIIZ', -0.75)\n",
      "('IIIIIIIZI', -0.75)\n",
      "('IIIIIIZII', -0.75)\n"
     ]
    }
   ],
   "source": [
    "print(*list(zip(ops20, vals20)), sep = '\\n')"
   ]
  },
  {
   "cell_type": "code",
   "execution_count": 9,
   "id": "8184c89a",
   "metadata": {},
   "outputs": [
    {
     "name": "stdout",
     "output_type": "stream",
     "text": [
      "('IIIIIXYYI', -0.5)\n",
      "('IIIIIXXXI', 0.5)\n",
      "('IIXIIIXYI', 0.5)\n",
      "('IIIXIIIYY', -0.5)\n",
      "('IIIXIIIXX', 0.5)\n",
      "('IIXIIIYXI', 0.5)\n",
      "('IIIIIZIII', -0.5)\n",
      "('IIIIZIIII', -0.5)\n",
      "('IIIZIIIII', -0.5)\n",
      "('IIZIIIIII', -0.5)\n",
      "('IZIIIIIII', -0.5)\n",
      "('ZIIIIIIII', -0.5)\n",
      "('IIIIIIIIZ', -0.75)\n",
      "('IIIIIIIZI', -0.75)\n",
      "('IIIIIIZII', -0.75)\n"
     ]
    }
   ],
   "source": [
    "print(*list(zip(ops15, vals15)), sep = '\\n')"
   ]
  },
  {
   "cell_type": "markdown",
   "id": "2ba3fb48",
   "metadata": {},
   "source": [
    "# VQE"
   ]
  },
  {
   "cell_type": "code",
   "execution_count": 7,
   "id": "96a65ec4",
   "metadata": {},
   "outputs": [],
   "source": [
    "seed = 170\n",
    "iterations = 2000\n",
    "algorithm_globals.random_seed = seed\n",
    "\n",
    "#estimator\n",
    "noiseless_estimator = AerEstimator(\n",
    "    run_options={\"seed\": seed, \"shots\": 1024},\n",
    "    transpile_options={\"seed_transpiler\": seed},\n",
    ")\n",
    "#storing values\n",
    "counts = []\n",
    "values = []\n",
    "def store_intermediate_result(eval_count, parameters, mean, std):\n",
    "    counts.append(eval_count)\n",
    "    values.append(mean)\n",
    "    \n",
    "def run_qve_w_specified_optimizer(iterations, optimizer, ansatz):\n",
    "    opt = optimizer(maxiter = iterations)\n",
    "    vqe = VQE(noiseless_estimator, ansatz, optimizer=opt, callback=store_intermediate_result)\n",
    "    result = vqe.compute_minimum_eigenvalue(operator=H4q).eigenvalue.real\n",
    "    print(f\"VQE result: {result:.6f}\")\n",
    "    return result"
   ]
  },
  {
   "cell_type": "markdown",
   "id": "2d64a7a1",
   "metadata": {},
   "source": [
    "# COBYLA\n",
    "\n",
    "At step 7, with ev_op_Hp20_3f\n",
    "VQE result: 0.625000\n",
    "Length of this optimization 1077, time taken = 266.295 "
   ]
  },
  {
   "cell_type": "code",
   "execution_count": 11,
   "id": "b08df4a8",
   "metadata": {},
   "outputs": [
    {
     "name": "stdout",
     "output_type": "stream",
     "text": [
      "At step 0, with ev_op_Hp15\n",
      "VQE result: 2.877441\n",
      "Length of this optimization 179, time taken = 20.638 \n",
      "\n",
      "At step 1, with ev_op_Hp20\n",
      "VQE result: 0.670410\n",
      "Length of this optimization 262, time taken = 34.059 \n",
      "\n",
      "At step 2, with ev_op_H\n",
      "VQE result: 3.514160\n",
      "Length of this optimization 247, time taken = 37.565 \n",
      "\n",
      "At step 3, with ev_op_Hp15_2f\n",
      "VQE result: 0.923828\n",
      "Length of this optimization 339, time taken = 40.483 \n",
      "\n",
      "At step 4, with ev_op_Hp20_2f\n",
      "VQE result: 3.046387\n",
      "Length of this optimization 548, time taken = 108.271 \n",
      "\n",
      "At step 5, with ev_op_H_2f\n",
      "VQE result: 3.053711\n",
      "Length of this optimization 581, time taken = 137.534 \n",
      "\n",
      "At step 6, with ev_op_Hp15_3f\n",
      "VQE result: 0.883789\n",
      "Length of this optimization 500, time taken = 79.81 \n",
      "\n",
      "At step 7, with ev_op_Hp20_3f\n",
      "VQE result: 0.625000\n",
      "Length of this optimization 1077, time taken = 288.645 \n",
      "\n",
      "At step 8, with ev_op_H_3f\n",
      "VQE result: 3.803223\n",
      "Length of this optimization 953, time taken = 321.402 \n",
      "\n",
      "At step 9, with ev_op_Hp15_4f\n",
      "VQE result: 0.959473\n",
      "Length of this optimization 708, time taken = 148.443 \n",
      "\n",
      "At step 10, with ev_op_Hp20_4f\n",
      "VQE result: 2.893066\n",
      "Length of this optimization 1056, time taken = 378.75 \n",
      "\n",
      "At step 11, with ev_op_H_4f\n",
      "VQE result: 2.731445\n",
      "Length of this optimization 1476, time taken = 672.646 \n",
      "\n"
     ]
    }
   ],
   "source": [
    "r_cobyla=[]\n",
    "for i in range(len(ansatz_list)):\n",
    "    print(f'At step {i}, with {ansatz_names[i]}')\n",
    "    counts = []\n",
    "    values = []\n",
    "    t0 = time.time()\n",
    "    result = run_qve_w_specified_optimizer(iterations, COBYLA, ansatz_list[i])\n",
    "    t1 = time.time()\n",
    "    print(f'Length of this optimization {len(values)}, time taken = {np.round(t1-t0,3)} \\n')\n",
    "    counts_a = counts\n",
    "    values_a = values \n",
    "    r_cobyla.append(pd.DataFrame({f'{ansatz_names[i]}': values_a}))\n",
    "    "
   ]
  },
  {
   "cell_type": "code",
   "execution_count": 12,
   "id": "c6d10b84",
   "metadata": {},
   "outputs": [],
   "source": [
    "df1 = pd.concat([r_cobyla[i] for i in range(len(r_cobyla))], axis = 1)\n",
    "df1.to_csv(f'L2_l{gg}_op_ev_cobyla.csv')"
   ]
  },
  {
   "cell_type": "markdown",
   "id": "f30cdbed",
   "metadata": {},
   "source": [
    "# SPSA\n",
    "\n",
    "At step 1, with ev_op_Hp20\n",
    "VQE result: 0.374023\n",
    "Length of this optimization 3551, time taken = 358.019 \n",
    "\n",
    "At step 1, with ev_op_Hp20\n",
    "VQE result: 3.061523\n",
    "Length of this optimization 4051, time taken = 419.363 "
   ]
  },
  {
   "cell_type": "code",
   "execution_count": 13,
   "id": "16a456d4",
   "metadata": {},
   "outputs": [
    {
     "name": "stdout",
     "output_type": "stream",
     "text": [
      "At step 0, with ev_op_Hp15\n",
      "VQE result: 0.872070\n",
      "Length of this optimization 4051, time taken = 262.922 \n",
      "\n",
      "At step 1, with ev_op_Hp20\n",
      "VQE result: 3.061523\n",
      "Length of this optimization 4051, time taken = 419.363 \n",
      "\n",
      "At step 2, with ev_op_H\n",
      "VQE result: 1.405273\n",
      "Length of this optimization 4051, time taken = 466.275 \n",
      "\n",
      "At step 3, with ev_op_Hp15_2f\n",
      "VQE result: 0.881348\n",
      "Length of this optimization 4051, time taken = 362.397 \n",
      "\n",
      "At step 4, with ev_op_Hp20_2f\n",
      "VQE result: 0.417480\n",
      "Length of this optimization 4051, time taken = 597.762 \n",
      "\n",
      "At step 5, with ev_op_H_2f\n",
      "VQE result: 1.178223\n",
      "Length of this optimization 4051, time taken = 705.155 \n",
      "\n",
      "At step 6, with ev_op_Hp15_3f\n",
      "VQE result: 0.907715\n",
      "Length of this optimization 4051, time taken = 467.068 \n",
      "\n",
      "At step 7, with ev_op_Hp20_3f\n",
      "VQE result: 0.825684\n",
      "Length of this optimization 4051, time taken = 773.939 \n",
      "\n",
      "At step 8, with ev_op_H_3f\n",
      "VQE result: 2.179688\n",
      "Length of this optimization 4051, time taken = 919.236 \n",
      "\n",
      "At step 9, with ev_op_Hp15_4f\n",
      "VQE result: 0.934570\n",
      "Length of this optimization 4051, time taken = 565.779 \n",
      "\n",
      "At step 10, with ev_op_Hp20_4f\n",
      "VQE result: 1.253418\n",
      "Length of this optimization 4051, time taken = 946.274 \n",
      "\n",
      "At step 11, with ev_op_H_4f\n",
      "VQE result: 2.166016\n",
      "Length of this optimization 4051, time taken = 1137.634 \n",
      "\n"
     ]
    }
   ],
   "source": [
    "r_spsa=[]\n",
    "for i in range(len(ansatz_list)):\n",
    "    print(f'At step {i}, with {ansatz_names[i]}')\n",
    "    counts = []\n",
    "    values = []\n",
    "    t0 = time.time()\n",
    "    result = run_qve_w_specified_optimizer(iterations, SPSA, ansatz_list[i])\n",
    "    t1 = time.time()\n",
    "    print(f'Length of this optimization {len(values)}, time taken = {np.round(t1-t0,3)} \\n')\n",
    "    counts_a = counts\n",
    "    values_a = values \n",
    "    r_spsa.append(pd.DataFrame({f'{ansatz_names[i]}': values_a}))"
   ]
  },
  {
   "cell_type": "code",
   "execution_count": 14,
   "id": "b1d122d2",
   "metadata": {},
   "outputs": [],
   "source": [
    "df2 = pd.concat([r_spsa[i] for i in range(len(r_spsa))], axis = 1)\n",
    "df2.to_csv(f'L2_l{gg}_op_ev_spsa.csv')"
   ]
  },
  {
   "cell_type": "markdown",
   "id": "6d2eeb4b",
   "metadata": {},
   "source": [
    "## Retrain best ansatz\n",
    "\n",
    "At step 4, with ev_op_Hp20_2f\n",
    "VQE result: 0.417480\n",
    "Length of this optimization 4051, time taken = 597.762 "
   ]
  },
  {
   "cell_type": "code",
   "execution_count": 9,
   "id": "83886e52",
   "metadata": {},
   "outputs": [
    {
     "name": "stdout",
     "output_type": "stream",
     "text": [
      "VQE result: 0.341797\n",
      "Length of this optimization 5051, time taken = 971.087 \n",
      "\n"
     ]
    }
   ],
   "source": [
    "#Increasing the iters makes it better\n",
    "iterations = 2500\n",
    "counts = []\n",
    "values = []\n",
    "t0 = time.time()\n",
    "result = run_qve_w_specified_optimizer(iterations, SPSA, ev_op_Hp20_2f)\n",
    "t1 = time.time()\n",
    "print(f'Length of this optimization {len(values)}, time taken = {np.round(t1-t0,3)} \\n')\n",
    "counts_a = counts\n",
    "values_a = values"
   ]
  },
  {
   "cell_type": "code",
   "execution_count": 10,
   "id": "be024e93",
   "metadata": {},
   "outputs": [
    {
     "name": "stdout",
     "output_type": "stream",
     "text": [
      "VQE result: 0.383301\n",
      "Length of this optimization 6051, time taken = 1043.033 \n",
      "\n"
     ]
    }
   ],
   "source": [
    "iterations = 3000\n",
    "counts = []\n",
    "values = []\n",
    "t0 = time.time()\n",
    "result = run_qve_w_specified_optimizer(iterations, SPSA, ev_op_Hp20_2f)\n",
    "t1 = time.time()\n",
    "print(f'Length of this optimization {len(values)}, time taken = {np.round(t1-t0,3)} \\n')\n",
    "counts_b = counts\n",
    "values_b = values"
   ]
  },
  {
   "cell_type": "code",
   "execution_count": 11,
   "id": "8c6647ed",
   "metadata": {},
   "outputs": [
    {
     "name": "stdout",
     "output_type": "stream",
     "text": [
      "VQE result: 3.046875\n",
      "Length of this optimization 3051, time taken = 334.733 \n",
      "\n"
     ]
    }
   ],
   "source": [
    "iterations = 1500\n",
    "counts = []\n",
    "values = []\n",
    "t0 = time.time()\n",
    "result = run_qve_w_specified_optimizer(iterations, SPSA, ev_op_Hp20)\n",
    "t1 = time.time()\n",
    "print(f'Length of this optimization {len(values)}, time taken = {np.round(t1-t0,3)} \\n')\n",
    "counts_c = counts\n",
    "values_c = values"
   ]
  },
  {
   "cell_type": "code",
   "execution_count": 12,
   "id": "385fe918",
   "metadata": {},
   "outputs": [
    {
     "name": "stdout",
     "output_type": "stream",
     "text": [
      "VQE result: 0.205078\n",
      "Length of this optimization 3551, time taken = 352.396 \n",
      "\n"
     ]
    }
   ],
   "source": [
    "iterations = 1750\n",
    "counts = []\n",
    "values = []\n",
    "t0 = time.time()\n",
    "result = run_qve_w_specified_optimizer(iterations, SPSA, ev_op_Hp20)\n",
    "t1 = time.time()\n",
    "print(f'Length of this optimization {len(values)}, time taken = {np.round(t1-t0,3)} \\n')\n",
    "counts_c = counts\n",
    "values_c = values"
   ]
  },
  {
   "cell_type": "code",
   "execution_count": 14,
   "id": "5cd63d65",
   "metadata": {},
   "outputs": [
    {
     "data": {
      "text/html": [
       "<div>\n",
       "<style scoped>\n",
       "    .dataframe tbody tr th:only-of-type {\n",
       "        vertical-align: middle;\n",
       "    }\n",
       "\n",
       "    .dataframe tbody tr th {\n",
       "        vertical-align: top;\n",
       "    }\n",
       "\n",
       "    .dataframe thead th {\n",
       "        text-align: right;\n",
       "    }\n",
       "</style>\n",
       "<table border=\"1\" class=\"dataframe\">\n",
       "  <thead>\n",
       "    <tr style=\"text-align: right;\">\n",
       "      <th></th>\n",
       "      <th>ev_op_Hp20</th>\n",
       "    </tr>\n",
       "  </thead>\n",
       "  <tbody>\n",
       "    <tr>\n",
       "      <th>0</th>\n",
       "      <td>6.109863</td>\n",
       "    </tr>\n",
       "    <tr>\n",
       "      <th>1</th>\n",
       "      <td>7.094238</td>\n",
       "    </tr>\n",
       "    <tr>\n",
       "      <th>2</th>\n",
       "      <td>6.571777</td>\n",
       "    </tr>\n",
       "    <tr>\n",
       "      <th>3</th>\n",
       "      <td>7.173340</td>\n",
       "    </tr>\n",
       "    <tr>\n",
       "      <th>4</th>\n",
       "      <td>7.361816</td>\n",
       "    </tr>\n",
       "    <tr>\n",
       "      <th>...</th>\n",
       "      <td>...</td>\n",
       "    </tr>\n",
       "    <tr>\n",
       "      <th>3546</th>\n",
       "      <td>0.535645</td>\n",
       "    </tr>\n",
       "    <tr>\n",
       "      <th>3547</th>\n",
       "      <td>0.597168</td>\n",
       "    </tr>\n",
       "    <tr>\n",
       "      <th>3548</th>\n",
       "      <td>1.136230</td>\n",
       "    </tr>\n",
       "    <tr>\n",
       "      <th>3549</th>\n",
       "      <td>1.218750</td>\n",
       "    </tr>\n",
       "    <tr>\n",
       "      <th>3550</th>\n",
       "      <td>0.205078</td>\n",
       "    </tr>\n",
       "  </tbody>\n",
       "</table>\n",
       "<p>3551 rows × 1 columns</p>\n",
       "</div>"
      ],
      "text/plain": [
       "      ev_op_Hp20\n",
       "0       6.109863\n",
       "1       7.094238\n",
       "2       6.571777\n",
       "3       7.173340\n",
       "4       7.361816\n",
       "...          ...\n",
       "3546    0.535645\n",
       "3547    0.597168\n",
       "3548    1.136230\n",
       "3549    1.218750\n",
       "3550    0.205078\n",
       "\n",
       "[3551 rows x 1 columns]"
      ]
     },
     "execution_count": 14,
     "metadata": {},
     "output_type": "execute_result"
    }
   ],
   "source": [
    "df = pd.DataFrame({'ev_op_Hp20': values_c})\n",
    "df.to_csv(f'results/L2_l{gg}_op_ev_spsa_best.csv')\n",
    "df"
   ]
  },
  {
   "cell_type": "markdown",
   "id": "f4fe052c",
   "metadata": {},
   "source": [
    "# SLSQP"
   ]
  },
  {
   "cell_type": "code",
   "execution_count": 15,
   "id": "6b546016",
   "metadata": {},
   "outputs": [
    {
     "name": "stdout",
     "output_type": "stream",
     "text": [
      "At step 0, with ev_op_Hp15\n",
      "VQE result: 7.366699\n",
      "Length of this optimization 16, time taken = 2.473 \n",
      "\n",
      "At step 1, with ev_op_Hp20\n",
      "VQE result: 6.605469\n",
      "Length of this optimization 21, time taken = 3.934 \n",
      "\n",
      "At step 2, with ev_op_H\n",
      "VQE result: 7.176758\n",
      "Length of this optimization 25, time taken = 3.816 \n",
      "\n",
      "At step 3, with ev_op_Hp15_2f\n",
      "VQE result: 5.892578\n",
      "Length of this optimization 31, time taken = 3.709 \n",
      "\n",
      "At step 4, with ev_op_Hp20_2f\n",
      "VQE result: 6.049805\n",
      "Length of this optimization 41, time taken = 8.839 \n",
      "\n",
      "At step 5, with ev_op_H_2f\n",
      "VQE result: 6.765625\n",
      "Length of this optimization 49, time taken = 12.467 \n",
      "\n",
      "At step 6, with ev_op_Hp15_3f\n",
      "VQE result: 5.543945\n",
      "Length of this optimization 46, time taken = 7.2 \n",
      "\n",
      "At step 7, with ev_op_Hp20_3f\n",
      "VQE result: 7.210449\n",
      "Length of this optimization 61, time taken = 18.351 \n",
      "\n",
      "At step 8, with ev_op_H_3f\n",
      "VQE result: 6.566895\n",
      "Length of this optimization 73, time taken = 25.169 \n",
      "\n",
      "At step 9, with ev_op_Hp15_4f\n",
      "VQE result: 5.532715\n",
      "Length of this optimization 61, time taken = 10.507 \n",
      "\n",
      "At step 10, with ev_op_Hp20_4f\n",
      "VQE result: 6.842773\n",
      "Length of this optimization 81, time taken = 24.835 \n",
      "\n",
      "At step 11, with ev_op_H_4f\n",
      "VQE result: 7.557129\n",
      "Length of this optimization 97, time taken = 31.69 \n",
      "\n"
     ]
    }
   ],
   "source": [
    "r_slsqp=[]\n",
    "for i in range(len(ansatz_list)):\n",
    "    print(f'At step {i}, with {ansatz_names[i]}')\n",
    "    counts = []\n",
    "    values = []\n",
    "    t0 = time.time()\n",
    "    result = run_qve_w_specified_optimizer(iterations, SLSQP, ansatz_list[i])\n",
    "    t1 = time.time()\n",
    "    print(f'Length of this optimization {len(values)}, time taken = {np.round(t1-t0,3)} \\n')\n",
    "    counts_a = counts\n",
    "    values_a = values \n",
    "    r_slsqp.append(pd.DataFrame({f'{ansatz_names[i]}': values_a}))"
   ]
  },
  {
   "cell_type": "code",
   "execution_count": 16,
   "id": "f1766eea",
   "metadata": {},
   "outputs": [],
   "source": [
    "df3 = pd.concat([r_slsqp[i] for i in range(len(r_slsqp))], axis = 1)\n",
    "df3.to_csv(f'L2_l{gg}_op_ev_slsqp.csv')"
   ]
  },
  {
   "cell_type": "code",
   "execution_count": null,
   "id": "6e114597",
   "metadata": {},
   "outputs": [],
   "source": []
  }
 ],
 "metadata": {
  "kernelspec": {
   "display_name": "Python 3 (ipykernel)",
   "language": "python",
   "name": "python3"
  },
  "language_info": {
   "codemirror_mode": {
    "name": "ipython",
    "version": 3
   },
   "file_extension": ".py",
   "mimetype": "text/x-python",
   "name": "python",
   "nbconvert_exporter": "python",
   "pygments_lexer": "ipython3",
   "version": "3.12.7"
  }
 },
 "nbformat": 4,
 "nbformat_minor": 5
}
