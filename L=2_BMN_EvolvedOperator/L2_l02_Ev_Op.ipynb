{
 "cells": [
  {
   "cell_type": "markdown",
   "id": "853a439c",
   "metadata": {},
   "source": [
    "# L=2 BMN SU2 matrix model"
   ]
  },
  {
   "cell_type": "code",
   "execution_count": 1,
   "id": "cb304027",
   "metadata": {},
   "outputs": [],
   "source": [
    "import numpy as np\n",
    "import pylab\n",
    "import matplotlib.pyplot as plt\n",
    "import qiskit\n",
    "from qiskit.quantum_info import Pauli\n",
    "from qiskit.quantum_info import SparsePauliOp\n",
    "from qiskit.circuit.library import EvolvedOperatorAnsatz\n",
    "from qiskit_algorithms import NumPyEigensolver\n",
    "import time\n",
    "import sys\n",
    "sys.path.append('../utility')\n",
    "from vqe_run import *\n",
    "from qc_ansatze import *"
   ]
  },
  {
   "cell_type": "markdown",
   "id": "09a5c9cc",
   "metadata": {},
   "source": [
    "# Load H"
   ]
  },
  {
   "cell_type": "code",
   "execution_count": 2,
   "id": "a3869af0",
   "metadata": {},
   "outputs": [],
   "source": [
    "def open_n_process(file_link):\n",
    "    file = open(file_link, \"r\")\n",
    "    content = file.read()\n",
    "\n",
    "    data = content.split(',\\n')\n",
    "    data[0] = data[0].split('\\n')[1]\n",
    "    data[-1] = data[-1].split('\\n')[0]\n",
    "\n",
    "    data_coeff = []\n",
    "    data_str = []\n",
    "    for i in range(len(data)):\n",
    "        data_coeff.append(float(data[i].split('*')[0]))\n",
    "        data_str.append(data[i].split('*')[1].split(' ')[1])\n",
    "    return data_coeff, data_str\n",
    "    \n",
    "def check_min_max(data_coeff):\n",
    "    print(f'Min absolute value is {np.round(np.min(np.abs(data_coeff[1:])),6)}')\n",
    "    print(f'Max absolute value is {np.round(np.max(np.abs(data_coeff[1:])),5)}')\n",
    "    print(f'Mean absolute value is {np.round(np.mean(np.abs(data_coeff[1:])),5)}')\n",
    "    \n",
    "def get_k_largest_ops(data_coeff, data_str, k):\n",
    "    ind_list = np.argsort(np.abs(data_coeff[1:]))[-k:]\n",
    "    ops = [data_str[1:][i] for i in ind_list]\n",
    "    val= [np.round(data_coeff[1:][i],4) for i in ind_list]\n",
    "    return ind_list, ops, val"
   ]
  },
  {
   "cell_type": "code",
   "execution_count": 3,
   "id": "9d323efb",
   "metadata": {},
   "outputs": [],
   "source": [
    "gg = '02'\n",
    "data_coeff, data_str = open_n_process(f\"../utility/L2_BMN_l{gg}_Hpauli.txt\")"
   ]
  },
  {
   "cell_type": "code",
   "execution_count": 4,
   "id": "7a2fca8e",
   "metadata": {},
   "outputs": [
    {
     "name": "stdout",
     "output_type": "stream",
     "text": [
      "Min absolute value is 0.05\n",
      "Max absolute value is 0.75\n",
      "Mean absolute value is 0.30406\n",
      "None\n",
      "E_exact = 0.003287\n"
     ]
    }
   ],
   "source": [
    "Hpauli = list(zip(data_str, data_coeff))\n",
    "H4q = SparsePauliOp.from_list(Hpauli)\n",
    "# exactly diagonalize the system using numpy routines\n",
    "solver = NumPyEigensolver(k=4)\n",
    "exact_solution = solver.compute_eigenvalues(H4q)\n",
    "#print(\"Exact Result of qubit hamiltonian:\", np.real(exact_solution.eigenvalues))\n",
    "E_exact = np.round(np.real(exact_solution.eigenvalues)[0],6)\n",
    "print(f'{check_min_max(data_coeff)}')\n",
    "print(f'E_exact = {E_exact}')"
   ]
  },
  {
   "cell_type": "code",
   "execution_count": 5,
   "id": "d577c436",
   "metadata": {},
   "outputs": [
    {
     "data": {
      "text/plain": [
       "[('IIIIIIIII', 5.400000000000002),\n",
       " ('ZIIIIIIII', -0.5),\n",
       " ('IZIIIIIII', -0.5),\n",
       " ('IIZIIIIII', -0.5),\n",
       " ('IIIZIIIII', -0.5),\n",
       " ('IIIIZIIII', -0.5),\n",
       " ('IIIIIZIII', -0.5),\n",
       " ('IIIIIIZII', -0.75),\n",
       " ('IIIIIIIZI', -0.75),\n",
       " ('IIIIIIIIZ', -0.75),\n",
       " ('XXIXXIIII', -0.04999999999999999),\n",
       " ('XIXXIXIII', -0.04999999999999999),\n",
       " ('IXXIXXIII', -0.04999999999999999),\n",
       " ('IIXIIIYXI', 0.15811388300841894),\n",
       " ('IIXIIIXYI', 0.15811388300841894),\n",
       " ('IIIIIXXXI', 0.15811388300841894),\n",
       " ('IIIIIXYYI', -0.15811388300841894),\n",
       " ('IXIIIIYZX', -0.15811388300841894),\n",
       " ('IXIIIIXZY', -0.15811388300841894),\n",
       " ('IIIIXIXZX', -0.15811388300841894),\n",
       " ('IIIIXIYZY', 0.15811388300841894),\n",
       " ('XIIIIIIYX', 0.15811388300841894),\n",
       " ('XIIIIIIXY', 0.15811388300841894),\n",
       " ('IIIXIIIXX', 0.15811388300841894),\n",
       " ('IIIXIIIYY', -0.15811388300841894)]"
      ]
     },
     "execution_count": 5,
     "metadata": {},
     "output_type": "execute_result"
    }
   ],
   "source": [
    "Hpauli"
   ]
  },
  {
   "cell_type": "markdown",
   "id": "648af254",
   "metadata": {},
   "source": [
    "# EvolvedOperatorAnsatz"
   ]
  },
  {
   "cell_type": "code",
   "execution_count": 5,
   "id": "cf723315",
   "metadata": {},
   "outputs": [],
   "source": [
    "ind15, ops15, vals15 = get_k_largest_ops(data_coeff, data_str, 15)\n",
    "ind20, ops20, vals20 = get_k_largest_ops(data_coeff, data_str, 20)\n",
    "\n",
    "ops_Hp15 =[Pauli(f'{ops15[i]}') for i in range(len(ops15))]\n",
    "ops_Hp20 =[Pauli(f'{ops20[i]}') for i in range(len(ops20))]\n",
    "ops_H =[Pauli(f'{data_str[1:][i]}') for i in range(len(data_str[1:]))]"
   ]
  },
  {
   "cell_type": "code",
   "execution_count": 6,
   "id": "a25d3778",
   "metadata": {},
   "outputs": [
    {
     "name": "stdout",
     "output_type": "stream",
     "text": [
      "number of params: [15, 20, 24, 30, 40, 48, 45, 60, 72, 60, 80, 96]\n"
     ]
    }
   ],
   "source": [
    "ev_op_Hp15 = EvolvedOperatorAnsatz(ops_Hp15, reps=1, insert_barriers=True)\n",
    "ev_op_Hp20 = EvolvedOperatorAnsatz(ops_Hp20, reps=1, insert_barriers=True)\n",
    "ev_op_H = EvolvedOperatorAnsatz(ops_H, reps=1, insert_barriers=True)\n",
    "\n",
    "ev_op_Hp15_2f = EvolvedOperatorAnsatz(ops_Hp15, reps=2, insert_barriers=True)\n",
    "ev_op_Hp20_2f = EvolvedOperatorAnsatz(ops_Hp20, reps=2, insert_barriers=True)\n",
    "ev_op_H_2f = EvolvedOperatorAnsatz(ops_H, reps=2, insert_barriers=True)\n",
    "\n",
    "ev_op_Hp15_3f = EvolvedOperatorAnsatz(ops_Hp15, reps=3, insert_barriers=True)\n",
    "ev_op_Hp20_3f = EvolvedOperatorAnsatz(ops_Hp20, reps=3, insert_barriers=True)\n",
    "ev_op_H_3f = EvolvedOperatorAnsatz(ops_H, reps=3, insert_barriers=True)\n",
    "\n",
    "ev_op_Hp15_4f = EvolvedOperatorAnsatz(ops_Hp15, reps=4, insert_barriers=True)\n",
    "ev_op_Hp20_4f = EvolvedOperatorAnsatz(ops_Hp20, reps=4, insert_barriers=True)\n",
    "ev_op_H_4f = EvolvedOperatorAnsatz(ops_H, reps=4, insert_barriers=True)\n",
    "\n",
    "ansatz_list = [ev_op_Hp15, ev_op_Hp20, ev_op_H, \n",
    "               ev_op_Hp15_2f, ev_op_Hp20_2f, ev_op_H_2f,\n",
    "               ev_op_Hp15_3f, ev_op_Hp20_3f, ev_op_H_3f,\n",
    "               ev_op_Hp15_4f, ev_op_Hp20_4f, ev_op_H_4f]\n",
    "\n",
    "ansatz_names = ['ev_op_Hp15', 'ev_op_Hp20', 'ev_op_H', \n",
    "               'ev_op_Hp15_2f','ev_op_Hp20_2f','ev_op_H_2f',\n",
    "               'ev_op_Hp15_3f','ev_op_Hp20_3f','ev_op_H_3f',\n",
    "               'ev_op_Hp15_4f','ev_op_Hp20_4f','ev_op_H_4f']\n",
    "\n",
    "print(f'number of params: {[ansatz_list[i].num_parameters for i in range(len(ansatz_list))]}')"
   ]
  },
  {
   "cell_type": "code",
   "execution_count": 8,
   "id": "c30ecdad",
   "metadata": {},
   "outputs": [
    {
     "name": "stdout",
     "output_type": "stream",
     "text": [
      "('XIIIIIIYX', 0.1581)\n",
      "('IIIIXIYZY', 0.1581)\n",
      "('IIIIXIXZX', -0.1581)\n",
      "('IXIIIIXZY', -0.1581)\n",
      "('IXIIIIYZX', -0.1581)\n",
      "('IIIIIXYYI', -0.1581)\n",
      "('IIIIIXXXI', 0.1581)\n",
      "('IIXIIIXYI', 0.1581)\n",
      "('IIIXIIIYY', -0.1581)\n",
      "('IIIXIIIXX', 0.1581)\n",
      "('IIXIIIYXI', 0.1581)\n",
      "('IIIIIZIII', -0.5)\n",
      "('IIIIZIIII', -0.5)\n",
      "('IIIZIIIII', -0.5)\n",
      "('IIZIIIIII', -0.5)\n",
      "('IZIIIIIII', -0.5)\n",
      "('ZIIIIIIII', -0.5)\n",
      "('IIIIIIIIZ', -0.75)\n",
      "('IIIIIIIZI', -0.75)\n",
      "('IIIIIIZII', -0.75)\n"
     ]
    }
   ],
   "source": [
    "print(*list(zip(ops20, vals20)), sep = '\\n')"
   ]
  },
  {
   "cell_type": "code",
   "execution_count": 9,
   "id": "a0937fe3",
   "metadata": {},
   "outputs": [
    {
     "name": "stdout",
     "output_type": "stream",
     "text": [
      "('IIIIIXYYI', -0.1581)\n",
      "('IIIIIXXXI', 0.1581)\n",
      "('IIXIIIXYI', 0.1581)\n",
      "('IIIXIIIYY', -0.1581)\n",
      "('IIIXIIIXX', 0.1581)\n",
      "('IIXIIIYXI', 0.1581)\n",
      "('IIIIIZIII', -0.5)\n",
      "('IIIIZIIII', -0.5)\n",
      "('IIIZIIIII', -0.5)\n",
      "('IIZIIIIII', -0.5)\n",
      "('IZIIIIIII', -0.5)\n",
      "('ZIIIIIIII', -0.5)\n",
      "('IIIIIIIIZ', -0.75)\n",
      "('IIIIIIIZI', -0.75)\n",
      "('IIIIIIZII', -0.75)\n"
     ]
    }
   ],
   "source": [
    "print(*list(zip(ops15, vals15)), sep = '\\n')"
   ]
  },
  {
   "cell_type": "markdown",
   "id": "f346b608",
   "metadata": {},
   "source": [
    "# VQE"
   ]
  },
  {
   "cell_type": "code",
   "execution_count": 8,
   "id": "f0be781b",
   "metadata": {},
   "outputs": [],
   "source": [
    "seed = 170\n",
    "iterations = 2000\n",
    "algorithm_globals.random_seed = seed\n",
    "\n",
    "#estimator\n",
    "noiseless_estimator = AerEstimator(\n",
    "    run_options={\"seed\": seed, \"shots\": 1024},\n",
    "    transpile_options={\"seed_transpiler\": seed},\n",
    ")\n",
    "#storing values\n",
    "counts = []\n",
    "values = []\n",
    "def store_intermediate_result(eval_count, parameters, mean, std):\n",
    "    counts.append(eval_count)\n",
    "    values.append(mean)\n",
    "    \n",
    "def run_qve_w_specified_optimizer(iterations, optimizer, ansatz):\n",
    "    opt = optimizer(maxiter = iterations)\n",
    "    vqe = VQE(noiseless_estimator, ansatz, optimizer=opt, callback=store_intermediate_result)\n",
    "    result = vqe.compute_minimum_eigenvalue(operator=H4q).eigenvalue.real\n",
    "    print(f\"VQE result: {result:.6f}\")\n",
    "    return result"
   ]
  },
  {
   "cell_type": "markdown",
   "id": "4733bb49",
   "metadata": {},
   "source": [
    "# COBYLA\n",
    "\n",
    "At step 5, with ev_op_H_2f\n",
    "VQE result: 0.030991\n",
    "Length of this optimization 849, time taken = 177.049 "
   ]
  },
  {
   "cell_type": "code",
   "execution_count": 11,
   "id": "a6b9dbc0",
   "metadata": {},
   "outputs": [
    {
     "name": "stdout",
     "output_type": "stream",
     "text": [
      "At step 0, with ev_op_Hp15\n",
      "VQE result: 2.055090\n",
      "Length of this optimization 192, time taken = 15.519 \n",
      "\n",
      "At step 1, with ev_op_Hp20\n",
      "VQE result: 0.078069\n",
      "Length of this optimization 276, time taken = 36.332 \n",
      "\n",
      "At step 2, with ev_op_H\n",
      "VQE result: 2.147212\n",
      "Length of this optimization 344, time taken = 60.604 \n",
      "\n",
      "At step 3, with ev_op_Hp15_2f\n",
      "VQE result: 0.092912\n",
      "Length of this optimization 350, time taken = 50.628 \n",
      "\n",
      "At step 4, with ev_op_Hp20_2f\n",
      "VQE result: 0.072005\n",
      "Length of this optimization 533, time taken = 126.417 \n",
      "\n",
      "At step 5, with ev_op_H_2f\n",
      "VQE result: 0.030991\n",
      "Length of this optimization 849, time taken = 196.843 \n",
      "\n",
      "At step 6, with ev_op_Hp15_3f\n",
      "VQE result: 0.093582\n",
      "Length of this optimization 516, time taken = 80.066 \n",
      "\n",
      "At step 7, with ev_op_Hp20_3f\n",
      "VQE result: 0.167037\n",
      "Length of this optimization 1061, time taken = 284.068 \n",
      "\n",
      "At step 8, with ev_op_H_3f\n",
      "VQE result: 2.204857\n",
      "Length of this optimization 1038, time taken = 344.156 \n",
      "\n",
      "At step 9, with ev_op_Hp15_4f\n",
      "VQE result: 0.100251\n",
      "Length of this optimization 758, time taken = 156.844 \n",
      "\n",
      "At step 10, with ev_op_Hp20_4f\n",
      "VQE result: 0.570297\n",
      "Length of this optimization 1301, time taken = 469.035 \n",
      "\n",
      "At step 11, with ev_op_H_4f\n",
      "VQE result: 3.289899\n",
      "Length of this optimization 1144, time taken = 521.59 \n",
      "\n"
     ]
    }
   ],
   "source": [
    "r_cobyla=[]\n",
    "for i in range(len(ansatz_list)):\n",
    "    print(f'At step {i}, with {ansatz_names[i]}')\n",
    "    counts = []\n",
    "    values = []\n",
    "    t0 = time.time()\n",
    "    result = run_qve_w_specified_optimizer(iterations, COBYLA, ansatz_list[i])\n",
    "    t1 = time.time()\n",
    "    print(f'Length of this optimization {len(values)}, time taken = {np.round(t1-t0,3)} \\n')\n",
    "    counts_a = counts\n",
    "    values_a = values \n",
    "    r_cobyla.append(pd.DataFrame({f'{ansatz_names[i]}': values_a}))\n",
    "    "
   ]
  },
  {
   "cell_type": "code",
   "execution_count": 12,
   "id": "27b89883",
   "metadata": {},
   "outputs": [],
   "source": [
    "df1 = pd.concat([r_cobyla[i] for i in range(len(r_cobyla))], axis = 1)\n",
    "df1.to_csv(f'L2_l{gg}_op_ev_cobyla.csv')"
   ]
  },
  {
   "cell_type": "markdown",
   "id": "f15cf2be",
   "metadata": {},
   "source": [
    "# SPSA\n",
    "\n",
    "At step 3, with ev_op_Hp15_2f\n",
    "VQE result: 0.071424\n",
    "Length of this optimization 3551, time taken = 308.376 \n",
    "\n",
    "At step 3, with ev_op_Hp15_2f\n",
    "VQE result: 0.091715\n",
    "Length of this optimization 4051, time taken = 360.693 \n",
    "\n",
    "At step 1, with ev_op_Hp20\n",
    "VQE result: 0.012277\n",
    "Length of this optimization 4051, time taken = 413.364"
   ]
  },
  {
   "cell_type": "code",
   "execution_count": 13,
   "id": "3af962bb",
   "metadata": {},
   "outputs": [
    {
     "name": "stdout",
     "output_type": "stream",
     "text": [
      "At step 0, with ev_op_Hp15\n",
      "VQE result: 0.093538\n",
      "Length of this optimization 4051, time taken = 261.896 \n",
      "\n",
      "At step 1, with ev_op_Hp20\n",
      "VQE result: 0.012277\n",
      "Length of this optimization 4051, time taken = 413.364 \n",
      "\n",
      "At step 2, with ev_op_H\n",
      "VQE result: 0.118274\n",
      "Length of this optimization 4051, time taken = 462.968 \n",
      "\n",
      "At step 3, with ev_op_Hp15_2f\n",
      "VQE result: 0.091715\n",
      "Length of this optimization 4051, time taken = 360.693 \n",
      "\n",
      "At step 4, with ev_op_Hp20_2f\n",
      "VQE result: 0.052515\n",
      "Length of this optimization 4051, time taken = 595.173 \n",
      "\n",
      "At step 5, with ev_op_H_2f\n",
      "VQE result: 1.534141\n",
      "Length of this optimization 4051, time taken = 703.427 \n",
      "\n",
      "At step 6, with ev_op_Hp15_3f\n",
      "VQE result: 0.097625\n",
      "Length of this optimization 4051, time taken = 463.019 \n",
      "\n",
      "At step 7, with ev_op_Hp20_3f\n",
      "VQE result: 0.181843\n",
      "Length of this optimization 4051, time taken = 774.16 \n",
      "\n",
      "At step 8, with ev_op_H_3f\n",
      "VQE result: 2.207661\n",
      "Length of this optimization 4051, time taken = 916.238 \n",
      "\n",
      "At step 9, with ev_op_Hp15_4f\n",
      "VQE result: 0.135837\n",
      "Length of this optimization 4051, time taken = 560.514 \n",
      "\n",
      "At step 10, with ev_op_Hp20_4f\n",
      "VQE result: 0.949220\n",
      "Length of this optimization 4051, time taken = 947.638 \n",
      "\n",
      "At step 11, with ev_op_H_4f\n",
      "VQE result: 3.046268\n",
      "Length of this optimization 4051, time taken = 1126.988 \n",
      "\n"
     ]
    }
   ],
   "source": [
    "r_spsa=[]\n",
    "for i in range(len(ansatz_list)):\n",
    "    print(f'At step {i}, with {ansatz_names[i]}')\n",
    "    counts = []\n",
    "    values = []\n",
    "    t0 = time.time()\n",
    "    result = run_qve_w_specified_optimizer(iterations, SPSA, ansatz_list[i])\n",
    "    t1 = time.time()\n",
    "    print(f'Length of this optimization {len(values)}, time taken = {np.round(t1-t0,3)} \\n')\n",
    "    counts_a = counts\n",
    "    values_a = values \n",
    "    r_spsa.append(pd.DataFrame({f'{ansatz_names[i]}': values_a}))"
   ]
  },
  {
   "cell_type": "code",
   "execution_count": 14,
   "id": "7765cb70",
   "metadata": {},
   "outputs": [],
   "source": [
    "df2 = pd.concat([r_spsa[i] for i in range(len(r_spsa))], axis = 1)\n",
    "df2.to_csv(f'L2_l{gg}_op_ev_spsa.csv')"
   ]
  },
  {
   "cell_type": "markdown",
   "id": "b1d8b097",
   "metadata": {},
   "source": [
    "## Retrain the best performing ansatz\n",
    "\n",
    "At step 1, with ev_op_Hp20\n",
    "VQE result: 0.012277\n",
    "Length of this optimization 4051, time taken = 413.364"
   ]
  },
  {
   "cell_type": "code",
   "execution_count": 11,
   "id": "f57b2758",
   "metadata": {},
   "outputs": [
    {
     "name": "stdout",
     "output_type": "stream",
     "text": [
      "VQE result: 1.987036\n",
      "Length of this optimization 5051, time taken = 598.669 \n",
      "\n"
     ]
    }
   ],
   "source": [
    "#Increasing the number of iterations makes it worse\n",
    "iterations = 2500\n",
    "counts = []\n",
    "values = []\n",
    "t0 = time.time()\n",
    "result = run_qve_w_specified_optimizer(iterations, SPSA, ev_op_Hp20)\n",
    "t1 = time.time()\n",
    "print(f'Length of this optimization {len(values)}, time taken = {np.round(t1-t0,3)} \\n')\n",
    "counts_a = counts\n",
    "values_a = values"
   ]
  },
  {
   "cell_type": "code",
   "execution_count": 13,
   "id": "285cc159",
   "metadata": {},
   "outputs": [
    {
     "name": "stdout",
     "output_type": "stream",
     "text": [
      "VQE result: 0.065094\n",
      "Length of this optimization 3551, time taken = 472.251 \n",
      "\n"
     ]
    }
   ],
   "source": [
    "#Reducing the number of iterations\n",
    "iterations = 1750\n",
    "counts = []\n",
    "values = []\n",
    "t0 = time.time()\n",
    "result = run_qve_w_specified_optimizer(iterations, SPSA, ev_op_Hp20)\n",
    "t1 = time.time()\n",
    "print(f'Length of this optimization {len(values)}, time taken = {np.round(t1-t0,3)} \\n')\n",
    "counts_a = counts\n",
    "values_a = values"
   ]
  },
  {
   "cell_type": "code",
   "execution_count": 14,
   "id": "b2c7e116",
   "metadata": {},
   "outputs": [
    {
     "name": "stdout",
     "output_type": "stream",
     "text": [
      "VQE result: 2.993583\n",
      "Length of this optimization 3651, time taken = 509.371 \n",
      "\n"
     ]
    }
   ],
   "source": [
    "#Reducing the number of iterations\n",
    "iterations = 1800\n",
    "counts = []\n",
    "values = []\n",
    "t0 = time.time()\n",
    "result = run_qve_w_specified_optimizer(iterations, SPSA, ev_op_Hp20)\n",
    "t1 = time.time()\n",
    "print(f'Length of this optimization {len(values)}, time taken = {np.round(t1-t0,3)} \\n')\n",
    "counts_a = counts\n",
    "values_a = values"
   ]
  },
  {
   "cell_type": "code",
   "execution_count": 18,
   "id": "e1f02a64",
   "metadata": {},
   "outputs": [],
   "source": [
    "df = pd.read_csv('results/L2_l02_op_ev_spsa.csv')\n",
    "dfp = df['ev_op_Hp20']\n",
    "dfp.to_csv(f'results/L2_l{gg}_op_ev_spsa_best.csv')"
   ]
  },
  {
   "cell_type": "markdown",
   "id": "b2643d44",
   "metadata": {},
   "source": [
    "# SLSQP"
   ]
  },
  {
   "cell_type": "code",
   "execution_count": 15,
   "id": "36ca76cc",
   "metadata": {},
   "outputs": [
    {
     "name": "stdout",
     "output_type": "stream",
     "text": [
      "At step 0, with ev_op_Hp15\n",
      "VQE result: 5.574897\n",
      "Length of this optimization 16, time taken = 2.441 \n",
      "\n",
      "At step 1, with ev_op_Hp20\n",
      "VQE result: 5.013021\n",
      "Length of this optimization 21, time taken = 3.657 \n",
      "\n",
      "At step 2, with ev_op_H\n",
      "VQE result: 5.817232\n",
      "Length of this optimization 25, time taken = 4.448 \n",
      "\n",
      "At step 3, with ev_op_Hp15_2f\n",
      "VQE result: 4.469303\n",
      "Length of this optimization 31, time taken = 3.903 \n",
      "\n",
      "At step 4, with ev_op_Hp20_2f\n",
      "VQE result: 5.274540\n",
      "Length of this optimization 41, time taken = 9.728 \n",
      "\n",
      "At step 5, with ev_op_H_2f\n",
      "VQE result: 5.221282\n",
      "Length of this optimization 49, time taken = 12.629 \n",
      "\n",
      "At step 6, with ev_op_Hp15_3f\n",
      "VQE result: 3.554969\n",
      "Length of this optimization 46, time taken = 7.79 \n",
      "\n",
      "At step 7, with ev_op_Hp20_3f\n",
      "VQE result: 5.584767\n",
      "Length of this optimization 61, time taken = 19.025 \n",
      "\n",
      "At step 8, with ev_op_H_3f\n",
      "VQE result: 5.208698\n",
      "Length of this optimization 73, time taken = 25.83 \n",
      "\n",
      "At step 9, with ev_op_Hp15_4f\n",
      "VQE result: 4.232864\n",
      "Length of this optimization 61, time taken = 12.879 \n",
      "\n",
      "At step 10, with ev_op_Hp20_4f\n",
      "VQE result: 5.460271\n",
      "Length of this optimization 81, time taken = 29.748 \n",
      "\n",
      "At step 11, with ev_op_H_4f\n",
      "VQE result: 5.947451\n",
      "Length of this optimization 97, time taken = 51.786 \n",
      "\n"
     ]
    }
   ],
   "source": [
    "r_slsqp=[]\n",
    "for i in range(len(ansatz_list)):\n",
    "    print(f'At step {i}, with {ansatz_names[i]}')\n",
    "    counts = []\n",
    "    values = []\n",
    "    t0 = time.time()\n",
    "    result = run_qve_w_specified_optimizer(iterations, SLSQP, ansatz_list[i])\n",
    "    t1 = time.time()\n",
    "    print(f'Length of this optimization {len(values)}, time taken = {np.round(t1-t0,3)} \\n')\n",
    "    counts_a = counts\n",
    "    values_a = values \n",
    "    r_slsqp.append(pd.DataFrame({f'{ansatz_names[i]}': values_a}))"
   ]
  },
  {
   "cell_type": "code",
   "execution_count": 16,
   "id": "7356b241",
   "metadata": {},
   "outputs": [],
   "source": [
    "df3 = pd.concat([r_slsqp[i] for i in range(len(r_slsqp))], axis = 1)\n",
    "df3.to_csv(f'L2_l{gg}_op_ev_slsqp.csv')"
   ]
  }
 ],
 "metadata": {
  "kernelspec": {
   "display_name": "Python 3 (ipykernel)",
   "language": "python",
   "name": "python3"
  },
  "language_info": {
   "codemirror_mode": {
    "name": "ipython",
    "version": 3
   },
   "file_extension": ".py",
   "mimetype": "text/x-python",
   "name": "python",
   "nbconvert_exporter": "python",
   "pygments_lexer": "ipython3",
   "version": "3.12.7"
  }
 },
 "nbformat": 4,
 "nbformat_minor": 5
}
