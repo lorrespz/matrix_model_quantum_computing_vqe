{
 "cells": [
  {
   "cell_type": "markdown",
   "id": "91a18a59",
   "metadata": {},
   "source": [
    "# L=2 BMN SU2 matrix model"
   ]
  },
  {
   "cell_type": "code",
   "execution_count": 1,
   "id": "de38b2ba",
   "metadata": {},
   "outputs": [],
   "source": [
    "import numpy as np\n",
    "import pylab\n",
    "import matplotlib.pyplot as plt\n",
    "import qiskit\n",
    "from qiskit.quantum_info import Pauli\n",
    "from qiskit.quantum_info import SparsePauliOp\n",
    "from qiskit.circuit.library import EvolvedOperatorAnsatz\n",
    "from qiskit_algorithms import NumPyEigensolver\n",
    "import time\n",
    "import sys\n",
    "sys.path.append('../utility')\n",
    "from vqe_run import *\n",
    "from qc_ansatze import *"
   ]
  },
  {
   "cell_type": "markdown",
   "id": "acc568a3",
   "metadata": {},
   "source": [
    "# Load H"
   ]
  },
  {
   "cell_type": "code",
   "execution_count": 2,
   "id": "b98ac420",
   "metadata": {},
   "outputs": [],
   "source": [
    "def open_n_process(file_link):\n",
    "    file = open(file_link, \"r\")\n",
    "    content = file.read()\n",
    "\n",
    "    data = content.split(',\\n')\n",
    "    data[0] = data[0].split('\\n')[1]\n",
    "    data[-1] = data[-1].split('\\n')[0]\n",
    "\n",
    "    data_coeff = []\n",
    "    data_str = []\n",
    "    for i in range(len(data)):\n",
    "        data_coeff.append(float(data[i].split('*')[0]))\n",
    "        data_str.append(data[i].split('*')[1].split(' ')[1])\n",
    "    return data_coeff, data_str\n",
    "    \n",
    "def check_min_max(data_coeff):\n",
    "    print(f'Min absolute value is {np.round(np.min(np.abs(data_coeff[1:])),6)}')\n",
    "    print(f'Max absolute value is {np.round(np.max(np.abs(data_coeff[1:])),5)}')\n",
    "    print(f'Mean absolute value is {np.round(np.mean(np.abs(data_coeff[1:])),5)}')\n",
    "    \n",
    "def get_k_largest_ops(data_coeff, data_str, k):\n",
    "    ind_list = np.argsort(np.abs(data_coeff[1:]))[-k:]\n",
    "    ops = [data_str[1:][i] for i in ind_list]\n",
    "    val= [np.round(data_coeff[1:][i],4) for i in ind_list]\n",
    "    return ind_list, ops, val"
   ]
  },
  {
   "cell_type": "code",
   "execution_count": 3,
   "id": "e62d8c98",
   "metadata": {},
   "outputs": [],
   "source": [
    "gg = '05'\n",
    "data_coeff, data_str = open_n_process(f\"../utility/L2_BMN_l{gg}_Hpauli.txt\")"
   ]
  },
  {
   "cell_type": "code",
   "execution_count": 4,
   "id": "054c86bc",
   "metadata": {},
   "outputs": [
    {
     "name": "stdout",
     "output_type": "stream",
     "text": [
      "Min absolute value is 0.125\n",
      "Max absolute value is 0.75\n",
      "Mean absolute value is 0.35938\n",
      "None\n",
      "E_exact = 0.016901\n"
     ]
    }
   ],
   "source": [
    "Hpauli = list(zip(data_str, data_coeff))\n",
    "H4q = SparsePauliOp.from_list(Hpauli)\n",
    "# exactly diagonalize the system using numpy routines\n",
    "solver = NumPyEigensolver(k=4)\n",
    "exact_solution = solver.compute_eigenvalues(H4q)\n",
    "#print(\"Exact Result of qubit hamiltonian:\", np.real(exact_solution.eigenvalues))\n",
    "E_exact = np.round(np.real(exact_solution.eigenvalues)[0],6)\n",
    "print(f'{check_min_max(data_coeff)}')\n",
    "print(f'E_exact = {E_exact}')"
   ]
  },
  {
   "cell_type": "code",
   "execution_count": 5,
   "id": "e7713453",
   "metadata": {},
   "outputs": [
    {
     "data": {
      "text/plain": [
       "[('IIIIIIIII', 5.625),\n",
       " ('ZIIIIIIII', -0.5),\n",
       " ('IZIIIIIII', -0.5),\n",
       " ('IIZIIIIII', -0.5),\n",
       " ('IIIZIIIII', -0.5),\n",
       " ('IIIIZIIII', -0.5),\n",
       " ('IIIIIZIII', -0.5),\n",
       " ('IIIIIIZII', -0.75),\n",
       " ('IIIIIIIZI', -0.75),\n",
       " ('IIIIIIIIZ', -0.75),\n",
       " ('XXIXXIIII', -0.12499999999999996),\n",
       " ('XIXXIXIII', -0.12499999999999996),\n",
       " ('IXXIXXIII', -0.12499999999999996),\n",
       " ('IIXIIIYXI', 0.24999999999999994),\n",
       " ('IIXIIIXYI', 0.24999999999999994),\n",
       " ('IIIIIXXXI', 0.24999999999999994),\n",
       " ('IIIIIXYYI', -0.24999999999999994),\n",
       " ('IXIIIIYZX', -0.24999999999999994),\n",
       " ('IXIIIIXZY', -0.24999999999999994),\n",
       " ('IIIIXIXZX', -0.24999999999999994),\n",
       " ('IIIIXIYZY', 0.24999999999999994),\n",
       " ('XIIIIIIYX', 0.24999999999999994),\n",
       " ('XIIIIIIXY', 0.24999999999999994),\n",
       " ('IIIXIIIXX', 0.24999999999999994),\n",
       " ('IIIXIIIYY', -0.24999999999999994)]"
      ]
     },
     "execution_count": 5,
     "metadata": {},
     "output_type": "execute_result"
    }
   ],
   "source": [
    "Hpauli"
   ]
  },
  {
   "cell_type": "markdown",
   "id": "2d40d34a",
   "metadata": {},
   "source": [
    "# EvolvedOperatorAnsatz"
   ]
  },
  {
   "cell_type": "code",
   "execution_count": 5,
   "id": "31ef3655",
   "metadata": {},
   "outputs": [],
   "source": [
    "ind15, ops15, vals15 = get_k_largest_ops(data_coeff, data_str, 15)\n",
    "ind20, ops20, vals20 = get_k_largest_ops(data_coeff, data_str, 20)\n",
    "\n",
    "ops_Hp15 =[Pauli(f'{ops15[i]}') for i in range(len(ops15))]\n",
    "ops_Hp20 =[Pauli(f'{ops20[i]}') for i in range(len(ops20))]\n",
    "ops_H =[Pauli(f'{data_str[1:][i]}') for i in range(len(data_str[1:]))]"
   ]
  },
  {
   "cell_type": "code",
   "execution_count": 6,
   "id": "bf7a12ca",
   "metadata": {},
   "outputs": [
    {
     "name": "stdout",
     "output_type": "stream",
     "text": [
      "number of params: [15, 20, 24, 30, 40, 48, 45, 60, 72, 60, 80, 96]\n"
     ]
    }
   ],
   "source": [
    "ev_op_Hp15 = EvolvedOperatorAnsatz(ops_Hp15, reps=1, insert_barriers=True)\n",
    "ev_op_Hp20 = EvolvedOperatorAnsatz(ops_Hp20, reps=1, insert_barriers=True)\n",
    "ev_op_H = EvolvedOperatorAnsatz(ops_H, reps=1, insert_barriers=True)\n",
    "\n",
    "ev_op_Hp15_2f = EvolvedOperatorAnsatz(ops_Hp15, reps=2, insert_barriers=True)\n",
    "ev_op_Hp20_2f = EvolvedOperatorAnsatz(ops_Hp20, reps=2, insert_barriers=True)\n",
    "ev_op_H_2f = EvolvedOperatorAnsatz(ops_H, reps=2, insert_barriers=True)\n",
    "\n",
    "ev_op_Hp15_3f = EvolvedOperatorAnsatz(ops_Hp15, reps=3, insert_barriers=True)\n",
    "ev_op_Hp20_3f = EvolvedOperatorAnsatz(ops_Hp20, reps=3, insert_barriers=True)\n",
    "ev_op_H_3f = EvolvedOperatorAnsatz(ops_H, reps=3, insert_barriers=True)\n",
    "\n",
    "ev_op_Hp15_4f = EvolvedOperatorAnsatz(ops_Hp15, reps=4, insert_barriers=True)\n",
    "ev_op_Hp20_4f = EvolvedOperatorAnsatz(ops_Hp20, reps=4, insert_barriers=True)\n",
    "ev_op_H_4f = EvolvedOperatorAnsatz(ops_H, reps=4, insert_barriers=True)\n",
    "\n",
    "ansatz_list = [ev_op_Hp15, ev_op_Hp20, ev_op_H, \n",
    "               ev_op_Hp15_2f, ev_op_Hp20_2f, ev_op_H_2f,\n",
    "               ev_op_Hp15_3f, ev_op_Hp20_3f, ev_op_H_3f,\n",
    "               ev_op_Hp15_4f, ev_op_Hp20_4f, ev_op_H_4f]\n",
    "\n",
    "ansatz_names = ['ev_op_Hp15', 'ev_op_Hp20', 'ev_op_H', \n",
    "               'ev_op_Hp15_2f','ev_op_Hp20_2f','ev_op_H_2f',\n",
    "               'ev_op_Hp15_3f','ev_op_Hp20_3f','ev_op_H_3f',\n",
    "               'ev_op_Hp15_4f','ev_op_Hp20_4f','ev_op_H_4f']\n",
    "\n",
    "print(f'number of params: {[ansatz_list[i].num_parameters for i in range(len(ansatz_list))]}')"
   ]
  },
  {
   "cell_type": "code",
   "execution_count": 8,
   "id": "26fcf231",
   "metadata": {},
   "outputs": [
    {
     "name": "stdout",
     "output_type": "stream",
     "text": [
      "('XIIIIIIYX', 0.25)\n",
      "('IIIIXIYZY', 0.25)\n",
      "('IIIIXIXZX', -0.25)\n",
      "('IXIIIIXZY', -0.25)\n",
      "('IXIIIIYZX', -0.25)\n",
      "('IIIIIXYYI', -0.25)\n",
      "('IIIIIXXXI', 0.25)\n",
      "('IIXIIIXYI', 0.25)\n",
      "('IIIXIIIYY', -0.25)\n",
      "('IIIXIIIXX', 0.25)\n",
      "('IIXIIIYXI', 0.25)\n",
      "('IIIIIZIII', -0.5)\n",
      "('IIIIZIIII', -0.5)\n",
      "('IIIZIIIII', -0.5)\n",
      "('IIZIIIIII', -0.5)\n",
      "('IZIIIIIII', -0.5)\n",
      "('ZIIIIIIII', -0.5)\n",
      "('IIIIIIIIZ', -0.75)\n",
      "('IIIIIIIZI', -0.75)\n",
      "('IIIIIIZII', -0.75)\n"
     ]
    }
   ],
   "source": [
    "print(*list(zip(ops20, vals20)), sep = '\\n')"
   ]
  },
  {
   "cell_type": "code",
   "execution_count": 9,
   "id": "8184c89a",
   "metadata": {},
   "outputs": [
    {
     "name": "stdout",
     "output_type": "stream",
     "text": [
      "('IIIIIXYYI', -0.25)\n",
      "('IIIIIXXXI', 0.25)\n",
      "('IIXIIIXYI', 0.25)\n",
      "('IIIXIIIYY', -0.25)\n",
      "('IIIXIIIXX', 0.25)\n",
      "('IIXIIIYXI', 0.25)\n",
      "('IIIIIZIII', -0.5)\n",
      "('IIIIZIIII', -0.5)\n",
      "('IIIZIIIII', -0.5)\n",
      "('IIZIIIIII', -0.5)\n",
      "('IZIIIIIII', -0.5)\n",
      "('ZIIIIIIII', -0.5)\n",
      "('IIIIIIIIZ', -0.75)\n",
      "('IIIIIIIZI', -0.75)\n",
      "('IIIIIIZII', -0.75)\n"
     ]
    }
   ],
   "source": [
    "print(*list(zip(ops15, vals15)), sep = '\\n')"
   ]
  },
  {
   "cell_type": "markdown",
   "id": "2ba3fb48",
   "metadata": {},
   "source": [
    "# VQE"
   ]
  },
  {
   "cell_type": "code",
   "execution_count": 7,
   "id": "96a65ec4",
   "metadata": {},
   "outputs": [],
   "source": [
    "seed = 170\n",
    "iterations = 2000\n",
    "algorithm_globals.random_seed = seed\n",
    "\n",
    "#estimator\n",
    "noiseless_estimator = AerEstimator(\n",
    "    run_options={\"seed\": seed, \"shots\": 1024},\n",
    "    transpile_options={\"seed_transpiler\": seed},\n",
    ")\n",
    "#storing values\n",
    "counts = []\n",
    "values = []\n",
    "def store_intermediate_result(eval_count, parameters, mean, std):\n",
    "    counts.append(eval_count)\n",
    "    values.append(mean)\n",
    "    \n",
    "def run_qve_w_specified_optimizer(iterations, optimizer, ansatz):\n",
    "    opt = optimizer(maxiter = iterations)\n",
    "    vqe = VQE(noiseless_estimator, ansatz, optimizer=opt, callback=store_intermediate_result)\n",
    "    result = vqe.compute_minimum_eigenvalue(operator=H4q).eigenvalue.real\n",
    "    print(f\"VQE result: {result:.6f}\")\n",
    "    return result"
   ]
  },
  {
   "cell_type": "markdown",
   "id": "2d64a7a1",
   "metadata": {},
   "source": [
    "# COBYLA\n",
    "\n",
    "At step 3, with ev_op_Hp15_2f\n",
    "VQE result: 0.194824\n",
    "Length of this optimization 339, time taken = 35.927 "
   ]
  },
  {
   "cell_type": "code",
   "execution_count": 11,
   "id": "b08df4a8",
   "metadata": {},
   "outputs": [
    {
     "name": "stdout",
     "output_type": "stream",
     "text": [
      "At step 0, with ev_op_Hp15\n",
      "VQE result: 2.144043\n",
      "Length of this optimization 181, time taken = 18.632 \n",
      "\n",
      "At step 1, with ev_op_Hp20\n",
      "VQE result: 0.240234\n",
      "Length of this optimization 280, time taken = 42.091 \n",
      "\n",
      "At step 2, with ev_op_H\n",
      "VQE result: 2.361328\n",
      "Length of this optimization 290, time taken = 59.611 \n",
      "\n",
      "At step 3, with ev_op_Hp15_2f\n",
      "VQE result: 0.194824\n",
      "Length of this optimization 339, time taken = 51.793 \n",
      "\n",
      "At step 4, with ev_op_Hp20_2f\n",
      "VQE result: 0.221191\n",
      "Length of this optimization 673, time taken = 133.555 \n",
      "\n",
      "At step 5, with ev_op_H_2f\n",
      "VQE result: 0.397461\n",
      "Length of this optimization 775, time taken = 181.407 \n",
      "\n",
      "At step 6, with ev_op_Hp15_3f\n",
      "VQE result: 0.206055\n",
      "Length of this optimization 612, time taken = 97.434 \n",
      "\n",
      "At step 7, with ev_op_Hp20_3f\n",
      "VQE result: 1.229004\n",
      "Length of this optimization 864, time taken = 234.766 \n",
      "\n",
      "At step 8, with ev_op_H_3f\n",
      "VQE result: 2.872559\n",
      "Length of this optimization 1004, time taken = 337.944 \n",
      "\n",
      "At step 9, with ev_op_Hp15_4f\n",
      "VQE result: 0.248535\n",
      "Length of this optimization 693, time taken = 144.366 \n",
      "\n",
      "At step 10, with ev_op_Hp20_4f\n",
      "VQE result: 1.333496\n",
      "Length of this optimization 1188, time taken = 429.498 \n",
      "\n",
      "At step 11, with ev_op_H_4f\n",
      "VQE result: 3.593750\n",
      "Length of this optimization 1149, time taken = 526.029 \n",
      "\n"
     ]
    }
   ],
   "source": [
    "r_cobyla=[]\n",
    "for i in range(len(ansatz_list)):\n",
    "    print(f'At step {i}, with {ansatz_names[i]}')\n",
    "    counts = []\n",
    "    values = []\n",
    "    t0 = time.time()\n",
    "    result = run_qve_w_specified_optimizer(iterations, COBYLA, ansatz_list[i])\n",
    "    t1 = time.time()\n",
    "    print(f'Length of this optimization {len(values)}, time taken = {np.round(t1-t0,3)} \\n')\n",
    "    counts_a = counts\n",
    "    values_a = values \n",
    "    r_cobyla.append(pd.DataFrame({f'{ansatz_names[i]}': values_a}))\n",
    "    "
   ]
  },
  {
   "cell_type": "code",
   "execution_count": 12,
   "id": "c6d10b84",
   "metadata": {},
   "outputs": [],
   "source": [
    "df1 = pd.concat([r_cobyla[i] for i in range(len(r_cobyla))], axis = 1)\n",
    "df1.to_csv(f'L2_l{gg}_op_ev_cobyla.csv')"
   ]
  },
  {
   "cell_type": "markdown",
   "id": "f30cdbed",
   "metadata": {},
   "source": [
    "# SPSA\n",
    "\n",
    "At step 4, with ev_op_Hp20_2f\n",
    "VQE result: 0.188477\n",
    "Length of this optimization 3551, time taken = 525.911 "
   ]
  },
  {
   "cell_type": "code",
   "execution_count": 13,
   "id": "16a456d4",
   "metadata": {},
   "outputs": [
    {
     "name": "stdout",
     "output_type": "stream",
     "text": [
      "At step 0, with ev_op_Hp15\n",
      "VQE result: 0.222168\n",
      "Length of this optimization 4051, time taken = 264.718 \n",
      "\n",
      "At step 1, with ev_op_Hp20\n",
      "VQE result: 0.056641\n",
      "Length of this optimization 4051, time taken = 415.831 \n",
      "\n",
      "At step 2, with ev_op_H\n",
      "VQE result: 0.331055\n",
      "Length of this optimization 4051, time taken = 465.284 \n",
      "\n",
      "At step 3, with ev_op_Hp15_2f\n",
      "VQE result: 0.237305\n",
      "Length of this optimization 4051, time taken = 363.041 \n",
      "\n",
      "At step 4, with ev_op_Hp20_2f\n",
      "VQE result: 0.187988\n",
      "Length of this optimization 4051, time taken = 601.143 \n",
      "\n",
      "At step 5, with ev_op_H_2f\n",
      "VQE result: 2.151855\n",
      "Length of this optimization 4051, time taken = 709.495 \n",
      "\n",
      "At step 6, with ev_op_Hp15_3f\n",
      "VQE result: 0.263184\n",
      "Length of this optimization 4051, time taken = 467.699 \n",
      "\n",
      "At step 7, with ev_op_Hp20_3f\n",
      "VQE result: 0.320312\n",
      "Length of this optimization 4051, time taken = 779.424 \n",
      "\n",
      "At step 8, with ev_op_H_3f\n",
      "VQE result: 1.846680\n",
      "Length of this optimization 4051, time taken = 923.667 \n",
      "\n",
      "At step 9, with ev_op_Hp15_4f\n",
      "VQE result: 0.269043\n",
      "Length of this optimization 4051, time taken = 566.594 \n",
      "\n",
      "At step 10, with ev_op_Hp20_4f\n",
      "VQE result: 0.654785\n",
      "Length of this optimization 4051, time taken = 953.208 \n",
      "\n",
      "At step 11, with ev_op_H_4f\n",
      "VQE result: 3.485352\n",
      "Length of this optimization 4051, time taken = 1140.761 \n",
      "\n"
     ]
    }
   ],
   "source": [
    "r_spsa=[]\n",
    "for i in range(len(ansatz_list)):\n",
    "    print(f'At step {i}, with {ansatz_names[i]}')\n",
    "    counts = []\n",
    "    values = []\n",
    "    t0 = time.time()\n",
    "    result = run_qve_w_specified_optimizer(iterations, SPSA, ansatz_list[i])\n",
    "    t1 = time.time()\n",
    "    print(f'Length of this optimization {len(values)}, time taken = {np.round(t1-t0,3)} \\n')\n",
    "    counts_a = counts\n",
    "    values_a = values \n",
    "    r_spsa.append(pd.DataFrame({f'{ansatz_names[i]}': values_a}))"
   ]
  },
  {
   "cell_type": "code",
   "execution_count": 14,
   "id": "b1d122d2",
   "metadata": {},
   "outputs": [],
   "source": [
    "df2 = pd.concat([r_spsa[i] for i in range(len(r_spsa))], axis = 1)\n",
    "df2.to_csv(f'L2_l{gg}_op_ev_spsa.csv')"
   ]
  },
  {
   "cell_type": "markdown",
   "id": "ee45690e",
   "metadata": {},
   "source": [
    "## Retrain best ansatz\n",
    "\n",
    "At step 1, with ev_op_Hp20\n",
    "VQE result: 0.056641\n",
    "Length of this optimization 4051, time taken = 415.831 "
   ]
  },
  {
   "cell_type": "code",
   "execution_count": 9,
   "id": "5e871e15",
   "metadata": {},
   "outputs": [
    {
     "name": "stdout",
     "output_type": "stream",
     "text": [
      "VQE result: 2.001465\n",
      "Length of this optimization 5051, time taken = 648.404 \n",
      "\n"
     ]
    }
   ],
   "source": [
    "#Increasing the number of iters makes it worse\n",
    "iterations = 2500\n",
    "counts = []\n",
    "values = []\n",
    "t0 = time.time()\n",
    "result = run_qve_w_specified_optimizer(iterations, SPSA, ev_op_Hp20)\n",
    "t1 = time.time()\n",
    "print(f'Length of this optimization {len(values)}, time taken = {np.round(t1-t0,3)} \\n')\n",
    "counts_a = counts\n",
    "values_a = values"
   ]
  },
  {
   "cell_type": "code",
   "execution_count": 10,
   "id": "4a194519",
   "metadata": {},
   "outputs": [
    {
     "name": "stdout",
     "output_type": "stream",
     "text": [
      "VQE result: 0.042969\n",
      "Length of this optimization 3051, time taken = 420.838 \n",
      "\n"
     ]
    }
   ],
   "source": [
    "#Reducing the number of iters makes it better\n",
    "iterations = 1500\n",
    "counts = []\n",
    "values = []\n",
    "t0 = time.time()\n",
    "result = run_qve_w_specified_optimizer(iterations, SPSA, ev_op_Hp20)\n",
    "t1 = time.time()\n",
    "print(f'Length of this optimization {len(values)}, time taken = {np.round(t1-t0,3)} \\n')\n",
    "counts_a = counts\n",
    "values_a = values"
   ]
  },
  {
   "cell_type": "code",
   "execution_count": 11,
   "id": "104df92b",
   "metadata": {},
   "outputs": [
    {
     "name": "stdout",
     "output_type": "stream",
     "text": [
      "VQE result: 0.047363\n",
      "Length of this optimization 2451, time taken = 321.283 \n",
      "\n"
     ]
    }
   ],
   "source": [
    "#Reducing the number of iters makes slightly worse compared to before\n",
    "iterations = 1200\n",
    "counts = []\n",
    "values = []\n",
    "t0 = time.time()\n",
    "result = run_qve_w_specified_optimizer(iterations, SPSA, ev_op_Hp20)\n",
    "t1 = time.time()\n",
    "print(f'Length of this optimization {len(values)}, time taken = {np.round(t1-t0,3)} \\n')\n",
    "counts_b = counts\n",
    "values_b = values"
   ]
  },
  {
   "cell_type": "code",
   "execution_count": 12,
   "id": "78e12c0b",
   "metadata": {},
   "outputs": [
    {
     "name": "stdout",
     "output_type": "stream",
     "text": [
      "VQE result: 0.035645\n",
      "Length of this optimization 3551, time taken = 491.148 \n",
      "\n"
     ]
    }
   ],
   "source": [
    "#Reducing the number of iters makes it better\n",
    "iterations = 1750\n",
    "counts = []\n",
    "values = []\n",
    "t0 = time.time()\n",
    "result = run_qve_w_specified_optimizer(iterations, SPSA, ev_op_Hp20)\n",
    "t1 = time.time()\n",
    "print(f'Length of this optimization {len(values)}, time taken = {np.round(t1-t0,3)} \\n')\n",
    "counts_c = counts\n",
    "values_c = values"
   ]
  },
  {
   "cell_type": "code",
   "execution_count": 14,
   "id": "842fc122",
   "metadata": {},
   "outputs": [],
   "source": [
    "df = pd.DataFrame({'ev_op_Hp20': values_c})\n",
    "df.to_csv(f'results/L2_l{gg}_op_ev_spsa_best.csv')"
   ]
  },
  {
   "cell_type": "markdown",
   "id": "4b8fca85",
   "metadata": {},
   "source": [
    "# SLSQP"
   ]
  },
  {
   "cell_type": "code",
   "execution_count": 15,
   "id": "1c8f9b3a",
   "metadata": {},
   "outputs": [
    {
     "name": "stdout",
     "output_type": "stream",
     "text": [
      "At step 0, with ev_op_Hp15\n",
      "VQE result: 5.918457\n",
      "Length of this optimization 16, time taken = 2.145 \n",
      "\n",
      "At step 1, with ev_op_Hp20\n",
      "VQE result: 5.286133\n",
      "Length of this optimization 21, time taken = 3.563 \n",
      "\n",
      "At step 2, with ev_op_H\n",
      "VQE result: 6.044434\n",
      "Length of this optimization 25, time taken = 4.138 \n",
      "\n",
      "At step 3, with ev_op_Hp15_2f\n",
      "VQE result: 4.714355\n",
      "Length of this optimization 31, time taken = 4.051 \n",
      "\n",
      "At step 4, with ev_op_Hp20_2f\n",
      "VQE result: 5.350098\n",
      "Length of this optimization 41, time taken = 8.891 \n",
      "\n",
      "At step 5, with ev_op_H_2f\n",
      "VQE result: 5.500488\n",
      "Length of this optimization 49, time taken = 12.773 \n",
      "\n",
      "At step 6, with ev_op_Hp15_3f\n",
      "VQE result: 3.947754\n",
      "Length of this optimization 46, time taken = 7.832 \n",
      "\n",
      "At step 7, with ev_op_Hp20_3f\n",
      "VQE result: 5.881348\n",
      "Length of this optimization 61, time taken = 17.918 \n",
      "\n",
      "At step 8, with ev_op_H_3f\n",
      "VQE result: 5.444336\n",
      "Length of this optimization 73, time taken = 28.208 \n",
      "\n",
      "At step 9, with ev_op_Hp15_4f\n",
      "VQE result: 4.443848\n",
      "Length of this optimization 61, time taken = 12.952 \n",
      "\n",
      "At step 10, with ev_op_Hp20_4f\n",
      "VQE result: 5.695801\n",
      "Length of this optimization 81, time taken = 36.392 \n",
      "\n",
      "At step 11, with ev_op_H_4f\n",
      "VQE result: 6.232910\n",
      "Length of this optimization 97, time taken = 43.989 \n",
      "\n"
     ]
    }
   ],
   "source": [
    "r_slsqp=[]\n",
    "for i in range(len(ansatz_list)):\n",
    "    print(f'At step {i}, with {ansatz_names[i]}')\n",
    "    counts = []\n",
    "    values = []\n",
    "    t0 = time.time()\n",
    "    result = run_qve_w_specified_optimizer(iterations, SLSQP, ansatz_list[i])\n",
    "    t1 = time.time()\n",
    "    print(f'Length of this optimization {len(values)}, time taken = {np.round(t1-t0,3)} \\n')\n",
    "    counts_a = counts\n",
    "    values_a = values \n",
    "    r_slsqp.append(pd.DataFrame({f'{ansatz_names[i]}': values_a}))"
   ]
  },
  {
   "cell_type": "code",
   "execution_count": 16,
   "id": "6831f9ab",
   "metadata": {},
   "outputs": [],
   "source": [
    "df3 = pd.concat([r_slsqp[i] for i in range(len(r_slsqp))], axis = 1)\n",
    "df3.to_csv(f'L2_l{gg}_op_ev_slsqp.csv')"
   ]
  },
  {
   "cell_type": "code",
   "execution_count": null,
   "id": "a75725ee",
   "metadata": {},
   "outputs": [],
   "source": []
  }
 ],
 "metadata": {
  "kernelspec": {
   "display_name": "Python 3 (ipykernel)",
   "language": "python",
   "name": "python3"
  },
  "language_info": {
   "codemirror_mode": {
    "name": "ipython",
    "version": 3
   },
   "file_extension": ".py",
   "mimetype": "text/x-python",
   "name": "python",
   "nbconvert_exporter": "python",
   "pygments_lexer": "ipython3",
   "version": "3.9.12"
  }
 },
 "nbformat": 4,
 "nbformat_minor": 5
}
