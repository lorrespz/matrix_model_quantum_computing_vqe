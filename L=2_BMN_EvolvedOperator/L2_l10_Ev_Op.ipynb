{
 "cells": [
  {
   "cell_type": "markdown",
   "id": "91a18a59",
   "metadata": {},
   "source": [
    "# L=2 BMN SU2 matrix model"
   ]
  },
  {
   "cell_type": "code",
   "execution_count": 1,
   "id": "de38b2ba",
   "metadata": {},
   "outputs": [],
   "source": [
    "import numpy as np\n",
    "import pylab\n",
    "import matplotlib.pyplot as plt\n",
    "import qiskit\n",
    "from qiskit.quantum_info import Pauli\n",
    "from qiskit.quantum_info import SparsePauliOp\n",
    "from qiskit.circuit.library import EvolvedOperatorAnsatz\n",
    "from qiskit_algorithms import NumPyEigensolver\n",
    "import time\n",
    "import sys\n",
    "sys.path.append('../utility')\n",
    "from vqe_run import *\n",
    "from qc_ansatze import *"
   ]
  },
  {
   "cell_type": "markdown",
   "id": "acc568a3",
   "metadata": {},
   "source": [
    "# Load H"
   ]
  },
  {
   "cell_type": "code",
   "execution_count": 2,
   "id": "b98ac420",
   "metadata": {},
   "outputs": [],
   "source": [
    "def open_n_process(file_link):\n",
    "    file = open(file_link, \"r\")\n",
    "    content = file.read()\n",
    "\n",
    "    data = content.split(',\\n')\n",
    "    data[0] = data[0].split('\\n')[1]\n",
    "    data[-1] = data[-1].split('\\n')[0]\n",
    "\n",
    "    data_coeff = []\n",
    "    data_str = []\n",
    "    for i in range(len(data)):\n",
    "        data_coeff.append(float(data[i].split('*')[0]))\n",
    "        data_str.append(data[i].split('*')[1].split(' ')[1])\n",
    "    return data_coeff, data_str\n",
    "    \n",
    "def check_min_max(data_coeff):\n",
    "    print(f'Min absolute value is {np.round(np.min(np.abs(data_coeff[1:])),6)}')\n",
    "    print(f'Max absolute value is {np.round(np.max(np.abs(data_coeff[1:])),5)}')\n",
    "    print(f'Mean absolute value is {np.round(np.mean(np.abs(data_coeff[1:])),5)}')\n",
    "    \n",
    "def get_k_largest_ops(data_coeff, data_str, k):\n",
    "    ind_list = np.argsort(np.abs(data_coeff[1:]))[-k:]\n",
    "    ops = [data_str[1:][i] for i in ind_list]\n",
    "    val= [np.round(data_coeff[1:][i],4) for i in ind_list]\n",
    "    return ind_list, ops, val"
   ]
  },
  {
   "cell_type": "code",
   "execution_count": 3,
   "id": "e62d8c98",
   "metadata": {},
   "outputs": [],
   "source": [
    "gg = '10'\n",
    "data_coeff, data_str = open_n_process(f\"../utility/L2_BMN_l{gg}_Hpauli.txt\")"
   ]
  },
  {
   "cell_type": "code",
   "execution_count": 4,
   "id": "054c86bc",
   "metadata": {},
   "outputs": [
    {
     "name": "stdout",
     "output_type": "stream",
     "text": [
      "Min absolute value is 0.25\n",
      "Max absolute value is 0.75\n",
      "Mean absolute value is 0.42678\n",
      "None\n",
      "E_exact = 0.04829\n"
     ]
    }
   ],
   "source": [
    "Hpauli = list(zip(data_str, data_coeff))\n",
    "H4q = SparsePauliOp.from_list(Hpauli)\n",
    "# exactly diagonalize the system using numpy routines\n",
    "solver = NumPyEigensolver(k=4)\n",
    "exact_solution = solver.compute_eigenvalues(H4q)\n",
    "#print(\"Exact Result of qubit hamiltonian:\", np.real(exact_solution.eigenvalues))\n",
    "E_exact = np.round(np.real(exact_solution.eigenvalues)[0],6)\n",
    "print(f'{check_min_max(data_coeff)}')\n",
    "print(f'E_exact = {E_exact}')"
   ]
  },
  {
   "cell_type": "code",
   "execution_count": 5,
   "id": "e7713453",
   "metadata": {},
   "outputs": [
    {
     "data": {
      "text/plain": [
       "[('IIIIIIIII', 6.0),\n",
       " ('ZIIIIIIII', -0.5),\n",
       " ('IZIIIIIII', -0.5),\n",
       " ('IIZIIIIII', -0.5),\n",
       " ('IIIZIIIII', -0.5),\n",
       " ('IIIIZIIII', -0.5),\n",
       " ('IIIIIZIII', -0.5),\n",
       " ('IIIIIIZII', -0.75),\n",
       " ('IIIIIIIZI', -0.75),\n",
       " ('IIIIIIIIZ', -0.75),\n",
       " ('XXIXXIIII', -0.24999999999999992),\n",
       " ('XIXXIXIII', -0.24999999999999992),\n",
       " ('IXXIXXIII', -0.24999999999999992),\n",
       " ('IIXIIIYXI', 0.35355339059327373),\n",
       " ('IIXIIIXYI', 0.35355339059327373),\n",
       " ('IIIIIXXXI', 0.35355339059327373),\n",
       " ('IIIIIXYYI', -0.35355339059327373),\n",
       " ('IXIIIIYZX', -0.35355339059327373),\n",
       " ('IXIIIIXZY', -0.35355339059327373),\n",
       " ('IIIIXIXZX', -0.35355339059327373),\n",
       " ('IIIIXIYZY', 0.35355339059327373),\n",
       " ('XIIIIIIYX', 0.35355339059327373),\n",
       " ('XIIIIIIXY', 0.35355339059327373),\n",
       " ('IIIXIIIXX', 0.35355339059327373),\n",
       " ('IIIXIIIYY', -0.35355339059327373)]"
      ]
     },
     "execution_count": 5,
     "metadata": {},
     "output_type": "execute_result"
    }
   ],
   "source": [
    "Hpauli"
   ]
  },
  {
   "cell_type": "markdown",
   "id": "2d40d34a",
   "metadata": {},
   "source": [
    "# EvolvedOperatorAnsatz"
   ]
  },
  {
   "cell_type": "code",
   "execution_count": 5,
   "id": "31ef3655",
   "metadata": {},
   "outputs": [],
   "source": [
    "ind15, ops15, vals15 = get_k_largest_ops(data_coeff, data_str, 15)\n",
    "ind20, ops20, vals20 = get_k_largest_ops(data_coeff, data_str, 20)\n",
    "\n",
    "ops_Hp15 =[Pauli(f'{ops15[i]}') for i in range(len(ops15))]\n",
    "ops_Hp20 =[Pauli(f'{ops20[i]}') for i in range(len(ops20))]\n",
    "ops_H =[Pauli(f'{data_str[1:][i]}') for i in range(len(data_str[1:]))]"
   ]
  },
  {
   "cell_type": "code",
   "execution_count": 6,
   "id": "bf7a12ca",
   "metadata": {},
   "outputs": [
    {
     "name": "stdout",
     "output_type": "stream",
     "text": [
      "number of params: [15, 20, 24, 30, 40, 48, 45, 60, 72, 60, 80, 96]\n"
     ]
    }
   ],
   "source": [
    "ev_op_Hp15 = EvolvedOperatorAnsatz(ops_Hp15, reps=1, insert_barriers=True)\n",
    "ev_op_Hp20 = EvolvedOperatorAnsatz(ops_Hp20, reps=1, insert_barriers=True)\n",
    "ev_op_H = EvolvedOperatorAnsatz(ops_H, reps=1, insert_barriers=True)\n",
    "\n",
    "ev_op_Hp15_2f = EvolvedOperatorAnsatz(ops_Hp15, reps=2, insert_barriers=True)\n",
    "ev_op_Hp20_2f = EvolvedOperatorAnsatz(ops_Hp20, reps=2, insert_barriers=True)\n",
    "ev_op_H_2f = EvolvedOperatorAnsatz(ops_H, reps=2, insert_barriers=True)\n",
    "\n",
    "ev_op_Hp15_3f = EvolvedOperatorAnsatz(ops_Hp15, reps=3, insert_barriers=True)\n",
    "ev_op_Hp20_3f = EvolvedOperatorAnsatz(ops_Hp20, reps=3, insert_barriers=True)\n",
    "ev_op_H_3f = EvolvedOperatorAnsatz(ops_H, reps=3, insert_barriers=True)\n",
    "\n",
    "ev_op_Hp15_4f = EvolvedOperatorAnsatz(ops_Hp15, reps=4, insert_barriers=True)\n",
    "ev_op_Hp20_4f = EvolvedOperatorAnsatz(ops_Hp20, reps=4, insert_barriers=True)\n",
    "ev_op_H_4f = EvolvedOperatorAnsatz(ops_H, reps=4, insert_barriers=True)\n",
    "\n",
    "ansatz_list = [ev_op_Hp15, ev_op_Hp20, ev_op_H, \n",
    "               ev_op_Hp15_2f, ev_op_Hp20_2f, ev_op_H_2f,\n",
    "               ev_op_Hp15_3f, ev_op_Hp20_3f, ev_op_H_3f,\n",
    "               ev_op_Hp15_4f, ev_op_Hp20_4f, ev_op_H_4f]\n",
    "\n",
    "ansatz_names = ['ev_op_Hp15', 'ev_op_Hp20', 'ev_op_H', \n",
    "               'ev_op_Hp15_2f','ev_op_Hp20_2f','ev_op_H_2f',\n",
    "               'ev_op_Hp15_3f','ev_op_Hp20_3f','ev_op_H_3f',\n",
    "               'ev_op_Hp15_4f','ev_op_Hp20_4f','ev_op_H_4f']\n",
    "\n",
    "print(f'number of params: {[ansatz_list[i].num_parameters for i in range(len(ansatz_list))]}')"
   ]
  },
  {
   "cell_type": "code",
   "execution_count": 8,
   "id": "26fcf231",
   "metadata": {},
   "outputs": [
    {
     "name": "stdout",
     "output_type": "stream",
     "text": [
      "('XIIIIIIYX', 0.3536)\n",
      "('IIIIXIYZY', 0.3536)\n",
      "('IIIIXIXZX', -0.3536)\n",
      "('IXIIIIXZY', -0.3536)\n",
      "('IXIIIIYZX', -0.3536)\n",
      "('IIIIIXYYI', -0.3536)\n",
      "('IIIIIXXXI', 0.3536)\n",
      "('IIXIIIXYI', 0.3536)\n",
      "('IIIXIIIYY', -0.3536)\n",
      "('IIIXIIIXX', 0.3536)\n",
      "('IIXIIIYXI', 0.3536)\n",
      "('IIIIIZIII', -0.5)\n",
      "('IIIIZIIII', -0.5)\n",
      "('IIIZIIIII', -0.5)\n",
      "('IIZIIIIII', -0.5)\n",
      "('IZIIIIIII', -0.5)\n",
      "('ZIIIIIIII', -0.5)\n",
      "('IIIIIIIIZ', -0.75)\n",
      "('IIIIIIIZI', -0.75)\n",
      "('IIIIIIZII', -0.75)\n"
     ]
    }
   ],
   "source": [
    "print(*list(zip(ops20, vals20)), sep = '\\n')"
   ]
  },
  {
   "cell_type": "code",
   "execution_count": 9,
   "id": "8184c89a",
   "metadata": {},
   "outputs": [
    {
     "name": "stdout",
     "output_type": "stream",
     "text": [
      "('IIIIIXYYI', -0.3536)\n",
      "('IIIIIXXXI', 0.3536)\n",
      "('IIXIIIXYI', 0.3536)\n",
      "('IIIXIIIYY', -0.3536)\n",
      "('IIIXIIIXX', 0.3536)\n",
      "('IIXIIIYXI', 0.3536)\n",
      "('IIIIIZIII', -0.5)\n",
      "('IIIIZIIII', -0.5)\n",
      "('IIIZIIIII', -0.5)\n",
      "('IIZIIIIII', -0.5)\n",
      "('IZIIIIIII', -0.5)\n",
      "('ZIIIIIIII', -0.5)\n",
      "('IIIIIIIIZ', -0.75)\n",
      "('IIIIIIIZI', -0.75)\n",
      "('IIIIIIZII', -0.75)\n"
     ]
    }
   ],
   "source": [
    "print(*list(zip(ops15, vals15)), sep = '\\n')"
   ]
  },
  {
   "cell_type": "markdown",
   "id": "2ba3fb48",
   "metadata": {},
   "source": [
    "# VQE"
   ]
  },
  {
   "cell_type": "code",
   "execution_count": 7,
   "id": "96a65ec4",
   "metadata": {},
   "outputs": [],
   "source": [
    "seed = 170\n",
    "iterations = 2000\n",
    "algorithm_globals.random_seed = seed\n",
    "\n",
    "#estimator\n",
    "noiseless_estimator = AerEstimator(\n",
    "    run_options={\"seed\": seed, \"shots\": 1024},\n",
    "    transpile_options={\"seed_transpiler\": seed},\n",
    ")\n",
    "#storing values\n",
    "counts = []\n",
    "values = []\n",
    "def store_intermediate_result(eval_count, parameters, mean, std):\n",
    "    counts.append(eval_count)\n",
    "    values.append(mean)\n",
    "    \n",
    "def run_qve_w_specified_optimizer(iterations, optimizer, ansatz):\n",
    "    opt = optimizer(maxiter = iterations)\n",
    "    vqe = VQE(noiseless_estimator, ansatz, optimizer=opt, callback=store_intermediate_result)\n",
    "    result = vqe.compute_minimum_eigenvalue(operator=H4q).eigenvalue.real\n",
    "    print(f\"VQE result: {result:.6f}\")\n",
    "    return result"
   ]
  },
  {
   "cell_type": "markdown",
   "id": "2d64a7a1",
   "metadata": {},
   "source": [
    "# COBYLA\n",
    "\n",
    "At step 6, with ev_op_Hp15_3f\n",
    "VQE result: 0.397219\n",
    "Length of this optimization 531, time taken = 73.975 "
   ]
  },
  {
   "cell_type": "code",
   "execution_count": 11,
   "id": "b08df4a8",
   "metadata": {},
   "outputs": [
    {
     "name": "stdout",
     "output_type": "stream",
     "text": [
      "At step 0, with ev_op_Hp15\n",
      "VQE result: 2.345350\n",
      "Length of this optimization 200, time taken = 22.056 \n",
      "\n",
      "At step 1, with ev_op_Hp20\n",
      "VQE result: 0.462793\n",
      "Length of this optimization 295, time taken = 54.336 \n",
      "\n",
      "At step 2, with ev_op_H\n",
      "VQE result: 2.690010\n",
      "Length of this optimization 319, time taken = 49.951 \n",
      "\n",
      "At step 3, with ev_op_Hp15_2f\n",
      "VQE result: 0.554531\n",
      "Length of this optimization 351, time taken = 42.255 \n",
      "\n",
      "At step 4, with ev_op_Hp20_2f\n",
      "VQE result: 0.408860\n",
      "Length of this optimization 522, time taken = 102.828 \n",
      "\n",
      "At step 5, with ev_op_H_2f\n",
      "VQE result: 0.648100\n",
      "Length of this optimization 805, time taken = 192.001 \n",
      "\n",
      "At step 6, with ev_op_Hp15_3f\n",
      "VQE result: 0.397219\n",
      "Length of this optimization 531, time taken = 84.777 \n",
      "\n",
      "At step 7, with ev_op_Hp20_3f\n",
      "VQE result: 2.340578\n",
      "Length of this optimization 972, time taken = 264.111 \n",
      "\n",
      "At step 8, with ev_op_H_3f\n",
      "VQE result: 3.733768\n",
      "Length of this optimization 899, time taken = 305.177 \n",
      "\n",
      "At step 9, with ev_op_Hp15_4f\n",
      "VQE result: 0.576417\n",
      "Length of this optimization 715, time taken = 151.42 \n",
      "\n",
      "At step 10, with ev_op_Hp20_4f\n",
      "VQE result: 3.242791\n",
      "Length of this optimization 1187, time taken = 431.6 \n",
      "\n",
      "At step 11, with ev_op_H_4f\n",
      "VQE result: 3.341559\n",
      "Length of this optimization 1205, time taken = 554.932 \n",
      "\n"
     ]
    }
   ],
   "source": [
    "r_cobyla=[]\n",
    "for i in range(len(ansatz_list)):\n",
    "    print(f'At step {i}, with {ansatz_names[i]}')\n",
    "    counts = []\n",
    "    values = []\n",
    "    t0 = time.time()\n",
    "    result = run_qve_w_specified_optimizer(iterations, COBYLA, ansatz_list[i])\n",
    "    t1 = time.time()\n",
    "    print(f'Length of this optimization {len(values)}, time taken = {np.round(t1-t0,3)} \\n')\n",
    "    counts_a = counts\n",
    "    values_a = values \n",
    "    r_cobyla.append(pd.DataFrame({f'{ansatz_names[i]}': values_a}))\n",
    "    "
   ]
  },
  {
   "cell_type": "code",
   "execution_count": 12,
   "id": "c6d10b84",
   "metadata": {},
   "outputs": [],
   "source": [
    "df1 = pd.concat([r_cobyla[i] for i in range(len(r_cobyla))], axis = 1)\n",
    "df1.to_csv(f'L2_l{gg}_op_ev_cobyla.csv')"
   ]
  },
  {
   "cell_type": "markdown",
   "id": "f30cdbed",
   "metadata": {},
   "source": [
    "# SPSA\n",
    "\n",
    "At step 1, with ev_op_Hp20\n",
    "VQE result: 0.124915\n",
    "Length of this optimization 3551, time taken = 348.957\n",
    "\n",
    "At step 1, with ev_op_Hp20\n",
    "VQE result: 0.164071\n",
    "Length of this optimization 4051, time taken = 415.244 "
   ]
  },
  {
   "cell_type": "code",
   "execution_count": 13,
   "id": "16a456d4",
   "metadata": {},
   "outputs": [
    {
     "name": "stdout",
     "output_type": "stream",
     "text": [
      "At step 0, with ev_op_Hp15\n",
      "VQE result: 0.472914\n",
      "Length of this optimization 4051, time taken = 262.144 \n",
      "\n",
      "At step 1, with ev_op_Hp20\n",
      "VQE result: 0.164071\n",
      "Length of this optimization 4051, time taken = 415.244 \n",
      "\n",
      "At step 2, with ev_op_H\n",
      "VQE result: 0.678066\n",
      "Length of this optimization 4051, time taken = 465.439 \n",
      "\n",
      "At step 3, with ev_op_Hp15_2f\n",
      "VQE result: 0.444836\n",
      "Length of this optimization 4051, time taken = 363.858 \n",
      "\n",
      "At step 4, with ev_op_Hp20_2f\n",
      "VQE result: 0.132800\n",
      "Length of this optimization 4051, time taken = 601.959 \n",
      "\n",
      "At step 5, with ev_op_H_2f\n",
      "VQE result: 1.291555\n",
      "Length of this optimization 4051, time taken = 708.219 \n",
      "\n",
      "At step 6, with ev_op_Hp15_3f\n",
      "VQE result: 0.500908\n",
      "Length of this optimization 4051, time taken = 470.007 \n",
      "\n",
      "At step 7, with ev_op_Hp20_3f\n",
      "VQE result: 0.443965\n",
      "Length of this optimization 4051, time taken = 780.585 \n",
      "\n",
      "At step 8, with ev_op_H_3f\n",
      "VQE result: 2.003623\n",
      "Length of this optimization 4051, time taken = 923.514 \n",
      "\n",
      "At step 9, with ev_op_Hp15_4f\n",
      "VQE result: 0.559175\n",
      "Length of this optimization 4051, time taken = 569.766 \n",
      "\n",
      "At step 10, with ev_op_Hp20_4f\n",
      "VQE result: 0.475112\n",
      "Length of this optimization 4051, time taken = 952.845 \n",
      "\n",
      "At step 11, with ev_op_H_4f\n",
      "VQE result: 3.081626\n",
      "Length of this optimization 4051, time taken = 1142.634 \n",
      "\n"
     ]
    }
   ],
   "source": [
    "r_spsa=[]\n",
    "for i in range(len(ansatz_list)):\n",
    "    print(f'At step {i}, with {ansatz_names[i]}')\n",
    "    counts = []\n",
    "    values = []\n",
    "    t0 = time.time()\n",
    "    result = run_qve_w_specified_optimizer(iterations, SPSA, ansatz_list[i])\n",
    "    t1 = time.time()\n",
    "    print(f'Length of this optimization {len(values)}, time taken = {np.round(t1-t0,3)} \\n')\n",
    "    counts_a = counts\n",
    "    values_a = values \n",
    "    r_spsa.append(pd.DataFrame({f'{ansatz_names[i]}': values_a}))"
   ]
  },
  {
   "cell_type": "code",
   "execution_count": 14,
   "id": "b1d122d2",
   "metadata": {},
   "outputs": [],
   "source": [
    "df2 = pd.concat([r_spsa[i] for i in range(len(r_spsa))], axis = 1)\n",
    "df2.to_csv(f'L2_l{gg}_op_ev_spsa.csv')"
   ]
  },
  {
   "cell_type": "markdown",
   "id": "de85bdb0",
   "metadata": {},
   "source": [
    "## Retrain best ansatz\n",
    "\n",
    "At step 4, with ev_op_Hp20_2f\n",
    "VQE result: 0.132800\n",
    "Length of this optimization 4051, time taken = 601.959 \n",
    "\n",
    "At step 1, with ev_op_Hp20\n",
    "VQE result: 0.124915\n",
    "Length of this optimization 3551, time taken = 348.957\n"
   ]
  },
  {
   "cell_type": "code",
   "execution_count": 10,
   "id": "14c87a68",
   "metadata": {},
   "outputs": [
    {
     "name": "stdout",
     "output_type": "stream",
     "text": [
      "VQE result: 0.207323\n",
      "Length of this optimization 5051, time taken = 957.077 \n",
      "\n"
     ]
    }
   ],
   "source": [
    "#Increasing the number of iters worsens the result\n",
    "iterations = 2500\n",
    "counts = []\n",
    "values = []\n",
    "t0 = time.time()\n",
    "result = run_qve_w_specified_optimizer(iterations, SPSA, ev_op_Hp20_2f)\n",
    "t1 = time.time()\n",
    "print(f'Length of this optimization {len(values)}, time taken = {np.round(t1-t0,3)} \\n')\n",
    "counts_a = counts\n",
    "values_a = values"
   ]
  },
  {
   "cell_type": "code",
   "execution_count": 11,
   "id": "60062f14",
   "metadata": {},
   "outputs": [
    {
     "name": "stdout",
     "output_type": "stream",
     "text": [
      "VQE result: 0.171218\n",
      "Length of this optimization 3551, time taken = 632.164 \n",
      "\n"
     ]
    }
   ],
   "source": [
    "iterations = 1750\n",
    "counts = []\n",
    "values = []\n",
    "t0 = time.time()\n",
    "result = run_qve_w_specified_optimizer(iterations, SPSA, ev_op_Hp20_2f)\n",
    "t1 = time.time()\n",
    "print(f'Length of this optimization {len(values)}, time taken = {np.round(t1-t0,3)} \\n')\n",
    "counts_a = counts\n",
    "values_a = values"
   ]
  },
  {
   "cell_type": "code",
   "execution_count": 9,
   "id": "6fec276b",
   "metadata": {},
   "outputs": [
    {
     "name": "stdout",
     "output_type": "stream",
     "text": [
      "VQE result: 0.186749\n",
      "Length of this optimization 3551, time taken = 335.473 \n",
      "\n"
     ]
    }
   ],
   "source": [
    "iterations = 1750\n",
    "counts = []\n",
    "values = []\n",
    "t0 = time.time()\n",
    "result = run_qve_w_specified_optimizer(iterations, SPSA, ev_op_Hp20_2f)\n",
    "t1 = time.time()\n",
    "print(f'Length of this optimization {len(values)}, time taken = {np.round(t1-t0,3)} \\n')\n",
    "counts_b = counts\n",
    "values_b = values"
   ]
  },
  {
   "cell_type": "code",
   "execution_count": 12,
   "id": "7da21d2d",
   "metadata": {},
   "outputs": [
    {
     "name": "stdout",
     "output_type": "stream",
     "text": [
      "VQE result: 2.122449\n",
      "Length of this optimization 3051, time taken = 400.651 \n",
      "\n"
     ]
    }
   ],
   "source": [
    "iterations = 1500\n",
    "counts = []\n",
    "values = []\n",
    "t0 = time.time()\n",
    "result = run_qve_w_specified_optimizer(iterations, SPSA, ev_op_Hp20)\n",
    "t1 = time.time()\n",
    "print(f'Length of this optimization {len(values)}, time taken = {np.round(t1-t0,3)} \\n')\n",
    "counts_a = counts\n",
    "values_a = values"
   ]
  },
  {
   "cell_type": "code",
   "execution_count": 8,
   "id": "ffd2b437",
   "metadata": {},
   "outputs": [
    {
     "name": "stdout",
     "output_type": "stream",
     "text": [
      "VQE result: 0.132078\n",
      "Length of this optimization 3551, time taken = 339.94 \n",
      "\n"
     ]
    }
   ],
   "source": [
    "iterations = 1750\n",
    "counts = []\n",
    "values = []\n",
    "t0 = time.time()\n",
    "result = run_qve_w_specified_optimizer(iterations, SPSA, ev_op_Hp20)\n",
    "t1 = time.time()\n",
    "print(f'Length of this optimization {len(values)}, time taken = {np.round(t1-t0,3)} \\n')\n",
    "counts_a = counts\n",
    "values_a = values"
   ]
  },
  {
   "cell_type": "code",
   "execution_count": 9,
   "id": "d341d425",
   "metadata": {},
   "outputs": [
    {
     "data": {
      "text/html": [
       "<div>\n",
       "<style scoped>\n",
       "    .dataframe tbody tr th:only-of-type {\n",
       "        vertical-align: middle;\n",
       "    }\n",
       "\n",
       "    .dataframe tbody tr th {\n",
       "        vertical-align: top;\n",
       "    }\n",
       "\n",
       "    .dataframe thead th {\n",
       "        text-align: right;\n",
       "    }\n",
       "</style>\n",
       "<table border=\"1\" class=\"dataframe\">\n",
       "  <thead>\n",
       "    <tr style=\"text-align: right;\">\n",
       "      <th></th>\n",
       "      <th>ev_op_Hp20</th>\n",
       "    </tr>\n",
       "  </thead>\n",
       "  <tbody>\n",
       "    <tr>\n",
       "      <th>0</th>\n",
       "      <td>5.744443</td>\n",
       "    </tr>\n",
       "    <tr>\n",
       "      <th>1</th>\n",
       "      <td>6.533343</td>\n",
       "    </tr>\n",
       "    <tr>\n",
       "      <th>2</th>\n",
       "      <td>5.869314</td>\n",
       "    </tr>\n",
       "    <tr>\n",
       "      <th>3</th>\n",
       "      <td>6.252109</td>\n",
       "    </tr>\n",
       "    <tr>\n",
       "      <th>4</th>\n",
       "      <td>5.631245</td>\n",
       "    </tr>\n",
       "    <tr>\n",
       "      <th>...</th>\n",
       "      <td>...</td>\n",
       "    </tr>\n",
       "    <tr>\n",
       "      <th>3546</th>\n",
       "      <td>0.252431</td>\n",
       "    </tr>\n",
       "    <tr>\n",
       "      <th>3547</th>\n",
       "      <td>0.184026</td>\n",
       "    </tr>\n",
       "    <tr>\n",
       "      <th>3548</th>\n",
       "      <td>0.779484</td>\n",
       "    </tr>\n",
       "    <tr>\n",
       "      <th>3549</th>\n",
       "      <td>0.699598</td>\n",
       "    </tr>\n",
       "    <tr>\n",
       "      <th>3550</th>\n",
       "      <td>0.132078</td>\n",
       "    </tr>\n",
       "  </tbody>\n",
       "</table>\n",
       "<p>3551 rows × 1 columns</p>\n",
       "</div>"
      ],
      "text/plain": [
       "      ev_op_Hp20\n",
       "0       5.744443\n",
       "1       6.533343\n",
       "2       5.869314\n",
       "3       6.252109\n",
       "4       5.631245\n",
       "...          ...\n",
       "3546    0.252431\n",
       "3547    0.184026\n",
       "3548    0.779484\n",
       "3549    0.699598\n",
       "3550    0.132078\n",
       "\n",
       "[3551 rows x 1 columns]"
      ]
     },
     "execution_count": 9,
     "metadata": {},
     "output_type": "execute_result"
    }
   ],
   "source": [
    "df = pd.DataFrame({'ev_op_Hp20': values_a})\n",
    "df.to_csv(f'results/L2_l{gg}_op_ev_spsa_best.csv')\n",
    "df"
   ]
  },
  {
   "cell_type": "markdown",
   "id": "8a30e066",
   "metadata": {},
   "source": [
    "# SLSQP"
   ]
  },
  {
   "cell_type": "code",
   "execution_count": 15,
   "id": "a1b86d4b",
   "metadata": {},
   "outputs": [
    {
     "name": "stdout",
     "output_type": "stream",
     "text": [
      "At step 0, with ev_op_Hp15\n",
      "VQE result: 6.427230\n",
      "Length of this optimization 16, time taken = 2.707 \n",
      "\n",
      "At step 1, with ev_op_Hp20\n",
      "VQE result: 5.730374\n",
      "Length of this optimization 21, time taken = 3.672 \n",
      "\n",
      "At step 2, with ev_op_H\n",
      "VQE result: 6.422230\n",
      "Length of this optimization 25, time taken = 4.368 \n",
      "\n",
      "At step 3, with ev_op_Hp15_2f\n",
      "VQE result: 5.111638\n",
      "Length of this optimization 31, time taken = 4.023 \n",
      "\n",
      "At step 4, with ev_op_Hp20_2f\n",
      "VQE result: 5.552253\n",
      "Length of this optimization 41, time taken = 8.986 \n",
      "\n",
      "At step 5, with ev_op_H_2f\n",
      "VQE result: 5.934838\n",
      "Length of this optimization 49, time taken = 17.323 \n",
      "\n",
      "At step 6, with ev_op_Hp15_3f\n",
      "VQE result: 4.515321\n",
      "Length of this optimization 46, time taken = 10.181 \n",
      "\n",
      "At step 7, with ev_op_Hp20_3f\n",
      "VQE result: 6.339231\n",
      "Length of this optimization 61, time taken = 17.801 \n",
      "\n",
      "At step 8, with ev_op_H_3f\n",
      "VQE result: 5.823893\n",
      "Length of this optimization 73, time taken = 25.654 \n",
      "\n",
      "At step 9, with ev_op_Hp15_4f\n",
      "VQE result: 4.803526\n",
      "Length of this optimization 61, time taken = 13.212 \n",
      "\n",
      "At step 10, with ev_op_Hp20_4f\n",
      "VQE result: 6.081087\n",
      "Length of this optimization 81, time taken = 28.425 \n",
      "\n",
      "At step 11, with ev_op_H_4f\n",
      "VQE result: 6.684268\n",
      "Length of this optimization 97, time taken = 37.205 \n",
      "\n"
     ]
    }
   ],
   "source": [
    "r_slsqp=[]\n",
    "for i in range(len(ansatz_list)):\n",
    "    print(f'At step {i}, with {ansatz_names[i]}')\n",
    "    counts = []\n",
    "    values = []\n",
    "    t0 = time.time()\n",
    "    result = run_qve_w_specified_optimizer(iterations, SLSQP, ansatz_list[i])\n",
    "    t1 = time.time()\n",
    "    print(f'Length of this optimization {len(values)}, time taken = {np.round(t1-t0,3)} \\n')\n",
    "    counts_a = counts\n",
    "    values_a = values \n",
    "    r_slsqp.append(pd.DataFrame({f'{ansatz_names[i]}': values_a}))"
   ]
  },
  {
   "cell_type": "code",
   "execution_count": 16,
   "id": "3ed61a15",
   "metadata": {},
   "outputs": [],
   "source": [
    "df3 = pd.concat([r_slsqp[i] for i in range(len(r_slsqp))], axis = 1)\n",
    "df3.to_csv(f'L2_l{gg}_op_ev_slsqp.csv')"
   ]
  },
  {
   "cell_type": "code",
   "execution_count": null,
   "id": "9bb4b07b",
   "metadata": {},
   "outputs": [],
   "source": []
  }
 ],
 "metadata": {
  "kernelspec": {
   "display_name": "Python 3 (ipykernel)",
   "language": "python",
   "name": "python3"
  },
  "language_info": {
   "codemirror_mode": {
    "name": "ipython",
    "version": 3
   },
   "file_extension": ".py",
   "mimetype": "text/x-python",
   "name": "python",
   "nbconvert_exporter": "python",
   "pygments_lexer": "ipython3",
   "version": "3.9.12"
  }
 },
 "nbformat": 4,
 "nbformat_minor": 5
}
