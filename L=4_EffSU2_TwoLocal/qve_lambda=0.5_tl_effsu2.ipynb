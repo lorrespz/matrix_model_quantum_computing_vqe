{
 "cells": [
  {
   "cell_type": "markdown",
   "id": "cf05ff5e",
   "metadata": {},
   "source": [
    "# Qiskit QVE - SU(2) Matrix Model [Lambda = 4]"
   ]
  },
  {
   "cell_type": "code",
   "execution_count": 1,
   "id": "c314136e",
   "metadata": {},
   "outputs": [],
   "source": [
    "import numpy as np\n",
    "import pylab\n",
    "import matplotlib.pyplot as plt\n",
    "from qiskit.circuit.library import TwoLocal, EfficientSU2\n",
    "\n",
    "import sys\n",
    "sys.path.append('../../utility')\n",
    "from vqe_run import *\n",
    "from qc_ansatze import *"
   ]
  },
  {
   "cell_type": "markdown",
   "id": "0349c136",
   "metadata": {},
   "source": [
    "# Convert the Hamiltonian to strings of Pauli ops"
   ]
  },
  {
   "cell_type": "code",
   "execution_count": 2,
   "id": "406ee52b",
   "metadata": {},
   "outputs": [],
   "source": [
    "# Load the H file already created using qiskit 0.28 from MBP 2015\n",
    "file = open(\"../../utility/pauliH_L4_g0.5.txt\", \"r\")\n",
    "content = file.read()\n",
    "#print(content)"
   ]
  },
  {
   "cell_type": "code",
   "execution_count": 3,
   "id": "653967bf",
   "metadata": {},
   "outputs": [],
   "source": [
    "data = content.split(',\\n')\n",
    "data[0] = data[0].split('\\n')[1]\n",
    "data[-1] = data[-1].split('\\n')[0]\n",
    "\n",
    "data_coeff = []\n",
    "data_str = []\n",
    "for i in range(len(data)):\n",
    "    data_coeff.append(float(data[i].split('*')[0]))\n",
    "    data_str.append(data[i].split('*')[1].split(' ')[1])\n",
    "    \n",
    "Hpauli = list(zip(data_str,data_coeff))\n",
    "#Hpauli"
   ]
  },
  {
   "cell_type": "code",
   "execution_count": 4,
   "id": "c18472dc",
   "metadata": {},
   "outputs": [
    {
     "name": "stdout",
     "output_type": "stream",
     "text": [
      "Exact Result of qubit hamiltonian: [3.29894363 4.4638045  4.4638045  4.4638045 ]\n"
     ]
    },
    {
     "data": {
      "text/plain": [
       "3.29894"
      ]
     },
     "execution_count": 4,
     "metadata": {},
     "output_type": "execute_result"
    }
   ],
   "source": [
    "from qiskit.quantum_info import SparsePauliOp\n",
    "from qiskit_algorithms import NumPyEigensolver\n",
    "H4q = SparsePauliOp.from_list(Hpauli)\n",
    "\n",
    "solver = NumPyEigensolver(k=4)\n",
    "exact_solution = solver.compute_eigenvalues(H4q)\n",
    "print(\"Exact Result of qubit hamiltonian:\", np.real(exact_solution.eigenvalues))\n",
    "E_exact = np.round(np.real(exact_solution.eigenvalues)[0],5)\n",
    "E_exact"
   ]
  },
  {
   "cell_type": "markdown",
   "id": "37bb9794",
   "metadata": {},
   "source": [
    "# Circuit ansatze"
   ]
  },
  {
   "cell_type": "code",
   "execution_count": 5,
   "id": "8ac9ba23",
   "metadata": {},
   "outputs": [],
   "source": [
    "#CIRCUIT ANSATZ\n",
    "from qiskit.circuit.library import TwoLocal, EfficientSU2"
   ]
  },
  {
   "cell_type": "code",
   "execution_count": 6,
   "id": "85050d70-0aa2-4dd1-b14e-44d3a448bc29",
   "metadata": {},
   "outputs": [
    {
     "name": "stdout",
     "output_type": "stream",
     "text": [
      "Circuit ansatz with 36 parameters\n",
      "Circuit ansatz with 36 parameters\n",
      "Circuit ansatz with 60 parameters\n",
      "Circuit ansatz with 36 parameters\n",
      "Circuit ansatz with 90 parameters\n",
      "Circuit ansatz with 90 parameters\n",
      "Circuit ansatz with 114 parameters\n",
      "Circuit ansatz with 90 parameters\n"
     ]
    }
   ],
   "source": [
    "reps=1\n",
    "ansatz_0a = TL_ansatz(H4q.num_qubits, 'ry', 'crx', \"circular\", reps)\n",
    "ansatz_0b = TL_ansatz(H4q.num_qubits, 'rz', 'crx', 'circular', reps)\n",
    "ansatz_0c = TL_ansatz(H4q.num_qubits, ['ry','rz'], 'crx', 'circular', reps)\n",
    "ansatz_0d = TL_ansatz(H4q.num_qubits,['ry','y'], 'crx', 'circular', reps)\n",
    "\n",
    "ansatz_1a =  TL_ansatz(H4q.num_qubits, 'ry', 'crx', \"full\", reps)\n",
    "ansatz_1b =  TL_ansatz(H4q.num_qubits, 'rz', 'crx', \"full\", reps)\n",
    "ansatz_1c =  TL_ansatz(H4q.num_qubits, ['ry','rz'], 'crx', \"full\", reps)\n",
    "ansatz_1d =  TL_ansatz(H4q.num_qubits, ['ry','y'], 'crx', \"full\", reps)"
   ]
  },
  {
   "cell_type": "code",
   "execution_count": 7,
   "id": "cb4eeee4-10b4-4ccb-8a3b-effc5ca95d45",
   "metadata": {},
   "outputs": [
    {
     "name": "stdout",
     "output_type": "stream",
     "text": [
      "Circuit ansatz with 24 parameters\n",
      "Circuit ansatz with 24 parameters\n",
      "Circuit ansatz with 48 parameters\n",
      "Circuit ansatz with 24 parameters\n",
      "Circuit ansatz with 24 parameters\n",
      "Circuit ansatz with 24 parameters\n",
      "Circuit ansatz with 48 parameters\n",
      "Circuit ansatz with 24 parameters\n"
     ]
    }
   ],
   "source": [
    "reps=1\n",
    "ansatz_0a_su2 = ef_ansatz(H4q.num_qubits, 'ry',  \"circular\", reps)\n",
    "ansatz_0b_su2 = ef_ansatz(H4q.num_qubits, 'rz',  'circular', reps)\n",
    "ansatz_0c_su2 = ef_ansatz(H4q.num_qubits, ['ry','rz'], 'circular', reps)\n",
    "ansatz_0d_su2 = ef_ansatz(H4q.num_qubits,['ry','y'], 'circular', reps)\n",
    "\n",
    "ansatz_1a_su2 =  ef_ansatz(H4q.num_qubits, 'ry',  \"full\", reps)\n",
    "ansatz_1b_su2 =  ef_ansatz(H4q.num_qubits, 'rz',  \"full\", reps)\n",
    "ansatz_1c_su2 =  ef_ansatz(H4q.num_qubits, ['ry','rz'], \"full\", reps)\n",
    "ansatz_1d_su2 =  ef_ansatz(H4q.num_qubits, ['ry','y'],  \"full\", reps)"
   ]
  },
  {
   "cell_type": "markdown",
   "id": "46382675",
   "metadata": {},
   "source": [
    "# Qiskit QVE: Noiseless simulator\n",
    "\n",
    "https://qiskit.github.io/qiskit-aer/stubs/qiskit_aer.primitives.Estimator.html\n",
    "\n",
    "https://qiskit-community.github.io/qiskit-algorithms/tutorials/03_vqe_simulation_with_noise.html"
   ]
  },
  {
   "cell_type": "code",
   "execution_count": 8,
   "id": "966164ab",
   "metadata": {},
   "outputs": [],
   "source": [
    "#VQE ALGORITHMS\n",
    "from qiskit_algorithms import VQE\n",
    "from qiskit_algorithms.optimizers import SPSA\n",
    "from qiskit_algorithms.utils import algorithm_globals \n",
    "from qiskit_aer.primitives import Estimator as AerEstimator\n",
    "\n",
    "import warnings\n",
    "warnings.filterwarnings(\"ignore\")\n",
    "seed = 170\n",
    "iterations = 350\n",
    "algorithm_globals.random_seed = seed\n",
    "\n",
    "#estimator\n",
    "noiseless_estimator = AerEstimator(\n",
    "    run_options={\"seed\": seed, \"shots\": 1024},\n",
    "    transpile_options={\"seed_transpiler\": seed},\n",
    ")\n",
    "#storing values\n",
    "counts = []\n",
    "values = []\n",
    "def store_intermediate_result(eval_count, parameters, mean, std):\n",
    "    counts.append(eval_count)\n",
    "    values.append(mean)\n",
    "    \n",
    "def run_qve_w_specified_optimizer(optimizer, ansatz):\n",
    "    opt = optimizer(maxiter = iterations)\n",
    "    vqe = VQE(noiseless_estimator, ansatz, optimizer=opt, callback=store_intermediate_result)\n",
    "    result = vqe.compute_minimum_eigenvalue(operator=H4q).eigenvalue.real\n",
    "    print(f\"VQE result: {result:.5f}\")\n",
    "    return result"
   ]
  },
  {
   "cell_type": "markdown",
   "id": "324f0410-da5e-4d72-87a9-3ea039035b29",
   "metadata": {},
   "source": [
    "# COBYLA: EffSU2"
   ]
  },
  {
   "cell_type": "code",
   "execution_count": 9,
   "id": "0069c3ed-c619-4660-9ada-cb2fab6b01f1",
   "metadata": {},
   "outputs": [
    {
     "name": "stdout",
     "output_type": "stream",
     "text": [
      "VQE result: 4.18830\n"
     ]
    }
   ],
   "source": [
    "counts = []\n",
    "values = []\n",
    "result = run_qve_w_specified_optimizer(COBYLA, ansatz_0a_su2)\n",
    "counts_0a_c = counts\n",
    "values_0a_c = values"
   ]
  },
  {
   "cell_type": "code",
   "execution_count": 10,
   "id": "a708ced1-7fc1-4185-bb6e-ce4cfa73833a",
   "metadata": {},
   "outputs": [
    {
     "name": "stdout",
     "output_type": "stream",
     "text": [
      "VQE result: 3.44775\n"
     ]
    }
   ],
   "source": [
    "counts = []\n",
    "values = []\n",
    "result = run_qve_w_specified_optimizer(COBYLA, ansatz_0b_su2)\n",
    "counts_0b_c = counts\n",
    "values_0b_c = values"
   ]
  },
  {
   "cell_type": "code",
   "execution_count": 11,
   "id": "25370d0d-b9f7-471c-b615-96ea7d31d41f",
   "metadata": {},
   "outputs": [
    {
     "name": "stdout",
     "output_type": "stream",
     "text": [
      "VQE result: 7.59245\n"
     ]
    }
   ],
   "source": [
    "counts = []\n",
    "values = []\n",
    "result = run_qve_w_specified_optimizer(COBYLA, ansatz_0c_su2)\n",
    "counts_0c_c = counts\n",
    "values_0c_c = values"
   ]
  },
  {
   "cell_type": "code",
   "execution_count": 12,
   "id": "2de32f62-581d-4cd1-b8d7-5cd82589a43a",
   "metadata": {},
   "outputs": [
    {
     "name": "stdout",
     "output_type": "stream",
     "text": [
      "VQE result: 3.71764\n"
     ]
    }
   ],
   "source": [
    "counts = []\n",
    "values = []\n",
    "result = run_qve_w_specified_optimizer(COBYLA, ansatz_0d_su2)\n",
    "counts_0d_c = counts\n",
    "values_0d_c = values"
   ]
  },
  {
   "cell_type": "code",
   "execution_count": 13,
   "id": "067502a4-0a9a-4986-b8d3-ba8df7f87de4",
   "metadata": {},
   "outputs": [
    {
     "name": "stdout",
     "output_type": "stream",
     "text": [
      "VQE result: 3.94481\n"
     ]
    }
   ],
   "source": [
    "counts = []\n",
    "values = []\n",
    "result = run_qve_w_specified_optimizer(COBYLA, ansatz_1a_su2)\n",
    "counts_1a_c = counts\n",
    "values_1a_c = values"
   ]
  },
  {
   "cell_type": "code",
   "execution_count": 14,
   "id": "207ba8dc-7c3b-476c-a2e6-4b1bb647c4f3",
   "metadata": {},
   "outputs": [
    {
     "name": "stdout",
     "output_type": "stream",
     "text": [
      "VQE result: 3.44775\n"
     ]
    }
   ],
   "source": [
    "counts = []\n",
    "values = []\n",
    "result = run_qve_w_specified_optimizer(COBYLA, ansatz_1b_su2)\n",
    "counts_1b_c = counts\n",
    "values_1b_c = values"
   ]
  },
  {
   "cell_type": "code",
   "execution_count": 15,
   "id": "94d25c93-50c2-482b-9326-9464082216e7",
   "metadata": {},
   "outputs": [
    {
     "name": "stdout",
     "output_type": "stream",
     "text": [
      "VQE result: 3.90495\n"
     ]
    }
   ],
   "source": [
    "counts = []\n",
    "values = []\n",
    "result = run_qve_w_specified_optimizer(COBYLA, ansatz_1c_su2)\n",
    "counts_1c_c = counts\n",
    "values_1c_c = values"
   ]
  },
  {
   "cell_type": "code",
   "execution_count": 16,
   "id": "1914c86c-77e6-41c8-b06d-46d97f222d5f",
   "metadata": {},
   "outputs": [
    {
     "name": "stdout",
     "output_type": "stream",
     "text": [
      "VQE result: 3.58207\n"
     ]
    }
   ],
   "source": [
    "counts = []\n",
    "values = []\n",
    "result = run_qve_w_specified_optimizer(COBYLA, ansatz_1d_su2)\n",
    "counts_1d_c = counts\n",
    "values_1d_c = values"
   ]
  },
  {
   "cell_type": "code",
   "execution_count": 17,
   "id": "261becc2-6f50-47ef-a00d-c9a2ccc3d348",
   "metadata": {},
   "outputs": [
    {
     "data": {
      "text/html": [
       "<div>\n",
       "<style scoped>\n",
       "    .dataframe tbody tr th:only-of-type {\n",
       "        vertical-align: middle;\n",
       "    }\n",
       "\n",
       "    .dataframe tbody tr th {\n",
       "        vertical-align: top;\n",
       "    }\n",
       "\n",
       "    .dataframe thead th {\n",
       "        text-align: right;\n",
       "    }\n",
       "</style>\n",
       "<table border=\"1\" class=\"dataframe\">\n",
       "  <thead>\n",
       "    <tr style=\"text-align: right;\">\n",
       "      <th></th>\n",
       "      <th>values_0a_su2</th>\n",
       "      <th>values_0b_su2</th>\n",
       "      <th>values_0c_su2</th>\n",
       "      <th>values_0d_su2</th>\n",
       "      <th>values_1a_su2</th>\n",
       "      <th>values_1b_su2</th>\n",
       "      <th>values_1c_su2</th>\n",
       "      <th>values_1d_su2</th>\n",
       "    </tr>\n",
       "  </thead>\n",
       "  <tbody>\n",
       "    <tr>\n",
       "      <th>0</th>\n",
       "      <td>14.750779</td>\n",
       "      <td>3.44775</td>\n",
       "      <td>14.288538</td>\n",
       "      <td>10.591751</td>\n",
       "      <td>14.532137</td>\n",
       "      <td>3.44775</td>\n",
       "      <td>15.672286</td>\n",
       "      <td>13.186027</td>\n",
       "    </tr>\n",
       "    <tr>\n",
       "      <th>1</th>\n",
       "      <td>16.128914</td>\n",
       "      <td>3.44775</td>\n",
       "      <td>14.349223</td>\n",
       "      <td>10.448450</td>\n",
       "      <td>15.485126</td>\n",
       "      <td>3.44775</td>\n",
       "      <td>16.264204</td>\n",
       "      <td>12.772526</td>\n",
       "    </tr>\n",
       "    <tr>\n",
       "      <th>2</th>\n",
       "      <td>15.319050</td>\n",
       "      <td>3.44775</td>\n",
       "      <td>15.003267</td>\n",
       "      <td>11.076336</td>\n",
       "      <td>15.072777</td>\n",
       "      <td>3.44775</td>\n",
       "      <td>16.520391</td>\n",
       "      <td>12.153789</td>\n",
       "    </tr>\n",
       "    <tr>\n",
       "      <th>3</th>\n",
       "      <td>14.985677</td>\n",
       "      <td>3.44775</td>\n",
       "      <td>15.062032</td>\n",
       "      <td>10.653701</td>\n",
       "      <td>15.547858</td>\n",
       "      <td>3.44775</td>\n",
       "      <td>14.474095</td>\n",
       "      <td>12.159995</td>\n",
       "    </tr>\n",
       "    <tr>\n",
       "      <th>4</th>\n",
       "      <td>14.011502</td>\n",
       "      <td>3.44775</td>\n",
       "      <td>14.594043</td>\n",
       "      <td>11.476472</td>\n",
       "      <td>14.676739</td>\n",
       "      <td>3.44775</td>\n",
       "      <td>14.582644</td>\n",
       "      <td>11.182701</td>\n",
       "    </tr>\n",
       "    <tr>\n",
       "      <th>...</th>\n",
       "      <td>...</td>\n",
       "      <td>...</td>\n",
       "      <td>...</td>\n",
       "      <td>...</td>\n",
       "      <td>...</td>\n",
       "      <td>...</td>\n",
       "      <td>...</td>\n",
       "      <td>...</td>\n",
       "    </tr>\n",
       "    <tr>\n",
       "      <th>345</th>\n",
       "      <td>NaN</td>\n",
       "      <td>NaN</td>\n",
       "      <td>7.730394</td>\n",
       "      <td>NaN</td>\n",
       "      <td>3.944915</td>\n",
       "      <td>NaN</td>\n",
       "      <td>3.944368</td>\n",
       "      <td>NaN</td>\n",
       "    </tr>\n",
       "    <tr>\n",
       "      <th>346</th>\n",
       "      <td>NaN</td>\n",
       "      <td>NaN</td>\n",
       "      <td>7.947095</td>\n",
       "      <td>NaN</td>\n",
       "      <td>3.953746</td>\n",
       "      <td>NaN</td>\n",
       "      <td>3.991980</td>\n",
       "      <td>NaN</td>\n",
       "    </tr>\n",
       "    <tr>\n",
       "      <th>347</th>\n",
       "      <td>NaN</td>\n",
       "      <td>NaN</td>\n",
       "      <td>7.792615</td>\n",
       "      <td>NaN</td>\n",
       "      <td>3.961443</td>\n",
       "      <td>NaN</td>\n",
       "      <td>4.003661</td>\n",
       "      <td>NaN</td>\n",
       "    </tr>\n",
       "    <tr>\n",
       "      <th>348</th>\n",
       "      <td>NaN</td>\n",
       "      <td>NaN</td>\n",
       "      <td>7.760387</td>\n",
       "      <td>NaN</td>\n",
       "      <td>3.955588</td>\n",
       "      <td>NaN</td>\n",
       "      <td>4.079410</td>\n",
       "      <td>NaN</td>\n",
       "    </tr>\n",
       "    <tr>\n",
       "      <th>349</th>\n",
       "      <td>NaN</td>\n",
       "      <td>NaN</td>\n",
       "      <td>7.686078</td>\n",
       "      <td>NaN</td>\n",
       "      <td>3.952259</td>\n",
       "      <td>NaN</td>\n",
       "      <td>3.994382</td>\n",
       "      <td>NaN</td>\n",
       "    </tr>\n",
       "  </tbody>\n",
       "</table>\n",
       "<p>350 rows × 8 columns</p>\n",
       "</div>"
      ],
      "text/plain": [
       "     values_0a_su2  values_0b_su2  values_0c_su2  values_0d_su2  \\\n",
       "0        14.750779        3.44775      14.288538      10.591751   \n",
       "1        16.128914        3.44775      14.349223      10.448450   \n",
       "2        15.319050        3.44775      15.003267      11.076336   \n",
       "3        14.985677        3.44775      15.062032      10.653701   \n",
       "4        14.011502        3.44775      14.594043      11.476472   \n",
       "..             ...            ...            ...            ...   \n",
       "345            NaN            NaN       7.730394            NaN   \n",
       "346            NaN            NaN       7.947095            NaN   \n",
       "347            NaN            NaN       7.792615            NaN   \n",
       "348            NaN            NaN       7.760387            NaN   \n",
       "349            NaN            NaN       7.686078            NaN   \n",
       "\n",
       "     values_1a_su2  values_1b_su2  values_1c_su2  values_1d_su2  \n",
       "0        14.532137        3.44775      15.672286      13.186027  \n",
       "1        15.485126        3.44775      16.264204      12.772526  \n",
       "2        15.072777        3.44775      16.520391      12.153789  \n",
       "3        15.547858        3.44775      14.474095      12.159995  \n",
       "4        14.676739        3.44775      14.582644      11.182701  \n",
       "..             ...            ...            ...            ...  \n",
       "345       3.944915            NaN       3.944368            NaN  \n",
       "346       3.953746            NaN       3.991980            NaN  \n",
       "347       3.961443            NaN       4.003661            NaN  \n",
       "348       3.955588            NaN       4.079410            NaN  \n",
       "349       3.952259            NaN       3.994382            NaN  \n",
       "\n",
       "[350 rows x 8 columns]"
      ]
     },
     "execution_count": 17,
     "metadata": {},
     "output_type": "execute_result"
    }
   ],
   "source": [
    "df1 = pd.DataFrame({'values_0a_su2': values_0a_c})\n",
    "df2 = pd.DataFrame({'values_0b_su2': values_0b_c})\n",
    "df3 = pd.DataFrame({'values_0c_su2': values_0c_c})\n",
    "df4 = pd.DataFrame({'values_0d_su2': values_0d_c})\n",
    "df5 = pd.DataFrame({'values_1a_su2': values_1a_c})\n",
    "df6 = pd.DataFrame({'values_1b_su2': values_1b_c})\n",
    "df7 = pd.DataFrame({'values_1c_su2': values_1c_c})\n",
    "df8 = pd.DataFrame({'values_1d_su2': values_1d_c})\n",
    "qve_l2_tl_cobyla = pd.concat([df1, df2, df3, df4, df5, df6, df7,df8], axis = 1)\n",
    "qve_l2_tl_cobyla.to_csv('qve_l4_l=0.5_effsu2_cobyla.csv')\n",
    "qve_l2_tl_cobyla"
   ]
  },
  {
   "cell_type": "markdown",
   "id": "71e9c009-985d-45fa-a991-0b38a7400a01",
   "metadata": {},
   "source": [
    "# COBYLA: TwoLocal"
   ]
  },
  {
   "cell_type": "code",
   "execution_count": 18,
   "id": "b7a1825b-0cc3-4b48-ac6d-6604f60565bd",
   "metadata": {},
   "outputs": [
    {
     "name": "stdout",
     "output_type": "stream",
     "text": [
      "VQE result: 3.21510\n"
     ]
    }
   ],
   "source": [
    "counts = []\n",
    "values = []\n",
    "result = run_qve_w_specified_optimizer(COBYLA, ansatz_0a)\n",
    "counts_0a_c = counts\n",
    "values_0a_c = values"
   ]
  },
  {
   "cell_type": "code",
   "execution_count": 19,
   "id": "8cf77343-38ec-49b6-80b7-dbe7c6173826",
   "metadata": {},
   "outputs": [
    {
     "name": "stdout",
     "output_type": "stream",
     "text": [
      "VQE result: 3.44775\n"
     ]
    }
   ],
   "source": [
    "counts = []\n",
    "values = []\n",
    "result = run_qve_w_specified_optimizer(COBYLA, ansatz_0b)\n",
    "counts_0b_c = counts\n",
    "values_0b_c = values"
   ]
  },
  {
   "cell_type": "code",
   "execution_count": 20,
   "id": "70f3b1b9-1357-4e43-9d72-06ca141673f1",
   "metadata": {},
   "outputs": [
    {
     "name": "stdout",
     "output_type": "stream",
     "text": [
      "VQE result: 3.44960\n"
     ]
    }
   ],
   "source": [
    "counts = []\n",
    "values = []\n",
    "result = run_qve_w_specified_optimizer(COBYLA, ansatz_0c)\n",
    "counts_0c_c = counts\n",
    "values_0c_c = values"
   ]
  },
  {
   "cell_type": "code",
   "execution_count": 21,
   "id": "992a292c-abed-488a-9c57-ac27bb5c0d05",
   "metadata": {},
   "outputs": [
    {
     "name": "stdout",
     "output_type": "stream",
     "text": [
      "VQE result: 3.25823\n"
     ]
    }
   ],
   "source": [
    "counts = []\n",
    "values = []\n",
    "result = run_qve_w_specified_optimizer(COBYLA, ansatz_0d)\n",
    "counts_0d_c = counts\n",
    "values_0d_c = values"
   ]
  },
  {
   "cell_type": "code",
   "execution_count": 22,
   "id": "3a1863a6-bcba-46af-8915-68ff073ff394",
   "metadata": {},
   "outputs": [
    {
     "name": "stdout",
     "output_type": "stream",
     "text": [
      "VQE result: 3.50693\n"
     ]
    }
   ],
   "source": [
    "counts = []\n",
    "values = []\n",
    "result = run_qve_w_specified_optimizer(COBYLA, ansatz_1a)\n",
    "counts_1a_c = counts\n",
    "values_1a_c = values"
   ]
  },
  {
   "cell_type": "code",
   "execution_count": 23,
   "id": "1184a2fc-c0f2-4d83-a9f7-3d3c437d8e3f",
   "metadata": {},
   "outputs": [
    {
     "name": "stdout",
     "output_type": "stream",
     "text": [
      "VQE result: 3.44775\n"
     ]
    }
   ],
   "source": [
    "counts = []\n",
    "values = []\n",
    "result = run_qve_w_specified_optimizer(COBYLA, ansatz_1b)\n",
    "counts_1b_c = counts\n",
    "values_1b_c = values"
   ]
  },
  {
   "cell_type": "code",
   "execution_count": 24,
   "id": "e899b069-cb39-4494-bd2a-790022503a80",
   "metadata": {},
   "outputs": [
    {
     "name": "stdout",
     "output_type": "stream",
     "text": [
      "VQE result: 3.91300\n"
     ]
    }
   ],
   "source": [
    "counts = []\n",
    "values = []\n",
    "result = run_qve_w_specified_optimizer(COBYLA, ansatz_1c)\n",
    "counts_1c_c = counts\n",
    "values_1c_c = values"
   ]
  },
  {
   "cell_type": "code",
   "execution_count": 25,
   "id": "ccba3fbc-6e28-4016-8bc6-5e3f1a708edc",
   "metadata": {},
   "outputs": [
    {
     "name": "stdout",
     "output_type": "stream",
     "text": [
      "VQE result: 3.40591\n"
     ]
    }
   ],
   "source": [
    "counts = []\n",
    "values = []\n",
    "result = run_qve_w_specified_optimizer(COBYLA, ansatz_1d)\n",
    "counts_1d_c = counts\n",
    "values_1d_c = values"
   ]
  },
  {
   "cell_type": "code",
   "execution_count": 26,
   "id": "62b3a07a-b81d-40f3-90c9-089285df36ce",
   "metadata": {},
   "outputs": [
    {
     "data": {
      "text/html": [
       "<div>\n",
       "<style scoped>\n",
       "    .dataframe tbody tr th:only-of-type {\n",
       "        vertical-align: middle;\n",
       "    }\n",
       "\n",
       "    .dataframe tbody tr th {\n",
       "        vertical-align: top;\n",
       "    }\n",
       "\n",
       "    .dataframe thead th {\n",
       "        text-align: right;\n",
       "    }\n",
       "</style>\n",
       "<table border=\"1\" class=\"dataframe\">\n",
       "  <thead>\n",
       "    <tr style=\"text-align: right;\">\n",
       "      <th></th>\n",
       "      <th>values_0a</th>\n",
       "      <th>values_0b</th>\n",
       "      <th>values_0c</th>\n",
       "      <th>values_0d</th>\n",
       "      <th>values_1a</th>\n",
       "      <th>values_1b</th>\n",
       "      <th>values_1c</th>\n",
       "      <th>values_1d</th>\n",
       "    </tr>\n",
       "  </thead>\n",
       "  <tbody>\n",
       "    <tr>\n",
       "      <th>0</th>\n",
       "      <td>10.021694</td>\n",
       "      <td>3.44775</td>\n",
       "      <td>16.659002</td>\n",
       "      <td>19.751946</td>\n",
       "      <td>15.881292</td>\n",
       "      <td>3.44775</td>\n",
       "      <td>16.792266</td>\n",
       "      <td>17.279504</td>\n",
       "    </tr>\n",
       "    <tr>\n",
       "      <th>1</th>\n",
       "      <td>10.557408</td>\n",
       "      <td>3.44775</td>\n",
       "      <td>16.708001</td>\n",
       "      <td>19.702168</td>\n",
       "      <td>16.253295</td>\n",
       "      <td>3.44775</td>\n",
       "      <td>15.944199</td>\n",
       "      <td>17.653205</td>\n",
       "    </tr>\n",
       "    <tr>\n",
       "      <th>2</th>\n",
       "      <td>11.059516</td>\n",
       "      <td>3.44775</td>\n",
       "      <td>16.971964</td>\n",
       "      <td>18.702041</td>\n",
       "      <td>15.588436</td>\n",
       "      <td>3.44775</td>\n",
       "      <td>17.570025</td>\n",
       "      <td>17.173515</td>\n",
       "    </tr>\n",
       "    <tr>\n",
       "      <th>3</th>\n",
       "      <td>9.886148</td>\n",
       "      <td>3.44775</td>\n",
       "      <td>16.645237</td>\n",
       "      <td>18.456878</td>\n",
       "      <td>15.854681</td>\n",
       "      <td>3.44775</td>\n",
       "      <td>16.185493</td>\n",
       "      <td>16.570318</td>\n",
       "    </tr>\n",
       "    <tr>\n",
       "      <th>4</th>\n",
       "      <td>10.606916</td>\n",
       "      <td>3.44775</td>\n",
       "      <td>16.597715</td>\n",
       "      <td>18.291057</td>\n",
       "      <td>16.594315</td>\n",
       "      <td>3.44775</td>\n",
       "      <td>14.646973</td>\n",
       "      <td>17.797441</td>\n",
       "    </tr>\n",
       "    <tr>\n",
       "      <th>...</th>\n",
       "      <td>...</td>\n",
       "      <td>...</td>\n",
       "      <td>...</td>\n",
       "      <td>...</td>\n",
       "      <td>...</td>\n",
       "      <td>...</td>\n",
       "      <td>...</td>\n",
       "      <td>...</td>\n",
       "    </tr>\n",
       "    <tr>\n",
       "      <th>345</th>\n",
       "      <td>3.225786</td>\n",
       "      <td>NaN</td>\n",
       "      <td>3.651052</td>\n",
       "      <td>3.310005</td>\n",
       "      <td>3.682795</td>\n",
       "      <td>3.44775</td>\n",
       "      <td>4.312475</td>\n",
       "      <td>3.437016</td>\n",
       "    </tr>\n",
       "    <tr>\n",
       "      <th>346</th>\n",
       "      <td>3.234796</td>\n",
       "      <td>NaN</td>\n",
       "      <td>3.601176</td>\n",
       "      <td>3.326705</td>\n",
       "      <td>3.536259</td>\n",
       "      <td>3.44775</td>\n",
       "      <td>4.078619</td>\n",
       "      <td>3.525480</td>\n",
       "    </tr>\n",
       "    <tr>\n",
       "      <th>347</th>\n",
       "      <td>3.220041</td>\n",
       "      <td>NaN</td>\n",
       "      <td>3.497693</td>\n",
       "      <td>3.258231</td>\n",
       "      <td>3.614882</td>\n",
       "      <td>3.44775</td>\n",
       "      <td>4.055003</td>\n",
       "      <td>3.756026</td>\n",
       "    </tr>\n",
       "    <tr>\n",
       "      <th>348</th>\n",
       "      <td>3.218187</td>\n",
       "      <td>NaN</td>\n",
       "      <td>3.729361</td>\n",
       "      <td>3.285829</td>\n",
       "      <td>3.506931</td>\n",
       "      <td>3.44775</td>\n",
       "      <td>4.000628</td>\n",
       "      <td>3.474188</td>\n",
       "    </tr>\n",
       "    <tr>\n",
       "      <th>349</th>\n",
       "      <td>3.219736</td>\n",
       "      <td>NaN</td>\n",
       "      <td>3.606293</td>\n",
       "      <td>3.274784</td>\n",
       "      <td>3.533974</td>\n",
       "      <td>3.44775</td>\n",
       "      <td>4.352564</td>\n",
       "      <td>3.478027</td>\n",
       "    </tr>\n",
       "  </tbody>\n",
       "</table>\n",
       "<p>350 rows × 8 columns</p>\n",
       "</div>"
      ],
      "text/plain": [
       "     values_0a  values_0b  values_0c  values_0d  values_1a  values_1b  \\\n",
       "0    10.021694    3.44775  16.659002  19.751946  15.881292    3.44775   \n",
       "1    10.557408    3.44775  16.708001  19.702168  16.253295    3.44775   \n",
       "2    11.059516    3.44775  16.971964  18.702041  15.588436    3.44775   \n",
       "3     9.886148    3.44775  16.645237  18.456878  15.854681    3.44775   \n",
       "4    10.606916    3.44775  16.597715  18.291057  16.594315    3.44775   \n",
       "..         ...        ...        ...        ...        ...        ...   \n",
       "345   3.225786        NaN   3.651052   3.310005   3.682795    3.44775   \n",
       "346   3.234796        NaN   3.601176   3.326705   3.536259    3.44775   \n",
       "347   3.220041        NaN   3.497693   3.258231   3.614882    3.44775   \n",
       "348   3.218187        NaN   3.729361   3.285829   3.506931    3.44775   \n",
       "349   3.219736        NaN   3.606293   3.274784   3.533974    3.44775   \n",
       "\n",
       "     values_1c  values_1d  \n",
       "0    16.792266  17.279504  \n",
       "1    15.944199  17.653205  \n",
       "2    17.570025  17.173515  \n",
       "3    16.185493  16.570318  \n",
       "4    14.646973  17.797441  \n",
       "..         ...        ...  \n",
       "345   4.312475   3.437016  \n",
       "346   4.078619   3.525480  \n",
       "347   4.055003   3.756026  \n",
       "348   4.000628   3.474188  \n",
       "349   4.352564   3.478027  \n",
       "\n",
       "[350 rows x 8 columns]"
      ]
     },
     "execution_count": 26,
     "metadata": {},
     "output_type": "execute_result"
    }
   ],
   "source": [
    "df1 = pd.DataFrame({'values_0a': values_0a_c})\n",
    "df2 = pd.DataFrame({'values_0b': values_0b_c})\n",
    "df3 = pd.DataFrame({'values_0c': values_0c_c})\n",
    "df4 = pd.DataFrame({'values_0d': values_0d_c})\n",
    "df5 = pd.DataFrame({'values_1a': values_1a_c})\n",
    "df6 = pd.DataFrame({'values_1b': values_1b_c})\n",
    "df7 = pd.DataFrame({'values_1c': values_1c_c})\n",
    "df8 = pd.DataFrame({'values_1d': values_1d_c})\n",
    "qve_l2_tl_cobyla = pd.concat([df1, df2, df3, df4, df5, df6, df7,df8], axis = 1)\n",
    "qve_l2_tl_cobyla.to_csv('qve_l4_l=0.5_twolocal_cobyla.csv')\n",
    "qve_l2_tl_cobyla"
   ]
  },
  {
   "cell_type": "markdown",
   "id": "b10cf418-46a9-41df-9cdf-2c83b25d4627",
   "metadata": {},
   "source": [
    "# SPSA: EffSU2"
   ]
  },
  {
   "cell_type": "code",
   "execution_count": 27,
   "id": "ace71230-be9c-4f48-a974-527ce16669c8",
   "metadata": {},
   "outputs": [
    {
     "name": "stdout",
     "output_type": "stream",
     "text": [
      "VQE result: 3.61873\n"
     ]
    }
   ],
   "source": [
    "counts = []\n",
    "values = []\n",
    "result_spsa = run_qve_w_specified_optimizer(SPSA, ansatz_0a_su2)\n",
    "counts_0a = counts\n",
    "values_0a = values"
   ]
  },
  {
   "cell_type": "code",
   "execution_count": 28,
   "id": "3d77e90a-425e-4619-9bf6-9a8df257c03e",
   "metadata": {},
   "outputs": [
    {
     "name": "stdout",
     "output_type": "stream",
     "text": [
      "VQE result: 3.44775\n"
     ]
    }
   ],
   "source": [
    "counts = []\n",
    "values = []\n",
    "result_spsa = run_qve_w_specified_optimizer(SPSA, ansatz_0b_su2)\n",
    "counts_0b = counts\n",
    "values_0b = values"
   ]
  },
  {
   "cell_type": "code",
   "execution_count": 29,
   "id": "dbd7264d-f507-4603-b3ed-d807098a04e9",
   "metadata": {},
   "outputs": [
    {
     "name": "stdout",
     "output_type": "stream",
     "text": [
      "VQE result: 5.96494\n"
     ]
    }
   ],
   "source": [
    "counts = []\n",
    "values = []\n",
    "result_spsa = run_qve_w_specified_optimizer(SPSA, ansatz_0c_su2)\n",
    "counts_0c = counts\n",
    "values_0c = values"
   ]
  },
  {
   "cell_type": "code",
   "execution_count": 30,
   "id": "2edcb1bc-53c4-4cb4-b150-7043c86c96cf",
   "metadata": {},
   "outputs": [
    {
     "name": "stdout",
     "output_type": "stream",
     "text": [
      "VQE result: 3.66239\n"
     ]
    }
   ],
   "source": [
    "counts = []\n",
    "values = []\n",
    "result_spsa = run_qve_w_specified_optimizer(SPSA, ansatz_0d_su2)\n",
    "counts_0d = counts\n",
    "values_0d = values"
   ]
  },
  {
   "cell_type": "code",
   "execution_count": 31,
   "id": "d5d8a59b-46b6-45a4-a7b8-3c74eeb7e75f",
   "metadata": {},
   "outputs": [
    {
     "name": "stdout",
     "output_type": "stream",
     "text": [
      "VQE result: 3.40536\n"
     ]
    }
   ],
   "source": [
    "counts = []\n",
    "values = []\n",
    "result_spsa = run_qve_w_specified_optimizer(SPSA, ansatz_1a_su2)\n",
    "counts_1a = counts\n",
    "values_1a = values"
   ]
  },
  {
   "cell_type": "code",
   "execution_count": 32,
   "id": "696b35d0-d436-439d-852b-9802de05e723",
   "metadata": {},
   "outputs": [
    {
     "name": "stdout",
     "output_type": "stream",
     "text": [
      "VQE result: 3.44775\n"
     ]
    }
   ],
   "source": [
    "counts = []\n",
    "values = []\n",
    "result_spsa = run_qve_w_specified_optimizer(SPSA, ansatz_1b_su2)\n",
    "counts_1b = counts\n",
    "values_1b = values"
   ]
  },
  {
   "cell_type": "code",
   "execution_count": 33,
   "id": "16580139-5ade-47fe-b3b9-67bcb69b87ce",
   "metadata": {},
   "outputs": [
    {
     "name": "stdout",
     "output_type": "stream",
     "text": [
      "VQE result: 4.53325\n"
     ]
    }
   ],
   "source": [
    "counts = []\n",
    "values = []\n",
    "result_spsa = run_qve_w_specified_optimizer(SPSA, ansatz_1c_su2)\n",
    "counts_1c = counts\n",
    "values_1c = values"
   ]
  },
  {
   "cell_type": "code",
   "execution_count": 34,
   "id": "36a137a1-69d7-4f40-8b49-2e32614a70c3",
   "metadata": {},
   "outputs": [
    {
     "name": "stdout",
     "output_type": "stream",
     "text": [
      "VQE result: 3.55380\n"
     ]
    }
   ],
   "source": [
    "counts = []\n",
    "values = []\n",
    "result_spsa = run_qve_w_specified_optimizer(SPSA, ansatz_1d_su2)\n",
    "counts_1d = counts\n",
    "values_1d = values"
   ]
  },
  {
   "cell_type": "code",
   "execution_count": 35,
   "id": "84cd0b87-c5a8-4c7e-a55e-2a7f45268541",
   "metadata": {},
   "outputs": [
    {
     "data": {
      "text/html": [
       "<div>\n",
       "<style scoped>\n",
       "    .dataframe tbody tr th:only-of-type {\n",
       "        vertical-align: middle;\n",
       "    }\n",
       "\n",
       "    .dataframe tbody tr th {\n",
       "        vertical-align: top;\n",
       "    }\n",
       "\n",
       "    .dataframe thead th {\n",
       "        text-align: right;\n",
       "    }\n",
       "</style>\n",
       "<table border=\"1\" class=\"dataframe\">\n",
       "  <thead>\n",
       "    <tr style=\"text-align: right;\">\n",
       "      <th></th>\n",
       "      <th>values_0a_su2</th>\n",
       "      <th>values_0b_su2</th>\n",
       "      <th>values_0c_su2</th>\n",
       "      <th>values_0d_su2</th>\n",
       "      <th>values_1a_su2</th>\n",
       "      <th>values_1b_su2</th>\n",
       "      <th>values_1c_su2</th>\n",
       "      <th>values_1d_su2</th>\n",
       "    </tr>\n",
       "  </thead>\n",
       "  <tbody>\n",
       "    <tr>\n",
       "      <th>0</th>\n",
       "      <td>14.342516</td>\n",
       "      <td>3.266858</td>\n",
       "      <td>17.379072</td>\n",
       "      <td>18.898924</td>\n",
       "      <td>15.739712</td>\n",
       "      <td>3.266858</td>\n",
       "      <td>15.700988</td>\n",
       "      <td>15.173515</td>\n",
       "    </tr>\n",
       "    <tr>\n",
       "      <th>1</th>\n",
       "      <td>15.349428</td>\n",
       "      <td>3.197083</td>\n",
       "      <td>16.191286</td>\n",
       "      <td>17.189545</td>\n",
       "      <td>17.208785</td>\n",
       "      <td>3.197083</td>\n",
       "      <td>16.259583</td>\n",
       "      <td>16.127295</td>\n",
       "    </tr>\n",
       "    <tr>\n",
       "      <th>2</th>\n",
       "      <td>15.251333</td>\n",
       "      <td>3.457357</td>\n",
       "      <td>16.944198</td>\n",
       "      <td>18.709785</td>\n",
       "      <td>17.490030</td>\n",
       "      <td>3.457357</td>\n",
       "      <td>15.699062</td>\n",
       "      <td>16.454812</td>\n",
       "    </tr>\n",
       "    <tr>\n",
       "      <th>3</th>\n",
       "      <td>15.358566</td>\n",
       "      <td>3.529644</td>\n",
       "      <td>16.296789</td>\n",
       "      <td>17.582094</td>\n",
       "      <td>16.308270</td>\n",
       "      <td>3.529644</td>\n",
       "      <td>15.901311</td>\n",
       "      <td>14.395045</td>\n",
       "    </tr>\n",
       "    <tr>\n",
       "      <th>4</th>\n",
       "      <td>15.307443</td>\n",
       "      <td>3.312718</td>\n",
       "      <td>16.852700</td>\n",
       "      <td>18.501784</td>\n",
       "      <td>16.194279</td>\n",
       "      <td>3.312718</td>\n",
       "      <td>14.845878</td>\n",
       "      <td>15.025581</td>\n",
       "    </tr>\n",
       "    <tr>\n",
       "      <th>...</th>\n",
       "      <td>...</td>\n",
       "      <td>...</td>\n",
       "      <td>...</td>\n",
       "      <td>...</td>\n",
       "      <td>...</td>\n",
       "      <td>...</td>\n",
       "      <td>...</td>\n",
       "      <td>...</td>\n",
       "    </tr>\n",
       "    <tr>\n",
       "      <th>746</th>\n",
       "      <td>3.627737</td>\n",
       "      <td>3.448488</td>\n",
       "      <td>6.233489</td>\n",
       "      <td>3.764151</td>\n",
       "      <td>3.456211</td>\n",
       "      <td>3.448488</td>\n",
       "      <td>4.697907</td>\n",
       "      <td>3.766980</td>\n",
       "    </tr>\n",
       "    <tr>\n",
       "      <th>747</th>\n",
       "      <td>3.663467</td>\n",
       "      <td>3.433968</td>\n",
       "      <td>6.443954</td>\n",
       "      <td>3.996202</td>\n",
       "      <td>3.631243</td>\n",
       "      <td>3.433968</td>\n",
       "      <td>4.514532</td>\n",
       "      <td>3.979113</td>\n",
       "    </tr>\n",
       "    <tr>\n",
       "      <th>748</th>\n",
       "      <td>3.674525</td>\n",
       "      <td>3.448488</td>\n",
       "      <td>6.299620</td>\n",
       "      <td>3.771617</td>\n",
       "      <td>3.693048</td>\n",
       "      <td>3.448488</td>\n",
       "      <td>4.643634</td>\n",
       "      <td>3.538909</td>\n",
       "    </tr>\n",
       "    <tr>\n",
       "      <th>749</th>\n",
       "      <td>3.741596</td>\n",
       "      <td>3.433968</td>\n",
       "      <td>6.287675</td>\n",
       "      <td>3.910079</td>\n",
       "      <td>3.682644</td>\n",
       "      <td>3.433968</td>\n",
       "      <td>4.654544</td>\n",
       "      <td>3.881095</td>\n",
       "    </tr>\n",
       "    <tr>\n",
       "      <th>750</th>\n",
       "      <td>3.618730</td>\n",
       "      <td>3.447750</td>\n",
       "      <td>5.964937</td>\n",
       "      <td>3.662395</td>\n",
       "      <td>3.405360</td>\n",
       "      <td>3.447750</td>\n",
       "      <td>4.533247</td>\n",
       "      <td>3.553799</td>\n",
       "    </tr>\n",
       "  </tbody>\n",
       "</table>\n",
       "<p>751 rows × 8 columns</p>\n",
       "</div>"
      ],
      "text/plain": [
       "     values_0a_su2  values_0b_su2  values_0c_su2  values_0d_su2  \\\n",
       "0        14.342516       3.266858      17.379072      18.898924   \n",
       "1        15.349428       3.197083      16.191286      17.189545   \n",
       "2        15.251333       3.457357      16.944198      18.709785   \n",
       "3        15.358566       3.529644      16.296789      17.582094   \n",
       "4        15.307443       3.312718      16.852700      18.501784   \n",
       "..             ...            ...            ...            ...   \n",
       "746       3.627737       3.448488       6.233489       3.764151   \n",
       "747       3.663467       3.433968       6.443954       3.996202   \n",
       "748       3.674525       3.448488       6.299620       3.771617   \n",
       "749       3.741596       3.433968       6.287675       3.910079   \n",
       "750       3.618730       3.447750       5.964937       3.662395   \n",
       "\n",
       "     values_1a_su2  values_1b_su2  values_1c_su2  values_1d_su2  \n",
       "0        15.739712       3.266858      15.700988      15.173515  \n",
       "1        17.208785       3.197083      16.259583      16.127295  \n",
       "2        17.490030       3.457357      15.699062      16.454812  \n",
       "3        16.308270       3.529644      15.901311      14.395045  \n",
       "4        16.194279       3.312718      14.845878      15.025581  \n",
       "..             ...            ...            ...            ...  \n",
       "746       3.456211       3.448488       4.697907       3.766980  \n",
       "747       3.631243       3.433968       4.514532       3.979113  \n",
       "748       3.693048       3.448488       4.643634       3.538909  \n",
       "749       3.682644       3.433968       4.654544       3.881095  \n",
       "750       3.405360       3.447750       4.533247       3.553799  \n",
       "\n",
       "[751 rows x 8 columns]"
      ]
     },
     "execution_count": 35,
     "metadata": {},
     "output_type": "execute_result"
    }
   ],
   "source": [
    "# save the data to a dataframe \n",
    "list_l2 = {'values_0a_su2': values_0a, 'values_0b_su2': values_0b, \n",
    "        'values_0c_su2': values_0c, 'values_0d_su2': values_0d,\n",
    "        'values_1a_su2': values_1a, 'values_1b_su2': values_1b, \n",
    "        'values_1c_su2': values_1c,'values_1d_su2': values_1d}\n",
    "qve_l2_efsu2_spsa= pd.DataFrame(list_l2)\n",
    "qve_l2_efsu2_spsa.to_csv('qve_l4_l=0.5_effsu2_spsa.csv')\n",
    "qve_l2_efsu2_spsa"
   ]
  },
  {
   "cell_type": "markdown",
   "id": "45762c9d-95a1-4810-bae6-e11fdf2235f0",
   "metadata": {},
   "source": [
    "# SPSA: TwoLocal"
   ]
  },
  {
   "cell_type": "code",
   "execution_count": 36,
   "id": "a57dffd0",
   "metadata": {},
   "outputs": [
    {
     "name": "stdout",
     "output_type": "stream",
     "text": [
      "VQE result: 3.49978\n"
     ]
    }
   ],
   "source": [
    "#3.18339\n",
    "counts = []\n",
    "values = []\n",
    "result_spsa = run_qve_w_specified_optimizer(SPSA, ansatz_0a)\n",
    "counts_0a = counts\n",
    "values_0a = values"
   ]
  },
  {
   "cell_type": "code",
   "execution_count": 37,
   "id": "c0c39da0",
   "metadata": {},
   "outputs": [
    {
     "name": "stdout",
     "output_type": "stream",
     "text": [
      "VQE result: 3.44775\n"
     ]
    }
   ],
   "source": [
    "#3.17910\n",
    "counts = []\n",
    "values = []\n",
    "result_spsa = run_qve_w_specified_optimizer(SPSA, ansatz_0b)\n",
    "counts_0b = counts\n",
    "values_0b = values"
   ]
  },
  {
   "cell_type": "code",
   "execution_count": 38,
   "id": "c6655d0c",
   "metadata": {},
   "outputs": [
    {
     "name": "stdout",
     "output_type": "stream",
     "text": [
      "VQE result: 3.39842\n"
     ]
    }
   ],
   "source": [
    "#3.62318\n",
    "counts = []\n",
    "values = []\n",
    "result_spsa = run_qve_w_specified_optimizer(SPSA, ansatz_0c)\n",
    "counts_0c = counts\n",
    "values_0c = values"
   ]
  },
  {
   "cell_type": "code",
   "execution_count": 39,
   "id": "4e044153",
   "metadata": {},
   "outputs": [
    {
     "name": "stdout",
     "output_type": "stream",
     "text": [
      "VQE result: 3.38926\n"
     ]
    }
   ],
   "source": [
    "#3.13679\n",
    "counts = []\n",
    "values = []\n",
    "result_spsa = run_qve_w_specified_optimizer(SPSA, ansatz_0d)\n",
    "counts_0d = counts\n",
    "values_0d = values"
   ]
  },
  {
   "cell_type": "code",
   "execution_count": 40,
   "id": "466d5e00",
   "metadata": {},
   "outputs": [
    {
     "name": "stdout",
     "output_type": "stream",
     "text": [
      "VQE result: 3.32111\n"
     ]
    }
   ],
   "source": [
    "#3.16617\n",
    "counts = []\n",
    "values = []\n",
    "result_spsa = run_qve_w_specified_optimizer(SPSA, ansatz_1a)\n",
    "counts_1a = counts\n",
    "values_1a = values"
   ]
  },
  {
   "cell_type": "code",
   "execution_count": 41,
   "id": "3b0a0602",
   "metadata": {},
   "outputs": [
    {
     "name": "stdout",
     "output_type": "stream",
     "text": [
      "VQE result: 3.44775\n"
     ]
    }
   ],
   "source": [
    "#3.17910\n",
    "counts = []\n",
    "values = []\n",
    "result_spsa = run_qve_w_specified_optimizer(SPSA, ansatz_1b)\n",
    "counts_1b = counts\n",
    "values_1b = values"
   ]
  },
  {
   "cell_type": "code",
   "execution_count": 42,
   "id": "382b3fa3",
   "metadata": {},
   "outputs": [
    {
     "name": "stdout",
     "output_type": "stream",
     "text": [
      "VQE result: 3.50001\n"
     ]
    }
   ],
   "source": [
    "#4.10208\n",
    "counts = []\n",
    "values = []\n",
    "result_spsa = run_qve_w_specified_optimizer(SPSA, ansatz_1c)\n",
    "counts_1c = counts\n",
    "values_1c = values"
   ]
  },
  {
   "cell_type": "code",
   "execution_count": 43,
   "id": "ee9e1e3c",
   "metadata": {},
   "outputs": [
    {
     "name": "stdout",
     "output_type": "stream",
     "text": [
      "VQE result: 3.30641\n"
     ]
    }
   ],
   "source": [
    "#4.26060\n",
    "counts = []\n",
    "values = []\n",
    "result_spsa = run_qve_w_specified_optimizer(SPSA, ansatz_1d)\n",
    "counts_1d = counts\n",
    "values_1d = values"
   ]
  },
  {
   "cell_type": "code",
   "execution_count": 44,
   "id": "c4e23d40",
   "metadata": {},
   "outputs": [
    {
     "data": {
      "text/html": [
       "<div>\n",
       "<style scoped>\n",
       "    .dataframe tbody tr th:only-of-type {\n",
       "        vertical-align: middle;\n",
       "    }\n",
       "\n",
       "    .dataframe tbody tr th {\n",
       "        vertical-align: top;\n",
       "    }\n",
       "\n",
       "    .dataframe thead th {\n",
       "        text-align: right;\n",
       "    }\n",
       "</style>\n",
       "<table border=\"1\" class=\"dataframe\">\n",
       "  <thead>\n",
       "    <tr style=\"text-align: right;\">\n",
       "      <th></th>\n",
       "      <th>values_0a</th>\n",
       "      <th>values_0b</th>\n",
       "      <th>values_0c</th>\n",
       "      <th>values_0d</th>\n",
       "      <th>values_1a</th>\n",
       "      <th>values_1b</th>\n",
       "      <th>values_1c</th>\n",
       "      <th>values_1d</th>\n",
       "    </tr>\n",
       "  </thead>\n",
       "  <tbody>\n",
       "    <tr>\n",
       "      <th>0</th>\n",
       "      <td>14.099404</td>\n",
       "      <td>3.266858</td>\n",
       "      <td>13.114340</td>\n",
       "      <td>13.687973</td>\n",
       "      <td>13.282304</td>\n",
       "      <td>3.266858</td>\n",
       "      <td>14.343590</td>\n",
       "      <td>17.031068</td>\n",
       "    </tr>\n",
       "    <tr>\n",
       "      <th>1</th>\n",
       "      <td>14.106894</td>\n",
       "      <td>3.197083</td>\n",
       "      <td>13.772049</td>\n",
       "      <td>15.175756</td>\n",
       "      <td>12.524710</td>\n",
       "      <td>3.197083</td>\n",
       "      <td>13.061766</td>\n",
       "      <td>16.911781</td>\n",
       "    </tr>\n",
       "    <tr>\n",
       "      <th>2</th>\n",
       "      <td>12.810528</td>\n",
       "      <td>3.457357</td>\n",
       "      <td>12.967693</td>\n",
       "      <td>15.441599</td>\n",
       "      <td>13.351950</td>\n",
       "      <td>3.457357</td>\n",
       "      <td>13.184383</td>\n",
       "      <td>17.020633</td>\n",
       "    </tr>\n",
       "    <tr>\n",
       "      <th>3</th>\n",
       "      <td>15.443475</td>\n",
       "      <td>3.529644</td>\n",
       "      <td>13.112561</td>\n",
       "      <td>13.508407</td>\n",
       "      <td>12.612290</td>\n",
       "      <td>3.529644</td>\n",
       "      <td>13.244885</td>\n",
       "      <td>16.519981</td>\n",
       "    </tr>\n",
       "    <tr>\n",
       "      <th>4</th>\n",
       "      <td>14.793133</td>\n",
       "      <td>3.312718</td>\n",
       "      <td>12.688761</td>\n",
       "      <td>15.698204</td>\n",
       "      <td>13.125106</td>\n",
       "      <td>3.312718</td>\n",
       "      <td>13.339208</td>\n",
       "      <td>15.706608</td>\n",
       "    </tr>\n",
       "    <tr>\n",
       "      <th>...</th>\n",
       "      <td>...</td>\n",
       "      <td>...</td>\n",
       "      <td>...</td>\n",
       "      <td>...</td>\n",
       "      <td>...</td>\n",
       "      <td>...</td>\n",
       "      <td>...</td>\n",
       "      <td>...</td>\n",
       "    </tr>\n",
       "    <tr>\n",
       "      <th>746</th>\n",
       "      <td>3.669880</td>\n",
       "      <td>3.448488</td>\n",
       "      <td>3.517688</td>\n",
       "      <td>3.591699</td>\n",
       "      <td>3.516934</td>\n",
       "      <td>3.448488</td>\n",
       "      <td>3.772713</td>\n",
       "      <td>3.570344</td>\n",
       "    </tr>\n",
       "    <tr>\n",
       "      <th>747</th>\n",
       "      <td>3.336743</td>\n",
       "      <td>3.433968</td>\n",
       "      <td>3.463410</td>\n",
       "      <td>3.487190</td>\n",
       "      <td>3.405150</td>\n",
       "      <td>3.433968</td>\n",
       "      <td>3.706335</td>\n",
       "      <td>3.355426</td>\n",
       "    </tr>\n",
       "    <tr>\n",
       "      <th>748</th>\n",
       "      <td>3.739483</td>\n",
       "      <td>3.448488</td>\n",
       "      <td>3.552579</td>\n",
       "      <td>3.632985</td>\n",
       "      <td>3.491169</td>\n",
       "      <td>3.448488</td>\n",
       "      <td>3.758648</td>\n",
       "      <td>3.604016</td>\n",
       "    </tr>\n",
       "    <tr>\n",
       "      <th>749</th>\n",
       "      <td>3.512323</td>\n",
       "      <td>3.433968</td>\n",
       "      <td>3.521838</td>\n",
       "      <td>3.449686</td>\n",
       "      <td>3.440867</td>\n",
       "      <td>3.433968</td>\n",
       "      <td>3.455018</td>\n",
       "      <td>3.554500</td>\n",
       "    </tr>\n",
       "    <tr>\n",
       "      <th>750</th>\n",
       "      <td>3.499779</td>\n",
       "      <td>3.447750</td>\n",
       "      <td>3.398422</td>\n",
       "      <td>3.389262</td>\n",
       "      <td>3.321112</td>\n",
       "      <td>3.447750</td>\n",
       "      <td>3.500014</td>\n",
       "      <td>3.306412</td>\n",
       "    </tr>\n",
       "  </tbody>\n",
       "</table>\n",
       "<p>751 rows × 8 columns</p>\n",
       "</div>"
      ],
      "text/plain": [
       "     values_0a  values_0b  values_0c  values_0d  values_1a  values_1b  \\\n",
       "0    14.099404   3.266858  13.114340  13.687973  13.282304   3.266858   \n",
       "1    14.106894   3.197083  13.772049  15.175756  12.524710   3.197083   \n",
       "2    12.810528   3.457357  12.967693  15.441599  13.351950   3.457357   \n",
       "3    15.443475   3.529644  13.112561  13.508407  12.612290   3.529644   \n",
       "4    14.793133   3.312718  12.688761  15.698204  13.125106   3.312718   \n",
       "..         ...        ...        ...        ...        ...        ...   \n",
       "746   3.669880   3.448488   3.517688   3.591699   3.516934   3.448488   \n",
       "747   3.336743   3.433968   3.463410   3.487190   3.405150   3.433968   \n",
       "748   3.739483   3.448488   3.552579   3.632985   3.491169   3.448488   \n",
       "749   3.512323   3.433968   3.521838   3.449686   3.440867   3.433968   \n",
       "750   3.499779   3.447750   3.398422   3.389262   3.321112   3.447750   \n",
       "\n",
       "     values_1c  values_1d  \n",
       "0    14.343590  17.031068  \n",
       "1    13.061766  16.911781  \n",
       "2    13.184383  17.020633  \n",
       "3    13.244885  16.519981  \n",
       "4    13.339208  15.706608  \n",
       "..         ...        ...  \n",
       "746   3.772713   3.570344  \n",
       "747   3.706335   3.355426  \n",
       "748   3.758648   3.604016  \n",
       "749   3.455018   3.554500  \n",
       "750   3.500014   3.306412  \n",
       "\n",
       "[751 rows x 8 columns]"
      ]
     },
     "execution_count": 44,
     "metadata": {},
     "output_type": "execute_result"
    }
   ],
   "source": [
    "# save the data to a dataframe \n",
    "#don't reevaluate on a new run with just the new ansatze added\n",
    "import pandas as pd\n",
    "list_l2 = {'values_0a': values_0a, 'values_0b': values_0b, \n",
    "        'values_0c': values_0c, 'values_0d': values_0d,\n",
    "        'values_1a': values_1a, 'values_1b': values_1b, \n",
    "        'values_1c': values_1c,'values_1d': values_1d}\n",
    "qve_l2_tl_spsa= pd.DataFrame(list_l2)\n",
    "qve_l2_tl_spsa.to_csv('qve_l4_l=0.5_twolocal_spsa.csv')\n",
    "qve_l2_tl_spsa"
   ]
  }
 ],
 "metadata": {
  "kernelspec": {
   "display_name": "Python 3 (ipykernel)",
   "language": "python",
   "name": "python3"
  },
  "language_info": {
   "codemirror_mode": {
    "name": "ipython",
    "version": 3
   },
   "file_extension": ".py",
   "mimetype": "text/x-python",
   "name": "python",
   "nbconvert_exporter": "python",
   "pygments_lexer": "ipython3",
   "version": "3.12.7"
  }
 },
 "nbformat": 4,
 "nbformat_minor": 5
}
