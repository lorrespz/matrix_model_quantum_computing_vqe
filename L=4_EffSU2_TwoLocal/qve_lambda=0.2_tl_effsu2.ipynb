{
 "cells": [
  {
   "cell_type": "markdown",
   "id": "cf05ff5e",
   "metadata": {},
   "source": [
    "# Qiskit VQE - SU(2) Matrix Model [Lambda = 4]"
   ]
  },
  {
   "cell_type": "code",
   "execution_count": 1,
   "id": "c314136e",
   "metadata": {},
   "outputs": [],
   "source": [
    "import numpy as np\n",
    "import pylab\n",
    "import matplotlib.pyplot as plt\n",
    "from qiskit.circuit.library import TwoLocal, EfficientSU2\n",
    "\n",
    "import sys\n",
    "sys.path.append('../utility')\n",
    "from vqe_run import *\n",
    "from qc_ansatze import *"
   ]
  },
  {
   "cell_type": "markdown",
   "id": "0349c136",
   "metadata": {},
   "source": [
    "# Convert the Hamiltonian to strings of Pauli ops"
   ]
  },
  {
   "cell_type": "code",
   "execution_count": 3,
   "id": "406ee52b",
   "metadata": {},
   "outputs": [],
   "source": [
    "# Load the H file already created using qiskit 0.28 from MBP 2015\n",
    "file = open(\"../utility/pauliH_L4_g0.2.txt\", \"r\")\n",
    "content = file.read()\n",
    "#print(content)"
   ]
  },
  {
   "cell_type": "code",
   "execution_count": 4,
   "id": "653967bf",
   "metadata": {},
   "outputs": [],
   "source": [
    "data = content.split(',\\n')\n",
    "data[0] = data[0].split('\\n')[1]\n",
    "data[-1] = data[-1].split('\\n')[0]\n",
    "\n",
    "data_coeff = []\n",
    "data_str = []\n",
    "for i in range(len(data)):\n",
    "    data_coeff.append(float(data[i].split('*')[0]))\n",
    "    data_str.append(data[i].split('*')[1].split(' ')[1])\n",
    "    \n",
    "Hpauli = list(zip(data_str,data_coeff))\n",
    "#Hpauli"
   ]
  },
  {
   "cell_type": "code",
   "execution_count": 5,
   "id": "c18472dc",
   "metadata": {},
   "outputs": [
    {
     "name": "stdout",
     "output_type": "stream",
     "text": [
      "Exact Result of qubit hamiltonian: [3.13406307 4.21516634 4.21516634 4.21516634]\n"
     ]
    },
    {
     "data": {
      "text/plain": [
       "3.13406"
      ]
     },
     "execution_count": 5,
     "metadata": {},
     "output_type": "execute_result"
    }
   ],
   "source": [
    "from qiskit.quantum_info import SparsePauliOp\n",
    "from qiskit_algorithms import NumPyEigensolver\n",
    "H4q = SparsePauliOp.from_list(Hpauli)\n",
    "\n",
    "solver = NumPyEigensolver(k=4)\n",
    "exact_solution = solver.compute_eigenvalues(H4q)\n",
    "print(\"Exact Result of qubit hamiltonian:\", np.real(exact_solution.eigenvalues))\n",
    "E_exact = np.round(np.real(exact_solution.eigenvalues)[0],5)\n",
    "E_exact"
   ]
  },
  {
   "cell_type": "markdown",
   "id": "37bb9794",
   "metadata": {},
   "source": [
    "# Circuit ansatze"
   ]
  },
  {
   "cell_type": "code",
   "execution_count": 6,
   "id": "8ac9ba23",
   "metadata": {},
   "outputs": [],
   "source": [
    "#CIRCUIT ANSATZ\n",
    "from qiskit.circuit.library import TwoLocal, EfficientSU2"
   ]
  },
  {
   "cell_type": "code",
   "execution_count": 6,
   "id": "85050d70-0aa2-4dd1-b14e-44d3a448bc29",
   "metadata": {},
   "outputs": [
    {
     "name": "stdout",
     "output_type": "stream",
     "text": [
      "Circuit ansatz with 36 parameters\n",
      "Circuit ansatz with 36 parameters\n",
      "Circuit ansatz with 60 parameters\n",
      "Circuit ansatz with 36 parameters\n",
      "Circuit ansatz with 90 parameters\n",
      "Circuit ansatz with 90 parameters\n",
      "Circuit ansatz with 114 parameters\n",
      "Circuit ansatz with 90 parameters\n"
     ]
    }
   ],
   "source": [
    "reps=1\n",
    "ansatz_0a = TL_ansatz(H4q.num_qubits, 'ry', 'crx', \"circular\", reps)\n",
    "ansatz_0b = TL_ansatz(H4q.num_qubits, 'rz', 'crx', 'circular', reps)\n",
    "ansatz_0c = TL_ansatz(H4q.num_qubits, ['ry','rz'], 'crx', 'circular', reps)\n",
    "ansatz_0d = TL_ansatz(H4q.num_qubits,['ry','y'], 'crx', 'circular', reps)\n",
    "\n",
    "ansatz_1a =  TL_ansatz(H4q.num_qubits, 'ry', 'crx', \"full\", reps)\n",
    "ansatz_1b =  TL_ansatz(H4q.num_qubits, 'rz', 'crx', \"full\", reps)\n",
    "ansatz_1c =  TL_ansatz(H4q.num_qubits, ['ry','rz'], 'crx', \"full\", reps)\n",
    "ansatz_1d =  TL_ansatz(H4q.num_qubits, ['ry','y'], 'crx', \"full\", reps)"
   ]
  },
  {
   "cell_type": "code",
   "execution_count": 32,
   "id": "cb4eeee4-10b4-4ccb-8a3b-effc5ca95d45",
   "metadata": {},
   "outputs": [
    {
     "name": "stdout",
     "output_type": "stream",
     "text": [
      "Circuit ansatz with 24 parameters\n",
      "Circuit ansatz with 24 parameters\n",
      "Circuit ansatz with 48 parameters\n",
      "Circuit ansatz with 24 parameters\n",
      "Circuit ansatz with 24 parameters\n",
      "Circuit ansatz with 24 parameters\n",
      "Circuit ansatz with 48 parameters\n",
      "Circuit ansatz with 24 parameters\n"
     ]
    }
   ],
   "source": [
    "reps=1\n",
    "ansatz_0a_su2 = ef_ansatz(H4q.num_qubits, 'ry',  \"circular\", reps)\n",
    "ansatz_0b_su2 = ef_ansatz(H4q.num_qubits, 'rz',  'circular', reps)\n",
    "ansatz_0c_su2 = ef_ansatz(H4q.num_qubits, ['ry','rz'], 'circular', reps)\n",
    "ansatz_0d_su2 = ef_ansatz(H4q.num_qubits,['ry','y'], 'circular', reps)\n",
    "\n",
    "ansatz_1a_su2 =  ef_ansatz(H4q.num_qubits, 'ry',  \"full\", reps)\n",
    "ansatz_1b_su2 =  ef_ansatz(H4q.num_qubits, 'rz',  \"full\", reps)\n",
    "ansatz_1c_su2 =  ef_ansatz(H4q.num_qubits, ['ry','rz'], \"full\", reps)\n",
    "ansatz_1d_su2 =  ef_ansatz(H4q.num_qubits, ['ry','y'],  \"full\", reps)"
   ]
  },
  {
   "cell_type": "markdown",
   "id": "46382675",
   "metadata": {},
   "source": [
    "# Qiskit QVE: Noiseless simulator\n",
    "\n",
    "https://qiskit.github.io/qiskit-aer/stubs/qiskit_aer.primitives.Estimator.html\n",
    "\n",
    "https://qiskit-community.github.io/qiskit-algorithms/tutorials/03_vqe_simulation_with_noise.html"
   ]
  },
  {
   "cell_type": "code",
   "execution_count": 7,
   "id": "966164ab",
   "metadata": {},
   "outputs": [],
   "source": [
    "#VQE ALGORITHMS\n",
    "from qiskit_algorithms import VQE\n",
    "from qiskit_algorithms.optimizers import SPSA\n",
    "from qiskit_algorithms.utils import algorithm_globals \n",
    "from qiskit_aer.primitives import Estimator as AerEstimator\n",
    "\n",
    "import warnings\n",
    "warnings.filterwarnings(\"ignore\")\n",
    "seed = 170\n",
    "iterations = 250\n",
    "algorithm_globals.random_seed = seed\n",
    "\n",
    "#estimator\n",
    "noiseless_estimator = AerEstimator(\n",
    "    run_options={\"seed\": seed, \"shots\": 1024},\n",
    "    transpile_options={\"seed_transpiler\": seed},\n",
    ")\n",
    "#storing values\n",
    "counts = []\n",
    "values = []\n",
    "def store_intermediate_result(eval_count, parameters, mean, std):\n",
    "    counts.append(eval_count)\n",
    "    values.append(mean)\n",
    "    \n",
    "def run_qve_w_specified_optimizer(optimizer, ansatz):\n",
    "    opt = optimizer(maxiter = iterations)\n",
    "    vqe = VQE(noiseless_estimator, ansatz, optimizer=opt, callback=store_intermediate_result)\n",
    "    result = vqe.compute_minimum_eigenvalue(operator=H4q).eigenvalue.real\n",
    "    print(f\"VQE result: {result:.5f}\")\n",
    "    return result"
   ]
  },
  {
   "cell_type": "markdown",
   "id": "324f0410-da5e-4d72-87a9-3ea039035b29",
   "metadata": {},
   "source": [
    "# COBYLA: EffSU2"
   ]
  },
  {
   "cell_type": "code",
   "execution_count": 33,
   "id": "0069c3ed-c619-4660-9ada-cb2fab6b01f1",
   "metadata": {},
   "outputs": [
    {
     "name": "stdout",
     "output_type": "stream",
     "text": [
      "VQE result: 3.29386\n"
     ]
    }
   ],
   "source": [
    "counts = []\n",
    "values = []\n",
    "result = run_qve_w_specified_optimizer(COBYLA, ansatz_0a_su2)\n",
    "counts_0a_c = counts\n",
    "values_0a_c = values"
   ]
  },
  {
   "cell_type": "code",
   "execution_count": 34,
   "id": "a708ced1-7fc1-4185-bb6e-ce4cfa73833a",
   "metadata": {},
   "outputs": [
    {
     "name": "stdout",
     "output_type": "stream",
     "text": [
      "VQE result: 3.17910\n"
     ]
    }
   ],
   "source": [
    "counts = []\n",
    "values = []\n",
    "result = run_qve_w_specified_optimizer(COBYLA, ansatz_0b_su2)\n",
    "counts_0b_c = counts\n",
    "values_0b_c = values"
   ]
  },
  {
   "cell_type": "code",
   "execution_count": 35,
   "id": "25370d0d-b9f7-471c-b615-96ea7d31d41f",
   "metadata": {},
   "outputs": [
    {
     "name": "stdout",
     "output_type": "stream",
     "text": [
      "VQE result: 7.03011\n"
     ]
    }
   ],
   "source": [
    "counts = []\n",
    "values = []\n",
    "result = run_qve_w_specified_optimizer(COBYLA, ansatz_0c_su2)\n",
    "counts_0c_c = counts\n",
    "values_0c_c = values"
   ]
  },
  {
   "cell_type": "code",
   "execution_count": 36,
   "id": "2de32f62-581d-4cd1-b8d7-5cd82589a43a",
   "metadata": {},
   "outputs": [
    {
     "name": "stdout",
     "output_type": "stream",
     "text": [
      "VQE result: 4.90114\n"
     ]
    }
   ],
   "source": [
    "counts = []\n",
    "values = []\n",
    "result = run_qve_w_specified_optimizer(COBYLA, ansatz_0d_su2)\n",
    "counts_0d_c = counts\n",
    "values_0d_c = values"
   ]
  },
  {
   "cell_type": "code",
   "execution_count": 37,
   "id": "067502a4-0a9a-4986-b8d3-ba8df7f87de4",
   "metadata": {},
   "outputs": [
    {
     "name": "stdout",
     "output_type": "stream",
     "text": [
      "VQE result: 3.33384\n"
     ]
    }
   ],
   "source": [
    "counts = []\n",
    "values = []\n",
    "result = run_qve_w_specified_optimizer(COBYLA, ansatz_1a_su2)\n",
    "counts_1a_c = counts\n",
    "values_1a_c = values"
   ]
  },
  {
   "cell_type": "code",
   "execution_count": 38,
   "id": "207ba8dc-7c3b-476c-a2e6-4b1bb647c4f3",
   "metadata": {},
   "outputs": [
    {
     "name": "stdout",
     "output_type": "stream",
     "text": [
      "VQE result: 3.17910\n"
     ]
    }
   ],
   "source": [
    "counts = []\n",
    "values = []\n",
    "result = run_qve_w_specified_optimizer(COBYLA, ansatz_1b_su2)\n",
    "counts_1b_c = counts\n",
    "values_1b_c = values"
   ]
  },
  {
   "cell_type": "code",
   "execution_count": 39,
   "id": "94d25c93-50c2-482b-9326-9464082216e7",
   "metadata": {},
   "outputs": [
    {
     "name": "stdout",
     "output_type": "stream",
     "text": [
      "VQE result: 9.76802\n"
     ]
    }
   ],
   "source": [
    "counts = []\n",
    "values = []\n",
    "result = run_qve_w_specified_optimizer(COBYLA, ansatz_1c_su2)\n",
    "counts_1c_c = counts\n",
    "values_1c_c = values"
   ]
  },
  {
   "cell_type": "code",
   "execution_count": 40,
   "id": "1914c86c-77e6-41c8-b06d-46d97f222d5f",
   "metadata": {},
   "outputs": [
    {
     "name": "stdout",
     "output_type": "stream",
     "text": [
      "VQE result: 3.37175\n"
     ]
    }
   ],
   "source": [
    "counts = []\n",
    "values = []\n",
    "result = run_qve_w_specified_optimizer(COBYLA, ansatz_1d_su2)\n",
    "counts_1d_c = counts\n",
    "values_1d_c = values"
   ]
  },
  {
   "cell_type": "code",
   "execution_count": 42,
   "id": "261becc2-6f50-47ef-a00d-c9a2ccc3d348",
   "metadata": {},
   "outputs": [
    {
     "data": {
      "text/html": [
       "<div>\n",
       "<style scoped>\n",
       "    .dataframe tbody tr th:only-of-type {\n",
       "        vertical-align: middle;\n",
       "    }\n",
       "\n",
       "    .dataframe tbody tr th {\n",
       "        vertical-align: top;\n",
       "    }\n",
       "\n",
       "    .dataframe thead th {\n",
       "        text-align: right;\n",
       "    }\n",
       "</style>\n",
       "<table border=\"1\" class=\"dataframe\">\n",
       "  <thead>\n",
       "    <tr style=\"text-align: right;\">\n",
       "      <th></th>\n",
       "      <th>values_0a_su2</th>\n",
       "      <th>values_0b_su2</th>\n",
       "      <th>values_0c_su2</th>\n",
       "      <th>values_0d_su2</th>\n",
       "      <th>values_1a_su2</th>\n",
       "      <th>values_1b_su2</th>\n",
       "      <th>values_1c_su2</th>\n",
       "      <th>values_1d_su2</th>\n",
       "    </tr>\n",
       "  </thead>\n",
       "  <tbody>\n",
       "    <tr>\n",
       "      <th>0</th>\n",
       "      <td>12.677996</td>\n",
       "      <td>3.1791</td>\n",
       "      <td>13.436468</td>\n",
       "      <td>12.466898</td>\n",
       "      <td>13.642510</td>\n",
       "      <td>3.1791</td>\n",
       "      <td>14.317269</td>\n",
       "      <td>14.956715</td>\n",
       "    </tr>\n",
       "    <tr>\n",
       "      <th>1</th>\n",
       "      <td>12.341952</td>\n",
       "      <td>3.1791</td>\n",
       "      <td>13.870390</td>\n",
       "      <td>12.346303</td>\n",
       "      <td>13.559569</td>\n",
       "      <td>3.1791</td>\n",
       "      <td>14.495946</td>\n",
       "      <td>15.018552</td>\n",
       "    </tr>\n",
       "    <tr>\n",
       "      <th>2</th>\n",
       "      <td>12.302492</td>\n",
       "      <td>3.1791</td>\n",
       "      <td>13.063490</td>\n",
       "      <td>12.475614</td>\n",
       "      <td>14.041793</td>\n",
       "      <td>3.1791</td>\n",
       "      <td>14.189223</td>\n",
       "      <td>13.405057</td>\n",
       "    </tr>\n",
       "    <tr>\n",
       "      <th>3</th>\n",
       "      <td>11.977049</td>\n",
       "      <td>3.1791</td>\n",
       "      <td>12.851695</td>\n",
       "      <td>12.722498</td>\n",
       "      <td>12.854220</td>\n",
       "      <td>3.1791</td>\n",
       "      <td>13.959487</td>\n",
       "      <td>13.454371</td>\n",
       "    </tr>\n",
       "    <tr>\n",
       "      <th>4</th>\n",
       "      <td>11.529180</td>\n",
       "      <td>3.1791</td>\n",
       "      <td>12.818057</td>\n",
       "      <td>12.453621</td>\n",
       "      <td>12.861947</td>\n",
       "      <td>3.1791</td>\n",
       "      <td>13.967840</td>\n",
       "      <td>13.812463</td>\n",
       "    </tr>\n",
       "    <tr>\n",
       "      <th>...</th>\n",
       "      <td>...</td>\n",
       "      <td>...</td>\n",
       "      <td>...</td>\n",
       "      <td>...</td>\n",
       "      <td>...</td>\n",
       "      <td>...</td>\n",
       "      <td>...</td>\n",
       "      <td>...</td>\n",
       "    </tr>\n",
       "    <tr>\n",
       "      <th>245</th>\n",
       "      <td>3.394844</td>\n",
       "      <td>NaN</td>\n",
       "      <td>7.260065</td>\n",
       "      <td>4.944397</td>\n",
       "      <td>3.357582</td>\n",
       "      <td>NaN</td>\n",
       "      <td>9.882192</td>\n",
       "      <td>3.435482</td>\n",
       "    </tr>\n",
       "    <tr>\n",
       "      <th>246</th>\n",
       "      <td>3.376981</td>\n",
       "      <td>NaN</td>\n",
       "      <td>7.157554</td>\n",
       "      <td>4.901141</td>\n",
       "      <td>3.346683</td>\n",
       "      <td>NaN</td>\n",
       "      <td>9.889194</td>\n",
       "      <td>3.399122</td>\n",
       "    </tr>\n",
       "    <tr>\n",
       "      <th>247</th>\n",
       "      <td>3.338841</td>\n",
       "      <td>NaN</td>\n",
       "      <td>7.263999</td>\n",
       "      <td>4.942851</td>\n",
       "      <td>3.358997</td>\n",
       "      <td>NaN</td>\n",
       "      <td>9.905328</td>\n",
       "      <td>3.404189</td>\n",
       "    </tr>\n",
       "    <tr>\n",
       "      <th>248</th>\n",
       "      <td>3.324259</td>\n",
       "      <td>NaN</td>\n",
       "      <td>7.278621</td>\n",
       "      <td>4.914533</td>\n",
       "      <td>3.346109</td>\n",
       "      <td>NaN</td>\n",
       "      <td>9.949311</td>\n",
       "      <td>3.402977</td>\n",
       "    </tr>\n",
       "    <tr>\n",
       "      <th>249</th>\n",
       "      <td>3.344500</td>\n",
       "      <td>NaN</td>\n",
       "      <td>7.358981</td>\n",
       "      <td>4.939311</td>\n",
       "      <td>3.370259</td>\n",
       "      <td>NaN</td>\n",
       "      <td>9.859831</td>\n",
       "      <td>3.385284</td>\n",
       "    </tr>\n",
       "  </tbody>\n",
       "</table>\n",
       "<p>250 rows × 8 columns</p>\n",
       "</div>"
      ],
      "text/plain": [
       "     values_0a_su2  values_0b_su2  values_0c_su2  values_0d_su2  \\\n",
       "0        12.677996         3.1791      13.436468      12.466898   \n",
       "1        12.341952         3.1791      13.870390      12.346303   \n",
       "2        12.302492         3.1791      13.063490      12.475614   \n",
       "3        11.977049         3.1791      12.851695      12.722498   \n",
       "4        11.529180         3.1791      12.818057      12.453621   \n",
       "..             ...            ...            ...            ...   \n",
       "245       3.394844            NaN       7.260065       4.944397   \n",
       "246       3.376981            NaN       7.157554       4.901141   \n",
       "247       3.338841            NaN       7.263999       4.942851   \n",
       "248       3.324259            NaN       7.278621       4.914533   \n",
       "249       3.344500            NaN       7.358981       4.939311   \n",
       "\n",
       "     values_1a_su2  values_1b_su2  values_1c_su2  values_1d_su2  \n",
       "0        13.642510         3.1791      14.317269      14.956715  \n",
       "1        13.559569         3.1791      14.495946      15.018552  \n",
       "2        14.041793         3.1791      14.189223      13.405057  \n",
       "3        12.854220         3.1791      13.959487      13.454371  \n",
       "4        12.861947         3.1791      13.967840      13.812463  \n",
       "..             ...            ...            ...            ...  \n",
       "245       3.357582            NaN       9.882192       3.435482  \n",
       "246       3.346683            NaN       9.889194       3.399122  \n",
       "247       3.358997            NaN       9.905328       3.404189  \n",
       "248       3.346109            NaN       9.949311       3.402977  \n",
       "249       3.370259            NaN       9.859831       3.385284  \n",
       "\n",
       "[250 rows x 8 columns]"
      ]
     },
     "execution_count": 42,
     "metadata": {},
     "output_type": "execute_result"
    }
   ],
   "source": [
    "df1 = pd.DataFrame({'values_0a_su2': values_0a_c})\n",
    "df2 = pd.DataFrame({'values_0b_su2': values_0b_c})\n",
    "df3 = pd.DataFrame({'values_0c_su2': values_0c_c})\n",
    "df4 = pd.DataFrame({'values_0d_su2': values_0d_c})\n",
    "df5 = pd.DataFrame({'values_1a_su2': values_1a_c})\n",
    "df6 = pd.DataFrame({'values_1b_su2': values_1b_c})\n",
    "df7 = pd.DataFrame({'values_1c_su2': values_1c_c})\n",
    "df8 = pd.DataFrame({'values_1d_su2': values_1d_c})\n",
    "qve_l2_tl_cobyla = pd.concat([df1, df2, df3, df4, df5, df6, df7,df8], axis = 1)\n",
    "qve_l2_tl_cobyla.to_csv('qve_l4_effsu2_cobyla.csv')\n",
    "qve_l2_tl_cobyla"
   ]
  },
  {
   "cell_type": "markdown",
   "id": "71e9c009-985d-45fa-a991-0b38a7400a01",
   "metadata": {},
   "source": [
    "# COBYLA: TwoLocal"
   ]
  },
  {
   "cell_type": "code",
   "execution_count": 20,
   "id": "b7a1825b-0cc3-4b48-ac6d-6604f60565bd",
   "metadata": {},
   "outputs": [
    {
     "name": "stdout",
     "output_type": "stream",
     "text": [
      "VQE result: 3.13909\n"
     ]
    }
   ],
   "source": [
    "counts = []\n",
    "values = []\n",
    "result = run_qve_w_specified_optimizer(COBYLA, ansatz_0a)\n",
    "counts_0a_c = counts\n",
    "values_0a_c = values"
   ]
  },
  {
   "cell_type": "code",
   "execution_count": 21,
   "id": "8cf77343-38ec-49b6-80b7-dbe7c6173826",
   "metadata": {},
   "outputs": [
    {
     "name": "stdout",
     "output_type": "stream",
     "text": [
      "VQE result: 3.17910\n"
     ]
    }
   ],
   "source": [
    "counts = []\n",
    "values = []\n",
    "result = run_qve_w_specified_optimizer(COBYLA, ansatz_0b)\n",
    "counts_0b_c = counts\n",
    "values_0b_c = values"
   ]
  },
  {
   "cell_type": "code",
   "execution_count": 22,
   "id": "70f3b1b9-1357-4e43-9d72-06ca141673f1",
   "metadata": {},
   "outputs": [
    {
     "name": "stdout",
     "output_type": "stream",
     "text": [
      "VQE result: 3.31393\n"
     ]
    }
   ],
   "source": [
    "counts = []\n",
    "values = []\n",
    "result = run_qve_w_specified_optimizer(COBYLA, ansatz_0c)\n",
    "counts_0c_c = counts\n",
    "values_0c_c = values"
   ]
  },
  {
   "cell_type": "code",
   "execution_count": 23,
   "id": "992a292c-abed-488a-9c57-ac27bb5c0d05",
   "metadata": {},
   "outputs": [
    {
     "name": "stdout",
     "output_type": "stream",
     "text": [
      "VQE result: 3.19125\n"
     ]
    }
   ],
   "source": [
    "counts = []\n",
    "values = []\n",
    "result = run_qve_w_specified_optimizer(COBYLA, ansatz_0d)\n",
    "counts_0d_c = counts\n",
    "values_0d_c = values"
   ]
  },
  {
   "cell_type": "code",
   "execution_count": 24,
   "id": "3a1863a6-bcba-46af-8915-68ff073ff394",
   "metadata": {},
   "outputs": [
    {
     "name": "stdout",
     "output_type": "stream",
     "text": [
      "VQE result: 3.49465\n"
     ]
    }
   ],
   "source": [
    "counts = []\n",
    "values = []\n",
    "result = run_qve_w_specified_optimizer(COBYLA, ansatz_1a)\n",
    "counts_1a_c = counts\n",
    "values_1a_c = values"
   ]
  },
  {
   "cell_type": "code",
   "execution_count": 25,
   "id": "1184a2fc-c0f2-4d83-a9f7-3d3c437d8e3f",
   "metadata": {},
   "outputs": [
    {
     "name": "stdout",
     "output_type": "stream",
     "text": [
      "VQE result: 3.17910\n"
     ]
    }
   ],
   "source": [
    "counts = []\n",
    "values = []\n",
    "result = run_qve_w_specified_optimizer(COBYLA, ansatz_1b)\n",
    "counts_1b_c = counts\n",
    "values_1b_c = values"
   ]
  },
  {
   "cell_type": "code",
   "execution_count": 26,
   "id": "e899b069-cb39-4494-bd2a-790022503a80",
   "metadata": {},
   "outputs": [
    {
     "name": "stdout",
     "output_type": "stream",
     "text": [
      "VQE result: 4.04545\n"
     ]
    }
   ],
   "source": [
    "counts = []\n",
    "values = []\n",
    "result = run_qve_w_specified_optimizer(COBYLA, ansatz_1c)\n",
    "counts_1c_c = counts\n",
    "values_1c_c = values"
   ]
  },
  {
   "cell_type": "code",
   "execution_count": 27,
   "id": "ccba3fbc-6e28-4016-8bc6-5e3f1a708edc",
   "metadata": {},
   "outputs": [
    {
     "name": "stdout",
     "output_type": "stream",
     "text": [
      "VQE result: 3.58869\n"
     ]
    }
   ],
   "source": [
    "counts = []\n",
    "values = []\n",
    "result = run_qve_w_specified_optimizer(COBYLA, ansatz_1d)\n",
    "counts_1d_c = counts\n",
    "values_1d_c = values"
   ]
  },
  {
   "cell_type": "code",
   "execution_count": 31,
   "id": "62b3a07a-b81d-40f3-90c9-089285df36ce",
   "metadata": {},
   "outputs": [
    {
     "data": {
      "text/html": [
       "<div>\n",
       "<style scoped>\n",
       "    .dataframe tbody tr th:only-of-type {\n",
       "        vertical-align: middle;\n",
       "    }\n",
       "\n",
       "    .dataframe tbody tr th {\n",
       "        vertical-align: top;\n",
       "    }\n",
       "\n",
       "    .dataframe thead th {\n",
       "        text-align: right;\n",
       "    }\n",
       "</style>\n",
       "<table border=\"1\" class=\"dataframe\">\n",
       "  <thead>\n",
       "    <tr style=\"text-align: right;\">\n",
       "      <th></th>\n",
       "      <th>values_0a</th>\n",
       "      <th>values_0b</th>\n",
       "      <th>values_0c</th>\n",
       "      <th>values_0d</th>\n",
       "      <th>values_1a</th>\n",
       "      <th>values_1b</th>\n",
       "      <th>values_1c</th>\n",
       "      <th>values_1d</th>\n",
       "    </tr>\n",
       "  </thead>\n",
       "  <tbody>\n",
       "    <tr>\n",
       "      <th>0</th>\n",
       "      <td>16.308781</td>\n",
       "      <td>3.1791</td>\n",
       "      <td>9.140411</td>\n",
       "      <td>12.506715</td>\n",
       "      <td>15.077974</td>\n",
       "      <td>3.1791</td>\n",
       "      <td>16.508758</td>\n",
       "      <td>11.393470</td>\n",
       "    </tr>\n",
       "    <tr>\n",
       "      <th>1</th>\n",
       "      <td>15.745217</td>\n",
       "      <td>3.1791</td>\n",
       "      <td>9.451632</td>\n",
       "      <td>12.573342</td>\n",
       "      <td>14.896206</td>\n",
       "      <td>3.1791</td>\n",
       "      <td>16.231014</td>\n",
       "      <td>11.058210</td>\n",
       "    </tr>\n",
       "    <tr>\n",
       "      <th>2</th>\n",
       "      <td>16.467246</td>\n",
       "      <td>3.1791</td>\n",
       "      <td>8.378520</td>\n",
       "      <td>12.789515</td>\n",
       "      <td>13.575477</td>\n",
       "      <td>3.1791</td>\n",
       "      <td>16.946716</td>\n",
       "      <td>9.979358</td>\n",
       "    </tr>\n",
       "    <tr>\n",
       "      <th>3</th>\n",
       "      <td>15.508816</td>\n",
       "      <td>3.1791</td>\n",
       "      <td>8.419603</td>\n",
       "      <td>12.824306</td>\n",
       "      <td>13.979056</td>\n",
       "      <td>3.1791</td>\n",
       "      <td>15.990727</td>\n",
       "      <td>10.149444</td>\n",
       "    </tr>\n",
       "    <tr>\n",
       "      <th>4</th>\n",
       "      <td>14.132827</td>\n",
       "      <td>3.1791</td>\n",
       "      <td>8.821925</td>\n",
       "      <td>11.401583</td>\n",
       "      <td>13.940594</td>\n",
       "      <td>3.1791</td>\n",
       "      <td>15.065912</td>\n",
       "      <td>10.898567</td>\n",
       "    </tr>\n",
       "    <tr>\n",
       "      <th>...</th>\n",
       "      <td>...</td>\n",
       "      <td>...</td>\n",
       "      <td>...</td>\n",
       "      <td>...</td>\n",
       "      <td>...</td>\n",
       "      <td>...</td>\n",
       "      <td>...</td>\n",
       "      <td>...</td>\n",
       "    </tr>\n",
       "    <tr>\n",
       "      <th>245</th>\n",
       "      <td>3.193238</td>\n",
       "      <td>NaN</td>\n",
       "      <td>3.357654</td>\n",
       "      <td>3.212102</td>\n",
       "      <td>3.526458</td>\n",
       "      <td>3.1791</td>\n",
       "      <td>4.146805</td>\n",
       "      <td>3.684506</td>\n",
       "    </tr>\n",
       "    <tr>\n",
       "      <th>246</th>\n",
       "      <td>3.191451</td>\n",
       "      <td>NaN</td>\n",
       "      <td>3.336099</td>\n",
       "      <td>3.239781</td>\n",
       "      <td>4.146720</td>\n",
       "      <td>3.1791</td>\n",
       "      <td>4.349680</td>\n",
       "      <td>3.660849</td>\n",
       "    </tr>\n",
       "    <tr>\n",
       "      <th>247</th>\n",
       "      <td>3.189241</td>\n",
       "      <td>NaN</td>\n",
       "      <td>3.359436</td>\n",
       "      <td>3.198256</td>\n",
       "      <td>3.526312</td>\n",
       "      <td>3.1791</td>\n",
       "      <td>4.094111</td>\n",
       "      <td>3.657693</td>\n",
       "    </tr>\n",
       "    <tr>\n",
       "      <th>248</th>\n",
       "      <td>3.209546</td>\n",
       "      <td>NaN</td>\n",
       "      <td>3.368866</td>\n",
       "      <td>3.191643</td>\n",
       "      <td>3.844033</td>\n",
       "      <td>3.1791</td>\n",
       "      <td>4.206858</td>\n",
       "      <td>3.592731</td>\n",
       "    </tr>\n",
       "    <tr>\n",
       "      <th>249</th>\n",
       "      <td>3.182284</td>\n",
       "      <td>NaN</td>\n",
       "      <td>3.389400</td>\n",
       "      <td>3.212481</td>\n",
       "      <td>3.494653</td>\n",
       "      <td>3.1791</td>\n",
       "      <td>4.071655</td>\n",
       "      <td>3.588686</td>\n",
       "    </tr>\n",
       "  </tbody>\n",
       "</table>\n",
       "<p>250 rows × 8 columns</p>\n",
       "</div>"
      ],
      "text/plain": [
       "     values_0a  values_0b  values_0c  values_0d  values_1a  values_1b  \\\n",
       "0    16.308781     3.1791   9.140411  12.506715  15.077974     3.1791   \n",
       "1    15.745217     3.1791   9.451632  12.573342  14.896206     3.1791   \n",
       "2    16.467246     3.1791   8.378520  12.789515  13.575477     3.1791   \n",
       "3    15.508816     3.1791   8.419603  12.824306  13.979056     3.1791   \n",
       "4    14.132827     3.1791   8.821925  11.401583  13.940594     3.1791   \n",
       "..         ...        ...        ...        ...        ...        ...   \n",
       "245   3.193238        NaN   3.357654   3.212102   3.526458     3.1791   \n",
       "246   3.191451        NaN   3.336099   3.239781   4.146720     3.1791   \n",
       "247   3.189241        NaN   3.359436   3.198256   3.526312     3.1791   \n",
       "248   3.209546        NaN   3.368866   3.191643   3.844033     3.1791   \n",
       "249   3.182284        NaN   3.389400   3.212481   3.494653     3.1791   \n",
       "\n",
       "     values_1c  values_1d  \n",
       "0    16.508758  11.393470  \n",
       "1    16.231014  11.058210  \n",
       "2    16.946716   9.979358  \n",
       "3    15.990727  10.149444  \n",
       "4    15.065912  10.898567  \n",
       "..         ...        ...  \n",
       "245   4.146805   3.684506  \n",
       "246   4.349680   3.660849  \n",
       "247   4.094111   3.657693  \n",
       "248   4.206858   3.592731  \n",
       "249   4.071655   3.588686  \n",
       "\n",
       "[250 rows x 8 columns]"
      ]
     },
     "execution_count": 31,
     "metadata": {},
     "output_type": "execute_result"
    }
   ],
   "source": [
    "df1 = pd.DataFrame({'values_0a': values_0a_c})\n",
    "df2 = pd.DataFrame({'values_0b': values_0b_c})\n",
    "df3 = pd.DataFrame({'values_0c': values_0c_c})\n",
    "df4 = pd.DataFrame({'values_0d': values_0d_c})\n",
    "df5 = pd.DataFrame({'values_1a': values_1a_c})\n",
    "df6 = pd.DataFrame({'values_1b': values_1b_c})\n",
    "df7 = pd.DataFrame({'values_1c': values_1c_c})\n",
    "df8 = pd.DataFrame({'values_1d': values_1d_c})\n",
    "qve_l2_tl_cobyla = pd.concat([df1, df2, df3, df4, df5, df6, df7,df8], axis = 1)\n",
    "qve_l2_tl_cobyla.to_csv('qve_l4_twolocal_cobyla.csv')\n",
    "qve_l2_tl_cobyla"
   ]
  },
  {
   "cell_type": "markdown",
   "id": "b10cf418-46a9-41df-9cdf-2c83b25d4627",
   "metadata": {},
   "source": [
    "# SPSA: EffSU2"
   ]
  },
  {
   "cell_type": "code",
   "execution_count": 43,
   "id": "ace71230-be9c-4f48-a974-527ce16669c8",
   "metadata": {},
   "outputs": [
    {
     "name": "stdout",
     "output_type": "stream",
     "text": [
      "VQE result: 3.23204\n"
     ]
    }
   ],
   "source": [
    "counts = []\n",
    "values = []\n",
    "result_spsa = run_qve_w_specified_optimizer(SPSA, ansatz_0a_su2)\n",
    "counts_0a = counts\n",
    "values_0a = values"
   ]
  },
  {
   "cell_type": "code",
   "execution_count": 44,
   "id": "3d77e90a-425e-4619-9bf6-9a8df257c03e",
   "metadata": {},
   "outputs": [
    {
     "name": "stdout",
     "output_type": "stream",
     "text": [
      "VQE result: 3.17910\n"
     ]
    }
   ],
   "source": [
    "counts = []\n",
    "values = []\n",
    "result_spsa = run_qve_w_specified_optimizer(SPSA, ansatz_0b_su2)\n",
    "counts_0b = counts\n",
    "values_0b = values"
   ]
  },
  {
   "cell_type": "code",
   "execution_count": 45,
   "id": "dbd7264d-f507-4603-b3ed-d807098a04e9",
   "metadata": {},
   "outputs": [
    {
     "name": "stdout",
     "output_type": "stream",
     "text": [
      "VQE result: 4.89771\n"
     ]
    }
   ],
   "source": [
    "counts = []\n",
    "values = []\n",
    "result_spsa = run_qve_w_specified_optimizer(SPSA, ansatz_0c_su2)\n",
    "counts_0c = counts\n",
    "values_0c = values"
   ]
  },
  {
   "cell_type": "code",
   "execution_count": 46,
   "id": "2edcb1bc-53c4-4cb4-b150-7043c86c96cf",
   "metadata": {},
   "outputs": [
    {
     "name": "stdout",
     "output_type": "stream",
     "text": [
      "VQE result: 3.14605\n"
     ]
    }
   ],
   "source": [
    "counts = []\n",
    "values = []\n",
    "result_spsa = run_qve_w_specified_optimizer(SPSA, ansatz_0d_su2)\n",
    "counts_0d = counts\n",
    "values_0d = values"
   ]
  },
  {
   "cell_type": "code",
   "execution_count": 47,
   "id": "d5d8a59b-46b6-45a4-a7b8-3c74eeb7e75f",
   "metadata": {},
   "outputs": [
    {
     "name": "stdout",
     "output_type": "stream",
     "text": [
      "VQE result: 3.19555\n"
     ]
    }
   ],
   "source": [
    "counts = []\n",
    "values = []\n",
    "result_spsa = run_qve_w_specified_optimizer(SPSA, ansatz_1a_su2)\n",
    "counts_1a = counts\n",
    "values_1a = values"
   ]
  },
  {
   "cell_type": "code",
   "execution_count": 48,
   "id": "696b35d0-d436-439d-852b-9802de05e723",
   "metadata": {},
   "outputs": [
    {
     "name": "stdout",
     "output_type": "stream",
     "text": [
      "VQE result: 3.17910\n"
     ]
    }
   ],
   "source": [
    "counts = []\n",
    "values = []\n",
    "result_spsa = run_qve_w_specified_optimizer(SPSA, ansatz_1b_su2)\n",
    "counts_1b = counts\n",
    "values_1b = values"
   ]
  },
  {
   "cell_type": "code",
   "execution_count": 49,
   "id": "16580139-5ade-47fe-b3b9-67bcb69b87ce",
   "metadata": {},
   "outputs": [
    {
     "name": "stdout",
     "output_type": "stream",
     "text": [
      "VQE result: 3.11959\n"
     ]
    }
   ],
   "source": [
    "counts = []\n",
    "values = []\n",
    "result_spsa = run_qve_w_specified_optimizer(SPSA, ansatz_1c_su2)\n",
    "counts_1c = counts\n",
    "values_1c = values"
   ]
  },
  {
   "cell_type": "code",
   "execution_count": 50,
   "id": "36a137a1-69d7-4f40-8b49-2e32614a70c3",
   "metadata": {},
   "outputs": [
    {
     "name": "stdout",
     "output_type": "stream",
     "text": [
      "VQE result: 4.24528\n"
     ]
    }
   ],
   "source": [
    "counts = []\n",
    "values = []\n",
    "result_spsa = run_qve_w_specified_optimizer(SPSA, ansatz_1d_su2)\n",
    "counts_1d = counts\n",
    "values_1d = values"
   ]
  },
  {
   "cell_type": "code",
   "execution_count": 51,
   "id": "84cd0b87-c5a8-4c7e-a55e-2a7f45268541",
   "metadata": {},
   "outputs": [
    {
     "data": {
      "text/html": [
       "<div>\n",
       "<style scoped>\n",
       "    .dataframe tbody tr th:only-of-type {\n",
       "        vertical-align: middle;\n",
       "    }\n",
       "\n",
       "    .dataframe tbody tr th {\n",
       "        vertical-align: top;\n",
       "    }\n",
       "\n",
       "    .dataframe thead th {\n",
       "        text-align: right;\n",
       "    }\n",
       "</style>\n",
       "<table border=\"1\" class=\"dataframe\">\n",
       "  <thead>\n",
       "    <tr style=\"text-align: right;\">\n",
       "      <th></th>\n",
       "      <th>values_0a_su2</th>\n",
       "      <th>values_0b_su2</th>\n",
       "      <th>values_0c_su2</th>\n",
       "      <th>values_0d_su2</th>\n",
       "      <th>values_1a_su2</th>\n",
       "      <th>values_1b_su2</th>\n",
       "      <th>values_1c_su2</th>\n",
       "      <th>values_1d_su2</th>\n",
       "    </tr>\n",
       "  </thead>\n",
       "  <tbody>\n",
       "    <tr>\n",
       "      <th>0</th>\n",
       "      <td>13.207931</td>\n",
       "      <td>3.106743</td>\n",
       "      <td>13.146482</td>\n",
       "      <td>12.779282</td>\n",
       "      <td>13.303064</td>\n",
       "      <td>3.106743</td>\n",
       "      <td>13.584196</td>\n",
       "      <td>10.886075</td>\n",
       "    </tr>\n",
       "    <tr>\n",
       "      <th>1</th>\n",
       "      <td>12.574506</td>\n",
       "      <td>3.078833</td>\n",
       "      <td>13.650564</td>\n",
       "      <td>13.621923</td>\n",
       "      <td>14.731432</td>\n",
       "      <td>3.078833</td>\n",
       "      <td>13.793808</td>\n",
       "      <td>12.279064</td>\n",
       "    </tr>\n",
       "    <tr>\n",
       "      <th>2</th>\n",
       "      <td>12.754407</td>\n",
       "      <td>3.182943</td>\n",
       "      <td>13.312107</td>\n",
       "      <td>12.643588</td>\n",
       "      <td>14.365070</td>\n",
       "      <td>3.182943</td>\n",
       "      <td>14.108694</td>\n",
       "      <td>12.821878</td>\n",
       "    </tr>\n",
       "    <tr>\n",
       "      <th>3</th>\n",
       "      <td>12.994656</td>\n",
       "      <td>3.211858</td>\n",
       "      <td>13.552702</td>\n",
       "      <td>13.355027</td>\n",
       "      <td>13.544014</td>\n",
       "      <td>3.211858</td>\n",
       "      <td>13.676857</td>\n",
       "      <td>10.333940</td>\n",
       "    </tr>\n",
       "    <tr>\n",
       "      <th>4</th>\n",
       "      <td>13.168725</td>\n",
       "      <td>3.125087</td>\n",
       "      <td>13.075687</td>\n",
       "      <td>13.387932</td>\n",
       "      <td>14.134281</td>\n",
       "      <td>3.125087</td>\n",
       "      <td>13.779233</td>\n",
       "      <td>11.270636</td>\n",
       "    </tr>\n",
       "    <tr>\n",
       "      <th>...</th>\n",
       "      <td>...</td>\n",
       "      <td>...</td>\n",
       "      <td>...</td>\n",
       "      <td>...</td>\n",
       "      <td>...</td>\n",
       "      <td>...</td>\n",
       "      <td>...</td>\n",
       "      <td>...</td>\n",
       "    </tr>\n",
       "    <tr>\n",
       "      <th>546</th>\n",
       "      <td>3.426873</td>\n",
       "      <td>3.179395</td>\n",
       "      <td>5.122381</td>\n",
       "      <td>3.314605</td>\n",
       "      <td>3.371243</td>\n",
       "      <td>3.179395</td>\n",
       "      <td>3.336386</td>\n",
       "      <td>4.530537</td>\n",
       "    </tr>\n",
       "    <tr>\n",
       "      <th>547</th>\n",
       "      <td>3.247899</td>\n",
       "      <td>3.173587</td>\n",
       "      <td>5.172545</td>\n",
       "      <td>3.315539</td>\n",
       "      <td>3.364333</td>\n",
       "      <td>3.173587</td>\n",
       "      <td>3.414267</td>\n",
       "      <td>4.392452</td>\n",
       "    </tr>\n",
       "    <tr>\n",
       "      <th>548</th>\n",
       "      <td>3.406040</td>\n",
       "      <td>3.179395</td>\n",
       "      <td>5.125765</td>\n",
       "      <td>3.360249</td>\n",
       "      <td>3.393384</td>\n",
       "      <td>3.179395</td>\n",
       "      <td>3.388078</td>\n",
       "      <td>4.467156</td>\n",
       "    </tr>\n",
       "    <tr>\n",
       "      <th>549</th>\n",
       "      <td>3.309430</td>\n",
       "      <td>3.173587</td>\n",
       "      <td>5.077455</td>\n",
       "      <td>3.282302</td>\n",
       "      <td>3.314264</td>\n",
       "      <td>3.173587</td>\n",
       "      <td>3.240675</td>\n",
       "      <td>4.379643</td>\n",
       "    </tr>\n",
       "    <tr>\n",
       "      <th>550</th>\n",
       "      <td>3.232037</td>\n",
       "      <td>3.179100</td>\n",
       "      <td>4.897709</td>\n",
       "      <td>3.146054</td>\n",
       "      <td>3.195549</td>\n",
       "      <td>3.179100</td>\n",
       "      <td>3.119588</td>\n",
       "      <td>4.245277</td>\n",
       "    </tr>\n",
       "  </tbody>\n",
       "</table>\n",
       "<p>551 rows × 8 columns</p>\n",
       "</div>"
      ],
      "text/plain": [
       "     values_0a_su2  values_0b_su2  values_0c_su2  values_0d_su2  \\\n",
       "0        13.207931       3.106743      13.146482      12.779282   \n",
       "1        12.574506       3.078833      13.650564      13.621923   \n",
       "2        12.754407       3.182943      13.312107      12.643588   \n",
       "3        12.994656       3.211858      13.552702      13.355027   \n",
       "4        13.168725       3.125087      13.075687      13.387932   \n",
       "..             ...            ...            ...            ...   \n",
       "546       3.426873       3.179395       5.122381       3.314605   \n",
       "547       3.247899       3.173587       5.172545       3.315539   \n",
       "548       3.406040       3.179395       5.125765       3.360249   \n",
       "549       3.309430       3.173587       5.077455       3.282302   \n",
       "550       3.232037       3.179100       4.897709       3.146054   \n",
       "\n",
       "     values_1a_su2  values_1b_su2  values_1c_su2  values_1d_su2  \n",
       "0        13.303064       3.106743      13.584196      10.886075  \n",
       "1        14.731432       3.078833      13.793808      12.279064  \n",
       "2        14.365070       3.182943      14.108694      12.821878  \n",
       "3        13.544014       3.211858      13.676857      10.333940  \n",
       "4        14.134281       3.125087      13.779233      11.270636  \n",
       "..             ...            ...            ...            ...  \n",
       "546       3.371243       3.179395       3.336386       4.530537  \n",
       "547       3.364333       3.173587       3.414267       4.392452  \n",
       "548       3.393384       3.179395       3.388078       4.467156  \n",
       "549       3.314264       3.173587       3.240675       4.379643  \n",
       "550       3.195549       3.179100       3.119588       4.245277  \n",
       "\n",
       "[551 rows x 8 columns]"
      ]
     },
     "execution_count": 51,
     "metadata": {},
     "output_type": "execute_result"
    }
   ],
   "source": [
    "# save the data to a dataframe \n",
    "list_l2 = {'values_0a_su2': values_0a, 'values_0b_su2': values_0b, \n",
    "        'values_0c_su2': values_0c, 'values_0d_su2': values_0d,\n",
    "        'values_1a_su2': values_1a, 'values_1b_su2': values_1b, \n",
    "        'values_1c_su2': values_1c,'values_1d_su2': values_1d}\n",
    "qve_l2_efsu2_spsa= pd.DataFrame(list_l2)\n",
    "qve_l2_efsu2_spsa.to_csv('qve_l4_effsu2_spsa.csv')\n",
    "qve_l2_efsu2_spsa"
   ]
  },
  {
   "cell_type": "markdown",
   "id": "45762c9d-95a1-4810-bae6-e11fdf2235f0",
   "metadata": {},
   "source": [
    "# SPSA: TwoLocal"
   ]
  },
  {
   "cell_type": "code",
   "execution_count": 8,
   "id": "a57dffd0",
   "metadata": {},
   "outputs": [
    {
     "name": "stdout",
     "output_type": "stream",
     "text": [
      "VQE result: 3.18339\n"
     ]
    }
   ],
   "source": [
    "#3.18339\n",
    "counts = []\n",
    "values = []\n",
    "result_spsa = run_qve_w_specified_optimizer(SPSA, ansatz_0a)\n",
    "counts_0a = counts\n",
    "values_0a = values"
   ]
  },
  {
   "cell_type": "code",
   "execution_count": 9,
   "id": "c0c39da0",
   "metadata": {},
   "outputs": [
    {
     "name": "stdout",
     "output_type": "stream",
     "text": [
      "VQE result: 3.17910\n"
     ]
    }
   ],
   "source": [
    "#3.17910\n",
    "counts = []\n",
    "values = []\n",
    "result_spsa = run_qve_w_specified_optimizer(SPSA, ansatz_0b)\n",
    "counts_0b = counts\n",
    "values_0b = values"
   ]
  },
  {
   "cell_type": "code",
   "execution_count": 10,
   "id": "c6655d0c",
   "metadata": {},
   "outputs": [
    {
     "name": "stdout",
     "output_type": "stream",
     "text": [
      "VQE result: 3.62318\n"
     ]
    }
   ],
   "source": [
    "#3.62318\n",
    "counts = []\n",
    "values = []\n",
    "result_spsa = run_qve_w_specified_optimizer(SPSA, ansatz_0c)\n",
    "counts_0c = counts\n",
    "values_0c = values"
   ]
  },
  {
   "cell_type": "code",
   "execution_count": 11,
   "id": "4e044153",
   "metadata": {},
   "outputs": [
    {
     "name": "stdout",
     "output_type": "stream",
     "text": [
      "VQE result: 3.13679\n"
     ]
    }
   ],
   "source": [
    "#3.13679\n",
    "counts = []\n",
    "values = []\n",
    "result_spsa = run_qve_w_specified_optimizer(SPSA, ansatz_0d)\n",
    "counts_0d = counts\n",
    "values_0d = values"
   ]
  },
  {
   "cell_type": "code",
   "execution_count": 12,
   "id": "466d5e00",
   "metadata": {},
   "outputs": [
    {
     "name": "stdout",
     "output_type": "stream",
     "text": [
      "VQE result: 3.16617\n"
     ]
    }
   ],
   "source": [
    "#3.16617\n",
    "counts = []\n",
    "values = []\n",
    "result_spsa = run_qve_w_specified_optimizer(SPSA, ansatz_1a)\n",
    "counts_1a = counts\n",
    "values_1a = values"
   ]
  },
  {
   "cell_type": "code",
   "execution_count": 13,
   "id": "3b0a0602",
   "metadata": {},
   "outputs": [
    {
     "name": "stdout",
     "output_type": "stream",
     "text": [
      "VQE result: 3.17910\n"
     ]
    }
   ],
   "source": [
    "#3.17910\n",
    "counts = []\n",
    "values = []\n",
    "result_spsa = run_qve_w_specified_optimizer(SPSA, ansatz_1b)\n",
    "counts_1b = counts\n",
    "values_1b = values"
   ]
  },
  {
   "cell_type": "code",
   "execution_count": 14,
   "id": "382b3fa3",
   "metadata": {},
   "outputs": [
    {
     "name": "stdout",
     "output_type": "stream",
     "text": [
      "VQE result: 4.10208\n"
     ]
    }
   ],
   "source": [
    "#4.10208\n",
    "counts = []\n",
    "values = []\n",
    "result_spsa = run_qve_w_specified_optimizer(SPSA, ansatz_1c)\n",
    "counts_1c = counts\n",
    "values_1c = values"
   ]
  },
  {
   "cell_type": "code",
   "execution_count": 15,
   "id": "ee9e1e3c",
   "metadata": {},
   "outputs": [
    {
     "name": "stdout",
     "output_type": "stream",
     "text": [
      "VQE result: 3.14366\n"
     ]
    }
   ],
   "source": [
    "#4.26060\n",
    "counts = []\n",
    "values = []\n",
    "result_spsa = run_qve_w_specified_optimizer(SPSA, ansatz_1d)\n",
    "counts_1d = counts\n",
    "values_1d = values"
   ]
  },
  {
   "cell_type": "code",
   "execution_count": 16,
   "id": "c4e23d40",
   "metadata": {},
   "outputs": [
    {
     "data": {
      "text/html": [
       "<div>\n",
       "<style scoped>\n",
       "    .dataframe tbody tr th:only-of-type {\n",
       "        vertical-align: middle;\n",
       "    }\n",
       "\n",
       "    .dataframe tbody tr th {\n",
       "        vertical-align: top;\n",
       "    }\n",
       "\n",
       "    .dataframe thead th {\n",
       "        text-align: right;\n",
       "    }\n",
       "</style>\n",
       "<table border=\"1\" class=\"dataframe\">\n",
       "  <thead>\n",
       "    <tr style=\"text-align: right;\">\n",
       "      <th></th>\n",
       "      <th>values_0a</th>\n",
       "      <th>values_0b</th>\n",
       "      <th>values_0c</th>\n",
       "      <th>values_0d</th>\n",
       "      <th>values_1a</th>\n",
       "      <th>values_1b</th>\n",
       "      <th>values_1c</th>\n",
       "      <th>values_1d</th>\n",
       "    </tr>\n",
       "  </thead>\n",
       "  <tbody>\n",
       "    <tr>\n",
       "      <th>0</th>\n",
       "      <td>12.692804</td>\n",
       "      <td>3.106743</td>\n",
       "      <td>11.520565</td>\n",
       "      <td>11.291845</td>\n",
       "      <td>13.148210</td>\n",
       "      <td>3.106743</td>\n",
       "      <td>14.978004</td>\n",
       "      <td>15.952792</td>\n",
       "    </tr>\n",
       "    <tr>\n",
       "      <th>1</th>\n",
       "      <td>14.786100</td>\n",
       "      <td>3.078833</td>\n",
       "      <td>12.554792</td>\n",
       "      <td>8.891964</td>\n",
       "      <td>13.565912</td>\n",
       "      <td>3.078833</td>\n",
       "      <td>14.638826</td>\n",
       "      <td>17.722649</td>\n",
       "    </tr>\n",
       "    <tr>\n",
       "      <th>2</th>\n",
       "      <td>14.892741</td>\n",
       "      <td>3.182943</td>\n",
       "      <td>12.661869</td>\n",
       "      <td>10.569361</td>\n",
       "      <td>12.596718</td>\n",
       "      <td>3.182943</td>\n",
       "      <td>14.292682</td>\n",
       "      <td>17.329318</td>\n",
       "    </tr>\n",
       "    <tr>\n",
       "      <th>3</th>\n",
       "      <td>12.881686</td>\n",
       "      <td>3.211858</td>\n",
       "      <td>11.338885</td>\n",
       "      <td>10.040035</td>\n",
       "      <td>13.557275</td>\n",
       "      <td>3.211858</td>\n",
       "      <td>15.031778</td>\n",
       "      <td>16.351447</td>\n",
       "    </tr>\n",
       "    <tr>\n",
       "      <th>4</th>\n",
       "      <td>14.809839</td>\n",
       "      <td>3.125087</td>\n",
       "      <td>12.531833</td>\n",
       "      <td>10.211150</td>\n",
       "      <td>12.167282</td>\n",
       "      <td>3.125087</td>\n",
       "      <td>14.934180</td>\n",
       "      <td>17.559067</td>\n",
       "    </tr>\n",
       "    <tr>\n",
       "      <th>...</th>\n",
       "      <td>...</td>\n",
       "      <td>...</td>\n",
       "      <td>...</td>\n",
       "      <td>...</td>\n",
       "      <td>...</td>\n",
       "      <td>...</td>\n",
       "      <td>...</td>\n",
       "      <td>...</td>\n",
       "    </tr>\n",
       "    <tr>\n",
       "      <th>546</th>\n",
       "      <td>3.269568</td>\n",
       "      <td>3.179395</td>\n",
       "      <td>3.725496</td>\n",
       "      <td>3.237611</td>\n",
       "      <td>3.293454</td>\n",
       "      <td>3.179395</td>\n",
       "      <td>4.116064</td>\n",
       "      <td>3.351472</td>\n",
       "    </tr>\n",
       "    <tr>\n",
       "      <th>547</th>\n",
       "      <td>3.286283</td>\n",
       "      <td>3.173587</td>\n",
       "      <td>3.801690</td>\n",
       "      <td>3.242824</td>\n",
       "      <td>3.280994</td>\n",
       "      <td>3.173587</td>\n",
       "      <td>4.240540</td>\n",
       "      <td>3.294939</td>\n",
       "    </tr>\n",
       "    <tr>\n",
       "      <th>548</th>\n",
       "      <td>3.276364</td>\n",
       "      <td>3.179395</td>\n",
       "      <td>3.747287</td>\n",
       "      <td>3.294357</td>\n",
       "      <td>3.185476</td>\n",
       "      <td>3.179395</td>\n",
       "      <td>4.143066</td>\n",
       "      <td>3.256069</td>\n",
       "    </tr>\n",
       "    <tr>\n",
       "      <th>549</th>\n",
       "      <td>3.239224</td>\n",
       "      <td>3.173587</td>\n",
       "      <td>3.711513</td>\n",
       "      <td>3.304204</td>\n",
       "      <td>3.196859</td>\n",
       "      <td>3.173587</td>\n",
       "      <td>4.335627</td>\n",
       "      <td>3.236816</td>\n",
       "    </tr>\n",
       "    <tr>\n",
       "      <th>550</th>\n",
       "      <td>3.183387</td>\n",
       "      <td>3.179100</td>\n",
       "      <td>3.623178</td>\n",
       "      <td>3.136785</td>\n",
       "      <td>3.166166</td>\n",
       "      <td>3.179100</td>\n",
       "      <td>4.102077</td>\n",
       "      <td>3.143659</td>\n",
       "    </tr>\n",
       "  </tbody>\n",
       "</table>\n",
       "<p>551 rows × 8 columns</p>\n",
       "</div>"
      ],
      "text/plain": [
       "     values_0a  values_0b  values_0c  values_0d  values_1a  values_1b  \\\n",
       "0    12.692804   3.106743  11.520565  11.291845  13.148210   3.106743   \n",
       "1    14.786100   3.078833  12.554792   8.891964  13.565912   3.078833   \n",
       "2    14.892741   3.182943  12.661869  10.569361  12.596718   3.182943   \n",
       "3    12.881686   3.211858  11.338885  10.040035  13.557275   3.211858   \n",
       "4    14.809839   3.125087  12.531833  10.211150  12.167282   3.125087   \n",
       "..         ...        ...        ...        ...        ...        ...   \n",
       "546   3.269568   3.179395   3.725496   3.237611   3.293454   3.179395   \n",
       "547   3.286283   3.173587   3.801690   3.242824   3.280994   3.173587   \n",
       "548   3.276364   3.179395   3.747287   3.294357   3.185476   3.179395   \n",
       "549   3.239224   3.173587   3.711513   3.304204   3.196859   3.173587   \n",
       "550   3.183387   3.179100   3.623178   3.136785   3.166166   3.179100   \n",
       "\n",
       "     values_1c  values_1d  \n",
       "0    14.978004  15.952792  \n",
       "1    14.638826  17.722649  \n",
       "2    14.292682  17.329318  \n",
       "3    15.031778  16.351447  \n",
       "4    14.934180  17.559067  \n",
       "..         ...        ...  \n",
       "546   4.116064   3.351472  \n",
       "547   4.240540   3.294939  \n",
       "548   4.143066   3.256069  \n",
       "549   4.335627   3.236816  \n",
       "550   4.102077   3.143659  \n",
       "\n",
       "[551 rows x 8 columns]"
      ]
     },
     "execution_count": 16,
     "metadata": {},
     "output_type": "execute_result"
    }
   ],
   "source": [
    "# save the data to a dataframe \n",
    "#don't reevaluate on a new run with just the new ansatze added\n",
    "import pandas as pd\n",
    "list_l2 = {'values_0a': values_0a, 'values_0b': values_0b, \n",
    "        'values_0c': values_0c, 'values_0d': values_0d,\n",
    "        'values_1a': values_1a, 'values_1b': values_1b, \n",
    "        'values_1c': values_1c,'values_1d': values_1d}\n",
    "qve_l2_tl_spsa= pd.DataFrame(list_l2)\n",
    "qve_l2_tl_spsa.to_csv('qve_l4_twolocal_spsa.csv')\n",
    "qve_l2_tl_spsa"
   ]
  }
 ],
 "metadata": {
  "kernelspec": {
   "display_name": "Python 3 (ipykernel)",
   "language": "python",
   "name": "python3"
  },
  "language_info": {
   "codemirror_mode": {
    "name": "ipython",
    "version": 3
   },
   "file_extension": ".py",
   "mimetype": "text/x-python",
   "name": "python",
   "nbconvert_exporter": "python",
   "pygments_lexer": "ipython3",
   "version": "3.12.7"
  }
 },
 "nbformat": 4,
 "nbformat_minor": 5
}
