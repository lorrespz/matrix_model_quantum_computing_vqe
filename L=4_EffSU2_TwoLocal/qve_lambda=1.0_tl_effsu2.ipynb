{
 "cells": [
  {
   "cell_type": "markdown",
   "id": "cf05ff5e",
   "metadata": {},
   "source": [
    "# Qiskit QVE - SU(2) Matrix Model [Lambda = 4]"
   ]
  },
  {
   "cell_type": "code",
   "execution_count": 1,
   "id": "c314136e",
   "metadata": {},
   "outputs": [],
   "source": [
    "import numpy as np\n",
    "import pylab\n",
    "import matplotlib.pyplot as plt\n",
    "from qiskit.circuit.library import TwoLocal, EfficientSU2\n",
    "\n",
    "import sys\n",
    "sys.path.append('../../utility')\n",
    "from vqe_run import *\n",
    "from qc_ansatze import *"
   ]
  },
  {
   "cell_type": "markdown",
   "id": "0349c136",
   "metadata": {},
   "source": [
    "# Convert the Hamiltonian to strings of Pauli ops"
   ]
  },
  {
   "cell_type": "code",
   "execution_count": 2,
   "id": "406ee52b",
   "metadata": {},
   "outputs": [],
   "source": [
    "# Load the H file already created using qiskit 0.28 from MBP 2015\n",
    "file = open(\"../../utility/pauliH_L4_g1.0.txt\", \"r\")\n",
    "content = file.read()\n",
    "#print(content)"
   ]
  },
  {
   "cell_type": "code",
   "execution_count": 3,
   "id": "653967bf",
   "metadata": {},
   "outputs": [],
   "source": [
    "data = content.split(',\\n')\n",
    "data[0] = data[0].split('\\n')[1]\n",
    "data[-1] = data[-1].split('\\n')[0]\n",
    "\n",
    "data_coeff = []\n",
    "data_str = []\n",
    "for i in range(len(data)):\n",
    "    data_coeff.append(float(data[i].split('*')[0]))\n",
    "    data_str.append(data[i].split('*')[1].split(' ')[1])\n",
    "    \n",
    "Hpauli = list(zip(data_str,data_coeff))\n",
    "#Hpauli"
   ]
  },
  {
   "cell_type": "code",
   "execution_count": 4,
   "id": "c18472dc",
   "metadata": {},
   "outputs": [
    {
     "name": "stdout",
     "output_type": "stream",
     "text": [
      "Exact Result of qubit hamiltonian: [3.52625444 4.78763673 4.78763673 4.78763673]\n"
     ]
    },
    {
     "data": {
      "text/plain": [
       "3.52625"
      ]
     },
     "execution_count": 4,
     "metadata": {},
     "output_type": "execute_result"
    }
   ],
   "source": [
    "from qiskit.quantum_info import SparsePauliOp\n",
    "from qiskit_algorithms import NumPyEigensolver\n",
    "H4q = SparsePauliOp.from_list(Hpauli)\n",
    "\n",
    "solver = NumPyEigensolver(k=4)\n",
    "exact_solution = solver.compute_eigenvalues(H4q)\n",
    "print(\"Exact Result of qubit hamiltonian:\", np.real(exact_solution.eigenvalues))\n",
    "E_exact = np.round(np.real(exact_solution.eigenvalues)[0],5)\n",
    "E_exact"
   ]
  },
  {
   "cell_type": "markdown",
   "id": "37bb9794",
   "metadata": {},
   "source": [
    "# Circuit ansatze"
   ]
  },
  {
   "cell_type": "code",
   "execution_count": 5,
   "id": "8ac9ba23",
   "metadata": {},
   "outputs": [],
   "source": [
    "#CIRCUIT ANSATZ\n",
    "from qiskit.circuit.library import TwoLocal, EfficientSU2"
   ]
  },
  {
   "cell_type": "code",
   "execution_count": 6,
   "id": "85050d70-0aa2-4dd1-b14e-44d3a448bc29",
   "metadata": {},
   "outputs": [
    {
     "name": "stdout",
     "output_type": "stream",
     "text": [
      "Circuit ansatz with 36 parameters\n",
      "Circuit ansatz with 36 parameters\n",
      "Circuit ansatz with 60 parameters\n",
      "Circuit ansatz with 36 parameters\n",
      "Circuit ansatz with 90 parameters\n",
      "Circuit ansatz with 90 parameters\n",
      "Circuit ansatz with 114 parameters\n",
      "Circuit ansatz with 90 parameters\n"
     ]
    }
   ],
   "source": [
    "reps=1\n",
    "ansatz_0a = TL_ansatz(H4q.num_qubits, 'ry', 'crx', \"circular\", reps)\n",
    "ansatz_0b = TL_ansatz(H4q.num_qubits, 'rz', 'crx', 'circular', reps)\n",
    "ansatz_0c = TL_ansatz(H4q.num_qubits, ['ry','rz'], 'crx', 'circular', reps)\n",
    "ansatz_0d = TL_ansatz(H4q.num_qubits,['ry','y'], 'crx', 'circular', reps)\n",
    "\n",
    "ansatz_1a =  TL_ansatz(H4q.num_qubits, 'ry', 'crx', \"full\", reps)\n",
    "ansatz_1b =  TL_ansatz(H4q.num_qubits, 'rz', 'crx', \"full\", reps)\n",
    "ansatz_1c =  TL_ansatz(H4q.num_qubits, ['ry','rz'], 'crx', \"full\", reps)\n",
    "ansatz_1d =  TL_ansatz(H4q.num_qubits, ['ry','y'], 'crx', \"full\", reps)"
   ]
  },
  {
   "cell_type": "code",
   "execution_count": 7,
   "id": "cb4eeee4-10b4-4ccb-8a3b-effc5ca95d45",
   "metadata": {},
   "outputs": [
    {
     "name": "stdout",
     "output_type": "stream",
     "text": [
      "Circuit ansatz with 24 parameters\n",
      "Circuit ansatz with 24 parameters\n",
      "Circuit ansatz with 48 parameters\n",
      "Circuit ansatz with 24 parameters\n",
      "Circuit ansatz with 24 parameters\n",
      "Circuit ansatz with 24 parameters\n",
      "Circuit ansatz with 48 parameters\n",
      "Circuit ansatz with 24 parameters\n"
     ]
    }
   ],
   "source": [
    "reps=1\n",
    "ansatz_0a_su2 = ef_ansatz(H4q.num_qubits, 'ry',  \"circular\", reps)\n",
    "ansatz_0b_su2 = ef_ansatz(H4q.num_qubits, 'rz',  'circular', reps)\n",
    "ansatz_0c_su2 = ef_ansatz(H4q.num_qubits, ['ry','rz'], 'circular', reps)\n",
    "ansatz_0d_su2 = ef_ansatz(H4q.num_qubits,['ry','y'], 'circular', reps)\n",
    "\n",
    "ansatz_1a_su2 =  ef_ansatz(H4q.num_qubits, 'ry',  \"full\", reps)\n",
    "ansatz_1b_su2 =  ef_ansatz(H4q.num_qubits, 'rz',  \"full\", reps)\n",
    "ansatz_1c_su2 =  ef_ansatz(H4q.num_qubits, ['ry','rz'], \"full\", reps)\n",
    "ansatz_1d_su2 =  ef_ansatz(H4q.num_qubits, ['ry','y'],  \"full\", reps)"
   ]
  },
  {
   "cell_type": "markdown",
   "id": "46382675",
   "metadata": {},
   "source": [
    "# Qiskit QVE: Noiseless simulator\n",
    "\n",
    "https://qiskit.github.io/qiskit-aer/stubs/qiskit_aer.primitives.Estimator.html\n",
    "\n",
    "https://qiskit-community.github.io/qiskit-algorithms/tutorials/03_vqe_simulation_with_noise.html"
   ]
  },
  {
   "cell_type": "code",
   "execution_count": 8,
   "id": "966164ab",
   "metadata": {},
   "outputs": [],
   "source": [
    "#VQE ALGORITHMS\n",
    "from qiskit_algorithms import VQE\n",
    "from qiskit_algorithms.optimizers import SPSA\n",
    "from qiskit_algorithms.utils import algorithm_globals \n",
    "from qiskit_aer.primitives import Estimator as AerEstimator\n",
    "\n",
    "import warnings\n",
    "warnings.filterwarnings(\"ignore\")\n",
    "seed = 170\n",
    "iterations = 350\n",
    "algorithm_globals.random_seed = seed\n",
    "\n",
    "#estimator\n",
    "noiseless_estimator = AerEstimator(\n",
    "    run_options={\"seed\": seed, \"shots\": 1024},\n",
    "    transpile_options={\"seed_transpiler\": seed},\n",
    ")\n",
    "#storing values\n",
    "counts = []\n",
    "values = []\n",
    "def store_intermediate_result(eval_count, parameters, mean, std):\n",
    "    counts.append(eval_count)\n",
    "    values.append(mean)\n",
    "    \n",
    "def run_qve_w_specified_optimizer(optimizer, ansatz):\n",
    "    opt = optimizer(maxiter = iterations)\n",
    "    vqe = VQE(noiseless_estimator, ansatz, optimizer=opt, callback=store_intermediate_result)\n",
    "    result = vqe.compute_minimum_eigenvalue(operator=H4q).eigenvalue.real\n",
    "    print(f\"VQE result: {result:.5f}\")\n",
    "    return result"
   ]
  },
  {
   "cell_type": "markdown",
   "id": "324f0410-da5e-4d72-87a9-3ea039035b29",
   "metadata": {},
   "source": [
    "# COBYLA: EffSU2"
   ]
  },
  {
   "cell_type": "code",
   "execution_count": 9,
   "id": "0069c3ed-c619-4660-9ada-cb2fab6b01f1",
   "metadata": {},
   "outputs": [
    {
     "name": "stdout",
     "output_type": "stream",
     "text": [
      "VQE result: 5.64314\n"
     ]
    }
   ],
   "source": [
    "counts = []\n",
    "values = []\n",
    "result = run_qve_w_specified_optimizer(COBYLA, ansatz_0a_su2)\n",
    "counts_0a_c = counts\n",
    "values_0a_c = values"
   ]
  },
  {
   "cell_type": "code",
   "execution_count": 10,
   "id": "a708ced1-7fc1-4185-bb6e-ce4cfa73833a",
   "metadata": {},
   "outputs": [
    {
     "name": "stdout",
     "output_type": "stream",
     "text": [
      "VQE result: 3.89550\n"
     ]
    }
   ],
   "source": [
    "counts = []\n",
    "values = []\n",
    "result = run_qve_w_specified_optimizer(COBYLA, ansatz_0b_su2)\n",
    "counts_0b_c = counts\n",
    "values_0b_c = values"
   ]
  },
  {
   "cell_type": "code",
   "execution_count": 11,
   "id": "25370d0d-b9f7-471c-b615-96ea7d31d41f",
   "metadata": {},
   "outputs": [
    {
     "name": "stdout",
     "output_type": "stream",
     "text": [
      "VQE result: 6.89548\n"
     ]
    }
   ],
   "source": [
    "counts = []\n",
    "values = []\n",
    "result = run_qve_w_specified_optimizer(COBYLA, ansatz_0c_su2)\n",
    "counts_0c_c = counts\n",
    "values_0c_c = values"
   ]
  },
  {
   "cell_type": "code",
   "execution_count": 12,
   "id": "2de32f62-581d-4cd1-b8d7-5cd82589a43a",
   "metadata": {},
   "outputs": [
    {
     "name": "stdout",
     "output_type": "stream",
     "text": [
      "VQE result: 6.65659\n"
     ]
    }
   ],
   "source": [
    "counts = []\n",
    "values = []\n",
    "result = run_qve_w_specified_optimizer(COBYLA, ansatz_0d_su2)\n",
    "counts_0d_c = counts\n",
    "values_0d_c = values"
   ]
  },
  {
   "cell_type": "code",
   "execution_count": 13,
   "id": "067502a4-0a9a-4986-b8d3-ba8df7f87de4",
   "metadata": {},
   "outputs": [
    {
     "name": "stdout",
     "output_type": "stream",
     "text": [
      "VQE result: 6.30709\n"
     ]
    }
   ],
   "source": [
    "counts = []\n",
    "values = []\n",
    "result = run_qve_w_specified_optimizer(COBYLA, ansatz_1a_su2)\n",
    "counts_1a_c = counts\n",
    "values_1a_c = values"
   ]
  },
  {
   "cell_type": "code",
   "execution_count": 14,
   "id": "207ba8dc-7c3b-476c-a2e6-4b1bb647c4f3",
   "metadata": {},
   "outputs": [
    {
     "name": "stdout",
     "output_type": "stream",
     "text": [
      "VQE result: 3.89550\n"
     ]
    }
   ],
   "source": [
    "counts = []\n",
    "values = []\n",
    "result = run_qve_w_specified_optimizer(COBYLA, ansatz_1b_su2)\n",
    "counts_1b_c = counts\n",
    "values_1b_c = values"
   ]
  },
  {
   "cell_type": "code",
   "execution_count": 15,
   "id": "94d25c93-50c2-482b-9326-9464082216e7",
   "metadata": {},
   "outputs": [
    {
     "name": "stdout",
     "output_type": "stream",
     "text": [
      "VQE result: 6.03170\n"
     ]
    }
   ],
   "source": [
    "counts = []\n",
    "values = []\n",
    "result = run_qve_w_specified_optimizer(COBYLA, ansatz_1c_su2)\n",
    "counts_1c_c = counts\n",
    "values_1c_c = values"
   ]
  },
  {
   "cell_type": "code",
   "execution_count": 16,
   "id": "1914c86c-77e6-41c8-b06d-46d97f222d5f",
   "metadata": {},
   "outputs": [
    {
     "name": "stdout",
     "output_type": "stream",
     "text": [
      "VQE result: 4.30899\n"
     ]
    }
   ],
   "source": [
    "counts = []\n",
    "values = []\n",
    "result = run_qve_w_specified_optimizer(COBYLA, ansatz_1d_su2)\n",
    "counts_1d_c = counts\n",
    "values_1d_c = values"
   ]
  },
  {
   "cell_type": "code",
   "execution_count": 17,
   "id": "261becc2-6f50-47ef-a00d-c9a2ccc3d348",
   "metadata": {},
   "outputs": [
    {
     "data": {
      "text/html": [
       "<div>\n",
       "<style scoped>\n",
       "    .dataframe tbody tr th:only-of-type {\n",
       "        vertical-align: middle;\n",
       "    }\n",
       "\n",
       "    .dataframe tbody tr th {\n",
       "        vertical-align: top;\n",
       "    }\n",
       "\n",
       "    .dataframe thead th {\n",
       "        text-align: right;\n",
       "    }\n",
       "</style>\n",
       "<table border=\"1\" class=\"dataframe\">\n",
       "  <thead>\n",
       "    <tr style=\"text-align: right;\">\n",
       "      <th></th>\n",
       "      <th>values_0a_su2</th>\n",
       "      <th>values_0b_su2</th>\n",
       "      <th>values_0c_su2</th>\n",
       "      <th>values_0d_su2</th>\n",
       "      <th>values_1a_su2</th>\n",
       "      <th>values_1b_su2</th>\n",
       "      <th>values_1c_su2</th>\n",
       "      <th>values_1d_su2</th>\n",
       "    </tr>\n",
       "  </thead>\n",
       "  <tbody>\n",
       "    <tr>\n",
       "      <th>0</th>\n",
       "      <td>18.238864</td>\n",
       "      <td>3.8955</td>\n",
       "      <td>17.320240</td>\n",
       "      <td>11.555572</td>\n",
       "      <td>17.384587</td>\n",
       "      <td>3.8955</td>\n",
       "      <td>18.618986</td>\n",
       "      <td>15.794905</td>\n",
       "    </tr>\n",
       "    <tr>\n",
       "      <th>1</th>\n",
       "      <td>20.669937</td>\n",
       "      <td>3.8955</td>\n",
       "      <td>17.220906</td>\n",
       "      <td>11.080493</td>\n",
       "      <td>19.133337</td>\n",
       "      <td>3.8955</td>\n",
       "      <td>19.249112</td>\n",
       "      <td>15.205208</td>\n",
       "    </tr>\n",
       "    <tr>\n",
       "      <th>2</th>\n",
       "      <td>18.498451</td>\n",
       "      <td>3.8955</td>\n",
       "      <td>17.570844</td>\n",
       "      <td>11.842126</td>\n",
       "      <td>18.241257</td>\n",
       "      <td>3.8955</td>\n",
       "      <td>20.157970</td>\n",
       "      <td>14.373984</td>\n",
       "    </tr>\n",
       "    <tr>\n",
       "      <th>3</th>\n",
       "      <td>18.587565</td>\n",
       "      <td>3.8955</td>\n",
       "      <td>18.051687</td>\n",
       "      <td>11.427519</td>\n",
       "      <td>19.196303</td>\n",
       "      <td>3.8955</td>\n",
       "      <td>17.168893</td>\n",
       "      <td>14.540694</td>\n",
       "    </tr>\n",
       "    <tr>\n",
       "      <th>4</th>\n",
       "      <td>16.846246</td>\n",
       "      <td>3.8955</td>\n",
       "      <td>17.761350</td>\n",
       "      <td>12.389467</td>\n",
       "      <td>17.546837</td>\n",
       "      <td>3.8955</td>\n",
       "      <td>17.472906</td>\n",
       "      <td>13.215987</td>\n",
       "    </tr>\n",
       "    <tr>\n",
       "      <th>...</th>\n",
       "      <td>...</td>\n",
       "      <td>...</td>\n",
       "      <td>...</td>\n",
       "      <td>...</td>\n",
       "      <td>...</td>\n",
       "      <td>...</td>\n",
       "      <td>...</td>\n",
       "      <td>...</td>\n",
       "    </tr>\n",
       "    <tr>\n",
       "      <th>345</th>\n",
       "      <td>NaN</td>\n",
       "      <td>NaN</td>\n",
       "      <td>7.079227</td>\n",
       "      <td>NaN</td>\n",
       "      <td>NaN</td>\n",
       "      <td>NaN</td>\n",
       "      <td>6.138003</td>\n",
       "      <td>4.315275</td>\n",
       "    </tr>\n",
       "    <tr>\n",
       "      <th>346</th>\n",
       "      <td>NaN</td>\n",
       "      <td>NaN</td>\n",
       "      <td>7.175832</td>\n",
       "      <td>NaN</td>\n",
       "      <td>NaN</td>\n",
       "      <td>NaN</td>\n",
       "      <td>6.230489</td>\n",
       "      <td>4.306989</td>\n",
       "    </tr>\n",
       "    <tr>\n",
       "      <th>347</th>\n",
       "      <td>NaN</td>\n",
       "      <td>NaN</td>\n",
       "      <td>7.005336</td>\n",
       "      <td>NaN</td>\n",
       "      <td>NaN</td>\n",
       "      <td>NaN</td>\n",
       "      <td>6.158951</td>\n",
       "      <td>4.308993</td>\n",
       "    </tr>\n",
       "    <tr>\n",
       "      <th>348</th>\n",
       "      <td>NaN</td>\n",
       "      <td>NaN</td>\n",
       "      <td>7.240691</td>\n",
       "      <td>NaN</td>\n",
       "      <td>NaN</td>\n",
       "      <td>NaN</td>\n",
       "      <td>6.227389</td>\n",
       "      <td>NaN</td>\n",
       "    </tr>\n",
       "    <tr>\n",
       "      <th>349</th>\n",
       "      <td>NaN</td>\n",
       "      <td>NaN</td>\n",
       "      <td>6.943460</td>\n",
       "      <td>NaN</td>\n",
       "      <td>NaN</td>\n",
       "      <td>NaN</td>\n",
       "      <td>6.110654</td>\n",
       "      <td>NaN</td>\n",
       "    </tr>\n",
       "  </tbody>\n",
       "</table>\n",
       "<p>350 rows × 8 columns</p>\n",
       "</div>"
      ],
      "text/plain": [
       "     values_0a_su2  values_0b_su2  values_0c_su2  values_0d_su2  \\\n",
       "0        18.238864         3.8955      17.320240      11.555572   \n",
       "1        20.669937         3.8955      17.220906      11.080493   \n",
       "2        18.498451         3.8955      17.570844      11.842126   \n",
       "3        18.587565         3.8955      18.051687      11.427519   \n",
       "4        16.846246         3.8955      17.761350      12.389467   \n",
       "..             ...            ...            ...            ...   \n",
       "345            NaN            NaN       7.079227            NaN   \n",
       "346            NaN            NaN       7.175832            NaN   \n",
       "347            NaN            NaN       7.005336            NaN   \n",
       "348            NaN            NaN       7.240691            NaN   \n",
       "349            NaN            NaN       6.943460            NaN   \n",
       "\n",
       "     values_1a_su2  values_1b_su2  values_1c_su2  values_1d_su2  \n",
       "0        17.384587         3.8955      18.618986      15.794905  \n",
       "1        19.133337         3.8955      19.249112      15.205208  \n",
       "2        18.241257         3.8955      20.157970      14.373984  \n",
       "3        19.196303         3.8955      17.168893      14.540694  \n",
       "4        17.546837         3.8955      17.472906      13.215987  \n",
       "..             ...            ...            ...            ...  \n",
       "345            NaN            NaN       6.138003       4.315275  \n",
       "346            NaN            NaN       6.230489       4.306989  \n",
       "347            NaN            NaN       6.158951       4.308993  \n",
       "348            NaN            NaN       6.227389            NaN  \n",
       "349            NaN            NaN       6.110654            NaN  \n",
       "\n",
       "[350 rows x 8 columns]"
      ]
     },
     "execution_count": 17,
     "metadata": {},
     "output_type": "execute_result"
    }
   ],
   "source": [
    "df1 = pd.DataFrame({'values_0a_su2': values_0a_c})\n",
    "df2 = pd.DataFrame({'values_0b_su2': values_0b_c})\n",
    "df3 = pd.DataFrame({'values_0c_su2': values_0c_c})\n",
    "df4 = pd.DataFrame({'values_0d_su2': values_0d_c})\n",
    "df5 = pd.DataFrame({'values_1a_su2': values_1a_c})\n",
    "df6 = pd.DataFrame({'values_1b_su2': values_1b_c})\n",
    "df7 = pd.DataFrame({'values_1c_su2': values_1c_c})\n",
    "df8 = pd.DataFrame({'values_1d_su2': values_1d_c})\n",
    "qve_l2_tl_cobyla = pd.concat([df1, df2, df3, df4, df5, df6, df7,df8], axis = 1)\n",
    "qve_l2_tl_cobyla.to_csv('qve_l4_l=1.0_effsu2_cobyla.csv')\n",
    "qve_l2_tl_cobyla"
   ]
  },
  {
   "cell_type": "markdown",
   "id": "71e9c009-985d-45fa-a991-0b38a7400a01",
   "metadata": {},
   "source": [
    "# COBYLA: TwoLocal"
   ]
  },
  {
   "cell_type": "code",
   "execution_count": 18,
   "id": "b7a1825b-0cc3-4b48-ac6d-6604f60565bd",
   "metadata": {},
   "outputs": [
    {
     "name": "stdout",
     "output_type": "stream",
     "text": [
      "VQE result: 3.34163\n"
     ]
    }
   ],
   "source": [
    "counts = []\n",
    "values = []\n",
    "result = run_qve_w_specified_optimizer(COBYLA, ansatz_0a)\n",
    "counts_0a_c = counts\n",
    "values_0a_c = values"
   ]
  },
  {
   "cell_type": "code",
   "execution_count": 19,
   "id": "8cf77343-38ec-49b6-80b7-dbe7c6173826",
   "metadata": {},
   "outputs": [
    {
     "name": "stdout",
     "output_type": "stream",
     "text": [
      "VQE result: 3.89550\n"
     ]
    }
   ],
   "source": [
    "counts = []\n",
    "values = []\n",
    "result = run_qve_w_specified_optimizer(COBYLA, ansatz_0b)\n",
    "counts_0b_c = counts\n",
    "values_0b_c = values"
   ]
  },
  {
   "cell_type": "code",
   "execution_count": 20,
   "id": "70f3b1b9-1357-4e43-9d72-06ca141673f1",
   "metadata": {},
   "outputs": [
    {
     "name": "stdout",
     "output_type": "stream",
     "text": [
      "VQE result: 6.02242\n"
     ]
    }
   ],
   "source": [
    "counts = []\n",
    "values = []\n",
    "result = run_qve_w_specified_optimizer(COBYLA, ansatz_0c)\n",
    "counts_0c_c = counts\n",
    "values_0c_c = values"
   ]
  },
  {
   "cell_type": "code",
   "execution_count": 21,
   "id": "992a292c-abed-488a-9c57-ac27bb5c0d05",
   "metadata": {},
   "outputs": [
    {
     "name": "stdout",
     "output_type": "stream",
     "text": [
      "VQE result: 4.94714\n"
     ]
    }
   ],
   "source": [
    "counts = []\n",
    "values = []\n",
    "result = run_qve_w_specified_optimizer(COBYLA, ansatz_0d)\n",
    "counts_0d_c = counts\n",
    "values_0d_c = values"
   ]
  },
  {
   "cell_type": "code",
   "execution_count": 22,
   "id": "3a1863a6-bcba-46af-8915-68ff073ff394",
   "metadata": {},
   "outputs": [
    {
     "name": "stdout",
     "output_type": "stream",
     "text": [
      "VQE result: 3.56694\n"
     ]
    }
   ],
   "source": [
    "counts = []\n",
    "values = []\n",
    "result = run_qve_w_specified_optimizer(COBYLA, ansatz_1a)\n",
    "counts_1a_c = counts\n",
    "values_1a_c = values"
   ]
  },
  {
   "cell_type": "code",
   "execution_count": 23,
   "id": "1184a2fc-c0f2-4d83-a9f7-3d3c437d8e3f",
   "metadata": {},
   "outputs": [
    {
     "name": "stdout",
     "output_type": "stream",
     "text": [
      "VQE result: 3.89550\n"
     ]
    }
   ],
   "source": [
    "counts = []\n",
    "values = []\n",
    "result = run_qve_w_specified_optimizer(COBYLA, ansatz_1b)\n",
    "counts_1b_c = counts\n",
    "values_1b_c = values"
   ]
  },
  {
   "cell_type": "code",
   "execution_count": 24,
   "id": "e899b069-cb39-4494-bd2a-790022503a80",
   "metadata": {},
   "outputs": [
    {
     "name": "stdout",
     "output_type": "stream",
     "text": [
      "VQE result: 4.60628\n"
     ]
    }
   ],
   "source": [
    "counts = []\n",
    "values = []\n",
    "result = run_qve_w_specified_optimizer(COBYLA, ansatz_1c)\n",
    "counts_1c_c = counts\n",
    "values_1c_c = values"
   ]
  },
  {
   "cell_type": "code",
   "execution_count": 25,
   "id": "ccba3fbc-6e28-4016-8bc6-5e3f1a708edc",
   "metadata": {},
   "outputs": [
    {
     "name": "stdout",
     "output_type": "stream",
     "text": [
      "VQE result: 3.55768\n"
     ]
    }
   ],
   "source": [
    "counts = []\n",
    "values = []\n",
    "result = run_qve_w_specified_optimizer(COBYLA, ansatz_1d)\n",
    "counts_1d_c = counts\n",
    "values_1d_c = values"
   ]
  },
  {
   "cell_type": "code",
   "execution_count": 26,
   "id": "62b3a07a-b81d-40f3-90c9-089285df36ce",
   "metadata": {},
   "outputs": [
    {
     "data": {
      "text/html": [
       "<div>\n",
       "<style scoped>\n",
       "    .dataframe tbody tr th:only-of-type {\n",
       "        vertical-align: middle;\n",
       "    }\n",
       "\n",
       "    .dataframe tbody tr th {\n",
       "        vertical-align: top;\n",
       "    }\n",
       "\n",
       "    .dataframe thead th {\n",
       "        text-align: right;\n",
       "    }\n",
       "</style>\n",
       "<table border=\"1\" class=\"dataframe\">\n",
       "  <thead>\n",
       "    <tr style=\"text-align: right;\">\n",
       "      <th></th>\n",
       "      <th>values_0a</th>\n",
       "      <th>values_0b</th>\n",
       "      <th>values_0c</th>\n",
       "      <th>values_0d</th>\n",
       "      <th>values_1a</th>\n",
       "      <th>values_1b</th>\n",
       "      <th>values_1c</th>\n",
       "      <th>values_1d</th>\n",
       "    </tr>\n",
       "  </thead>\n",
       "  <tbody>\n",
       "    <tr>\n",
       "      <th>0</th>\n",
       "      <td>11.564872</td>\n",
       "      <td>3.8955</td>\n",
       "      <td>21.186167</td>\n",
       "      <td>24.517564</td>\n",
       "      <td>21.359263</td>\n",
       "      <td>3.8955</td>\n",
       "      <td>21.771055</td>\n",
       "      <td>22.492601</td>\n",
       "    </tr>\n",
       "    <tr>\n",
       "      <th>1</th>\n",
       "      <td>12.218331</td>\n",
       "      <td>3.8955</td>\n",
       "      <td>20.885729</td>\n",
       "      <td>24.332071</td>\n",
       "      <td>21.612058</td>\n",
       "      <td>3.8955</td>\n",
       "      <td>20.371796</td>\n",
       "      <td>22.735122</td>\n",
       "    </tr>\n",
       "    <tr>\n",
       "      <th>2</th>\n",
       "      <td>12.828017</td>\n",
       "      <td>3.8955</td>\n",
       "      <td>21.735508</td>\n",
       "      <td>23.090605</td>\n",
       "      <td>20.662223</td>\n",
       "      <td>3.8955</td>\n",
       "      <td>22.680090</td>\n",
       "      <td>21.990585</td>\n",
       "    </tr>\n",
       "    <tr>\n",
       "      <th>3</th>\n",
       "      <td>11.488117</td>\n",
       "      <td>3.8955</td>\n",
       "      <td>21.018038</td>\n",
       "      <td>22.922545</td>\n",
       "      <td>20.983776</td>\n",
       "      <td>3.8955</td>\n",
       "      <td>20.557509</td>\n",
       "      <td>21.105480</td>\n",
       "    </tr>\n",
       "    <tr>\n",
       "      <th>4</th>\n",
       "      <td>12.955042</td>\n",
       "      <td>3.8955</td>\n",
       "      <td>20.923238</td>\n",
       "      <td>22.386801</td>\n",
       "      <td>21.886872</td>\n",
       "      <td>3.8955</td>\n",
       "      <td>18.353516</td>\n",
       "      <td>22.631992</td>\n",
       "    </tr>\n",
       "    <tr>\n",
       "      <th>...</th>\n",
       "      <td>...</td>\n",
       "      <td>...</td>\n",
       "      <td>...</td>\n",
       "      <td>...</td>\n",
       "      <td>...</td>\n",
       "      <td>...</td>\n",
       "      <td>...</td>\n",
       "      <td>...</td>\n",
       "    </tr>\n",
       "    <tr>\n",
       "      <th>345</th>\n",
       "      <td>3.403879</td>\n",
       "      <td>NaN</td>\n",
       "      <td>6.203914</td>\n",
       "      <td>4.962208</td>\n",
       "      <td>3.869883</td>\n",
       "      <td>3.8955</td>\n",
       "      <td>4.926763</td>\n",
       "      <td>3.644115</td>\n",
       "    </tr>\n",
       "    <tr>\n",
       "      <th>346</th>\n",
       "      <td>3.453957</td>\n",
       "      <td>NaN</td>\n",
       "      <td>6.293613</td>\n",
       "      <td>4.954381</td>\n",
       "      <td>3.596020</td>\n",
       "      <td>3.8955</td>\n",
       "      <td>5.217999</td>\n",
       "      <td>3.601088</td>\n",
       "    </tr>\n",
       "    <tr>\n",
       "      <th>347</th>\n",
       "      <td>3.408780</td>\n",
       "      <td>NaN</td>\n",
       "      <td>6.344275</td>\n",
       "      <td>4.977399</td>\n",
       "      <td>3.596992</td>\n",
       "      <td>3.8955</td>\n",
       "      <td>4.822669</td>\n",
       "      <td>3.567244</td>\n",
       "    </tr>\n",
       "    <tr>\n",
       "      <th>348</th>\n",
       "      <td>3.421897</td>\n",
       "      <td>NaN</td>\n",
       "      <td>6.579044</td>\n",
       "      <td>4.953290</td>\n",
       "      <td>3.648937</td>\n",
       "      <td>3.8955</td>\n",
       "      <td>4.802844</td>\n",
       "      <td>3.855675</td>\n",
       "    </tr>\n",
       "    <tr>\n",
       "      <th>349</th>\n",
       "      <td>3.386494</td>\n",
       "      <td>NaN</td>\n",
       "      <td>6.180989</td>\n",
       "      <td>4.962840</td>\n",
       "      <td>3.566943</td>\n",
       "      <td>3.8955</td>\n",
       "      <td>4.606284</td>\n",
       "      <td>3.744139</td>\n",
       "    </tr>\n",
       "  </tbody>\n",
       "</table>\n",
       "<p>350 rows × 8 columns</p>\n",
       "</div>"
      ],
      "text/plain": [
       "     values_0a  values_0b  values_0c  values_0d  values_1a  values_1b  \\\n",
       "0    11.564872     3.8955  21.186167  24.517564  21.359263     3.8955   \n",
       "1    12.218331     3.8955  20.885729  24.332071  21.612058     3.8955   \n",
       "2    12.828017     3.8955  21.735508  23.090605  20.662223     3.8955   \n",
       "3    11.488117     3.8955  21.018038  22.922545  20.983776     3.8955   \n",
       "4    12.955042     3.8955  20.923238  22.386801  21.886872     3.8955   \n",
       "..         ...        ...        ...        ...        ...        ...   \n",
       "345   3.403879        NaN   6.203914   4.962208   3.869883     3.8955   \n",
       "346   3.453957        NaN   6.293613   4.954381   3.596020     3.8955   \n",
       "347   3.408780        NaN   6.344275   4.977399   3.596992     3.8955   \n",
       "348   3.421897        NaN   6.579044   4.953290   3.648937     3.8955   \n",
       "349   3.386494        NaN   6.180989   4.962840   3.566943     3.8955   \n",
       "\n",
       "     values_1c  values_1d  \n",
       "0    21.771055  22.492601  \n",
       "1    20.371796  22.735122  \n",
       "2    22.680090  21.990585  \n",
       "3    20.557509  21.105480  \n",
       "4    18.353516  22.631992  \n",
       "..         ...        ...  \n",
       "345   4.926763   3.644115  \n",
       "346   5.217999   3.601088  \n",
       "347   4.822669   3.567244  \n",
       "348   4.802844   3.855675  \n",
       "349   4.606284   3.744139  \n",
       "\n",
       "[350 rows x 8 columns]"
      ]
     },
     "execution_count": 26,
     "metadata": {},
     "output_type": "execute_result"
    }
   ],
   "source": [
    "df1 = pd.DataFrame({'values_0a': values_0a_c})\n",
    "df2 = pd.DataFrame({'values_0b': values_0b_c})\n",
    "df3 = pd.DataFrame({'values_0c': values_0c_c})\n",
    "df4 = pd.DataFrame({'values_0d': values_0d_c})\n",
    "df5 = pd.DataFrame({'values_1a': values_1a_c})\n",
    "df6 = pd.DataFrame({'values_1b': values_1b_c})\n",
    "df7 = pd.DataFrame({'values_1c': values_1c_c})\n",
    "df8 = pd.DataFrame({'values_1d': values_1d_c})\n",
    "qve_l2_tl_cobyla = pd.concat([df1, df2, df3, df4, df5, df6, df7,df8], axis = 1)\n",
    "qve_l2_tl_cobyla.to_csv('qve_l4_l=1.0_twolocal_cobyla.csv')\n",
    "qve_l2_tl_cobyla"
   ]
  },
  {
   "cell_type": "markdown",
   "id": "b10cf418-46a9-41df-9cdf-2c83b25d4627",
   "metadata": {},
   "source": [
    "# SPSA: EffSU2"
   ]
  },
  {
   "cell_type": "code",
   "execution_count": 27,
   "id": "ace71230-be9c-4f48-a974-527ce16669c8",
   "metadata": {},
   "outputs": [
    {
     "name": "stdout",
     "output_type": "stream",
     "text": [
      "VQE result: 4.22957\n"
     ]
    }
   ],
   "source": [
    "counts = []\n",
    "values = []\n",
    "result_spsa = run_qve_w_specified_optimizer(SPSA, ansatz_0a_su2)\n",
    "counts_0a = counts\n",
    "values_0a = values"
   ]
  },
  {
   "cell_type": "code",
   "execution_count": 28,
   "id": "3d77e90a-425e-4619-9bf6-9a8df257c03e",
   "metadata": {},
   "outputs": [
    {
     "name": "stdout",
     "output_type": "stream",
     "text": [
      "VQE result: 3.89550\n"
     ]
    }
   ],
   "source": [
    "counts = []\n",
    "values = []\n",
    "result_spsa = run_qve_w_specified_optimizer(SPSA, ansatz_0b_su2)\n",
    "counts_0b = counts\n",
    "values_0b = values"
   ]
  },
  {
   "cell_type": "code",
   "execution_count": 29,
   "id": "dbd7264d-f507-4603-b3ed-d807098a04e9",
   "metadata": {},
   "outputs": [
    {
     "name": "stdout",
     "output_type": "stream",
     "text": [
      "VQE result: 8.01018\n"
     ]
    }
   ],
   "source": [
    "counts = []\n",
    "values = []\n",
    "result_spsa = run_qve_w_specified_optimizer(SPSA, ansatz_0c_su2)\n",
    "counts_0c = counts\n",
    "values_0c = values"
   ]
  },
  {
   "cell_type": "code",
   "execution_count": 30,
   "id": "2edcb1bc-53c4-4cb4-b150-7043c86c96cf",
   "metadata": {},
   "outputs": [
    {
     "name": "stdout",
     "output_type": "stream",
     "text": [
      "VQE result: 5.67670\n"
     ]
    }
   ],
   "source": [
    "counts = []\n",
    "values = []\n",
    "result_spsa = run_qve_w_specified_optimizer(SPSA, ansatz_0d_su2)\n",
    "counts_0d = counts\n",
    "values_0d = values"
   ]
  },
  {
   "cell_type": "code",
   "execution_count": 31,
   "id": "d5d8a59b-46b6-45a4-a7b8-3c74eeb7e75f",
   "metadata": {},
   "outputs": [
    {
     "name": "stdout",
     "output_type": "stream",
     "text": [
      "VQE result: 4.19845\n"
     ]
    }
   ],
   "source": [
    "counts = []\n",
    "values = []\n",
    "result_spsa = run_qve_w_specified_optimizer(SPSA, ansatz_1a_su2)\n",
    "counts_1a = counts\n",
    "values_1a = values"
   ]
  },
  {
   "cell_type": "code",
   "execution_count": 32,
   "id": "696b35d0-d436-439d-852b-9802de05e723",
   "metadata": {},
   "outputs": [
    {
     "name": "stdout",
     "output_type": "stream",
     "text": [
      "VQE result: 3.89550\n"
     ]
    }
   ],
   "source": [
    "counts = []\n",
    "values = []\n",
    "result_spsa = run_qve_w_specified_optimizer(SPSA, ansatz_1b_su2)\n",
    "counts_1b = counts\n",
    "values_1b = values"
   ]
  },
  {
   "cell_type": "code",
   "execution_count": 33,
   "id": "16580139-5ade-47fe-b3b9-67bcb69b87ce",
   "metadata": {},
   "outputs": [
    {
     "name": "stdout",
     "output_type": "stream",
     "text": [
      "VQE result: 3.78857\n"
     ]
    }
   ],
   "source": [
    "counts = []\n",
    "values = []\n",
    "result_spsa = run_qve_w_specified_optimizer(SPSA, ansatz_1c_su2)\n",
    "counts_1c = counts\n",
    "values_1c = values"
   ]
  },
  {
   "cell_type": "code",
   "execution_count": 34,
   "id": "36a137a1-69d7-4f40-8b49-2e32614a70c3",
   "metadata": {},
   "outputs": [
    {
     "name": "stdout",
     "output_type": "stream",
     "text": [
      "VQE result: 4.10703\n"
     ]
    }
   ],
   "source": [
    "counts = []\n",
    "values = []\n",
    "result_spsa = run_qve_w_specified_optimizer(SPSA, ansatz_1d_su2)\n",
    "counts_1d = counts\n",
    "values_1d = values"
   ]
  },
  {
   "cell_type": "code",
   "execution_count": 35,
   "id": "84cd0b87-c5a8-4c7e-a55e-2a7f45268541",
   "metadata": {},
   "outputs": [
    {
     "data": {
      "text/html": [
       "<div>\n",
       "<style scoped>\n",
       "    .dataframe tbody tr th:only-of-type {\n",
       "        vertical-align: middle;\n",
       "    }\n",
       "\n",
       "    .dataframe tbody tr th {\n",
       "        vertical-align: top;\n",
       "    }\n",
       "\n",
       "    .dataframe thead th {\n",
       "        text-align: right;\n",
       "    }\n",
       "</style>\n",
       "<table border=\"1\" class=\"dataframe\">\n",
       "  <thead>\n",
       "    <tr style=\"text-align: right;\">\n",
       "      <th></th>\n",
       "      <th>values_0a_su2</th>\n",
       "      <th>values_0b_su2</th>\n",
       "      <th>values_0c_su2</th>\n",
       "      <th>values_0d_su2</th>\n",
       "      <th>values_1a_su2</th>\n",
       "      <th>values_1b_su2</th>\n",
       "      <th>values_1c_su2</th>\n",
       "      <th>values_1d_su2</th>\n",
       "    </tr>\n",
       "  </thead>\n",
       "  <tbody>\n",
       "    <tr>\n",
       "      <th>0</th>\n",
       "      <td>17.219211</td>\n",
       "      <td>3.533716</td>\n",
       "      <td>21.684901</td>\n",
       "      <td>24.464840</td>\n",
       "      <td>20.049737</td>\n",
       "      <td>3.533716</td>\n",
       "      <td>19.565061</td>\n",
       "      <td>18.315780</td>\n",
       "    </tr>\n",
       "    <tr>\n",
       "      <th>1</th>\n",
       "      <td>18.554324</td>\n",
       "      <td>3.394166</td>\n",
       "      <td>20.325931</td>\n",
       "      <td>21.477723</td>\n",
       "      <td>22.803311</td>\n",
       "      <td>3.394166</td>\n",
       "      <td>20.243775</td>\n",
       "      <td>19.834667</td>\n",
       "    </tr>\n",
       "    <tr>\n",
       "      <th>2</th>\n",
       "      <td>18.507548</td>\n",
       "      <td>3.914714</td>\n",
       "      <td>21.235075</td>\n",
       "      <td>23.818007</td>\n",
       "      <td>23.023029</td>\n",
       "      <td>3.914714</td>\n",
       "      <td>19.455741</td>\n",
       "      <td>20.415484</td>\n",
       "    </tr>\n",
       "    <tr>\n",
       "      <th>3</th>\n",
       "      <td>18.742522</td>\n",
       "      <td>4.059289</td>\n",
       "      <td>20.311351</td>\n",
       "      <td>22.336063</td>\n",
       "      <td>20.982750</td>\n",
       "      <td>4.059289</td>\n",
       "      <td>19.580942</td>\n",
       "      <td>17.039113</td>\n",
       "    </tr>\n",
       "    <tr>\n",
       "      <th>4</th>\n",
       "      <td>18.731098</td>\n",
       "      <td>3.625436</td>\n",
       "      <td>20.972001</td>\n",
       "      <td>23.454739</td>\n",
       "      <td>20.997934</td>\n",
       "      <td>3.625436</td>\n",
       "      <td>18.143904</td>\n",
       "      <td>18.192763</td>\n",
       "    </tr>\n",
       "    <tr>\n",
       "      <th>...</th>\n",
       "      <td>...</td>\n",
       "      <td>...</td>\n",
       "      <td>...</td>\n",
       "      <td>...</td>\n",
       "      <td>...</td>\n",
       "      <td>...</td>\n",
       "      <td>...</td>\n",
       "      <td>...</td>\n",
       "    </tr>\n",
       "    <tr>\n",
       "      <th>746</th>\n",
       "      <td>4.611291</td>\n",
       "      <td>3.896976</td>\n",
       "      <td>8.115247</td>\n",
       "      <td>6.046926</td>\n",
       "      <td>4.507886</td>\n",
       "      <td>3.896976</td>\n",
       "      <td>3.858024</td>\n",
       "      <td>4.124817</td>\n",
       "    </tr>\n",
       "    <tr>\n",
       "      <th>747</th>\n",
       "      <td>4.237313</td>\n",
       "      <td>3.867935</td>\n",
       "      <td>8.239083</td>\n",
       "      <td>5.524822</td>\n",
       "      <td>4.407947</td>\n",
       "      <td>3.867935</td>\n",
       "      <td>4.242399</td>\n",
       "      <td>4.419094</td>\n",
       "    </tr>\n",
       "    <tr>\n",
       "      <th>748</th>\n",
       "      <td>4.337657</td>\n",
       "      <td>3.896976</td>\n",
       "      <td>7.771734</td>\n",
       "      <td>6.008281</td>\n",
       "      <td>4.498638</td>\n",
       "      <td>3.896976</td>\n",
       "      <td>3.843483</td>\n",
       "      <td>4.506984</td>\n",
       "    </tr>\n",
       "    <tr>\n",
       "      <th>749</th>\n",
       "      <td>4.550058</td>\n",
       "      <td>3.867935</td>\n",
       "      <td>8.356725</td>\n",
       "      <td>5.516375</td>\n",
       "      <td>4.354562</td>\n",
       "      <td>3.867935</td>\n",
       "      <td>3.892513</td>\n",
       "      <td>4.265940</td>\n",
       "    </tr>\n",
       "    <tr>\n",
       "      <th>750</th>\n",
       "      <td>4.229570</td>\n",
       "      <td>3.895500</td>\n",
       "      <td>8.010177</td>\n",
       "      <td>5.676696</td>\n",
       "      <td>4.198447</td>\n",
       "      <td>3.895500</td>\n",
       "      <td>3.788569</td>\n",
       "      <td>4.107030</td>\n",
       "    </tr>\n",
       "  </tbody>\n",
       "</table>\n",
       "<p>751 rows × 8 columns</p>\n",
       "</div>"
      ],
      "text/plain": [
       "     values_0a_su2  values_0b_su2  values_0c_su2  values_0d_su2  \\\n",
       "0        17.219211       3.533716      21.684901      24.464840   \n",
       "1        18.554324       3.394166      20.325931      21.477723   \n",
       "2        18.507548       3.914714      21.235075      23.818007   \n",
       "3        18.742522       4.059289      20.311351      22.336063   \n",
       "4        18.731098       3.625436      20.972001      23.454739   \n",
       "..             ...            ...            ...            ...   \n",
       "746       4.611291       3.896976       8.115247       6.046926   \n",
       "747       4.237313       3.867935       8.239083       5.524822   \n",
       "748       4.337657       3.896976       7.771734       6.008281   \n",
       "749       4.550058       3.867935       8.356725       5.516375   \n",
       "750       4.229570       3.895500       8.010177       5.676696   \n",
       "\n",
       "     values_1a_su2  values_1b_su2  values_1c_su2  values_1d_su2  \n",
       "0        20.049737       3.533716      19.565061      18.315780  \n",
       "1        22.803311       3.394166      20.243775      19.834667  \n",
       "2        23.023029       3.914714      19.455741      20.415484  \n",
       "3        20.982750       4.059289      19.580942      17.039113  \n",
       "4        20.997934       3.625436      18.143904      18.192763  \n",
       "..             ...            ...            ...            ...  \n",
       "746       4.507886       3.896976       3.858024       4.124817  \n",
       "747       4.407947       3.867935       4.242399       4.419094  \n",
       "748       4.498638       3.896976       3.843483       4.506984  \n",
       "749       4.354562       3.867935       3.892513       4.265940  \n",
       "750       4.198447       3.895500       3.788569       4.107030  \n",
       "\n",
       "[751 rows x 8 columns]"
      ]
     },
     "execution_count": 35,
     "metadata": {},
     "output_type": "execute_result"
    }
   ],
   "source": [
    "# save the data to a dataframe \n",
    "list_l2 = {'values_0a_su2': values_0a, 'values_0b_su2': values_0b, \n",
    "        'values_0c_su2': values_0c, 'values_0d_su2': values_0d,\n",
    "        'values_1a_su2': values_1a, 'values_1b_su2': values_1b, \n",
    "        'values_1c_su2': values_1c,'values_1d_su2': values_1d}\n",
    "qve_l2_efsu2_spsa= pd.DataFrame(list_l2)\n",
    "qve_l2_efsu2_spsa.to_csv('qve_l4_l=1.0_effsu2_spsa.csv')\n",
    "qve_l2_efsu2_spsa"
   ]
  },
  {
   "cell_type": "markdown",
   "id": "45762c9d-95a1-4810-bae6-e11fdf2235f0",
   "metadata": {},
   "source": [
    "# SPSA: TwoLocal"
   ]
  },
  {
   "cell_type": "code",
   "execution_count": 36,
   "id": "a57dffd0",
   "metadata": {},
   "outputs": [
    {
     "name": "stdout",
     "output_type": "stream",
     "text": [
      "VQE result: 5.26669\n"
     ]
    }
   ],
   "source": [
    "#3.18339\n",
    "counts = []\n",
    "values = []\n",
    "result_spsa = run_qve_w_specified_optimizer(SPSA, ansatz_0a)\n",
    "counts_0a = counts\n",
    "values_0a = values"
   ]
  },
  {
   "cell_type": "code",
   "execution_count": 37,
   "id": "c0c39da0",
   "metadata": {},
   "outputs": [
    {
     "name": "stdout",
     "output_type": "stream",
     "text": [
      "VQE result: 3.89550\n"
     ]
    }
   ],
   "source": [
    "#3.17910\n",
    "counts = []\n",
    "values = []\n",
    "result_spsa = run_qve_w_specified_optimizer(SPSA, ansatz_0b)\n",
    "counts_0b = counts\n",
    "values_0b = values"
   ]
  },
  {
   "cell_type": "code",
   "execution_count": 38,
   "id": "c6655d0c",
   "metadata": {},
   "outputs": [
    {
     "name": "stdout",
     "output_type": "stream",
     "text": [
      "VQE result: 3.55374\n"
     ]
    }
   ],
   "source": [
    "#3.62318\n",
    "counts = []\n",
    "values = []\n",
    "result_spsa = run_qve_w_specified_optimizer(SPSA, ansatz_0c)\n",
    "counts_0c = counts\n",
    "values_0c = values"
   ]
  },
  {
   "cell_type": "code",
   "execution_count": 39,
   "id": "4e044153",
   "metadata": {},
   "outputs": [
    {
     "name": "stdout",
     "output_type": "stream",
     "text": [
      "VQE result: 4.83891\n"
     ]
    }
   ],
   "source": [
    "#3.13679\n",
    "counts = []\n",
    "values = []\n",
    "result_spsa = run_qve_w_specified_optimizer(SPSA, ansatz_0d)\n",
    "counts_0d = counts\n",
    "values_0d = values"
   ]
  },
  {
   "cell_type": "code",
   "execution_count": 40,
   "id": "466d5e00",
   "metadata": {},
   "outputs": [
    {
     "name": "stdout",
     "output_type": "stream",
     "text": [
      "VQE result: 3.39410\n"
     ]
    }
   ],
   "source": [
    "#3.16617\n",
    "counts = []\n",
    "values = []\n",
    "result_spsa = run_qve_w_specified_optimizer(SPSA, ansatz_1a)\n",
    "counts_1a = counts\n",
    "values_1a = values"
   ]
  },
  {
   "cell_type": "code",
   "execution_count": 41,
   "id": "3b0a0602",
   "metadata": {},
   "outputs": [
    {
     "name": "stdout",
     "output_type": "stream",
     "text": [
      "VQE result: 3.89550\n"
     ]
    }
   ],
   "source": [
    "#3.17910\n",
    "counts = []\n",
    "values = []\n",
    "result_spsa = run_qve_w_specified_optimizer(SPSA, ansatz_1b)\n",
    "counts_1b = counts\n",
    "values_1b = values"
   ]
  },
  {
   "cell_type": "code",
   "execution_count": 42,
   "id": "382b3fa3",
   "metadata": {},
   "outputs": [
    {
     "name": "stdout",
     "output_type": "stream",
     "text": [
      "VQE result: 3.92772\n"
     ]
    }
   ],
   "source": [
    "#4.10208\n",
    "counts = []\n",
    "values = []\n",
    "result_spsa = run_qve_w_specified_optimizer(SPSA, ansatz_1c)\n",
    "counts_1c = counts\n",
    "values_1c = values"
   ]
  },
  {
   "cell_type": "code",
   "execution_count": 43,
   "id": "ee9e1e3c",
   "metadata": {},
   "outputs": [
    {
     "name": "stdout",
     "output_type": "stream",
     "text": [
      "VQE result: 4.97329\n"
     ]
    }
   ],
   "source": [
    "#4.26060\n",
    "counts = []\n",
    "values = []\n",
    "result_spsa = run_qve_w_specified_optimizer(SPSA, ansatz_1d)\n",
    "counts_1d = counts\n",
    "values_1d = values"
   ]
  },
  {
   "cell_type": "code",
   "execution_count": 44,
   "id": "c4e23d40",
   "metadata": {},
   "outputs": [
    {
     "data": {
      "text/html": [
       "<div>\n",
       "<style scoped>\n",
       "    .dataframe tbody tr th:only-of-type {\n",
       "        vertical-align: middle;\n",
       "    }\n",
       "\n",
       "    .dataframe tbody tr th {\n",
       "        vertical-align: top;\n",
       "    }\n",
       "\n",
       "    .dataframe thead th {\n",
       "        text-align: right;\n",
       "    }\n",
       "</style>\n",
       "<table border=\"1\" class=\"dataframe\">\n",
       "  <thead>\n",
       "    <tr style=\"text-align: right;\">\n",
       "      <th></th>\n",
       "      <th>values_0a</th>\n",
       "      <th>values_0b</th>\n",
       "      <th>values_0c</th>\n",
       "      <th>values_0d</th>\n",
       "      <th>values_1a</th>\n",
       "      <th>values_1b</th>\n",
       "      <th>values_1c</th>\n",
       "      <th>values_1d</th>\n",
       "    </tr>\n",
       "  </thead>\n",
       "  <tbody>\n",
       "    <tr>\n",
       "      <th>0</th>\n",
       "      <td>18.134355</td>\n",
       "      <td>3.533716</td>\n",
       "      <td>15.484540</td>\n",
       "      <td>15.794892</td>\n",
       "      <td>16.571443</td>\n",
       "      <td>3.533716</td>\n",
       "      <td>17.083664</td>\n",
       "      <td>20.583621</td>\n",
       "    </tr>\n",
       "    <tr>\n",
       "      <th>1</th>\n",
       "      <td>18.060469</td>\n",
       "      <td>3.394166</td>\n",
       "      <td>16.699371</td>\n",
       "      <td>17.747996</td>\n",
       "      <td>14.993756</td>\n",
       "      <td>3.394166</td>\n",
       "      <td>15.293454</td>\n",
       "      <td>20.277663</td>\n",
       "    </tr>\n",
       "    <tr>\n",
       "      <th>2</th>\n",
       "      <td>16.369102</td>\n",
       "      <td>3.914714</td>\n",
       "      <td>15.453940</td>\n",
       "      <td>18.353901</td>\n",
       "      <td>16.826947</td>\n",
       "      <td>3.914714</td>\n",
       "      <td>15.737907</td>\n",
       "      <td>20.491461</td>\n",
       "    </tr>\n",
       "    <tr>\n",
       "      <th>3</th>\n",
       "      <td>20.249254</td>\n",
       "      <td>4.059289</td>\n",
       "      <td>15.527856</td>\n",
       "      <td>15.492400</td>\n",
       "      <td>14.934541</td>\n",
       "      <td>4.059289</td>\n",
       "      <td>15.288599</td>\n",
       "      <td>19.519453</td>\n",
       "    </tr>\n",
       "    <tr>\n",
       "      <th>4</th>\n",
       "      <td>19.537438</td>\n",
       "      <td>3.625436</td>\n",
       "      <td>15.562093</td>\n",
       "      <td>18.895430</td>\n",
       "      <td>16.344939</td>\n",
       "      <td>3.625436</td>\n",
       "      <td>15.841501</td>\n",
       "      <td>18.440559</td>\n",
       "    </tr>\n",
       "    <tr>\n",
       "      <th>...</th>\n",
       "      <td>...</td>\n",
       "      <td>...</td>\n",
       "      <td>...</td>\n",
       "      <td>...</td>\n",
       "      <td>...</td>\n",
       "      <td>...</td>\n",
       "      <td>...</td>\n",
       "      <td>...</td>\n",
       "    </tr>\n",
       "    <tr>\n",
       "      <th>746</th>\n",
       "      <td>5.530037</td>\n",
       "      <td>3.896976</td>\n",
       "      <td>3.887153</td>\n",
       "      <td>4.838997</td>\n",
       "      <td>3.690201</td>\n",
       "      <td>3.896976</td>\n",
       "      <td>4.248749</td>\n",
       "      <td>5.219852</td>\n",
       "    </tr>\n",
       "    <tr>\n",
       "      <th>747</th>\n",
       "      <td>4.817171</td>\n",
       "      <td>3.867935</td>\n",
       "      <td>3.663343</td>\n",
       "      <td>5.116660</td>\n",
       "      <td>3.868509</td>\n",
       "      <td>3.867935</td>\n",
       "      <td>4.184915</td>\n",
       "      <td>4.554735</td>\n",
       "    </tr>\n",
       "    <tr>\n",
       "      <th>748</th>\n",
       "      <td>5.612278</td>\n",
       "      <td>3.896976</td>\n",
       "      <td>3.879501</td>\n",
       "      <td>4.843624</td>\n",
       "      <td>3.720984</td>\n",
       "      <td>3.896976</td>\n",
       "      <td>4.346683</td>\n",
       "      <td>5.093859</td>\n",
       "    </tr>\n",
       "    <tr>\n",
       "      <th>749</th>\n",
       "      <td>5.393280</td>\n",
       "      <td>3.867935</td>\n",
       "      <td>3.690134</td>\n",
       "      <td>4.956622</td>\n",
       "      <td>3.500223</td>\n",
       "      <td>3.867935</td>\n",
       "      <td>3.655088</td>\n",
       "      <td>4.975369</td>\n",
       "    </tr>\n",
       "    <tr>\n",
       "      <th>750</th>\n",
       "      <td>5.266690</td>\n",
       "      <td>3.895500</td>\n",
       "      <td>3.553737</td>\n",
       "      <td>4.838907</td>\n",
       "      <td>3.394098</td>\n",
       "      <td>3.895500</td>\n",
       "      <td>3.927723</td>\n",
       "      <td>4.973288</td>\n",
       "    </tr>\n",
       "  </tbody>\n",
       "</table>\n",
       "<p>751 rows × 8 columns</p>\n",
       "</div>"
      ],
      "text/plain": [
       "     values_0a  values_0b  values_0c  values_0d  values_1a  values_1b  \\\n",
       "0    18.134355   3.533716  15.484540  15.794892  16.571443   3.533716   \n",
       "1    18.060469   3.394166  16.699371  17.747996  14.993756   3.394166   \n",
       "2    16.369102   3.914714  15.453940  18.353901  16.826947   3.914714   \n",
       "3    20.249254   4.059289  15.527856  15.492400  14.934541   4.059289   \n",
       "4    19.537438   3.625436  15.562093  18.895430  16.344939   3.625436   \n",
       "..         ...        ...        ...        ...        ...        ...   \n",
       "746   5.530037   3.896976   3.887153   4.838997   3.690201   3.896976   \n",
       "747   4.817171   3.867935   3.663343   5.116660   3.868509   3.867935   \n",
       "748   5.612278   3.896976   3.879501   4.843624   3.720984   3.896976   \n",
       "749   5.393280   3.867935   3.690134   4.956622   3.500223   3.867935   \n",
       "750   5.266690   3.895500   3.553737   4.838907   3.394098   3.895500   \n",
       "\n",
       "     values_1c  values_1d  \n",
       "0    17.083664  20.583621  \n",
       "1    15.293454  20.277663  \n",
       "2    15.737907  20.491461  \n",
       "3    15.288599  19.519453  \n",
       "4    15.841501  18.440559  \n",
       "..         ...        ...  \n",
       "746   4.248749   5.219852  \n",
       "747   4.184915   4.554735  \n",
       "748   4.346683   5.093859  \n",
       "749   3.655088   4.975369  \n",
       "750   3.927723   4.973288  \n",
       "\n",
       "[751 rows x 8 columns]"
      ]
     },
     "execution_count": 44,
     "metadata": {},
     "output_type": "execute_result"
    }
   ],
   "source": [
    "# save the data to a dataframe \n",
    "#don't reevaluate on a new run with just the new ansatze added\n",
    "import pandas as pd\n",
    "list_l2 = {'values_0a': values_0a, 'values_0b': values_0b, \n",
    "        'values_0c': values_0c, 'values_0d': values_0d,\n",
    "        'values_1a': values_1a, 'values_1b': values_1b, \n",
    "        'values_1c': values_1c,'values_1d': values_1d}\n",
    "qve_l2_tl_spsa= pd.DataFrame(list_l2)\n",
    "qve_l2_tl_spsa.to_csv('qve_l4_l=1.0_twolocal_spsa.csv')\n",
    "qve_l2_tl_spsa"
   ]
  }
 ],
 "metadata": {
  "kernelspec": {
   "display_name": "Python 3 (ipykernel)",
   "language": "python",
   "name": "python3"
  },
  "language_info": {
   "codemirror_mode": {
    "name": "ipython",
    "version": 3
   },
   "file_extension": ".py",
   "mimetype": "text/x-python",
   "name": "python",
   "nbconvert_exporter": "python",
   "pygments_lexer": "ipython3",
   "version": "3.12.7"
  }
 },
 "nbformat": 4,
 "nbformat_minor": 5
}
