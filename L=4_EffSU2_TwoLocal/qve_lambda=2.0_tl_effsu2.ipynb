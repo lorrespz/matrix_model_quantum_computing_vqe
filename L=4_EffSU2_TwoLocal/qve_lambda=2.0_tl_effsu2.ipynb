{
 "cells": [
  {
   "cell_type": "markdown",
   "id": "cf05ff5e",
   "metadata": {},
   "source": [
    "# Qiskit VQE - SU(2) Matrix Model [Lambda = 4]"
   ]
  },
  {
   "cell_type": "code",
   "execution_count": 1,
   "id": "c314136e",
   "metadata": {},
   "outputs": [],
   "source": [
    "import numpy as np\n",
    "import pylab\n",
    "import matplotlib.pyplot as plt\n",
    "from qiskit.circuit.library import TwoLocal, EfficientSU2\n",
    "\n",
    "import sys\n",
    "sys.path.append('../../utility')\n",
    "from vqe_run import *\n",
    "from qc_ansatze import *"
   ]
  },
  {
   "cell_type": "markdown",
   "id": "0349c136",
   "metadata": {},
   "source": [
    "# Convert the Hamiltonian to strings of Pauli ops"
   ]
  },
  {
   "cell_type": "code",
   "execution_count": 2,
   "id": "406ee52b",
   "metadata": {},
   "outputs": [],
   "source": [
    "# Load the H file already created using qiskit 0.28 from MBP 2015\n",
    "file = open(\"../../utility/pauliH_L4_g2.0.txt\", \"r\")\n",
    "content = file.read()\n",
    "#print(content)"
   ]
  },
  {
   "cell_type": "code",
   "execution_count": 3,
   "id": "653967bf",
   "metadata": {},
   "outputs": [],
   "source": [
    "data = content.split(',\\n')\n",
    "data[0] = data[0].split('\\n')[1]\n",
    "data[-1] = data[-1].split('\\n')[0]\n",
    "\n",
    "data_coeff = []\n",
    "data_str = []\n",
    "for i in range(len(data)):\n",
    "    data_coeff.append(float(data[i].split('*')[0]))\n",
    "    data_str.append(data[i].split('*')[1].split(' ')[1])\n",
    "    \n",
    "Hpauli = list(zip(data_str,data_coeff))\n",
    "#Hpauli"
   ]
  },
  {
   "cell_type": "code",
   "execution_count": 4,
   "id": "c18472dc",
   "metadata": {},
   "outputs": [
    {
     "name": "stdout",
     "output_type": "stream",
     "text": [
      "Exact Result of qubit hamiltonian: [3.89547837 5.2753731  5.2753731  5.2753731 ]\n"
     ]
    },
    {
     "data": {
      "text/plain": [
       "3.89548"
      ]
     },
     "execution_count": 4,
     "metadata": {},
     "output_type": "execute_result"
    }
   ],
   "source": [
    "from qiskit.quantum_info import SparsePauliOp\n",
    "from qiskit_algorithms import NumPyEigensolver\n",
    "H4q = SparsePauliOp.from_list(Hpauli)\n",
    "\n",
    "solver = NumPyEigensolver(k=4)\n",
    "exact_solution = solver.compute_eigenvalues(H4q)\n",
    "print(\"Exact Result of qubit hamiltonian:\", np.real(exact_solution.eigenvalues))\n",
    "E_exact = np.round(np.real(exact_solution.eigenvalues)[0],5)\n",
    "E_exact"
   ]
  },
  {
   "cell_type": "markdown",
   "id": "37bb9794",
   "metadata": {},
   "source": [
    "# Circuit ansatze"
   ]
  },
  {
   "cell_type": "code",
   "execution_count": 5,
   "id": "8ac9ba23",
   "metadata": {},
   "outputs": [],
   "source": [
    "#CIRCUIT ANSATZ\n",
    "from qiskit.circuit.library import TwoLocal, EfficientSU2"
   ]
  },
  {
   "cell_type": "code",
   "execution_count": 6,
   "id": "85050d70-0aa2-4dd1-b14e-44d3a448bc29",
   "metadata": {},
   "outputs": [
    {
     "name": "stdout",
     "output_type": "stream",
     "text": [
      "Circuit ansatz with 36 parameters\n",
      "Circuit ansatz with 36 parameters\n",
      "Circuit ansatz with 60 parameters\n",
      "Circuit ansatz with 36 parameters\n",
      "Circuit ansatz with 90 parameters\n",
      "Circuit ansatz with 90 parameters\n",
      "Circuit ansatz with 114 parameters\n",
      "Circuit ansatz with 90 parameters\n"
     ]
    }
   ],
   "source": [
    "reps=1\n",
    "ansatz_0a = TL_ansatz(H4q.num_qubits, 'ry', 'crx', \"circular\", reps)\n",
    "ansatz_0b = TL_ansatz(H4q.num_qubits, 'rz', 'crx', 'circular', reps)\n",
    "ansatz_0c = TL_ansatz(H4q.num_qubits, ['ry','rz'], 'crx', 'circular', reps)\n",
    "ansatz_0d = TL_ansatz(H4q.num_qubits,['ry','y'], 'crx', 'circular', reps)\n",
    "\n",
    "ansatz_1a =  TL_ansatz(H4q.num_qubits, 'ry', 'crx', \"full\", reps)\n",
    "ansatz_1b =  TL_ansatz(H4q.num_qubits, 'rz', 'crx', \"full\", reps)\n",
    "ansatz_1c =  TL_ansatz(H4q.num_qubits, ['ry','rz'], 'crx', \"full\", reps)\n",
    "ansatz_1d =  TL_ansatz(H4q.num_qubits, ['ry','y'], 'crx', \"full\", reps)"
   ]
  },
  {
   "cell_type": "code",
   "execution_count": 7,
   "id": "cb4eeee4-10b4-4ccb-8a3b-effc5ca95d45",
   "metadata": {},
   "outputs": [
    {
     "name": "stdout",
     "output_type": "stream",
     "text": [
      "Circuit ansatz with 24 parameters\n",
      "Circuit ansatz with 24 parameters\n",
      "Circuit ansatz with 48 parameters\n",
      "Circuit ansatz with 24 parameters\n",
      "Circuit ansatz with 24 parameters\n",
      "Circuit ansatz with 24 parameters\n",
      "Circuit ansatz with 48 parameters\n",
      "Circuit ansatz with 24 parameters\n"
     ]
    }
   ],
   "source": [
    "reps=1\n",
    "ansatz_0a_su2 = ef_ansatz(H4q.num_qubits, 'ry',  \"circular\", reps)\n",
    "ansatz_0b_su2 = ef_ansatz(H4q.num_qubits, 'rz',  'circular', reps)\n",
    "ansatz_0c_su2 = ef_ansatz(H4q.num_qubits, ['ry','rz'], 'circular', reps)\n",
    "ansatz_0d_su2 = ef_ansatz(H4q.num_qubits,['ry','y'], 'circular', reps)\n",
    "\n",
    "ansatz_1a_su2 =  ef_ansatz(H4q.num_qubits, 'ry',  \"full\", reps)\n",
    "ansatz_1b_su2 =  ef_ansatz(H4q.num_qubits, 'rz',  \"full\", reps)\n",
    "ansatz_1c_su2 =  ef_ansatz(H4q.num_qubits, ['ry','rz'], \"full\", reps)\n",
    "ansatz_1d_su2 =  ef_ansatz(H4q.num_qubits, ['ry','y'],  \"full\", reps)"
   ]
  },
  {
   "cell_type": "markdown",
   "id": "46382675",
   "metadata": {},
   "source": [
    "# Qiskit QVE: Noiseless simulator\n",
    "\n",
    "https://qiskit.github.io/qiskit-aer/stubs/qiskit_aer.primitives.Estimator.html\n",
    "\n",
    "https://qiskit-community.github.io/qiskit-algorithms/tutorials/03_vqe_simulation_with_noise.html"
   ]
  },
  {
   "cell_type": "code",
   "execution_count": 8,
   "id": "966164ab",
   "metadata": {},
   "outputs": [],
   "source": [
    "#VQE ALGORITHMS\n",
    "from qiskit_algorithms import VQE\n",
    "from qiskit_algorithms.optimizers import SPSA\n",
    "from qiskit_algorithms.utils import algorithm_globals \n",
    "from qiskit_aer.primitives import Estimator as AerEstimator\n",
    "\n",
    "import warnings\n",
    "warnings.filterwarnings(\"ignore\")\n",
    "seed = 170\n",
    "iterations = 450\n",
    "algorithm_globals.random_seed = seed\n",
    "\n",
    "#estimator\n",
    "noiseless_estimator = AerEstimator(\n",
    "    run_options={\"seed\": seed, \"shots\": 1024},\n",
    "    transpile_options={\"seed_transpiler\": seed},\n",
    ")\n",
    "#storing values\n",
    "counts = []\n",
    "values = []\n",
    "def store_intermediate_result(eval_count, parameters, mean, std):\n",
    "    counts.append(eval_count)\n",
    "    values.append(mean)\n",
    "    \n",
    "def run_qve_w_specified_optimizer(optimizer, ansatz):\n",
    "    opt = optimizer(maxiter = iterations)\n",
    "    vqe = VQE(noiseless_estimator, ansatz, optimizer=opt, callback=store_intermediate_result)\n",
    "    result = vqe.compute_minimum_eigenvalue(operator=H4q).eigenvalue.real\n",
    "    print(f\"VQE result: {result:.5f}\")\n",
    "    return result"
   ]
  },
  {
   "cell_type": "markdown",
   "id": "324f0410-da5e-4d72-87a9-3ea039035b29",
   "metadata": {},
   "source": [
    "# COBYLA: EffSU2"
   ]
  },
  {
   "cell_type": "code",
   "execution_count": 9,
   "id": "0069c3ed-c619-4660-9ada-cb2fab6b01f1",
   "metadata": {},
   "outputs": [
    {
     "name": "stdout",
     "output_type": "stream",
     "text": [
      "VQE result: 10.89956\n"
     ]
    }
   ],
   "source": [
    "counts = []\n",
    "values = []\n",
    "result = run_qve_w_specified_optimizer(COBYLA, ansatz_0a_su2)\n",
    "counts_0a_c = counts\n",
    "values_0a_c = values"
   ]
  },
  {
   "cell_type": "code",
   "execution_count": 10,
   "id": "a708ced1-7fc1-4185-bb6e-ce4cfa73833a",
   "metadata": {},
   "outputs": [
    {
     "name": "stdout",
     "output_type": "stream",
     "text": [
      "VQE result: 4.79100\n"
     ]
    }
   ],
   "source": [
    "counts = []\n",
    "values = []\n",
    "result = run_qve_w_specified_optimizer(COBYLA, ansatz_0b_su2)\n",
    "counts_0b_c = counts\n",
    "values_0b_c = values"
   ]
  },
  {
   "cell_type": "code",
   "execution_count": 11,
   "id": "25370d0d-b9f7-471c-b615-96ea7d31d41f",
   "metadata": {},
   "outputs": [
    {
     "name": "stdout",
     "output_type": "stream",
     "text": [
      "VQE result: 10.98084\n"
     ]
    }
   ],
   "source": [
    "counts = []\n",
    "values = []\n",
    "result = run_qve_w_specified_optimizer(COBYLA, ansatz_0c_su2)\n",
    "counts_0c_c = counts\n",
    "values_0c_c = values"
   ]
  },
  {
   "cell_type": "code",
   "execution_count": 12,
   "id": "2de32f62-581d-4cd1-b8d7-5cd82589a43a",
   "metadata": {},
   "outputs": [
    {
     "name": "stdout",
     "output_type": "stream",
     "text": [
      "VQE result: 9.68253\n"
     ]
    }
   ],
   "source": [
    "counts = []\n",
    "values = []\n",
    "result = run_qve_w_specified_optimizer(COBYLA, ansatz_0d_su2)\n",
    "counts_0d_c = counts\n",
    "values_0d_c = values"
   ]
  },
  {
   "cell_type": "code",
   "execution_count": 13,
   "id": "067502a4-0a9a-4986-b8d3-ba8df7f87de4",
   "metadata": {},
   "outputs": [
    {
     "name": "stdout",
     "output_type": "stream",
     "text": [
      "VQE result: 8.01434\n"
     ]
    }
   ],
   "source": [
    "counts = []\n",
    "values = []\n",
    "result = run_qve_w_specified_optimizer(COBYLA, ansatz_1a_su2)\n",
    "counts_1a_c = counts\n",
    "values_1a_c = values"
   ]
  },
  {
   "cell_type": "code",
   "execution_count": 14,
   "id": "207ba8dc-7c3b-476c-a2e6-4b1bb647c4f3",
   "metadata": {},
   "outputs": [
    {
     "name": "stdout",
     "output_type": "stream",
     "text": [
      "VQE result: 4.79100\n"
     ]
    }
   ],
   "source": [
    "counts = []\n",
    "values = []\n",
    "result = run_qve_w_specified_optimizer(COBYLA, ansatz_1b_su2)\n",
    "counts_1b_c = counts\n",
    "values_1b_c = values"
   ]
  },
  {
   "cell_type": "code",
   "execution_count": 15,
   "id": "94d25c93-50c2-482b-9326-9464082216e7",
   "metadata": {},
   "outputs": [
    {
     "name": "stdout",
     "output_type": "stream",
     "text": [
      "VQE result: 7.25607\n"
     ]
    }
   ],
   "source": [
    "counts = []\n",
    "values = []\n",
    "result = run_qve_w_specified_optimizer(COBYLA, ansatz_1c_su2)\n",
    "counts_1c_c = counts\n",
    "values_1c_c = values"
   ]
  },
  {
   "cell_type": "code",
   "execution_count": 16,
   "id": "1914c86c-77e6-41c8-b06d-46d97f222d5f",
   "metadata": {},
   "outputs": [
    {
     "name": "stdout",
     "output_type": "stream",
     "text": [
      "VQE result: 7.79339\n"
     ]
    }
   ],
   "source": [
    "counts = []\n",
    "values = []\n",
    "result = run_qve_w_specified_optimizer(COBYLA, ansatz_1d_su2)\n",
    "counts_1d_c = counts\n",
    "values_1d_c = values"
   ]
  },
  {
   "cell_type": "code",
   "execution_count": 17,
   "id": "261becc2-6f50-47ef-a00d-c9a2ccc3d348",
   "metadata": {},
   "outputs": [
    {
     "data": {
      "text/html": [
       "<div>\n",
       "<style scoped>\n",
       "    .dataframe tbody tr th:only-of-type {\n",
       "        vertical-align: middle;\n",
       "    }\n",
       "\n",
       "    .dataframe tbody tr th {\n",
       "        vertical-align: top;\n",
       "    }\n",
       "\n",
       "    .dataframe thead th {\n",
       "        text-align: right;\n",
       "    }\n",
       "</style>\n",
       "<table border=\"1\" class=\"dataframe\">\n",
       "  <thead>\n",
       "    <tr style=\"text-align: right;\">\n",
       "      <th></th>\n",
       "      <th>values_0a_su2</th>\n",
       "      <th>values_0b_su2</th>\n",
       "      <th>values_0c_su2</th>\n",
       "      <th>values_0d_su2</th>\n",
       "      <th>values_1a_su2</th>\n",
       "      <th>values_1b_su2</th>\n",
       "      <th>values_1c_su2</th>\n",
       "      <th>values_1d_su2</th>\n",
       "    </tr>\n",
       "  </thead>\n",
       "  <tbody>\n",
       "    <tr>\n",
       "      <th>0</th>\n",
       "      <td>25.215032</td>\n",
       "      <td>4.791</td>\n",
       "      <td>23.383645</td>\n",
       "      <td>13.483215</td>\n",
       "      <td>23.089486</td>\n",
       "      <td>4.791</td>\n",
       "      <td>24.512386</td>\n",
       "      <td>21.012662</td>\n",
       "    </tr>\n",
       "    <tr>\n",
       "      <th>1</th>\n",
       "      <td>29.751984</td>\n",
       "      <td>4.791</td>\n",
       "      <td>22.964273</td>\n",
       "      <td>12.344581</td>\n",
       "      <td>26.429760</td>\n",
       "      <td>4.791</td>\n",
       "      <td>25.218927</td>\n",
       "      <td>20.070572</td>\n",
       "    </tr>\n",
       "    <tr>\n",
       "      <th>2</th>\n",
       "      <td>24.857254</td>\n",
       "      <td>4.791</td>\n",
       "      <td>23.437586</td>\n",
       "      <td>13.373705</td>\n",
       "      <td>24.578216</td>\n",
       "      <td>4.791</td>\n",
       "      <td>27.433128</td>\n",
       "      <td>18.814374</td>\n",
       "    </tr>\n",
       "    <tr>\n",
       "      <th>3</th>\n",
       "      <td>26.008487</td>\n",
       "      <td>4.791</td>\n",
       "      <td>24.236187</td>\n",
       "      <td>12.975155</td>\n",
       "      <td>26.493191</td>\n",
       "      <td>4.791</td>\n",
       "      <td>22.558490</td>\n",
       "      <td>19.302091</td>\n",
       "    </tr>\n",
       "    <tr>\n",
       "      <th>4</th>\n",
       "      <td>21.647651</td>\n",
       "      <td>4.791</td>\n",
       "      <td>24.021724</td>\n",
       "      <td>14.215457</td>\n",
       "      <td>23.287033</td>\n",
       "      <td>4.791</td>\n",
       "      <td>23.253429</td>\n",
       "      <td>17.282560</td>\n",
       "    </tr>\n",
       "    <tr>\n",
       "      <th>...</th>\n",
       "      <td>...</td>\n",
       "      <td>...</td>\n",
       "      <td>...</td>\n",
       "      <td>...</td>\n",
       "      <td>...</td>\n",
       "      <td>...</td>\n",
       "      <td>...</td>\n",
       "      <td>...</td>\n",
       "    </tr>\n",
       "    <tr>\n",
       "      <th>445</th>\n",
       "      <td>NaN</td>\n",
       "      <td>NaN</td>\n",
       "      <td>11.054407</td>\n",
       "      <td>NaN</td>\n",
       "      <td>NaN</td>\n",
       "      <td>NaN</td>\n",
       "      <td>7.288365</td>\n",
       "      <td>NaN</td>\n",
       "    </tr>\n",
       "    <tr>\n",
       "      <th>446</th>\n",
       "      <td>NaN</td>\n",
       "      <td>NaN</td>\n",
       "      <td>11.013675</td>\n",
       "      <td>NaN</td>\n",
       "      <td>NaN</td>\n",
       "      <td>NaN</td>\n",
       "      <td>7.288954</td>\n",
       "      <td>NaN</td>\n",
       "    </tr>\n",
       "    <tr>\n",
       "      <th>447</th>\n",
       "      <td>NaN</td>\n",
       "      <td>NaN</td>\n",
       "      <td>11.076694</td>\n",
       "      <td>NaN</td>\n",
       "      <td>NaN</td>\n",
       "      <td>NaN</td>\n",
       "      <td>7.406267</td>\n",
       "      <td>NaN</td>\n",
       "    </tr>\n",
       "    <tr>\n",
       "      <th>448</th>\n",
       "      <td>NaN</td>\n",
       "      <td>NaN</td>\n",
       "      <td>10.991668</td>\n",
       "      <td>NaN</td>\n",
       "      <td>NaN</td>\n",
       "      <td>NaN</td>\n",
       "      <td>7.272051</td>\n",
       "      <td>NaN</td>\n",
       "    </tr>\n",
       "    <tr>\n",
       "      <th>449</th>\n",
       "      <td>NaN</td>\n",
       "      <td>NaN</td>\n",
       "      <td>11.059879</td>\n",
       "      <td>NaN</td>\n",
       "      <td>NaN</td>\n",
       "      <td>NaN</td>\n",
       "      <td>7.328450</td>\n",
       "      <td>NaN</td>\n",
       "    </tr>\n",
       "  </tbody>\n",
       "</table>\n",
       "<p>450 rows × 8 columns</p>\n",
       "</div>"
      ],
      "text/plain": [
       "     values_0a_su2  values_0b_su2  values_0c_su2  values_0d_su2  \\\n",
       "0        25.215032          4.791      23.383645      13.483215   \n",
       "1        29.751984          4.791      22.964273      12.344581   \n",
       "2        24.857254          4.791      23.437586      13.373705   \n",
       "3        26.008487          4.791      24.236187      12.975155   \n",
       "4        21.647651          4.791      24.021724      14.215457   \n",
       "..             ...            ...            ...            ...   \n",
       "445            NaN            NaN      11.054407            NaN   \n",
       "446            NaN            NaN      11.013675            NaN   \n",
       "447            NaN            NaN      11.076694            NaN   \n",
       "448            NaN            NaN      10.991668            NaN   \n",
       "449            NaN            NaN      11.059879            NaN   \n",
       "\n",
       "     values_1a_su2  values_1b_su2  values_1c_su2  values_1d_su2  \n",
       "0        23.089486          4.791      24.512386      21.012662  \n",
       "1        26.429760          4.791      25.218927      20.070572  \n",
       "2        24.578216          4.791      27.433128      18.814374  \n",
       "3        26.493191          4.791      22.558490      19.302091  \n",
       "4        23.287033          4.791      23.253429      17.282560  \n",
       "..             ...            ...            ...            ...  \n",
       "445            NaN            NaN       7.288365            NaN  \n",
       "446            NaN            NaN       7.288954            NaN  \n",
       "447            NaN            NaN       7.406267            NaN  \n",
       "448            NaN            NaN       7.272051            NaN  \n",
       "449            NaN            NaN       7.328450            NaN  \n",
       "\n",
       "[450 rows x 8 columns]"
      ]
     },
     "execution_count": 17,
     "metadata": {},
     "output_type": "execute_result"
    }
   ],
   "source": [
    "df1 = pd.DataFrame({'values_0a_su2': values_0a_c})\n",
    "df2 = pd.DataFrame({'values_0b_su2': values_0b_c})\n",
    "df3 = pd.DataFrame({'values_0c_su2': values_0c_c})\n",
    "df4 = pd.DataFrame({'values_0d_su2': values_0d_c})\n",
    "df5 = pd.DataFrame({'values_1a_su2': values_1a_c})\n",
    "df6 = pd.DataFrame({'values_1b_su2': values_1b_c})\n",
    "df7 = pd.DataFrame({'values_1c_su2': values_1c_c})\n",
    "df8 = pd.DataFrame({'values_1d_su2': values_1d_c})\n",
    "qve_l2_tl_cobyla = pd.concat([df1, df2, df3, df4, df5, df6, df7,df8], axis = 1)\n",
    "qve_l2_tl_cobyla.to_csv('qve_l4_l=2.0_effsu2_cobyla.csv')\n",
    "qve_l2_tl_cobyla"
   ]
  },
  {
   "cell_type": "markdown",
   "id": "71e9c009-985d-45fa-a991-0b38a7400a01",
   "metadata": {},
   "source": [
    "# COBYLA: TwoLocal"
   ]
  },
  {
   "cell_type": "code",
   "execution_count": 18,
   "id": "b7a1825b-0cc3-4b48-ac6d-6604f60565bd",
   "metadata": {},
   "outputs": [
    {
     "name": "stdout",
     "output_type": "stream",
     "text": [
      "VQE result: 6.39657\n"
     ]
    }
   ],
   "source": [
    "counts = []\n",
    "values = []\n",
    "result = run_qve_w_specified_optimizer(COBYLA, ansatz_0a)\n",
    "counts_0a_c = counts\n",
    "values_0a_c = values"
   ]
  },
  {
   "cell_type": "code",
   "execution_count": 19,
   "id": "8cf77343-38ec-49b6-80b7-dbe7c6173826",
   "metadata": {},
   "outputs": [
    {
     "name": "stdout",
     "output_type": "stream",
     "text": [
      "VQE result: 4.79100\n"
     ]
    }
   ],
   "source": [
    "counts = []\n",
    "values = []\n",
    "result = run_qve_w_specified_optimizer(COBYLA, ansatz_0b)\n",
    "counts_0b_c = counts\n",
    "values_0b_c = values"
   ]
  },
  {
   "cell_type": "code",
   "execution_count": 20,
   "id": "70f3b1b9-1357-4e43-9d72-06ca141673f1",
   "metadata": {},
   "outputs": [
    {
     "name": "stdout",
     "output_type": "stream",
     "text": [
      "VQE result: 7.28931\n"
     ]
    }
   ],
   "source": [
    "counts = []\n",
    "values = []\n",
    "result = run_qve_w_specified_optimizer(COBYLA, ansatz_0c)\n",
    "counts_0c_c = counts\n",
    "values_0c_c = values"
   ]
  },
  {
   "cell_type": "code",
   "execution_count": 21,
   "id": "992a292c-abed-488a-9c57-ac27bb5c0d05",
   "metadata": {},
   "outputs": [
    {
     "name": "stdout",
     "output_type": "stream",
     "text": [
      "VQE result: 4.24579\n"
     ]
    }
   ],
   "source": [
    "counts = []\n",
    "values = []\n",
    "result = run_qve_w_specified_optimizer(COBYLA, ansatz_0d)\n",
    "counts_0d_c = counts\n",
    "values_0d_c = values"
   ]
  },
  {
   "cell_type": "code",
   "execution_count": 22,
   "id": "3a1863a6-bcba-46af-8915-68ff073ff394",
   "metadata": {},
   "outputs": [
    {
     "name": "stdout",
     "output_type": "stream",
     "text": [
      "VQE result: 4.06366\n"
     ]
    }
   ],
   "source": [
    "counts = []\n",
    "values = []\n",
    "result = run_qve_w_specified_optimizer(COBYLA, ansatz_1a)\n",
    "counts_1a_c = counts\n",
    "values_1a_c = values"
   ]
  },
  {
   "cell_type": "code",
   "execution_count": 23,
   "id": "1184a2fc-c0f2-4d83-a9f7-3d3c437d8e3f",
   "metadata": {},
   "outputs": [
    {
     "name": "stdout",
     "output_type": "stream",
     "text": [
      "VQE result: 4.79100\n"
     ]
    }
   ],
   "source": [
    "counts = []\n",
    "values = []\n",
    "result = run_qve_w_specified_optimizer(COBYLA, ansatz_1b)\n",
    "counts_1b_c = counts\n",
    "values_1b_c = values"
   ]
  },
  {
   "cell_type": "code",
   "execution_count": 24,
   "id": "e899b069-cb39-4494-bd2a-790022503a80",
   "metadata": {},
   "outputs": [
    {
     "name": "stdout",
     "output_type": "stream",
     "text": [
      "VQE result: 7.37021\n"
     ]
    }
   ],
   "source": [
    "counts = []\n",
    "values = []\n",
    "result = run_qve_w_specified_optimizer(COBYLA, ansatz_1c)\n",
    "counts_1c_c = counts\n",
    "values_1c_c = values"
   ]
  },
  {
   "cell_type": "code",
   "execution_count": 25,
   "id": "ccba3fbc-6e28-4016-8bc6-5e3f1a708edc",
   "metadata": {},
   "outputs": [
    {
     "name": "stdout",
     "output_type": "stream",
     "text": [
      "VQE result: 3.96265\n"
     ]
    }
   ],
   "source": [
    "counts = []\n",
    "values = []\n",
    "result = run_qve_w_specified_optimizer(COBYLA, ansatz_1d)\n",
    "counts_1d_c = counts\n",
    "values_1d_c = values"
   ]
  },
  {
   "cell_type": "code",
   "execution_count": 26,
   "id": "62b3a07a-b81d-40f3-90c9-089285df36ce",
   "metadata": {},
   "outputs": [
    {
     "data": {
      "text/html": [
       "<div>\n",
       "<style scoped>\n",
       "    .dataframe tbody tr th:only-of-type {\n",
       "        vertical-align: middle;\n",
       "    }\n",
       "\n",
       "    .dataframe tbody tr th {\n",
       "        vertical-align: top;\n",
       "    }\n",
       "\n",
       "    .dataframe thead th {\n",
       "        text-align: right;\n",
       "    }\n",
       "</style>\n",
       "<table border=\"1\" class=\"dataframe\">\n",
       "  <thead>\n",
       "    <tr style=\"text-align: right;\">\n",
       "      <th></th>\n",
       "      <th>values_0a</th>\n",
       "      <th>values_0b</th>\n",
       "      <th>values_0c</th>\n",
       "      <th>values_0d</th>\n",
       "      <th>values_1a</th>\n",
       "      <th>values_1b</th>\n",
       "      <th>values_1c</th>\n",
       "      <th>values_1d</th>\n",
       "    </tr>\n",
       "  </thead>\n",
       "  <tbody>\n",
       "    <tr>\n",
       "      <th>0</th>\n",
       "      <td>14.651227</td>\n",
       "      <td>4.791</td>\n",
       "      <td>30.240499</td>\n",
       "      <td>34.048799</td>\n",
       "      <td>32.315205</td>\n",
       "      <td>4.791</td>\n",
       "      <td>31.728634</td>\n",
       "      <td>32.918796</td>\n",
       "    </tr>\n",
       "    <tr>\n",
       "      <th>1</th>\n",
       "      <td>15.540178</td>\n",
       "      <td>4.791</td>\n",
       "      <td>29.241185</td>\n",
       "      <td>33.591876</td>\n",
       "      <td>32.329584</td>\n",
       "      <td>4.791</td>\n",
       "      <td>29.226991</td>\n",
       "      <td>32.898954</td>\n",
       "    </tr>\n",
       "    <tr>\n",
       "      <th>2</th>\n",
       "      <td>16.365019</td>\n",
       "      <td>4.791</td>\n",
       "      <td>31.019843</td>\n",
       "      <td>31.867733</td>\n",
       "      <td>30.809798</td>\n",
       "      <td>4.791</td>\n",
       "      <td>32.900218</td>\n",
       "      <td>30.189507</td>\n",
       "    </tr>\n",
       "    <tr>\n",
       "      <th>3</th>\n",
       "      <td>14.692054</td>\n",
       "      <td>4.791</td>\n",
       "      <td>29.474552</td>\n",
       "      <td>31.853879</td>\n",
       "      <td>31.241966</td>\n",
       "      <td>4.791</td>\n",
       "      <td>29.301541</td>\n",
       "      <td>28.711147</td>\n",
       "    </tr>\n",
       "    <tr>\n",
       "      <th>4</th>\n",
       "      <td>17.915452</td>\n",
       "      <td>4.791</td>\n",
       "      <td>29.768351</td>\n",
       "      <td>30.578290</td>\n",
       "      <td>32.471985</td>\n",
       "      <td>4.791</td>\n",
       "      <td>25.766603</td>\n",
       "      <td>30.844485</td>\n",
       "    </tr>\n",
       "    <tr>\n",
       "      <th>...</th>\n",
       "      <td>...</td>\n",
       "      <td>...</td>\n",
       "      <td>...</td>\n",
       "      <td>...</td>\n",
       "      <td>...</td>\n",
       "      <td>...</td>\n",
       "      <td>...</td>\n",
       "      <td>...</td>\n",
       "    </tr>\n",
       "    <tr>\n",
       "      <th>445</th>\n",
       "      <td>NaN</td>\n",
       "      <td>NaN</td>\n",
       "      <td>7.668333</td>\n",
       "      <td>4.280775</td>\n",
       "      <td>4.497009</td>\n",
       "      <td>4.791</td>\n",
       "      <td>7.855225</td>\n",
       "      <td>4.246454</td>\n",
       "    </tr>\n",
       "    <tr>\n",
       "      <th>446</th>\n",
       "      <td>NaN</td>\n",
       "      <td>NaN</td>\n",
       "      <td>7.636879</td>\n",
       "      <td>4.289242</td>\n",
       "      <td>4.319980</td>\n",
       "      <td>4.791</td>\n",
       "      <td>7.625272</td>\n",
       "      <td>4.045527</td>\n",
       "    </tr>\n",
       "    <tr>\n",
       "      <th>447</th>\n",
       "      <td>NaN</td>\n",
       "      <td>NaN</td>\n",
       "      <td>7.427765</td>\n",
       "      <td>4.263075</td>\n",
       "      <td>4.367754</td>\n",
       "      <td>4.791</td>\n",
       "      <td>7.913050</td>\n",
       "      <td>4.159242</td>\n",
       "    </tr>\n",
       "    <tr>\n",
       "      <th>448</th>\n",
       "      <td>NaN</td>\n",
       "      <td>NaN</td>\n",
       "      <td>7.536880</td>\n",
       "      <td>4.265080</td>\n",
       "      <td>4.063658</td>\n",
       "      <td>4.791</td>\n",
       "      <td>7.541435</td>\n",
       "      <td>4.010364</td>\n",
       "    </tr>\n",
       "    <tr>\n",
       "      <th>449</th>\n",
       "      <td>NaN</td>\n",
       "      <td>NaN</td>\n",
       "      <td>7.289306</td>\n",
       "      <td>4.263783</td>\n",
       "      <td>4.298286</td>\n",
       "      <td>4.791</td>\n",
       "      <td>7.996258</td>\n",
       "      <td>4.160618</td>\n",
       "    </tr>\n",
       "  </tbody>\n",
       "</table>\n",
       "<p>450 rows × 8 columns</p>\n",
       "</div>"
      ],
      "text/plain": [
       "     values_0a  values_0b  values_0c  values_0d  values_1a  values_1b  \\\n",
       "0    14.651227      4.791  30.240499  34.048799  32.315205      4.791   \n",
       "1    15.540178      4.791  29.241185  33.591876  32.329584      4.791   \n",
       "2    16.365019      4.791  31.019843  31.867733  30.809798      4.791   \n",
       "3    14.692054      4.791  29.474552  31.853879  31.241966      4.791   \n",
       "4    17.915452      4.791  29.768351  30.578290  32.471985      4.791   \n",
       "..         ...        ...        ...        ...        ...        ...   \n",
       "445        NaN        NaN   7.668333   4.280775   4.497009      4.791   \n",
       "446        NaN        NaN   7.636879   4.289242   4.319980      4.791   \n",
       "447        NaN        NaN   7.427765   4.263075   4.367754      4.791   \n",
       "448        NaN        NaN   7.536880   4.265080   4.063658      4.791   \n",
       "449        NaN        NaN   7.289306   4.263783   4.298286      4.791   \n",
       "\n",
       "     values_1c  values_1d  \n",
       "0    31.728634  32.918796  \n",
       "1    29.226991  32.898954  \n",
       "2    32.900218  30.189507  \n",
       "3    29.301541  28.711147  \n",
       "4    25.766603  30.844485  \n",
       "..         ...        ...  \n",
       "445   7.855225   4.246454  \n",
       "446   7.625272   4.045527  \n",
       "447   7.913050   4.159242  \n",
       "448   7.541435   4.010364  \n",
       "449   7.996258   4.160618  \n",
       "\n",
       "[450 rows x 8 columns]"
      ]
     },
     "execution_count": 26,
     "metadata": {},
     "output_type": "execute_result"
    }
   ],
   "source": [
    "df1 = pd.DataFrame({'values_0a': values_0a_c})\n",
    "df2 = pd.DataFrame({'values_0b': values_0b_c})\n",
    "df3 = pd.DataFrame({'values_0c': values_0c_c})\n",
    "df4 = pd.DataFrame({'values_0d': values_0d_c})\n",
    "df5 = pd.DataFrame({'values_1a': values_1a_c})\n",
    "df6 = pd.DataFrame({'values_1b': values_1b_c})\n",
    "df7 = pd.DataFrame({'values_1c': values_1c_c})\n",
    "df8 = pd.DataFrame({'values_1d': values_1d_c})\n",
    "qve_l2_tl_cobyla = pd.concat([df1, df2, df3, df4, df5, df6, df7,df8], axis = 1)\n",
    "qve_l2_tl_cobyla.to_csv('qve_l4_l=2.0_twolocal_cobyla.csv')\n",
    "qve_l2_tl_cobyla"
   ]
  },
  {
   "cell_type": "markdown",
   "id": "b10cf418-46a9-41df-9cdf-2c83b25d4627",
   "metadata": {},
   "source": [
    "# SPSA: EffSU2"
   ]
  },
  {
   "cell_type": "code",
   "execution_count": 27,
   "id": "ace71230-be9c-4f48-a974-527ce16669c8",
   "metadata": {},
   "outputs": [
    {
     "name": "stdout",
     "output_type": "stream",
     "text": [
      "VQE result: 6.92786\n"
     ]
    }
   ],
   "source": [
    "counts = []\n",
    "values = []\n",
    "result_spsa = run_qve_w_specified_optimizer(SPSA, ansatz_0a_su2)\n",
    "counts_0a = counts\n",
    "values_0a = values"
   ]
  },
  {
   "cell_type": "code",
   "execution_count": 28,
   "id": "3d77e90a-425e-4619-9bf6-9a8df257c03e",
   "metadata": {},
   "outputs": [
    {
     "name": "stdout",
     "output_type": "stream",
     "text": [
      "VQE result: 4.79100\n"
     ]
    }
   ],
   "source": [
    "counts = []\n",
    "values = []\n",
    "result_spsa = run_qve_w_specified_optimizer(SPSA, ansatz_0b_su2)\n",
    "counts_0b = counts\n",
    "values_0b = values"
   ]
  },
  {
   "cell_type": "code",
   "execution_count": 29,
   "id": "dbd7264d-f507-4603-b3ed-d807098a04e9",
   "metadata": {},
   "outputs": [
    {
     "name": "stdout",
     "output_type": "stream",
     "text": [
      "VQE result: 4.32874\n"
     ]
    }
   ],
   "source": [
    "counts = []\n",
    "values = []\n",
    "result_spsa = run_qve_w_specified_optimizer(SPSA, ansatz_0c_su2)\n",
    "counts_0c = counts\n",
    "values_0c = values"
   ]
  },
  {
   "cell_type": "code",
   "execution_count": 30,
   "id": "2edcb1bc-53c4-4cb4-b150-7043c86c96cf",
   "metadata": {},
   "outputs": [
    {
     "name": "stdout",
     "output_type": "stream",
     "text": [
      "VQE result: 4.94393\n"
     ]
    }
   ],
   "source": [
    "counts = []\n",
    "values = []\n",
    "result_spsa = run_qve_w_specified_optimizer(SPSA, ansatz_0d_su2)\n",
    "counts_0d = counts\n",
    "values_0d = values"
   ]
  },
  {
   "cell_type": "code",
   "execution_count": 31,
   "id": "d5d8a59b-46b6-45a4-a7b8-3c74eeb7e75f",
   "metadata": {},
   "outputs": [
    {
     "name": "stdout",
     "output_type": "stream",
     "text": [
      "VQE result: 4.20670\n"
     ]
    }
   ],
   "source": [
    "counts = []\n",
    "values = []\n",
    "result_spsa = run_qve_w_specified_optimizer(SPSA, ansatz_1a_su2)\n",
    "counts_1a = counts\n",
    "values_1a = values"
   ]
  },
  {
   "cell_type": "code",
   "execution_count": 32,
   "id": "696b35d0-d436-439d-852b-9802de05e723",
   "metadata": {},
   "outputs": [
    {
     "name": "stdout",
     "output_type": "stream",
     "text": [
      "VQE result: 4.79100\n"
     ]
    }
   ],
   "source": [
    "counts = []\n",
    "values = []\n",
    "result_spsa = run_qve_w_specified_optimizer(SPSA, ansatz_1b_su2)\n",
    "counts_1b = counts\n",
    "values_1b = values"
   ]
  },
  {
   "cell_type": "code",
   "execution_count": 33,
   "id": "16580139-5ade-47fe-b3b9-67bcb69b87ce",
   "metadata": {},
   "outputs": [
    {
     "name": "stdout",
     "output_type": "stream",
     "text": [
      "VQE result: 5.87643\n"
     ]
    }
   ],
   "source": [
    "counts = []\n",
    "values = []\n",
    "result_spsa = run_qve_w_specified_optimizer(SPSA, ansatz_1c_su2)\n",
    "counts_1c = counts\n",
    "values_1c = values"
   ]
  },
  {
   "cell_type": "code",
   "execution_count": 34,
   "id": "36a137a1-69d7-4f40-8b49-2e32614a70c3",
   "metadata": {},
   "outputs": [
    {
     "name": "stdout",
     "output_type": "stream",
     "text": [
      "VQE result: 5.54155\n"
     ]
    }
   ],
   "source": [
    "counts = []\n",
    "values = []\n",
    "result_spsa = run_qve_w_specified_optimizer(SPSA, ansatz_1d_su2)\n",
    "counts_1d = counts\n",
    "values_1d = values"
   ]
  },
  {
   "cell_type": "code",
   "execution_count": 35,
   "id": "84cd0b87-c5a8-4c7e-a55e-2a7f45268541",
   "metadata": {},
   "outputs": [
    {
     "data": {
      "text/html": [
       "<div>\n",
       "<style scoped>\n",
       "    .dataframe tbody tr th:only-of-type {\n",
       "        vertical-align: middle;\n",
       "    }\n",
       "\n",
       "    .dataframe tbody tr th {\n",
       "        vertical-align: top;\n",
       "    }\n",
       "\n",
       "    .dataframe thead th {\n",
       "        text-align: right;\n",
       "    }\n",
       "</style>\n",
       "<table border=\"1\" class=\"dataframe\">\n",
       "  <thead>\n",
       "    <tr style=\"text-align: right;\">\n",
       "      <th></th>\n",
       "      <th>values_0a_su2</th>\n",
       "      <th>values_0b_su2</th>\n",
       "      <th>values_0c_su2</th>\n",
       "      <th>values_0d_su2</th>\n",
       "      <th>values_1a_su2</th>\n",
       "      <th>values_1b_su2</th>\n",
       "      <th>values_1c_su2</th>\n",
       "      <th>values_1d_su2</th>\n",
       "    </tr>\n",
       "  </thead>\n",
       "  <tbody>\n",
       "    <tr>\n",
       "      <th>0</th>\n",
       "      <td>22.972602</td>\n",
       "      <td>4.067432</td>\n",
       "      <td>25.688852</td>\n",
       "      <td>21.768041</td>\n",
       "      <td>19.216249</td>\n",
       "      <td>4.067432</td>\n",
       "      <td>21.276864</td>\n",
       "      <td>26.975797</td>\n",
       "    </tr>\n",
       "    <tr>\n",
       "      <th>1</th>\n",
       "      <td>24.964117</td>\n",
       "      <td>3.788331</td>\n",
       "      <td>25.693471</td>\n",
       "      <td>18.502454</td>\n",
       "      <td>18.043652</td>\n",
       "      <td>3.788331</td>\n",
       "      <td>23.363185</td>\n",
       "      <td>32.613269</td>\n",
       "    </tr>\n",
       "    <tr>\n",
       "      <th>2</th>\n",
       "      <td>25.019979</td>\n",
       "      <td>4.829427</td>\n",
       "      <td>26.544672</td>\n",
       "      <td>21.336614</td>\n",
       "      <td>18.709553</td>\n",
       "      <td>4.829427</td>\n",
       "      <td>23.084185</td>\n",
       "      <td>28.894893</td>\n",
       "    </tr>\n",
       "    <tr>\n",
       "      <th>3</th>\n",
       "      <td>25.510435</td>\n",
       "      <td>5.118578</td>\n",
       "      <td>23.995168</td>\n",
       "      <td>18.270035</td>\n",
       "      <td>19.481752</td>\n",
       "      <td>5.118578</td>\n",
       "      <td>22.860638</td>\n",
       "      <td>31.505875</td>\n",
       "    </tr>\n",
       "    <tr>\n",
       "      <th>4</th>\n",
       "      <td>25.578407</td>\n",
       "      <td>4.250873</td>\n",
       "      <td>24.581120</td>\n",
       "      <td>18.882009</td>\n",
       "      <td>20.684999</td>\n",
       "      <td>4.250873</td>\n",
       "      <td>23.119165</td>\n",
       "      <td>33.497943</td>\n",
       "    </tr>\n",
       "    <tr>\n",
       "      <th>...</th>\n",
       "      <td>...</td>\n",
       "      <td>...</td>\n",
       "      <td>...</td>\n",
       "      <td>...</td>\n",
       "      <td>...</td>\n",
       "      <td>...</td>\n",
       "      <td>...</td>\n",
       "      <td>...</td>\n",
       "    </tr>\n",
       "    <tr>\n",
       "      <th>946</th>\n",
       "      <td>6.733101</td>\n",
       "      <td>4.793952</td>\n",
       "      <td>5.404564</td>\n",
       "      <td>5.126428</td>\n",
       "      <td>4.741554</td>\n",
       "      <td>4.793952</td>\n",
       "      <td>6.096327</td>\n",
       "      <td>5.629713</td>\n",
       "    </tr>\n",
       "    <tr>\n",
       "      <th>947</th>\n",
       "      <td>7.636435</td>\n",
       "      <td>4.735870</td>\n",
       "      <td>5.093858</td>\n",
       "      <td>4.361708</td>\n",
       "      <td>4.603607</td>\n",
       "      <td>4.735870</td>\n",
       "      <td>6.035681</td>\n",
       "      <td>5.741495</td>\n",
       "    </tr>\n",
       "    <tr>\n",
       "      <th>948</th>\n",
       "      <td>7.056390</td>\n",
       "      <td>4.793952</td>\n",
       "      <td>5.289359</td>\n",
       "      <td>4.567585</td>\n",
       "      <td>4.448496</td>\n",
       "      <td>4.793952</td>\n",
       "      <td>6.382048</td>\n",
       "      <td>5.630559</td>\n",
       "    </tr>\n",
       "    <tr>\n",
       "      <th>949</th>\n",
       "      <td>7.440752</td>\n",
       "      <td>4.735870</td>\n",
       "      <td>5.070021</td>\n",
       "      <td>4.673984</td>\n",
       "      <td>4.772700</td>\n",
       "      <td>4.735870</td>\n",
       "      <td>5.485871</td>\n",
       "      <td>5.356617</td>\n",
       "    </tr>\n",
       "    <tr>\n",
       "      <th>950</th>\n",
       "      <td>6.927863</td>\n",
       "      <td>4.791000</td>\n",
       "      <td>4.328741</td>\n",
       "      <td>4.943934</td>\n",
       "      <td>4.206696</td>\n",
       "      <td>4.791000</td>\n",
       "      <td>5.876428</td>\n",
       "      <td>5.541550</td>\n",
       "    </tr>\n",
       "  </tbody>\n",
       "</table>\n",
       "<p>951 rows × 8 columns</p>\n",
       "</div>"
      ],
      "text/plain": [
       "     values_0a_su2  values_0b_su2  values_0c_su2  values_0d_su2  \\\n",
       "0        22.972602       4.067432      25.688852      21.768041   \n",
       "1        24.964117       3.788331      25.693471      18.502454   \n",
       "2        25.019979       4.829427      26.544672      21.336614   \n",
       "3        25.510435       5.118578      23.995168      18.270035   \n",
       "4        25.578407       4.250873      24.581120      18.882009   \n",
       "..             ...            ...            ...            ...   \n",
       "946       6.733101       4.793952       5.404564       5.126428   \n",
       "947       7.636435       4.735870       5.093858       4.361708   \n",
       "948       7.056390       4.793952       5.289359       4.567585   \n",
       "949       7.440752       4.735870       5.070021       4.673984   \n",
       "950       6.927863       4.791000       4.328741       4.943934   \n",
       "\n",
       "     values_1a_su2  values_1b_su2  values_1c_su2  values_1d_su2  \n",
       "0        19.216249       4.067432      21.276864      26.975797  \n",
       "1        18.043652       3.788331      23.363185      32.613269  \n",
       "2        18.709553       4.829427      23.084185      28.894893  \n",
       "3        19.481752       5.118578      22.860638      31.505875  \n",
       "4        20.684999       4.250873      23.119165      33.497943  \n",
       "..             ...            ...            ...            ...  \n",
       "946       4.741554       4.793952       6.096327       5.629713  \n",
       "947       4.603607       4.735870       6.035681       5.741495  \n",
       "948       4.448496       4.793952       6.382048       5.630559  \n",
       "949       4.772700       4.735870       5.485871       5.356617  \n",
       "950       4.206696       4.791000       5.876428       5.541550  \n",
       "\n",
       "[951 rows x 8 columns]"
      ]
     },
     "execution_count": 35,
     "metadata": {},
     "output_type": "execute_result"
    }
   ],
   "source": [
    "# save the data to a dataframe \n",
    "list_l2 = {'values_0a_su2': values_0a, 'values_0b_su2': values_0b, \n",
    "        'values_0c_su2': values_0c, 'values_0d_su2': values_0d,\n",
    "        'values_1a_su2': values_1a, 'values_1b_su2': values_1b, \n",
    "        'values_1c_su2': values_1c,'values_1d_su2': values_1d}\n",
    "qve_l2_efsu2_spsa= pd.DataFrame(list_l2)\n",
    "qve_l2_efsu2_spsa.to_csv('qve_l4_l=2.0_effsu2_spsa.csv')\n",
    "qve_l2_efsu2_spsa"
   ]
  },
  {
   "cell_type": "markdown",
   "id": "45762c9d-95a1-4810-bae6-e11fdf2235f0",
   "metadata": {},
   "source": [
    "# SPSA: TwoLocal"
   ]
  },
  {
   "cell_type": "code",
   "execution_count": 36,
   "id": "a57dffd0",
   "metadata": {},
   "outputs": [
    {
     "name": "stdout",
     "output_type": "stream",
     "text": [
      "VQE result: 5.45181\n"
     ]
    }
   ],
   "source": [
    "#3.18339\n",
    "counts = []\n",
    "values = []\n",
    "result_spsa = run_qve_w_specified_optimizer(SPSA, ansatz_0a)\n",
    "counts_0a = counts\n",
    "values_0a = values"
   ]
  },
  {
   "cell_type": "code",
   "execution_count": 37,
   "id": "c0c39da0",
   "metadata": {},
   "outputs": [
    {
     "name": "stdout",
     "output_type": "stream",
     "text": [
      "VQE result: 4.79100\n"
     ]
    }
   ],
   "source": [
    "#3.17910\n",
    "counts = []\n",
    "values = []\n",
    "result_spsa = run_qve_w_specified_optimizer(SPSA, ansatz_0b)\n",
    "counts_0b = counts\n",
    "values_0b = values"
   ]
  },
  {
   "cell_type": "code",
   "execution_count": 38,
   "id": "c6655d0c",
   "metadata": {},
   "outputs": [
    {
     "name": "stdout",
     "output_type": "stream",
     "text": [
      "VQE result: 4.61735\n"
     ]
    }
   ],
   "source": [
    "#3.62318\n",
    "counts = []\n",
    "values = []\n",
    "result_spsa = run_qve_w_specified_optimizer(SPSA, ansatz_0c)\n",
    "counts_0c = counts\n",
    "values_0c = values"
   ]
  },
  {
   "cell_type": "code",
   "execution_count": 39,
   "id": "4e044153",
   "metadata": {},
   "outputs": [
    {
     "name": "stdout",
     "output_type": "stream",
     "text": [
      "VQE result: 3.94466\n"
     ]
    }
   ],
   "source": [
    "#3.13679\n",
    "counts = []\n",
    "values = []\n",
    "result_spsa = run_qve_w_specified_optimizer(SPSA, ansatz_0d)\n",
    "counts_0d = counts\n",
    "values_0d = values"
   ]
  },
  {
   "cell_type": "code",
   "execution_count": 40,
   "id": "466d5e00",
   "metadata": {},
   "outputs": [
    {
     "name": "stdout",
     "output_type": "stream",
     "text": [
      "VQE result: 6.29251\n"
     ]
    }
   ],
   "source": [
    "#3.16617\n",
    "counts = []\n",
    "values = []\n",
    "result_spsa = run_qve_w_specified_optimizer(SPSA, ansatz_1a)\n",
    "counts_1a = counts\n",
    "values_1a = values"
   ]
  },
  {
   "cell_type": "code",
   "execution_count": 41,
   "id": "3b0a0602",
   "metadata": {},
   "outputs": [
    {
     "name": "stdout",
     "output_type": "stream",
     "text": [
      "VQE result: 4.79100\n"
     ]
    }
   ],
   "source": [
    "#3.17910\n",
    "counts = []\n",
    "values = []\n",
    "result_spsa = run_qve_w_specified_optimizer(SPSA, ansatz_1b)\n",
    "counts_1b = counts\n",
    "values_1b = values"
   ]
  },
  {
   "cell_type": "code",
   "execution_count": 42,
   "id": "382b3fa3",
   "metadata": {},
   "outputs": [
    {
     "name": "stdout",
     "output_type": "stream",
     "text": [
      "VQE result: 5.42990\n"
     ]
    }
   ],
   "source": [
    "#4.10208\n",
    "counts = []\n",
    "values = []\n",
    "result_spsa = run_qve_w_specified_optimizer(SPSA, ansatz_1c)\n",
    "counts_1c = counts\n",
    "values_1c = values"
   ]
  },
  {
   "cell_type": "code",
   "execution_count": 43,
   "id": "ee9e1e3c",
   "metadata": {},
   "outputs": [
    {
     "name": "stdout",
     "output_type": "stream",
     "text": [
      "VQE result: 5.61301\n"
     ]
    }
   ],
   "source": [
    "#4.26060\n",
    "counts = []\n",
    "values = []\n",
    "result_spsa = run_qve_w_specified_optimizer(SPSA, ansatz_1d)\n",
    "counts_1d = counts\n",
    "values_1d = values"
   ]
  },
  {
   "cell_type": "code",
   "execution_count": 44,
   "id": "c4e23d40",
   "metadata": {},
   "outputs": [
    {
     "data": {
      "text/html": [
       "<div>\n",
       "<style scoped>\n",
       "    .dataframe tbody tr th:only-of-type {\n",
       "        vertical-align: middle;\n",
       "    }\n",
       "\n",
       "    .dataframe tbody tr th {\n",
       "        vertical-align: top;\n",
       "    }\n",
       "\n",
       "    .dataframe thead th {\n",
       "        text-align: right;\n",
       "    }\n",
       "</style>\n",
       "<table border=\"1\" class=\"dataframe\">\n",
       "  <thead>\n",
       "    <tr style=\"text-align: right;\">\n",
       "      <th></th>\n",
       "      <th>values_0a</th>\n",
       "      <th>values_0b</th>\n",
       "      <th>values_0c</th>\n",
       "      <th>values_0d</th>\n",
       "      <th>values_1a</th>\n",
       "      <th>values_1b</th>\n",
       "      <th>values_1c</th>\n",
       "      <th>values_1d</th>\n",
       "    </tr>\n",
       "  </thead>\n",
       "  <tbody>\n",
       "    <tr>\n",
       "      <th>0</th>\n",
       "      <td>18.054421</td>\n",
       "      <td>4.067432</td>\n",
       "      <td>33.927065</td>\n",
       "      <td>16.170605</td>\n",
       "      <td>24.281109</td>\n",
       "      <td>4.067432</td>\n",
       "      <td>21.216333</td>\n",
       "      <td>31.791125</td>\n",
       "    </tr>\n",
       "    <tr>\n",
       "      <th>1</th>\n",
       "      <td>27.279837</td>\n",
       "      <td>3.788331</td>\n",
       "      <td>30.977329</td>\n",
       "      <td>19.065909</td>\n",
       "      <td>23.203049</td>\n",
       "      <td>3.788331</td>\n",
       "      <td>23.806564</td>\n",
       "      <td>30.672371</td>\n",
       "    </tr>\n",
       "    <tr>\n",
       "      <th>2</th>\n",
       "      <td>21.148671</td>\n",
       "      <td>4.829427</td>\n",
       "      <td>31.382094</td>\n",
       "      <td>13.945755</td>\n",
       "      <td>21.518349</td>\n",
       "      <td>4.829427</td>\n",
       "      <td>20.989806</td>\n",
       "      <td>31.350249</td>\n",
       "    </tr>\n",
       "    <tr>\n",
       "      <th>3</th>\n",
       "      <td>24.219643</td>\n",
       "      <td>5.118578</td>\n",
       "      <td>32.985096</td>\n",
       "      <td>20.623285</td>\n",
       "      <td>26.171830</td>\n",
       "      <td>5.118578</td>\n",
       "      <td>23.345216</td>\n",
       "      <td>33.498207</td>\n",
       "    </tr>\n",
       "    <tr>\n",
       "      <th>4</th>\n",
       "      <td>28.175374</td>\n",
       "      <td>4.250873</td>\n",
       "      <td>31.045547</td>\n",
       "      <td>18.509588</td>\n",
       "      <td>22.193999</td>\n",
       "      <td>4.250873</td>\n",
       "      <td>24.791514</td>\n",
       "      <td>32.362149</td>\n",
       "    </tr>\n",
       "    <tr>\n",
       "      <th>...</th>\n",
       "      <td>...</td>\n",
       "      <td>...</td>\n",
       "      <td>...</td>\n",
       "      <td>...</td>\n",
       "      <td>...</td>\n",
       "      <td>...</td>\n",
       "      <td>...</td>\n",
       "      <td>...</td>\n",
       "    </tr>\n",
       "    <tr>\n",
       "      <th>946</th>\n",
       "      <td>5.785361</td>\n",
       "      <td>4.793952</td>\n",
       "      <td>4.512135</td>\n",
       "      <td>4.433265</td>\n",
       "      <td>6.243568</td>\n",
       "      <td>4.793952</td>\n",
       "      <td>5.711119</td>\n",
       "      <td>5.728416</td>\n",
       "    </tr>\n",
       "    <tr>\n",
       "      <th>947</th>\n",
       "      <td>5.654489</td>\n",
       "      <td>4.735870</td>\n",
       "      <td>5.073201</td>\n",
       "      <td>4.167224</td>\n",
       "      <td>6.095527</td>\n",
       "      <td>4.735870</td>\n",
       "      <td>5.643926</td>\n",
       "      <td>5.655118</td>\n",
       "    </tr>\n",
       "    <tr>\n",
       "      <th>948</th>\n",
       "      <td>6.079271</td>\n",
       "      <td>4.793952</td>\n",
       "      <td>4.064530</td>\n",
       "      <td>4.559193</td>\n",
       "      <td>6.521574</td>\n",
       "      <td>4.793952</td>\n",
       "      <td>5.549784</td>\n",
       "      <td>5.584763</td>\n",
       "    </tr>\n",
       "    <tr>\n",
       "      <th>949</th>\n",
       "      <td>5.233241</td>\n",
       "      <td>4.735870</td>\n",
       "      <td>4.680679</td>\n",
       "      <td>4.068305</td>\n",
       "      <td>6.247818</td>\n",
       "      <td>4.735870</td>\n",
       "      <td>5.902090</td>\n",
       "      <td>5.065779</td>\n",
       "    </tr>\n",
       "    <tr>\n",
       "      <th>950</th>\n",
       "      <td>5.451811</td>\n",
       "      <td>4.791000</td>\n",
       "      <td>4.617347</td>\n",
       "      <td>3.944658</td>\n",
       "      <td>6.292505</td>\n",
       "      <td>4.791000</td>\n",
       "      <td>5.429904</td>\n",
       "      <td>5.613008</td>\n",
       "    </tr>\n",
       "  </tbody>\n",
       "</table>\n",
       "<p>951 rows × 8 columns</p>\n",
       "</div>"
      ],
      "text/plain": [
       "     values_0a  values_0b  values_0c  values_0d  values_1a  values_1b  \\\n",
       "0    18.054421   4.067432  33.927065  16.170605  24.281109   4.067432   \n",
       "1    27.279837   3.788331  30.977329  19.065909  23.203049   3.788331   \n",
       "2    21.148671   4.829427  31.382094  13.945755  21.518349   4.829427   \n",
       "3    24.219643   5.118578  32.985096  20.623285  26.171830   5.118578   \n",
       "4    28.175374   4.250873  31.045547  18.509588  22.193999   4.250873   \n",
       "..         ...        ...        ...        ...        ...        ...   \n",
       "946   5.785361   4.793952   4.512135   4.433265   6.243568   4.793952   \n",
       "947   5.654489   4.735870   5.073201   4.167224   6.095527   4.735870   \n",
       "948   6.079271   4.793952   4.064530   4.559193   6.521574   4.793952   \n",
       "949   5.233241   4.735870   4.680679   4.068305   6.247818   4.735870   \n",
       "950   5.451811   4.791000   4.617347   3.944658   6.292505   4.791000   \n",
       "\n",
       "     values_1c  values_1d  \n",
       "0    21.216333  31.791125  \n",
       "1    23.806564  30.672371  \n",
       "2    20.989806  31.350249  \n",
       "3    23.345216  33.498207  \n",
       "4    24.791514  32.362149  \n",
       "..         ...        ...  \n",
       "946   5.711119   5.728416  \n",
       "947   5.643926   5.655118  \n",
       "948   5.549784   5.584763  \n",
       "949   5.902090   5.065779  \n",
       "950   5.429904   5.613008  \n",
       "\n",
       "[951 rows x 8 columns]"
      ]
     },
     "execution_count": 44,
     "metadata": {},
     "output_type": "execute_result"
    }
   ],
   "source": [
    "# save the data to a dataframe \n",
    "#don't reevaluate on a new run with just the new ansatze added\n",
    "import pandas as pd\n",
    "list_l2 = {'values_0a': values_0a, 'values_0b': values_0b, \n",
    "        'values_0c': values_0c, 'values_0d': values_0d,\n",
    "        'values_1a': values_1a, 'values_1b': values_1b, \n",
    "        'values_1c': values_1c,'values_1d': values_1d}\n",
    "qve_l2_tl_spsa= pd.DataFrame(list_l2)\n",
    "qve_l2_tl_spsa.to_csv('qve_l4_l=2.0_twolocal_spsa.csv')\n",
    "qve_l2_tl_spsa"
   ]
  }
 ],
 "metadata": {
  "kernelspec": {
   "display_name": "Python 3 (ipykernel)",
   "language": "python",
   "name": "python3"
  },
  "language_info": {
   "codemirror_mode": {
    "name": "ipython",
    "version": 3
   },
   "file_extension": ".py",
   "mimetype": "text/x-python",
   "name": "python",
   "nbconvert_exporter": "python",
   "pygments_lexer": "ipython3",
   "version": "3.12.7"
  }
 },
 "nbformat": 4,
 "nbformat_minor": 5
}
