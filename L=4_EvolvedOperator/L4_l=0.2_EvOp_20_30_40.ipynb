{
 "cells": [
  {
   "cell_type": "markdown",
   "id": "a25f944b-66b5-4bba-a01c-577db40c688e",
   "metadata": {},
   "source": [
    "# Lambda = 4, lambda = 0.2: EvolvedOperatorAnsatz"
   ]
  },
  {
   "cell_type": "code",
   "execution_count": 1,
   "id": "c2020e65",
   "metadata": {},
   "outputs": [],
   "source": [
    "import numpy as np\n",
    "import pandas as pd\n",
    "import pylab\n",
    "import matplotlib.pyplot as plt\n",
    "import time\n",
    "\n",
    "import qiskit\n",
    "from qiskit.quantum_info import Pauli\n",
    "from qiskit.quantum_info import SparsePauliOp\n",
    "from qiskit_algorithms import NumPyEigensolver\n",
    "from qiskit.circuit.library import EvolvedOperatorAnsatz\n",
    "\n",
    "import sys\n",
    "sys.path.append('../utility')\n",
    "from vqe_run import *\n",
    "from qc_ansatze import *"
   ]
  },
  {
   "cell_type": "code",
   "execution_count": 2,
   "id": "056d5a14",
   "metadata": {},
   "outputs": [],
   "source": [
    "def open_n_process(file_link):\n",
    "    file = open(file_link, \"r\")\n",
    "    content = file.read()\n",
    "\n",
    "    data = content.split(',\\n')\n",
    "    data[0] = data[0].split('\\n')[1]\n",
    "    data[-1] = data[-1].split('\\n')[0]\n",
    "\n",
    "    data_coeff = []\n",
    "    data_str = []\n",
    "    for i in range(len(data)):\n",
    "        data_coeff.append(float(data[i].split('*')[0]))\n",
    "        data_str.append(data[i].split('*')[1].split(' ')[1])\n",
    "    return data_coeff, data_str\n",
    "    \n",
    "def check_min_max(data_coeff):\n",
    "    print(f'Min absolute value is {np.round(np.min(np.abs(data_coeff[1:])),6)}')\n",
    "    print(f'Max absolute value is {np.round(np.max(np.abs(data_coeff[1:])),5)}')\n",
    "    print(f'Mean absolute value is {np.round(np.mean(np.abs(data_coeff[1:])),5)}')\n",
    "    \n",
    "def get_k_largest_ops(data_coeff, data_str, k):\n",
    "    ind_list = np.argsort(np.abs(data_coeff[1:]))[-k:]\n",
    "    ops = [data_str[1:][i] for i in ind_list]\n",
    "    val= [np.round(data_coeff[1:][i],4) for i in ind_list]\n",
    "    return ind_list, ops, val"
   ]
  },
  {
   "cell_type": "markdown",
   "id": "4780efb2",
   "metadata": {},
   "source": [
    "# Load H"
   ]
  },
  {
   "cell_type": "code",
   "execution_count": 3,
   "id": "a5b5a7c2",
   "metadata": {},
   "outputs": [
    {
     "name": "stdout",
     "output_type": "stream",
     "text": [
      "Min absolute value is 0.000897\n",
      "Max absolute value is 1.15\n",
      "Mean absolute value is 0.03431\n",
      "None\n",
      "E_exact = 3.13406\n"
     ]
    }
   ],
   "source": [
    "data_coeff, data_str = open_n_process(\"../utility/pauliH_L4_g0.2.txt\")\n",
    "Hpauli = list(zip(data_str, data_coeff))\n",
    "H4q = SparsePauliOp.from_list(Hpauli)\n",
    "solver = NumPyEigensolver(k=4)\n",
    "exact_solution = solver.compute_eigenvalues(H4q)\n",
    "#print(\"Exact Result of qubit hamiltonian:\", np.real(exact_solution.eigenvalues))\n",
    "E_exact = np.round(np.real(exact_solution.eigenvalues)[0],5)\n",
    "print(f'{check_min_max(data_coeff)}')\n",
    "print(f'E_exact = {E_exact}')"
   ]
  },
  {
   "cell_type": "code",
   "execution_count": 4,
   "id": "aaf59d50",
   "metadata": {},
   "outputs": [],
   "source": [
    "#get the indices of the N largest elements\n",
    "ind15, ops15, vals15 = get_k_largest_ops(data_coeff, data_str, 15)\n",
    "ind20, ops20, vals20 = get_k_largest_ops(data_coeff, data_str, 20)\n",
    "ind25, ops25, vals25 = get_k_largest_ops(data_coeff, data_str, 25)\n",
    "ind30, ops30, vals30 = get_k_largest_ops(data_coeff, data_str, 30)\n",
    "ind40, ops40, vals40 = get_k_largest_ops(data_coeff, data_str, 40)\n",
    "\n",
    "ops_Hp15 =[Pauli(f'{ops15[i]}') for i in range(len(ops15))]\n",
    "ops_Hp20 =[Pauli(f'{ops20[i]}') for i in range(len(ops20))]\n",
    "ops_Hp25 =[Pauli(f'{ops25[i]}') for i in range(len(ops25))]\n",
    "ops_Hp30 =[Pauli(f'{ops30[i]}') for i in range(len(ops30))]\n",
    "ops_Hp40 =[Pauli(f'{ops40[i]}') for i in range(len(ops40))]"
   ]
  },
  {
   "cell_type": "code",
   "execution_count": 5,
   "id": "0e5a2329",
   "metadata": {},
   "outputs": [
    {
     "name": "stdout",
     "output_type": "stream",
     "text": [
      "number of params: [15, 20, 25, 30, 40, 30, 40, 50, 60, 80]\n"
     ]
    }
   ],
   "source": [
    "ev_op_Hp15 = EvolvedOperatorAnsatz(ops_Hp15, reps=1, insert_barriers=True)\n",
    "ev_op_Hp20 = EvolvedOperatorAnsatz(ops_Hp20, reps=1, insert_barriers=True)\n",
    "ev_op_Hp25 = EvolvedOperatorAnsatz(ops_Hp25, reps=1, insert_barriers=True)\n",
    "ev_op_Hp30 = EvolvedOperatorAnsatz(ops_Hp30, reps=1, insert_barriers=True)\n",
    "ev_op_Hp40 = EvolvedOperatorAnsatz(ops_Hp40, reps=1, insert_barriers=True)\n",
    "\n",
    "ev_op_Hp15_2f = EvolvedOperatorAnsatz(ops_Hp15, reps=2, insert_barriers=True)\n",
    "ev_op_Hp20_2f = EvolvedOperatorAnsatz(ops_Hp20, reps=2, insert_barriers=True)\n",
    "ev_op_Hp25_2f = EvolvedOperatorAnsatz(ops_Hp25, reps=2, insert_barriers=True)\n",
    "ev_op_Hp30_2f = EvolvedOperatorAnsatz(ops_Hp30, reps=2, insert_barriers=True)\n",
    "ev_op_Hp40_2f = EvolvedOperatorAnsatz(ops_Hp40, reps=2, insert_barriers=True)\n",
    "\n",
    "ansatz_list = [ev_op_Hp15, ev_op_Hp20, ev_op_Hp25, ev_op_Hp30, ev_op_Hp40, \n",
    "               ev_op_Hp15_2f, ev_op_Hp20_2f, ev_op_Hp25_2f, ev_op_Hp30_2f, ev_op_Hp40_2f]\n",
    "\n",
    "ansatz_names = ['ev_op_Hp15', 'ev_op_Hp20', 'ev_op_Hp25', 'ev_op_Hp30', 'ev_op_H40',\n",
    "               'ev_op_Hp15_2f','ev_op_Hp20_2f','ev_op_Hp25_2f', 'ev_op_Hp30_2f', 'ev_op_Hp40_2f']\n",
    "\n",
    "print(f'number of params: {[ansatz_list[i].num_parameters for i in range(len(ansatz_list))]}')"
   ]
  },
  {
   "cell_type": "code",
   "execution_count": 5,
   "id": "ffb79e65",
   "metadata": {},
   "outputs": [
    {
     "name": "stdout",
     "output_type": "stream",
     "text": [
      "number of params: [45, 60]\n"
     ]
    }
   ],
   "source": [
    "#additional ansatze\n",
    "ev_op_Hp15_3f = EvolvedOperatorAnsatz(ops_Hp15, reps=3, insert_barriers=True)\n",
    "ev_op_Hp20_3f = EvolvedOperatorAnsatz(ops_Hp20, reps=3, insert_barriers=True)\n",
    "ansatz_list = [ev_op_Hp15_3f, ev_op_Hp20_3f]\n",
    "ansatz_names =['ev_op_Hp15_3f', 'ev_op_Hp20_3f']\n",
    "print(f'number of params: {[ansatz_list[i].num_parameters for i in range(len(ansatz_list))]}')"
   ]
  },
  {
   "cell_type": "code",
   "execution_count": 11,
   "id": "a819e98b",
   "metadata": {},
   "outputs": [],
   "source": [
    "#ev_op_Hp15.decompose().draw('mpl')\n",
    "#ev_op_Hp20.decompose().draw('mpl')\n",
    "#ev_op_Hp25.decompose().draw('mpl')\n",
    "#ev_op_Hp30.decompose().draw('mpl')"
   ]
  },
  {
   "cell_type": "markdown",
   "id": "6e25a52b",
   "metadata": {},
   "source": [
    "# VQE individual runs"
   ]
  },
  {
   "cell_type": "code",
   "execution_count": 6,
   "id": "e12262e0",
   "metadata": {},
   "outputs": [],
   "source": [
    "seed = 170\n",
    "iterations = 650\n",
    "algorithm_globals.random_seed = seed\n",
    "\n",
    "#estimator\n",
    "noiseless_estimator = AerEstimator(\n",
    "    run_options={\"seed\": seed, \"shots\": 1024},\n",
    "    transpile_options={\"seed_transpiler\": seed},\n",
    ")\n",
    "#storing values\n",
    "counts = []\n",
    "values = []\n",
    "def store_intermediate_result(eval_count, parameters, mean, std):\n",
    "    counts.append(eval_count)\n",
    "    values.append(mean)\n",
    "    \n",
    "def run_qve_w_specified_optimizer(optimizer, ansatz):\n",
    "    opt = optimizer(maxiter = iterations)\n",
    "    vqe = VQE(noiseless_estimator, ansatz, optimizer=opt, callback=store_intermediate_result)\n",
    "    result = vqe.compute_minimum_eigenvalue(operator=H4q).eigenvalue.real\n",
    "    print(f\"VQE result: {result:.5f}\")\n",
    "    return result"
   ]
  },
  {
   "cell_type": "markdown",
   "id": "10c29809",
   "metadata": {},
   "source": [
    "# COBYLA"
   ]
  },
  {
   "cell_type": "code",
   "execution_count": 7,
   "id": "7f317744",
   "metadata": {},
   "outputs": [
    {
     "name": "stdout",
     "output_type": "stream",
     "text": [
      "At step 0, with ev_op_Hp15\n",
      "VQE result: 3.12106\n",
      "Length of this optimization 199, time taken = 208.496 \n",
      "\n",
      "At step 1, with ev_op_Hp20\n",
      "VQE result: 3.11756\n",
      "Length of this optimization 270, time taken = 375.408 \n",
      "\n",
      "At step 2, with ev_op_Hp25\n",
      "VQE result: 3.17782\n",
      "Length of this optimization 306, time taken = 433.771 \n",
      "\n",
      "At step 3, with ev_op_Hp30\n",
      "VQE result: 3.32965\n",
      "Length of this optimization 325, time taken = 500.911 \n",
      "\n",
      "At step 4, with ev_op_H40\n",
      "VQE result: 7.35099\n",
      "Length of this optimization 527, time taken = 1269.803 \n",
      "\n",
      "At step 5, with ev_op_Hp15_2f\n",
      "VQE result: 3.13053\n",
      "Length of this optimization 320, time taken = 459.036 \n",
      "\n",
      "At step 6, with ev_op_Hp20_2f\n",
      "VQE result: 3.23598\n",
      "Length of this optimization 526, time taken = 990.898 \n",
      "\n",
      "At step 7, with ev_op_Hp25_2f\n",
      "VQE result: 3.33135\n",
      "Length of this optimization 631, time taken = 1313.553 \n",
      "\n",
      "At step 8, with ev_op_Hp30_2f\n",
      "VQE result: 3.46483\n",
      "Length of this optimization 650, time taken = 1467.775 \n",
      "\n",
      "At step 9, with ev_op_Hp40_2f\n",
      "VQE result: 4.33957\n",
      "Length of this optimization 650, time taken = 2510.427 \n",
      "\n"
     ]
    }
   ],
   "source": [
    "r_cobyla=[]\n",
    "for i in range(len(ansatz_list)):\n",
    "    print(f'At step {i}, with {ansatz_names[i]}')\n",
    "    counts = []\n",
    "    values = []\n",
    "    t0 = time.time()\n",
    "    result = run_qve_w_specified_optimizer(COBYLA, ansatz_list[i])\n",
    "    t1 = time.time()\n",
    "    print(f'Length of this optimization {len(values)}, time taken = {np.round(t1-t0,3)} \\n')\n",
    "    counts_a = counts\n",
    "    values_a = values \n",
    "    r_cobyla.append(pd.DataFrame({f'{ansatz_names[i]}': values_a}))\n",
    "    "
   ]
  },
  {
   "cell_type": "code",
   "execution_count": 9,
   "id": "15eab7d7",
   "metadata": {},
   "outputs": [],
   "source": [
    "df1 = pd.concat([r_cobyla[i] for i in range(len(r_cobyla))], axis = 1)\n",
    "df1.to_csv('l4_l02_op_ev_20_30_40_indv_cobyla.csv')"
   ]
  },
  {
   "cell_type": "code",
   "execution_count": 7,
   "id": "b7fb5cf0",
   "metadata": {},
   "outputs": [
    {
     "name": "stdout",
     "output_type": "stream",
     "text": [
      "At step 0, with ev_op_Hp15_3f\n",
      "VQE result: 3.13999\n",
      "Length of this optimization 440, time taken = 687.047 \n",
      "\n",
      "At step 1, with ev_op_Hp20_3f\n",
      "VQE result: 3.23875\n",
      "Length of this optimization 642, time taken = 1832.641 \n",
      "\n"
     ]
    }
   ],
   "source": [
    "# Additional ansatze\n",
    "r_cobyla2=[]\n",
    "for i in range(len(ansatz_list)):\n",
    "    print(f'At step {i}, with {ansatz_names[i]}')\n",
    "    counts = []\n",
    "    values = []\n",
    "    t0 = time.time()\n",
    "    result = run_qve_w_specified_optimizer(COBYLA, ansatz_list[i])\n",
    "    t1 = time.time()\n",
    "    print(f'Length of this optimization {len(values)}, time taken = {np.round(t1-t0,3)} \\n')\n",
    "    counts_a = counts\n",
    "    values_a = values \n",
    "    r_cobyla2.append(pd.DataFrame({f'{ansatz_names[i]}': values_a}))\n",
    "    "
   ]
  },
  {
   "cell_type": "code",
   "execution_count": 8,
   "id": "70ba992b",
   "metadata": {},
   "outputs": [
    {
     "data": {
      "text/html": [
       "<div>\n",
       "<style scoped>\n",
       "    .dataframe tbody tr th:only-of-type {\n",
       "        vertical-align: middle;\n",
       "    }\n",
       "\n",
       "    .dataframe tbody tr th {\n",
       "        vertical-align: top;\n",
       "    }\n",
       "\n",
       "    .dataframe thead th {\n",
       "        text-align: right;\n",
       "    }\n",
       "</style>\n",
       "<table border=\"1\" class=\"dataframe\">\n",
       "  <thead>\n",
       "    <tr style=\"text-align: right;\">\n",
       "      <th></th>\n",
       "      <th>ev_op_Hp15_3f</th>\n",
       "      <th>ev_op_Hp20_3f</th>\n",
       "    </tr>\n",
       "  </thead>\n",
       "  <tbody>\n",
       "    <tr>\n",
       "      <th>0</th>\n",
       "      <td>3.782361</td>\n",
       "      <td>15.211639</td>\n",
       "    </tr>\n",
       "    <tr>\n",
       "      <th>1</th>\n",
       "      <td>4.993923</td>\n",
       "      <td>15.390675</td>\n",
       "    </tr>\n",
       "    <tr>\n",
       "      <th>2</th>\n",
       "      <td>5.602874</td>\n",
       "      <td>14.819995</td>\n",
       "    </tr>\n",
       "    <tr>\n",
       "      <th>3</th>\n",
       "      <td>5.101522</td>\n",
       "      <td>12.998426</td>\n",
       "    </tr>\n",
       "    <tr>\n",
       "      <th>4</th>\n",
       "      <td>3.782361</td>\n",
       "      <td>14.853416</td>\n",
       "    </tr>\n",
       "    <tr>\n",
       "      <th>...</th>\n",
       "      <td>...</td>\n",
       "      <td>...</td>\n",
       "    </tr>\n",
       "    <tr>\n",
       "      <th>637</th>\n",
       "      <td>NaN</td>\n",
       "      <td>3.232475</td>\n",
       "    </tr>\n",
       "    <tr>\n",
       "      <th>638</th>\n",
       "      <td>NaN</td>\n",
       "      <td>3.232820</td>\n",
       "    </tr>\n",
       "    <tr>\n",
       "      <th>639</th>\n",
       "      <td>NaN</td>\n",
       "      <td>3.245695</td>\n",
       "    </tr>\n",
       "    <tr>\n",
       "      <th>640</th>\n",
       "      <td>NaN</td>\n",
       "      <td>3.232097</td>\n",
       "    </tr>\n",
       "    <tr>\n",
       "      <th>641</th>\n",
       "      <td>NaN</td>\n",
       "      <td>3.238755</td>\n",
       "    </tr>\n",
       "  </tbody>\n",
       "</table>\n",
       "<p>642 rows × 2 columns</p>\n",
       "</div>"
      ],
      "text/plain": [
       "     ev_op_Hp15_3f  ev_op_Hp20_3f\n",
       "0         3.782361      15.211639\n",
       "1         4.993923      15.390675\n",
       "2         5.602874      14.819995\n",
       "3         5.101522      12.998426\n",
       "4         3.782361      14.853416\n",
       "..             ...            ...\n",
       "637            NaN       3.232475\n",
       "638            NaN       3.232820\n",
       "639            NaN       3.245695\n",
       "640            NaN       3.232097\n",
       "641            NaN       3.238755\n",
       "\n",
       "[642 rows x 2 columns]"
      ]
     },
     "execution_count": 8,
     "metadata": {},
     "output_type": "execute_result"
    }
   ],
   "source": [
    "df1b = pd.concat([r_cobyla2[i] for i in range(len(r_cobyla2))], axis = 1)\n",
    "df1b.to_csv('l4_l02_op_ev_a_20_30_40_indv_cobyla.csv')\n",
    "df1b"
   ]
  },
  {
   "cell_type": "markdown",
   "id": "f7b5123b",
   "metadata": {},
   "source": [
    "# SPSA"
   ]
  },
  {
   "cell_type": "code",
   "execution_count": 8,
   "id": "75b9104b",
   "metadata": {},
   "outputs": [
    {
     "name": "stdout",
     "output_type": "stream",
     "text": [
      "At step 0, with ev_op_Hp15\n",
      "VQE result: 3.19377\n",
      "Length of this optimization 1351, time taken = 1861.069 \n",
      "\n",
      "At step 1, with ev_op_Hp20\n",
      "VQE result: 3.15612\n",
      "Length of this optimization 1351, time taken = 2061.173 \n",
      "\n",
      "At step 2, with ev_op_Hp25\n",
      "VQE result: 3.14337\n",
      "Length of this optimization 1351, time taken = 2153.691 \n",
      "\n",
      "At step 3, with ev_op_Hp30\n",
      "VQE result: 3.16268\n",
      "Length of this optimization 1351, time taken = 26373.709 \n",
      "\n",
      "At step 4, with ev_op_H40\n",
      "VQE result: 3.17260\n",
      "Length of this optimization 1351, time taken = 2971.854 \n",
      "\n",
      "At step 5, with ev_op_Hp15_2f\n",
      "VQE result: 3.12846\n",
      "Length of this optimization 1351, time taken = 2173.352 \n",
      "\n",
      "At step 6, with ev_op_Hp20_2f\n",
      "VQE result: 3.19462\n",
      "Length of this optimization 1351, time taken = 2589.496 \n",
      "\n",
      "At step 7, with ev_op_Hp25_2f\n",
      "VQE result: 3.12774\n",
      "Length of this optimization 1351, time taken = 2730.965 \n",
      "\n",
      "At step 8, with ev_op_Hp30_2f\n",
      "VQE result: 3.13160\n",
      "Length of this optimization 1351, time taken = 3023.525 \n",
      "\n",
      "At step 9, with ev_op_Hp40_2f\n",
      "VQE result: 9.74745\n",
      "Length of this optimization 1351, time taken = 4625.33 \n",
      "\n"
     ]
    }
   ],
   "source": [
    "r_spsa=[]\n",
    "for i in range(len(ansatz_list)):\n",
    "    print(f'At step {i}, with {ansatz_names[i]}')\n",
    "    counts = []\n",
    "    values = []\n",
    "    t0 = time.time()\n",
    "    result = run_qve_w_specified_optimizer(SPSA, ansatz_list[i])\n",
    "    t1 = time.time()\n",
    "    print(f'Length of this optimization {len(values)}, time taken = {np.round(t1-t0,3)} \\n')\n",
    "    counts_a = counts\n",
    "    values_a = values \n",
    "    r_spsa.append(pd.DataFrame({f'{ansatz_names[i]}': values_a}))"
   ]
  },
  {
   "cell_type": "code",
   "execution_count": 11,
   "id": "d2a978a4",
   "metadata": {},
   "outputs": [],
   "source": [
    "df2 = pd.concat([r_spsa[i] for i in range(len(r_spsa))], axis = 1)\n",
    "df2.to_csv('l4_l02_op_ev_20_30_40_indv_spsa.csv')"
   ]
  },
  {
   "cell_type": "code",
   "execution_count": 9,
   "id": "b71874db",
   "metadata": {},
   "outputs": [
    {
     "name": "stdout",
     "output_type": "stream",
     "text": [
      "At step 0, with ev_op_Hp15_3f\n",
      "VQE result: 3.18062\n",
      "Length of this optimization 1351, time taken = 3119.072 \n",
      "\n",
      "At step 1, with ev_op_Hp20_3f\n",
      "VQE result: 3.11734\n",
      "Length of this optimization 1351, time taken = 4001.807 \n",
      "\n"
     ]
    }
   ],
   "source": [
    "r_spsa2=[]\n",
    "for i in range(len(ansatz_list)):\n",
    "    print(f'At step {i}, with {ansatz_names[i]}')\n",
    "    counts = []\n",
    "    values = []\n",
    "    t0 = time.time()\n",
    "    result = run_qve_w_specified_optimizer(SPSA, ansatz_list[i])\n",
    "    t1 = time.time()\n",
    "    print(f'Length of this optimization {len(values)}, time taken = {np.round(t1-t0,3)} \\n')\n",
    "    counts_a = counts\n",
    "    values_a = values \n",
    "    r_spsa2.append(pd.DataFrame({f'{ansatz_names[i]}': values_a}))"
   ]
  },
  {
   "cell_type": "code",
   "execution_count": 10,
   "id": "d985c8f2",
   "metadata": {},
   "outputs": [],
   "source": [
    "df2b = pd.concat([r_spsa2[i] for i in range(len(r_spsa2))], axis = 1)\n",
    "df2b.to_csv('l4_l02_op_ev_a_20_30_40_indv_spsa.csv')"
   ]
  }
 ],
 "metadata": {
  "kernelspec": {
   "display_name": "Python 3 (ipykernel)",
   "language": "python",
   "name": "python3"
  },
  "language_info": {
   "codemirror_mode": {
    "name": "ipython",
    "version": 3
   },
   "file_extension": ".py",
   "mimetype": "text/x-python",
   "name": "python",
   "nbconvert_exporter": "python",
   "pygments_lexer": "ipython3",
   "version": "3.12.7"
  }
 },
 "nbformat": 4,
 "nbformat_minor": 5
}
