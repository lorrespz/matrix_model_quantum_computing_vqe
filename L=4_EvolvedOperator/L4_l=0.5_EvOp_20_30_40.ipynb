{
 "cells": [
  {
   "cell_type": "markdown",
   "id": "84f92999-05c6-4727-92f0-17832f16c2ae",
   "metadata": {},
   "source": [
    "# Lambda=4, lambda =0.5: EvolvedOperatorAnsatz"
   ]
  },
  {
   "cell_type": "code",
   "execution_count": 1,
   "id": "c2020e65",
   "metadata": {},
   "outputs": [],
   "source": [
    "import numpy as np\n",
    "import pandas as pd\n",
    "import pylab\n",
    "import matplotlib.pyplot as plt\n",
    "import time\n",
    "\n",
    "import qiskit\n",
    "from qiskit.quantum_info import Pauli\n",
    "from qiskit.quantum_info import SparsePauliOp\n",
    "from qiskit_algorithms import NumPyEigensolver\n",
    "from qiskit.circuit.library import EvolvedOperatorAnsatz\n",
    "\n",
    "import sys\n",
    "sys.path.append('../utility')\n",
    "from vqe_run import *\n",
    "from qc_ansatze import *"
   ]
  },
  {
   "cell_type": "code",
   "execution_count": 2,
   "id": "056d5a14",
   "metadata": {},
   "outputs": [],
   "source": [
    "def open_n_process(file_link):\n",
    "    file = open(file_link, \"r\")\n",
    "    content = file.read()\n",
    "\n",
    "    data = content.split(',\\n')\n",
    "    data[0] = data[0].split('\\n')[1]\n",
    "    data[-1] = data[-1].split('\\n')[0]\n",
    "\n",
    "    data_coeff = []\n",
    "    data_str = []\n",
    "    for i in range(len(data)):\n",
    "        data_coeff.append(float(data[i].split('*')[0]))\n",
    "        data_str.append(data[i].split('*')[1].split(' ')[1])\n",
    "    return data_coeff, data_str\n",
    "    \n",
    "def check_min_max(data_coeff):\n",
    "    print(f'Min absolute value is {np.round(np.min(np.abs(data_coeff[1:])),6)}')\n",
    "    print(f'Max absolute value is {np.round(np.max(np.abs(data_coeff[1:])),5)}')\n",
    "    print(f'Mean absolute value is {np.round(np.mean(np.abs(data_coeff[1:])),5)}')\n",
    "    \n",
    "def get_k_largest_ops(data_coeff, data_str, k):\n",
    "    ind_list = np.argsort(np.abs(data_coeff[1:]))[-k:]\n",
    "    ops = [data_str[1:][i] for i in ind_list]\n",
    "    val= [np.round(data_coeff[1:][i],4) for i in ind_list]\n",
    "    return ind_list, ops, val"
   ]
  },
  {
   "cell_type": "markdown",
   "id": "4780efb2",
   "metadata": {},
   "source": [
    "# Load H"
   ]
  },
  {
   "cell_type": "code",
   "execution_count": 3,
   "id": "a5b5a7c2",
   "metadata": {},
   "outputs": [
    {
     "name": "stdout",
     "output_type": "stream",
     "text": [
      "Min absolute value is 0.002244\n",
      "Max absolute value is 1.375\n",
      "Mean absolute value is 0.07067\n",
      "None\n",
      "E_exact = 3.29894\n"
     ]
    }
   ],
   "source": [
    "data_coeff, data_str = open_n_process(\"../utility/pauliH_L4_g0.5.txt\")\n",
    "Hpauli = list(zip(data_str, data_coeff))\n",
    "H4q = SparsePauliOp.from_list(Hpauli)\n",
    "# exactly diagonalize the system using numpy routines\n",
    "solver = NumPyEigensolver(k=4)\n",
    "exact_solution = solver.compute_eigenvalues(H4q)\n",
    "#print(\"Exact Result of qubit hamiltonian:\", np.real(exact_solution.eigenvalues))\n",
    "E_exact = np.round(np.real(exact_solution.eigenvalues)[0],5)\n",
    "print(f'{check_min_max(data_coeff)}')\n",
    "print(f'E_exact = {E_exact}')"
   ]
  },
  {
   "cell_type": "code",
   "execution_count": 4,
   "id": "aaf59d50",
   "metadata": {},
   "outputs": [],
   "source": [
    "#get the indices of the N largest elements\n",
    "ind15, ops15, vals15 = get_k_largest_ops(data_coeff, data_str, 15)\n",
    "ind20, ops20, vals20 = get_k_largest_ops(data_coeff, data_str, 20)\n",
    "ind25, ops25, vals25 = get_k_largest_ops(data_coeff, data_str, 25)\n",
    "ind30, ops30, vals30 = get_k_largest_ops(data_coeff, data_str, 30)\n",
    "ind40, ops40, vals40 = get_k_largest_ops(data_coeff, data_str, 40)\n",
    "\n",
    "ops_Hp15 =[Pauli(f'{ops15[i]}') for i in range(len(ops15))]\n",
    "ops_Hp20 =[Pauli(f'{ops20[i]}') for i in range(len(ops20))]\n",
    "ops_Hp25 =[Pauli(f'{ops25[i]}') for i in range(len(ops25))]\n",
    "ops_Hp30 =[Pauli(f'{ops30[i]}') for i in range(len(ops30))]\n",
    "ops_Hp40 =[Pauli(f'{ops40[i]}') for i in range(len(ops40))]"
   ]
  },
  {
   "cell_type": "code",
   "execution_count": 5,
   "id": "0e5a2329",
   "metadata": {},
   "outputs": [
    {
     "name": "stdout",
     "output_type": "stream",
     "text": [
      "number of params: [15, 20, 25, 30, 40, 30, 40, 50, 60, 80]\n"
     ]
    }
   ],
   "source": [
    "ev_op_Hp15 = EvolvedOperatorAnsatz(ops_Hp15, reps=1, insert_barriers=True)\n",
    "ev_op_Hp20 = EvolvedOperatorAnsatz(ops_Hp20, reps=1, insert_barriers=True)\n",
    "ev_op_Hp25 = EvolvedOperatorAnsatz(ops_Hp25, reps=1, insert_barriers=True)\n",
    "ev_op_Hp30 = EvolvedOperatorAnsatz(ops_Hp30, reps=1, insert_barriers=True)\n",
    "ev_op_Hp40 = EvolvedOperatorAnsatz(ops_Hp40, reps=1, insert_barriers=True)\n",
    "\n",
    "ev_op_Hp15_2f = EvolvedOperatorAnsatz(ops_Hp15, reps=2, insert_barriers=True)\n",
    "ev_op_Hp20_2f = EvolvedOperatorAnsatz(ops_Hp20, reps=2, insert_barriers=True)\n",
    "ev_op_Hp25_2f = EvolvedOperatorAnsatz(ops_Hp25, reps=2, insert_barriers=True)\n",
    "ev_op_Hp30_2f = EvolvedOperatorAnsatz(ops_Hp30, reps=2, insert_barriers=True)\n",
    "ev_op_Hp40_2f = EvolvedOperatorAnsatz(ops_Hp40, reps=2, insert_barriers=True)\n",
    "\n",
    "ansatz_list = [ev_op_Hp15, ev_op_Hp20, ev_op_Hp25, ev_op_Hp30, ev_op_Hp40, \n",
    "               ev_op_Hp15_2f, ev_op_Hp20_2f, ev_op_Hp25_2f, ev_op_Hp30_2f, ev_op_Hp40_2f]\n",
    "\n",
    "ansatz_names = ['ev_op_Hp15', 'ev_op_Hp20', 'ev_op_Hp25', 'ev_op_Hp30', 'ev_op_H40',\n",
    "               'ev_op_Hp15_2f','ev_op_Hp20_2f','ev_op_Hp25_2f', 'ev_op_Hp30_2f', 'ev_op_Hp40_2f']\n",
    "\n",
    "print(f'number of params: {[ansatz_list[i].num_parameters for i in range(len(ansatz_list))]}')"
   ]
  },
  {
   "cell_type": "code",
   "execution_count": 5,
   "id": "f294a599",
   "metadata": {},
   "outputs": [
    {
     "name": "stdout",
     "output_type": "stream",
     "text": [
      "number of params: [45, 60]\n"
     ]
    }
   ],
   "source": [
    "#additional ansatze\n",
    "ev_op_Hp15_3f = EvolvedOperatorAnsatz(ops_Hp15, reps=3, insert_barriers=True)\n",
    "ev_op_Hp20_3f = EvolvedOperatorAnsatz(ops_Hp20, reps=3, insert_barriers=True)\n",
    "ansatz_list = [ev_op_Hp15_3f, ev_op_Hp20_3f]\n",
    "ansatz_names =['ev_op_Hp15_3f', 'ev_op_Hp20_3f']\n",
    "print(f'number of params: {[ansatz_list[i].num_parameters for i in range(len(ansatz_list))]}')"
   ]
  },
  {
   "cell_type": "markdown",
   "id": "6e25a52b",
   "metadata": {},
   "source": [
    "# VQE individual runs"
   ]
  },
  {
   "cell_type": "code",
   "execution_count": 6,
   "id": "e12262e0",
   "metadata": {},
   "outputs": [],
   "source": [
    "seed = 170\n",
    "iterations = 650\n",
    "algorithm_globals.random_seed = seed\n",
    "\n",
    "#estimator\n",
    "noiseless_estimator = AerEstimator(\n",
    "    run_options={\"seed\": seed, \"shots\": 1024},\n",
    "    transpile_options={\"seed_transpiler\": seed},\n",
    ")\n",
    "#storing values\n",
    "counts = []\n",
    "values = []\n",
    "def store_intermediate_result(eval_count, parameters, mean, std):\n",
    "    counts.append(eval_count)\n",
    "    values.append(mean)\n",
    "    \n",
    "def run_qve_w_specified_optimizer(optimizer, ansatz):\n",
    "    opt = optimizer(maxiter = iterations)\n",
    "    vqe = VQE(noiseless_estimator, ansatz, optimizer=opt, callback=store_intermediate_result)\n",
    "    result = vqe.compute_minimum_eigenvalue(operator=H4q).eigenvalue.real\n",
    "    print(f\"VQE result: {result:.5f}\")\n",
    "    return result"
   ]
  },
  {
   "cell_type": "markdown",
   "id": "4b730bee",
   "metadata": {},
   "source": [
    "# COBYLA"
   ]
  },
  {
   "cell_type": "markdown",
   "id": "eb3d4892",
   "metadata": {},
   "source": [
    "At step 0, with ev_op_Hp20\n",
    "VQE result: 3.24109\n",
    "Length of this optimization 276, time taken = 390.582 \n",
    "\n",
    "At step 1, with ev_op_Hp30\n",
    "VQE result: 3.39777\n",
    "Length of this optimization 398, time taken = 621.303 \n",
    "\n",
    "At step 2, with ev_op_H40\n",
    "VQE result: 3.83656\n",
    "Length of this optimization 550, time taken = 1340.477 \n",
    "\n",
    "At step 3, with ev_op_Hp20_2f\n",
    "VQE result: 3.32070\n",
    "Length of this optimization 444, time taken = 884.188 \n",
    "\n",
    "At step 4, with ev_op_Hp30_2f\n",
    "VQE result: 4.13631\n",
    "Length of this optimization 550, time taken = 1323.844 \n",
    "\n",
    "At step 5, with ev_op_H40_2f\n",
    "VQE result: 6.05733\n",
    "Length of this optimization 550, time taken = 2197.294 "
   ]
  },
  {
   "cell_type": "code",
   "execution_count": 7,
   "id": "7f317744",
   "metadata": {},
   "outputs": [
    {
     "name": "stdout",
     "output_type": "stream",
     "text": [
      "At step 0, with ev_op_Hp15\n",
      "VQE result: 3.19333\n",
      "Length of this optimization 204, time taken = 246.569 \n",
      "\n",
      "At step 1, with ev_op_Hp20\n",
      "VQE result: 3.19783\n",
      "Length of this optimization 244, time taken = 327.01 \n",
      "\n",
      "At step 2, with ev_op_Hp25\n",
      "VQE result: 3.29968\n",
      "Length of this optimization 288, time taken = 406.598 \n",
      "\n",
      "At step 3, with ev_op_Hp30\n",
      "VQE result: 3.23420\n",
      "Length of this optimization 438, time taken = 666.928 \n",
      "\n",
      "At step 4, with ev_op_H40\n",
      "VQE result: 3.91962\n",
      "Length of this optimization 531, time taken = 1267.15 \n",
      "\n",
      "At step 5, with ev_op_Hp15_2f\n",
      "VQE result: 3.30153\n",
      "Length of this optimization 368, time taken = 537.76 \n",
      "\n",
      "At step 6, with ev_op_Hp20_2f\n",
      "VQE result: 3.54492\n",
      "Length of this optimization 513, time taken = 958.102 \n",
      "\n",
      "At step 7, with ev_op_Hp25_2f\n",
      "VQE result: 3.28540\n",
      "Length of this optimization 650, time taken = 1342.362 \n",
      "\n",
      "At step 8, with ev_op_Hp30_2f\n",
      "VQE result: 3.87371\n",
      "Length of this optimization 650, time taken = 1459.21 \n",
      "\n",
      "At step 9, with ev_op_Hp40_2f\n",
      "VQE result: 13.40265\n",
      "Length of this optimization 625, time taken = 2441.247 \n",
      "\n"
     ]
    }
   ],
   "source": [
    "r_cobyla=[]\n",
    "for i in range(len(ansatz_list)):\n",
    "    print(f'At step {i}, with {ansatz_names[i]}')   \n",
    "    counts = []\n",
    "    values = []\n",
    "    t0 = time.time()\n",
    "    result = run_qve_w_specified_optimizer(COBYLA, ansatz_list[i])\n",
    "    t1 = time.time()\n",
    "    print(f'Length of this optimization {len(values)}, time taken = {np.round(t1-t0,3)} \\n')\n",
    "    counts_a = counts\n",
    "    values_a = values \n",
    "    r_cobyla.append(pd.DataFrame({f'{ansatz_names[i]}': values_a}))\n",
    "    "
   ]
  },
  {
   "cell_type": "code",
   "execution_count": 9,
   "id": "15eab7d7",
   "metadata": {},
   "outputs": [],
   "source": [
    "df1 = pd.concat([r_cobyla[i] for i in range(len(r_cobyla))], axis = 1)\n",
    "df1.to_csv('l4_l05_op_ev_20_30_40_indv_cobyla.csv')"
   ]
  },
  {
   "cell_type": "code",
   "execution_count": 7,
   "id": "698e121b",
   "metadata": {},
   "outputs": [
    {
     "name": "stdout",
     "output_type": "stream",
     "text": [
      "At step 0, with ev_op_Hp15_3f\n",
      "VQE result: 3.14718\n",
      "Length of this optimization 492, time taken = 890.18 \n",
      "\n",
      "At step 1, with ev_op_Hp20_3f\n",
      "VQE result: 3.33062\n",
      "Length of this optimization 650, time taken = 1899.57 \n",
      "\n"
     ]
    }
   ],
   "source": [
    "# Additional ansatze\n",
    "r_cobyla2=[]\n",
    "for i in range(len(ansatz_list)):\n",
    "    print(f'At step {i}, with {ansatz_names[i]}')\n",
    "    counts = []\n",
    "    values = []\n",
    "    t0 = time.time()\n",
    "    result = run_qve_w_specified_optimizer(COBYLA, ansatz_list[i])\n",
    "    t1 = time.time()\n",
    "    print(f'Length of this optimization {len(values)}, time taken = {np.round(t1-t0,3)} \\n')\n",
    "    counts_a = counts\n",
    "    values_a = values \n",
    "    r_cobyla2.append(pd.DataFrame({f'{ansatz_names[i]}': values_a}))\n",
    "    "
   ]
  },
  {
   "cell_type": "code",
   "execution_count": 8,
   "id": "9ea7ffb2",
   "metadata": {},
   "outputs": [
    {
     "data": {
      "text/html": [
       "<div>\n",
       "<style scoped>\n",
       "    .dataframe tbody tr th:only-of-type {\n",
       "        vertical-align: middle;\n",
       "    }\n",
       "\n",
       "    .dataframe tbody tr th {\n",
       "        vertical-align: top;\n",
       "    }\n",
       "\n",
       "    .dataframe thead th {\n",
       "        text-align: right;\n",
       "    }\n",
       "</style>\n",
       "<table border=\"1\" class=\"dataframe\">\n",
       "  <thead>\n",
       "    <tr style=\"text-align: right;\">\n",
       "      <th></th>\n",
       "      <th>ev_op_Hp15_3f</th>\n",
       "      <th>ev_op_Hp20_3f</th>\n",
       "    </tr>\n",
       "  </thead>\n",
       "  <tbody>\n",
       "    <tr>\n",
       "      <th>0</th>\n",
       "      <td>9.341976</td>\n",
       "      <td>14.653902</td>\n",
       "    </tr>\n",
       "    <tr>\n",
       "      <th>1</th>\n",
       "      <td>9.341976</td>\n",
       "      <td>15.474910</td>\n",
       "    </tr>\n",
       "    <tr>\n",
       "      <th>2</th>\n",
       "      <td>9.341976</td>\n",
       "      <td>13.327975</td>\n",
       "    </tr>\n",
       "    <tr>\n",
       "      <th>3</th>\n",
       "      <td>9.341976</td>\n",
       "      <td>14.911832</td>\n",
       "    </tr>\n",
       "    <tr>\n",
       "      <th>4</th>\n",
       "      <td>10.994969</td>\n",
       "      <td>13.490865</td>\n",
       "    </tr>\n",
       "    <tr>\n",
       "      <th>...</th>\n",
       "      <td>...</td>\n",
       "      <td>...</td>\n",
       "    </tr>\n",
       "    <tr>\n",
       "      <th>645</th>\n",
       "      <td>NaN</td>\n",
       "      <td>3.352355</td>\n",
       "    </tr>\n",
       "    <tr>\n",
       "      <th>646</th>\n",
       "      <td>NaN</td>\n",
       "      <td>3.365936</td>\n",
       "    </tr>\n",
       "    <tr>\n",
       "      <th>647</th>\n",
       "      <td>NaN</td>\n",
       "      <td>3.340786</td>\n",
       "    </tr>\n",
       "    <tr>\n",
       "      <th>648</th>\n",
       "      <td>NaN</td>\n",
       "      <td>3.376859</td>\n",
       "    </tr>\n",
       "    <tr>\n",
       "      <th>649</th>\n",
       "      <td>NaN</td>\n",
       "      <td>3.351068</td>\n",
       "    </tr>\n",
       "  </tbody>\n",
       "</table>\n",
       "<p>650 rows × 2 columns</p>\n",
       "</div>"
      ],
      "text/plain": [
       "     ev_op_Hp15_3f  ev_op_Hp20_3f\n",
       "0         9.341976      14.653902\n",
       "1         9.341976      15.474910\n",
       "2         9.341976      13.327975\n",
       "3         9.341976      14.911832\n",
       "4        10.994969      13.490865\n",
       "..             ...            ...\n",
       "645            NaN       3.352355\n",
       "646            NaN       3.365936\n",
       "647            NaN       3.340786\n",
       "648            NaN       3.376859\n",
       "649            NaN       3.351068\n",
       "\n",
       "[650 rows x 2 columns]"
      ]
     },
     "execution_count": 8,
     "metadata": {},
     "output_type": "execute_result"
    }
   ],
   "source": [
    "df1b = pd.concat([r_cobyla2[i] for i in range(len(r_cobyla2))], axis = 1)\n",
    "df1b.to_csv('l4_l05_op_ev_a_20_30_40_indv_cobyla.csv')\n",
    "df1b"
   ]
  },
  {
   "cell_type": "markdown",
   "id": "c1c0544d",
   "metadata": {},
   "source": [
    "# SPSA, \n",
    "\n",
    "### 550 iterations\n",
    "\n",
    "At step 0, with ev_op_Hp20\n",
    "VQE result: 3.27681\n",
    "Length of this optimization 1151, time taken = 1979.814 \n",
    "\n",
    "At step 1, with ev_op_Hp30\n",
    "VQE result: 3.39317\n",
    "Length of this optimization 1151, time taken = 2188.474 \n",
    "\n",
    "At step 2, with ev_op_H40\n",
    "VQE result: 3.43173\n",
    "Length of this optimization 1151, time taken = 2886.12 \n",
    "\n",
    "At step 3, with ev_op_Hp20_2f\n",
    "VQE result: 3.43783\n",
    "Length of this optimization 1151, time taken = 2347.521 \n",
    "\n",
    "At step 4, with ev_op_Hp30_2f\n",
    "VQE result: 3.27521\n",
    "Length of this optimization 1151, time taken = 2775.426 \n",
    "\n",
    "At step 5, with ev_op_H40_2f\n",
    "VQE result: 8.67427\n",
    "Length of this optimization 1151, time taken = 4090.701 "
   ]
  },
  {
   "cell_type": "code",
   "execution_count": 8,
   "id": "75b9104b",
   "metadata": {},
   "outputs": [
    {
     "name": "stdout",
     "output_type": "stream",
     "text": [
      "At step 0, with ev_op_Hp15\n",
      "VQE result: 3.41548\n",
      "Length of this optimization 1351, time taken = 1870.359 \n",
      "\n",
      "At step 1, with ev_op_Hp20\n",
      "VQE result: 3.35646\n",
      "Length of this optimization 1351, time taken = 2058.685 \n",
      "\n",
      "At step 2, with ev_op_Hp25\n",
      "VQE result: 3.42603\n",
      "Length of this optimization 1351, time taken = 3963.988 \n",
      "\n",
      "At step 3, with ev_op_Hp30\n",
      "VQE result: 3.30582\n",
      "Length of this optimization 1351, time taken = 24525.54 \n",
      "\n",
      "At step 4, with ev_op_H40\n",
      "VQE result: 3.38215\n",
      "Length of this optimization 1351, time taken = 2971.088 \n",
      "\n",
      "At step 5, with ev_op_Hp15_2f\n",
      "VQE result: 3.37805\n",
      "Length of this optimization 1351, time taken = 2178.358 \n",
      "\n",
      "At step 6, with ev_op_Hp20_2f\n",
      "VQE result: 3.30794\n",
      "Length of this optimization 1351, time taken = 2578.238 \n",
      "\n",
      "At step 7, with ev_op_Hp25_2f\n",
      "VQE result: 3.33608\n",
      "Length of this optimization 1351, time taken = 2718.974 \n",
      "\n",
      "At step 8, with ev_op_Hp30_2f\n",
      "VQE result: 3.34507\n",
      "Length of this optimization 1351, time taken = 3009.474 \n",
      "\n",
      "At step 9, with ev_op_Hp40_2f\n",
      "VQE result: 8.90042\n",
      "Length of this optimization 1351, time taken = 4579.182 \n",
      "\n"
     ]
    }
   ],
   "source": [
    "r_spsa=[]\n",
    "for i in range(len(ansatz_list)):\n",
    "    print(f'At step {i}, with {ansatz_names[i]}')    \n",
    "    counts = []\n",
    "    values = []\n",
    "    t0 = time.time()\n",
    "    result = run_qve_w_specified_optimizer(SPSA, ansatz_list[i])\n",
    "    t1 = time.time()\n",
    "    print(f'Length of this optimization {len(values)}, time taken = {np.round(t1-t0,3)} \\n')\n",
    "    counts_a = counts\n",
    "    values_a = values \n",
    "    r_spsa.append(pd.DataFrame({f'{ansatz_names[i]}': values_a}))"
   ]
  },
  {
   "cell_type": "code",
   "execution_count": 11,
   "id": "d2a978a4",
   "metadata": {},
   "outputs": [],
   "source": [
    "df2 = pd.concat([r_spsa[i] for i in range(len(r_spsa))], axis = 1)\n",
    "df2.to_csv('l4_l05_op_ev_20_30_40_indv_spsa.csv')"
   ]
  },
  {
   "cell_type": "code",
   "execution_count": 9,
   "id": "d985c8f2",
   "metadata": {},
   "outputs": [
    {
     "name": "stdout",
     "output_type": "stream",
     "text": [
      "At step 0, with ev_op_Hp15_3f\n",
      "VQE result: 3.25784\n",
      "Length of this optimization 1351, time taken = 3202.713 \n",
      "\n",
      "At step 1, with ev_op_Hp20_3f\n",
      "VQE result: 3.35568\n",
      "Length of this optimization 1351, time taken = 3897.054 \n",
      "\n"
     ]
    }
   ],
   "source": [
    "r_spsa2=[]\n",
    "for i in range(len(ansatz_list)):\n",
    "    print(f'At step {i}, with {ansatz_names[i]}')\n",
    "    counts = []\n",
    "    values = []\n",
    "    t0 = time.time()\n",
    "    result = run_qve_w_specified_optimizer(SPSA, ansatz_list[i])\n",
    "    t1 = time.time()\n",
    "    print(f'Length of this optimization {len(values)}, time taken = {np.round(t1-t0,3)} \\n')\n",
    "    counts_a = counts\n",
    "    values_a = values \n",
    "    r_spsa2.append(pd.DataFrame({f'{ansatz_names[i]}': values_a}))"
   ]
  },
  {
   "cell_type": "code",
   "execution_count": 10,
   "id": "6681cc9a",
   "metadata": {},
   "outputs": [],
   "source": [
    "df2b = pd.concat([r_spsa2[i] for i in range(len(r_spsa2))], axis = 1)\n",
    "df2b.to_csv('l4_l05_op_ev_a_20_30_40_indv_spsa.csv')"
   ]
  }
 ],
 "metadata": {
  "kernelspec": {
   "display_name": "Python 3 (ipykernel)",
   "language": "python",
   "name": "python3"
  },
  "language_info": {
   "codemirror_mode": {
    "name": "ipython",
    "version": 3
   },
   "file_extension": ".py",
   "mimetype": "text/x-python",
   "name": "python",
   "nbconvert_exporter": "python",
   "pygments_lexer": "ipython3",
   "version": "3.12.7"
  }
 },
 "nbformat": 4,
 "nbformat_minor": 5
}
