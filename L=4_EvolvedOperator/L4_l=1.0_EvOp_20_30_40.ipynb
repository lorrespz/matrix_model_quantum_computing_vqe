{
 "cells": [
  {
   "cell_type": "markdown",
   "id": "0c2f7458-63a8-463f-bdfb-45aaaef38537",
   "metadata": {},
   "source": [
    "# Lambda = 4, lambda = 1.0: EvolvedOperatorAnsatz"
   ]
  },
  {
   "cell_type": "code",
   "execution_count": 1,
   "id": "c2020e65",
   "metadata": {},
   "outputs": [],
   "source": [
    "import numpy as np\n",
    "import pandas as pd\n",
    "import pylab\n",
    "import matplotlib.pyplot as plt\n",
    "import time\n",
    "\n",
    "import qiskit\n",
    "from qiskit.quantum_info import Pauli\n",
    "from qiskit.quantum_info import SparsePauliOp\n",
    "from qiskit_algorithms import NumPyEigensolver\n",
    "from qiskit.circuit.library import EvolvedOperatorAnsatz\n",
    "\n",
    "import sys\n",
    "sys.path.append('../utility')\n",
    "from vqe_run import *\n",
    "from qc_ansatze import *"
   ]
  },
  {
   "cell_type": "code",
   "execution_count": 2,
   "id": "056d5a14",
   "metadata": {},
   "outputs": [],
   "source": [
    "def open_n_process(file_link):\n",
    "    file = open(file_link, \"r\")\n",
    "    content = file.read()\n",
    "\n",
    "    data = content.split(',\\n')\n",
    "    data[0] = data[0].split('\\n')[1]\n",
    "    data[-1] = data[-1].split('\\n')[0]\n",
    "\n",
    "    data_coeff = []\n",
    "    data_str = []\n",
    "    for i in range(len(data)):\n",
    "        data_coeff.append(float(data[i].split('*')[0]))\n",
    "        data_str.append(data[i].split('*')[1].split(' ')[1])\n",
    "    return data_coeff, data_str\n",
    "    \n",
    "def check_min_max(data_coeff):\n",
    "    print(f'Min absolute value is {np.round(np.min(np.abs(data_coeff[1:])),6)}')\n",
    "    print(f'Max absolute value is {np.round(np.max(np.abs(data_coeff[1:])),5)}')\n",
    "    print(f'Mean absolute value is {np.round(np.mean(np.abs(data_coeff[1:])),5)}')\n",
    "    \n",
    "def get_k_largest_ops(data_coeff, data_str, k):\n",
    "    ind_list = np.argsort(np.abs(data_coeff[1:]))[-k:]\n",
    "    ops = [data_str[1:][i] for i in ind_list]\n",
    "    val= [np.round(data_coeff[1:][i],4) for i in ind_list]\n",
    "    return ind_list, ops, val"
   ]
  },
  {
   "cell_type": "markdown",
   "id": "4780efb2",
   "metadata": {},
   "source": [
    "# Load H"
   ]
  },
  {
   "cell_type": "code",
   "execution_count": 3,
   "id": "a5b5a7c2",
   "metadata": {},
   "outputs": [
    {
     "name": "stdout",
     "output_type": "stream",
     "text": [
      "Min absolute value is 0.004487\n",
      "Max absolute value is 1.75\n",
      "Mean absolute value is 0.13128\n",
      "None\n",
      "E_exact = 3.52625\n"
     ]
    }
   ],
   "source": [
    "data_coeff, data_str = open_n_process(\"../utility/pauliH_L4_g1.0.txt\")\n",
    "Hpauli = list(zip(data_str, data_coeff))\n",
    "H4q = SparsePauliOp.from_list(Hpauli)\n",
    "solver = NumPyEigensolver(k=4)\n",
    "exact_solution = solver.compute_eigenvalues(H4q)\n",
    "#print(\"Exact Result of qubit hamiltonian:\", np.real(exact_solution.eigenvalues))\n",
    "E_exact = np.round(np.real(exact_solution.eigenvalues)[0],5)\n",
    "print(f'{check_min_max(data_coeff)}')\n",
    "print(f'E_exact = {E_exact}')"
   ]
  },
  {
   "cell_type": "code",
   "execution_count": 4,
   "id": "aaf59d50",
   "metadata": {},
   "outputs": [],
   "source": [
    "#get the indices of the N largest elements\n",
    "ind15, ops15, vals15 = get_k_largest_ops(data_coeff, data_str, 15)\n",
    "ind20, ops20, vals20 = get_k_largest_ops(data_coeff, data_str, 20)\n",
    "ind25, ops25, vals25 = get_k_largest_ops(data_coeff, data_str, 25)\n",
    "ind30, ops30, vals30 = get_k_largest_ops(data_coeff, data_str, 30)\n",
    "ind40, ops40, vals40 = get_k_largest_ops(data_coeff, data_str, 40)\n",
    "\n",
    "ops_Hp15 =[Pauli(f'{ops15[i]}') for i in range(len(ops15))]\n",
    "ops_Hp20 =[Pauli(f'{ops20[i]}') for i in range(len(ops20))]\n",
    "ops_Hp25 =[Pauli(f'{ops25[i]}') for i in range(len(ops25))]\n",
    "ops_Hp30 =[Pauli(f'{ops30[i]}') for i in range(len(ops30))]\n",
    "ops_Hp40 =[Pauli(f'{ops40[i]}') for i in range(len(ops40))]"
   ]
  },
  {
   "cell_type": "code",
   "execution_count": 12,
   "id": "4f8bd622",
   "metadata": {},
   "outputs": [],
   "source": [
    "#[print(list(zip(ops30, vals30))[i]) for i in range(30)]"
   ]
  },
  {
   "cell_type": "code",
   "execution_count": 5,
   "id": "0e5a2329",
   "metadata": {},
   "outputs": [
    {
     "name": "stdout",
     "output_type": "stream",
     "text": [
      "number of params: [15, 20, 25, 30, 40, 30, 40, 50, 60, 80]\n"
     ]
    }
   ],
   "source": [
    "ev_op_Hp15 = EvolvedOperatorAnsatz(ops_Hp15, reps=1, insert_barriers=True)\n",
    "ev_op_Hp20 = EvolvedOperatorAnsatz(ops_Hp20, reps=1, insert_barriers=True)\n",
    "ev_op_Hp25 = EvolvedOperatorAnsatz(ops_Hp25, reps=1, insert_barriers=True)\n",
    "ev_op_Hp30 = EvolvedOperatorAnsatz(ops_Hp30, reps=1, insert_barriers=True)\n",
    "ev_op_Hp40 = EvolvedOperatorAnsatz(ops_Hp40, reps=1, insert_barriers=True)\n",
    "\n",
    "ev_op_Hp15_2f = EvolvedOperatorAnsatz(ops_Hp15, reps=2, insert_barriers=True)\n",
    "ev_op_Hp20_2f = EvolvedOperatorAnsatz(ops_Hp20, reps=2, insert_barriers=True)\n",
    "ev_op_Hp25_2f = EvolvedOperatorAnsatz(ops_Hp25, reps=2, insert_barriers=True)\n",
    "ev_op_Hp30_2f = EvolvedOperatorAnsatz(ops_Hp30, reps=2, insert_barriers=True)\n",
    "ev_op_Hp40_2f = EvolvedOperatorAnsatz(ops_Hp40, reps=2, insert_barriers=True)\n",
    "\n",
    "ansatz_list = [ev_op_Hp15, ev_op_Hp20, ev_op_Hp25, ev_op_Hp30, ev_op_Hp40, \n",
    "               ev_op_Hp15_2f, ev_op_Hp20_2f, ev_op_Hp25_2f, ev_op_Hp30_2f, ev_op_Hp40_2f]\n",
    "\n",
    "ansatz_names = ['ev_op_Hp15', 'ev_op_Hp20', 'ev_op_Hp25', 'ev_op_Hp30', 'ev_op_H40',\n",
    "               'ev_op_Hp15_2f','ev_op_Hp20_2f','ev_op_Hp25_2f', 'ev_op_Hp30_2f', 'ev_op_Hp40_2f']\n",
    "\n",
    "print(f'number of params: {[ansatz_list[i].num_parameters for i in range(len(ansatz_list))]}')"
   ]
  },
  {
   "cell_type": "code",
   "execution_count": 5,
   "id": "91111969",
   "metadata": {},
   "outputs": [
    {
     "name": "stdout",
     "output_type": "stream",
     "text": [
      "number of params: [45, 60]\n"
     ]
    }
   ],
   "source": [
    "#additional ansatze\n",
    "ev_op_Hp15_3f = EvolvedOperatorAnsatz(ops_Hp15, reps=3, insert_barriers=True)\n",
    "ev_op_Hp20_3f = EvolvedOperatorAnsatz(ops_Hp20, reps=3, insert_barriers=True)\n",
    "ansatz_list = [ev_op_Hp15_3f, ev_op_Hp20_3f]\n",
    "ansatz_names =['ev_op_Hp15_3f', 'ev_op_Hp20_3f']\n",
    "print(f'number of params: {[ansatz_list[i].num_parameters for i in range(len(ansatz_list))]}')"
   ]
  },
  {
   "cell_type": "markdown",
   "id": "6e25a52b",
   "metadata": {},
   "source": [
    "# QVE individual runs"
   ]
  },
  {
   "cell_type": "code",
   "execution_count": 6,
   "id": "e12262e0",
   "metadata": {},
   "outputs": [],
   "source": [
    "seed = 170\n",
    "iterations = 650\n",
    "algorithm_globals.random_seed = seed\n",
    "\n",
    "#estimator\n",
    "noiseless_estimator = AerEstimator(\n",
    "    run_options={\"seed\": seed, \"shots\": 1024},\n",
    "    transpile_options={\"seed_transpiler\": seed},\n",
    ")\n",
    "#storing values\n",
    "counts = []\n",
    "values = []\n",
    "def store_intermediate_result(eval_count, parameters, mean, std):\n",
    "    counts.append(eval_count)\n",
    "    values.append(mean)\n",
    "    \n",
    "def run_qve_w_specified_optimizer(optimizer, ansatz):\n",
    "    opt = optimizer(maxiter = iterations)\n",
    "    vqe = VQE(noiseless_estimator, ansatz, optimizer=opt, callback=store_intermediate_result)\n",
    "    result = vqe.compute_minimum_eigenvalue(operator=H4q).eigenvalue.real\n",
    "    print(f\"VQE result: {result:.5f}\")\n",
    "    return result"
   ]
  },
  {
   "cell_type": "markdown",
   "id": "2ea0aeb2",
   "metadata": {},
   "source": [
    "# COBYLA, \n",
    "\n",
    "### 550 iterations\n",
    "\n",
    "At step 0, with ev_op_Hp20\n",
    "VQE result: 3.48950\n",
    "Length of this optimization 273, time taken = 392.983 \n",
    "\n",
    "At step 1, with ev_op_Hp30\n",
    "VQE result: 4.08074\n",
    "Length of this optimization 353, time taken = 572.079 \n",
    "\n",
    "At step 2, with ev_op_H40\n",
    "VQE result: 4.13562\n",
    "Length of this optimization 528, time taken = 1315.623 \n",
    "\n",
    "At step 3, with ev_op_Hp20_2f\n",
    "VQE result: 3.57098\n",
    "Length of this optimization 550, time taken = 1164.852 \n",
    "\n",
    "At step 4, with ev_op_Hp30_2f\n",
    "VQE result: 4.01289\n",
    "Length of this optimization 550, time taken = 1298.156 \n",
    "\n",
    "At step 5, with ev_op_H40_2f\n",
    "VQE result: 5.65374\n",
    "Length of this optimization 550, time taken = 2171.84 "
   ]
  },
  {
   "cell_type": "code",
   "execution_count": 7,
   "id": "7f317744",
   "metadata": {},
   "outputs": [
    {
     "name": "stdout",
     "output_type": "stream",
     "text": [
      "At step 0, with ev_op_Hp15\n",
      "VQE result: 3.62082\n",
      "Length of this optimization 187, time taken = 222.408 \n",
      "\n",
      "At step 1, with ev_op_Hp20\n",
      "VQE result: 3.84073\n",
      "Length of this optimization 237, time taken = 272.391 \n",
      "\n",
      "At step 2, with ev_op_Hp25\n",
      "VQE result: 3.35342\n",
      "Length of this optimization 326, time taken = 468.618 \n",
      "\n",
      "At step 3, with ev_op_Hp30\n",
      "VQE result: 3.36268\n",
      "Length of this optimization 454, time taken = 676.014 \n",
      "\n",
      "At step 4, with ev_op_H40\n",
      "VQE result: 4.34683\n",
      "Length of this optimization 538, time taken = 1160.16 \n",
      "\n",
      "At step 5, with ev_op_Hp15_2f\n",
      "VQE result: 4.35314\n",
      "Length of this optimization 305, time taken = 511.484 \n",
      "\n",
      "At step 6, with ev_op_Hp20_2f\n",
      "VQE result: 3.75998\n",
      "Length of this optimization 467, time taken = 852.588 \n",
      "\n",
      "At step 7, with ev_op_Hp25_2f\n",
      "VQE result: 4.92616\n",
      "Length of this optimization 527, time taken = 1056.118 \n",
      "\n",
      "At step 8, with ev_op_Hp30_2f\n",
      "VQE result: 4.71595\n",
      "Length of this optimization 650, time taken = 1419.445 \n",
      "\n",
      "At step 9, with ev_op_Hp40_2f\n",
      "VQE result: 12.45933\n",
      "Length of this optimization 650, time taken = 2315.565 \n",
      "\n"
     ]
    }
   ],
   "source": [
    "r_cobyla=[]\n",
    "for i in range(len(ansatz_list)):\n",
    "    print(f'At step {i}, with {ansatz_names[i]}')    \n",
    "    counts = []\n",
    "    values = []\n",
    "    t0 = time.time()\n",
    "    result = run_qve_w_specified_optimizer(COBYLA, ansatz_list[i])\n",
    "    t1 = time.time()\n",
    "    print(f'Length of this optimization {len(values)}, time taken = {np.round(t1-t0,3)} \\n')\n",
    "    counts_a = counts\n",
    "    values_a = values \n",
    "    r_cobyla.append(pd.DataFrame({f'{ansatz_names[i]}': values_a}))\n",
    "    "
   ]
  },
  {
   "cell_type": "code",
   "execution_count": 9,
   "id": "15eab7d7",
   "metadata": {},
   "outputs": [],
   "source": [
    "df1 = pd.concat([r_cobyla[i] for i in range(len(r_cobyla))], axis = 1)\n",
    "df1.to_csv('l4_l10_op_ev_20_30_40_indv_cobyla.csv')"
   ]
  },
  {
   "cell_type": "code",
   "execution_count": 7,
   "id": "e27718cf",
   "metadata": {},
   "outputs": [
    {
     "name": "stdout",
     "output_type": "stream",
     "text": [
      "At step 0, with ev_op_Hp15_3f\n",
      "VQE result: 4.64766\n",
      "Length of this optimization 463, time taken = 1256.847 \n",
      "\n",
      "At step 1, with ev_op_Hp20_3f\n",
      "VQE result: 3.67295\n",
      "Length of this optimization 650, time taken = 2065.229 \n",
      "\n"
     ]
    }
   ],
   "source": [
    "# Additional ansatze\n",
    "r_cobyla2=[]\n",
    "for i in range(len(ansatz_list)):\n",
    "    print(f'At step {i}, with {ansatz_names[i]}')\n",
    "    counts = []\n",
    "    values = []\n",
    "    t0 = time.time()\n",
    "    result = run_qve_w_specified_optimizer(COBYLA, ansatz_list[i])\n",
    "    t1 = time.time()\n",
    "    print(f'Length of this optimization {len(values)}, time taken = {np.round(t1-t0,3)} \\n')\n",
    "    counts_a = counts\n",
    "    values_a = values \n",
    "    r_cobyla2.append(pd.DataFrame({f'{ansatz_names[i]}': values_a}))"
   ]
  },
  {
   "cell_type": "code",
   "execution_count": 8,
   "id": "8b7633f8",
   "metadata": {},
   "outputs": [
    {
     "data": {
      "text/html": [
       "<div>\n",
       "<style scoped>\n",
       "    .dataframe tbody tr th:only-of-type {\n",
       "        vertical-align: middle;\n",
       "    }\n",
       "\n",
       "    .dataframe tbody tr th {\n",
       "        vertical-align: top;\n",
       "    }\n",
       "\n",
       "    .dataframe thead th {\n",
       "        text-align: right;\n",
       "    }\n",
       "</style>\n",
       "<table border=\"1\" class=\"dataframe\">\n",
       "  <thead>\n",
       "    <tr style=\"text-align: right;\">\n",
       "      <th></th>\n",
       "      <th>ev_op_Hp15_3f</th>\n",
       "      <th>ev_op_Hp20_3f</th>\n",
       "    </tr>\n",
       "  </thead>\n",
       "  <tbody>\n",
       "    <tr>\n",
       "      <th>0</th>\n",
       "      <td>17.222337</td>\n",
       "      <td>22.514781</td>\n",
       "    </tr>\n",
       "    <tr>\n",
       "      <th>1</th>\n",
       "      <td>14.190180</td>\n",
       "      <td>22.514781</td>\n",
       "    </tr>\n",
       "    <tr>\n",
       "      <th>2</th>\n",
       "      <td>16.957282</td>\n",
       "      <td>22.514781</td>\n",
       "    </tr>\n",
       "    <tr>\n",
       "      <th>3</th>\n",
       "      <td>15.933015</td>\n",
       "      <td>22.514781</td>\n",
       "    </tr>\n",
       "    <tr>\n",
       "      <th>4</th>\n",
       "      <td>16.074259</td>\n",
       "      <td>22.514781</td>\n",
       "    </tr>\n",
       "    <tr>\n",
       "      <th>...</th>\n",
       "      <td>...</td>\n",
       "      <td>...</td>\n",
       "    </tr>\n",
       "    <tr>\n",
       "      <th>645</th>\n",
       "      <td>NaN</td>\n",
       "      <td>3.755489</td>\n",
       "    </tr>\n",
       "    <tr>\n",
       "      <th>646</th>\n",
       "      <td>NaN</td>\n",
       "      <td>3.689009</td>\n",
       "    </tr>\n",
       "    <tr>\n",
       "      <th>647</th>\n",
       "      <td>NaN</td>\n",
       "      <td>3.722354</td>\n",
       "    </tr>\n",
       "    <tr>\n",
       "      <th>648</th>\n",
       "      <td>NaN</td>\n",
       "      <td>3.727650</td>\n",
       "    </tr>\n",
       "    <tr>\n",
       "      <th>649</th>\n",
       "      <td>NaN</td>\n",
       "      <td>3.852121</td>\n",
       "    </tr>\n",
       "  </tbody>\n",
       "</table>\n",
       "<p>650 rows × 2 columns</p>\n",
       "</div>"
      ],
      "text/plain": [
       "     ev_op_Hp15_3f  ev_op_Hp20_3f\n",
       "0        17.222337      22.514781\n",
       "1        14.190180      22.514781\n",
       "2        16.957282      22.514781\n",
       "3        15.933015      22.514781\n",
       "4        16.074259      22.514781\n",
       "..             ...            ...\n",
       "645            NaN       3.755489\n",
       "646            NaN       3.689009\n",
       "647            NaN       3.722354\n",
       "648            NaN       3.727650\n",
       "649            NaN       3.852121\n",
       "\n",
       "[650 rows x 2 columns]"
      ]
     },
     "execution_count": 8,
     "metadata": {},
     "output_type": "execute_result"
    }
   ],
   "source": [
    "df1b = pd.concat([r_cobyla2[i] for i in range(len(r_cobyla2))], axis = 1)\n",
    "df1b.to_csv('l4_l10_op_ev_a_20_30_40_indv_cobyla.csv')\n",
    "df1b"
   ]
  },
  {
   "cell_type": "markdown",
   "id": "160cd55c",
   "metadata": {},
   "source": [
    "# SPSA,\n",
    "\n",
    "### 550 iterations\n",
    "\n",
    "At step 0, with ev_op_Hp20\n",
    "VQE result: 3.47956\n",
    "Length of this optimization 1151, time taken = 2054.015 \n",
    "\n",
    "At step 1, with ev_op_Hp30\n",
    "VQE result: 3.52841\n",
    "Length of this optimization 1151, time taken = 2210.211 \n",
    "\n",
    "At step 2, with ev_op_H40\n",
    "VQE result: 3.67711\n",
    "Length of this optimization 1151, time taken = 2918.526 \n",
    "\n",
    "At step 3, with ev_op_Hp20_2f\n",
    "VQE result: 3.55648\n",
    "Length of this optimization 1151, time taken = 2482.162 \n",
    "\n",
    "At step 4, with ev_op_Hp30_2f\n",
    "VQE result: 3.58351\n",
    "Length of this optimization 1151, time taken = 2808.639 \n",
    "\n",
    "At step 5, with ev_op_H40_2f\n",
    "VQE result: 7.49683\n",
    "Length of this optimization 1151, time taken = 3929.957 \n",
    "\n"
   ]
  },
  {
   "cell_type": "code",
   "execution_count": 8,
   "id": "75b9104b",
   "metadata": {},
   "outputs": [
    {
     "name": "stdout",
     "output_type": "stream",
     "text": [
      "At step 0, with ev_op_Hp15\n",
      "VQE result: 3.75863\n",
      "Length of this optimization 1351, time taken = 1796.695 \n",
      "\n",
      "At step 1, with ev_op_Hp20\n",
      "VQE result: 3.50884\n",
      "Length of this optimization 1351, time taken = 1840.615 \n",
      "\n",
      "At step 2, with ev_op_Hp25\n",
      "VQE result: 3.48718\n",
      "Length of this optimization 1351, time taken = 2068.862 \n",
      "\n",
      "At step 3, with ev_op_Hp30\n",
      "VQE result: 3.54551\n",
      "Length of this optimization 1351, time taken = 20877.993 \n",
      "\n",
      "At step 4, with ev_op_H40\n",
      "VQE result: 3.59112\n",
      "Length of this optimization 1351, time taken = 7329.858 \n",
      "\n",
      "At step 5, with ev_op_Hp15_2f\n",
      "VQE result: 3.71765\n",
      "Length of this optimization 1351, time taken = 2245.91 \n",
      "\n",
      "At step 6, with ev_op_Hp20_2f\n",
      "VQE result: 3.45539\n",
      "Length of this optimization 1351, time taken = 2385.868 \n",
      "\n",
      "At step 7, with ev_op_Hp25_2f\n",
      "VQE result: 3.76259\n",
      "Length of this optimization 1351, time taken = 2723.849 \n",
      "\n",
      "At step 8, with ev_op_Hp30_2f\n",
      "VQE result: 3.71206\n",
      "Length of this optimization 1351, time taken = 3034.612 \n",
      "\n",
      "At step 9, with ev_op_Hp40_2f\n",
      "VQE result: 9.96957\n",
      "Length of this optimization 1351, time taken = 4551.776 \n",
      "\n"
     ]
    }
   ],
   "source": [
    "r_spsa=[]\n",
    "for i in range(len(ansatz_list)):\n",
    "    print(f'At step {i}, with {ansatz_names[i]}')    \n",
    "    counts = []\n",
    "    values = []\n",
    "    t0 = time.time()\n",
    "    result = run_qve_w_specified_optimizer(SPSA, ansatz_list[i])\n",
    "    t1 = time.time()\n",
    "    print(f'Length of this optimization {len(values)}, time taken = {np.round(t1-t0,3)} \\n')\n",
    "    counts_a = counts\n",
    "    values_a = values \n",
    "    r_spsa.append(pd.DataFrame({f'{ansatz_names[i]}': values_a}))"
   ]
  },
  {
   "cell_type": "code",
   "execution_count": 12,
   "id": "d2a978a4",
   "metadata": {},
   "outputs": [],
   "source": [
    "df2 = pd.concat([r_spsa[i] for i in range(len(r_spsa))], axis = 1)\n",
    "df2.to_csv('l4_l10_op_ev_20_30_40_indv_spsa.csv')"
   ]
  },
  {
   "cell_type": "code",
   "execution_count": 9,
   "id": "d985c8f2",
   "metadata": {},
   "outputs": [
    {
     "name": "stdout",
     "output_type": "stream",
     "text": [
      "At step 0, with ev_op_Hp15_3f\n",
      "VQE result: 3.67341\n",
      "Length of this optimization 1351, time taken = 3932.001 \n",
      "\n",
      "At step 1, with ev_op_Hp20_3f\n",
      "VQE result: 3.49233\n",
      "Length of this optimization 1351, time taken = 28971.853 \n",
      "\n"
     ]
    }
   ],
   "source": [
    "r_spsa2=[]\n",
    "for i in range(len(ansatz_list)):\n",
    "    print(f'At step {i}, with {ansatz_names[i]}')\n",
    "    counts = []\n",
    "    values = []\n",
    "    t0 = time.time()\n",
    "    result = run_qve_w_specified_optimizer(SPSA, ansatz_list[i])\n",
    "    t1 = time.time()\n",
    "    print(f'Length of this optimization {len(values)}, time taken = {np.round(t1-t0,3)} \\n')\n",
    "    counts_a = counts\n",
    "    values_a = values \n",
    "    r_spsa2.append(pd.DataFrame({f'{ansatz_names[i]}': values_a}))"
   ]
  },
  {
   "cell_type": "code",
   "execution_count": 10,
   "id": "6ba06c6c",
   "metadata": {},
   "outputs": [],
   "source": [
    "df2b = pd.concat([r_spsa2[i] for i in range(len(r_spsa2))], axis = 1)\n",
    "df2b.to_csv('l4_l10_op_ev_a_20_30_40_indv_spsa.csv')"
   ]
  }
 ],
 "metadata": {
  "kernelspec": {
   "display_name": "Python 3 (ipykernel)",
   "language": "python",
   "name": "python3"
  },
  "language_info": {
   "codemirror_mode": {
    "name": "ipython",
    "version": 3
   },
   "file_extension": ".py",
   "mimetype": "text/x-python",
   "name": "python",
   "nbconvert_exporter": "python",
   "pygments_lexer": "ipython3",
   "version": "3.12.7"
  }
 },
 "nbformat": 4,
 "nbformat_minor": 5
}
