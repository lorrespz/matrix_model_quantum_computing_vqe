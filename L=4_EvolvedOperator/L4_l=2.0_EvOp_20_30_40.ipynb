{
 "cells": [
  {
   "cell_type": "markdown",
   "id": "bcadbbf1-5364-4cc4-9291-d055c7373087",
   "metadata": {},
   "source": [
    "# Lambda = 4, lambda = 2.0: EvolvedOperatorAnsatz"
   ]
  },
  {
   "cell_type": "code",
   "execution_count": 12,
   "id": "c2020e65",
   "metadata": {},
   "outputs": [],
   "source": [
    "import numpy as np\n",
    "import pandas as pd\n",
    "import pylab\n",
    "import matplotlib.pyplot as plt\n",
    "import time\n",
    "\n",
    "import qiskit\n",
    "from qiskit.quantum_info import Pauli\n",
    "from qiskit.quantum_info import SparsePauliOp\n",
    "from qiskit_algorithms import NumPyEigensolver\n",
    "from qiskit.circuit.library import EvolvedOperatorAnsatz\n",
    "\n",
    "import sys\n",
    "sys.path.append('../utility')\n",
    "from vqe_run import *\n",
    "from qc_ansatze import *"
   ]
  },
  {
   "cell_type": "code",
   "execution_count": 2,
   "id": "a9caa1a1",
   "metadata": {},
   "outputs": [],
   "source": [
    "def open_n_process(file_link):\n",
    "    file = open(file_link, \"r\")\n",
    "    content = file.read()\n",
    "\n",
    "    data = content.split(',\\n')\n",
    "    data[0] = data[0].split('\\n')[1]\n",
    "    data[-1] = data[-1].split('\\n')[0]\n",
    "\n",
    "    data_coeff = []\n",
    "    data_str = []\n",
    "    for i in range(len(data)):\n",
    "        data_coeff.append(float(data[i].split('*')[0]))\n",
    "        data_str.append(data[i].split('*')[1].split(' ')[1])\n",
    "    return data_coeff, data_str\n",
    "    \n",
    "def check_min_max(data_coeff):\n",
    "    print(f'Min absolute value is {np.round(np.min(np.abs(data_coeff[1:])),6)}')\n",
    "    print(f'Max absolute value is {np.round(np.max(np.abs(data_coeff[1:])),5)}')\n",
    "    print(f'Mean absolute value is {np.round(np.mean(np.abs(data_coeff[1:])),5)}')\n",
    "    \n",
    "def get_k_largest_ops(data_coeff, data_str, k):\n",
    "    ind_list = np.argsort(np.abs(data_coeff[1:]))[-k:]\n",
    "    ops = [data_str[1:][i] for i in ind_list]\n",
    "    val= [np.round(data_coeff[1:][i],4) for i in ind_list]\n",
    "    return ind_list, ops, val"
   ]
  },
  {
   "cell_type": "markdown",
   "id": "4780efb2",
   "metadata": {},
   "source": [
    "# Load H"
   ]
  },
  {
   "cell_type": "code",
   "execution_count": 3,
   "id": "a5b5a7c2",
   "metadata": {},
   "outputs": [
    {
     "name": "stdout",
     "output_type": "stream",
     "text": [
      "Min absolute value is 0.008975\n",
      "Max absolute value is 2.89778\n",
      "Mean absolute value is 0.25249\n",
      "None\n",
      "E_exact = 3.89548\n"
     ]
    }
   ],
   "source": [
    "data_coeff, data_str = open_n_process(\"../utility/pauliH_L4_g2.0.txt\")\n",
    "Hpauli = list(zip(data_str, data_coeff))\n",
    "H4q = SparsePauliOp.from_list(Hpauli)\n",
    "# exactly diagonalize the system using numpy routines\n",
    "solver = NumPyEigensolver(k=4)\n",
    "exact_solution = solver.compute_eigenvalues(H4q)\n",
    "#print(\"Exact Result of qubit hamiltonian:\", np.real(exact_solution.eigenvalues))\n",
    "E_exact = np.round(np.real(exact_solution.eigenvalues)[0],5)\n",
    "print(f'{check_min_max(data_coeff)}')\n",
    "print(f'E_exact = {E_exact}')"
   ]
  },
  {
   "cell_type": "code",
   "execution_count": 4,
   "id": "aaf59d50",
   "metadata": {},
   "outputs": [],
   "source": [
    "#get the indices of the N largest elements\n",
    "ind15, ops15, vals15 = get_k_largest_ops(data_coeff, data_str, 15)\n",
    "ind20, ops20, vals20 = get_k_largest_ops(data_coeff, data_str, 20)\n",
    "ind25, ops25, vals25 = get_k_largest_ops(data_coeff, data_str, 25)\n",
    "ind30, ops30, vals30 = get_k_largest_ops(data_coeff, data_str, 30)\n",
    "ind40, ops40, vals40 = get_k_largest_ops(data_coeff, data_str, 40)\n",
    "\n",
    "ops_Hp15 =[Pauli(f'{ops15[i]}') for i in range(len(ops15))]\n",
    "ops_Hp20 =[Pauli(f'{ops20[i]}') for i in range(len(ops20))]\n",
    "ops_Hp25 =[Pauli(f'{ops25[i]}') for i in range(len(ops25))]\n",
    "ops_Hp30 =[Pauli(f'{ops30[i]}') for i in range(len(ops30))]\n",
    "ops_Hp40 =[Pauli(f'{ops40[i]}') for i in range(len(ops40))]"
   ]
  },
  {
   "cell_type": "code",
   "execution_count": 5,
   "id": "0e5a2329",
   "metadata": {},
   "outputs": [
    {
     "name": "stdout",
     "output_type": "stream",
     "text": [
      "number of params: [15, 20, 25, 30, 40, 30, 40, 50, 60, 80]\n"
     ]
    }
   ],
   "source": [
    "ev_op_Hp15 = EvolvedOperatorAnsatz(ops_Hp15, reps=1, insert_barriers=True)\n",
    "ev_op_Hp20 = EvolvedOperatorAnsatz(ops_Hp20, reps=1, insert_barriers=True)\n",
    "ev_op_Hp25 = EvolvedOperatorAnsatz(ops_Hp25, reps=1, insert_barriers=True)\n",
    "ev_op_Hp30 = EvolvedOperatorAnsatz(ops_Hp30, reps=1, insert_barriers=True)\n",
    "ev_op_Hp40 = EvolvedOperatorAnsatz(ops_Hp40, reps=1, insert_barriers=True)\n",
    "\n",
    "ev_op_Hp15_2f = EvolvedOperatorAnsatz(ops_Hp15, reps=2, insert_barriers=True)\n",
    "ev_op_Hp20_2f = EvolvedOperatorAnsatz(ops_Hp20, reps=2, insert_barriers=True)\n",
    "ev_op_Hp25_2f = EvolvedOperatorAnsatz(ops_Hp25, reps=2, insert_barriers=True)\n",
    "ev_op_Hp30_2f = EvolvedOperatorAnsatz(ops_Hp30, reps=2, insert_barriers=True)\n",
    "ev_op_Hp40_2f = EvolvedOperatorAnsatz(ops_Hp40, reps=2, insert_barriers=True)\n",
    "\n",
    "ansatz_list = [ev_op_Hp15, ev_op_Hp20, ev_op_Hp25, ev_op_Hp30, ev_op_Hp40, \n",
    "               ev_op_Hp15_2f, ev_op_Hp20_2f, ev_op_Hp25_2f, ev_op_Hp30_2f, ev_op_Hp40_2f]\n",
    "\n",
    "ansatz_names = ['ev_op_Hp15', 'ev_op_Hp20', 'ev_op_Hp25', 'ev_op_Hp30', 'ev_op_H40',\n",
    "               'ev_op_Hp15_2f','ev_op_Hp20_2f','ev_op_Hp25_2f', 'ev_op_Hp30_2f', 'ev_op_Hp40_2f']\n",
    "\n",
    "print(f'number of params: {[ansatz_list[i].num_parameters for i in range(len(ansatz_list))]}')"
   ]
  },
  {
   "cell_type": "code",
   "execution_count": 14,
   "id": "878bc67d",
   "metadata": {},
   "outputs": [],
   "source": [
    "#[print(list(zip(ops30, vals30))[i]) for i in range(30)]"
   ]
  },
  {
   "cell_type": "markdown",
   "id": "6e25a52b",
   "metadata": {},
   "source": [
    "# QVE individual runs"
   ]
  },
  {
   "cell_type": "code",
   "execution_count": 6,
   "id": "e12262e0",
   "metadata": {},
   "outputs": [],
   "source": [
    "seed = 170\n",
    "algorithm_globals.random_seed = seed\n",
    "\n",
    "#estimator\n",
    "noiseless_estimator = AerEstimator(\n",
    "    run_options={\"seed\": seed, \"shots\": 1024},\n",
    "    transpile_options={\"seed_transpiler\": seed},\n",
    ")\n",
    "#storing values\n",
    "counts = []\n",
    "values = []\n",
    "def store_intermediate_result(eval_count, parameters, mean, std):\n",
    "    counts.append(eval_count)\n",
    "    values.append(mean)\n",
    "    \n",
    "def run_qve_w_specified_optimizer(optimizer, ansatz, iters):\n",
    "    opt = optimizer(maxiter = iters)\n",
    "    vqe = VQE(noiseless_estimator, ansatz, optimizer=opt, callback=store_intermediate_result)\n",
    "    result = vqe.compute_minimum_eigenvalue(operator=H4q).eigenvalue.real\n",
    "    print(f\"VQE result: {result:.5f}\")\n",
    "    return result"
   ]
  },
  {
   "cell_type": "markdown",
   "id": "d0f9d866",
   "metadata": {},
   "source": [
    "# COBYLA\n",
    "\n",
    "### 550 iterations:\n",
    "\n",
    "At step 0, with ev_op_Hp20\n",
    "VQE result: 4.88594\n",
    "Length of this optimization 227, time taken = 296.544 \n",
    "\n",
    "At step 1, with ev_op_Hp30\n",
    "VQE result: 7.16187\n",
    "Length of this optimization 392, time taken = 798.849 \n",
    "\n",
    "At step 2, with ev_op_H40\n",
    "VQE result: 6.05659\n",
    "Length of this optimization 550, time taken = 1607.398 \n",
    "\n",
    "At step 3, with ev_op_Hp20_2f\n",
    "VQE result: 4.99013\n",
    "Length of this optimization 430, time taken = 862.027 \n",
    "\n",
    "At step 4, with ev_op_Hp30_2f\n",
    "VQE result: 10.74866\n",
    "Length of this optimization 550, time taken = 1784.653 \n",
    "\n",
    "At step 5, with ev_op_Hp40_2f\n",
    "VQE result: 21.88700\n",
    "Length of this optimization 550, time taken = 2719.524 "
   ]
  },
  {
   "cell_type": "code",
   "execution_count": 7,
   "id": "897df6eb",
   "metadata": {},
   "outputs": [
    {
     "name": "stdout",
     "output_type": "stream",
     "text": [
      "At step 0, with ev_op_Hp15\n",
      "VQE result: 5.18872\n",
      "Length of this optimization 205, time taken = 217.991 \n",
      "\n",
      "At step 1, with ev_op_Hp20\n",
      "VQE result: 4.48164\n",
      "Length of this optimization 279, time taken = 302.564 \n",
      "\n",
      "At step 2, with ev_op_Hp25\n",
      "VQE result: 6.16766\n",
      "Length of this optimization 324, time taken = 380.013 \n",
      "\n",
      "At step 3, with ev_op_Hp30\n",
      "VQE result: 4.88188\n",
      "Length of this optimization 452, time taken = 655.43 \n",
      "\n",
      "At step 4, with ev_op_H40\n",
      "VQE result: 14.99081\n",
      "Length of this optimization 441, time taken = 915.525 \n",
      "\n",
      "At step 5, with ev_op_Hp15_2f\n",
      "VQE result: 3.83330\n",
      "Length of this optimization 323, time taken = 431.424 \n",
      "\n",
      "At step 6, with ev_op_Hp20_2f\n",
      "VQE result: 5.55726\n",
      "Length of this optimization 429, time taken = 637.505 \n",
      "\n",
      "At step 7, with ev_op_Hp25_2f\n",
      "VQE result: 7.39414\n",
      "Length of this optimization 582, time taken = 974.137 \n",
      "\n",
      "At step 8, with ev_op_Hp30_2f\n",
      "VQE result: 5.62945\n",
      "Length of this optimization 650, time taken = 1414.989 \n",
      "\n",
      "At step 9, with ev_op_Hp40_2f\n",
      "VQE result: 19.78529\n",
      "Length of this optimization 650, time taken = 2213.359 \n",
      "\n"
     ]
    }
   ],
   "source": [
    "r_cobyla=[]\n",
    "iters = 650\n",
    "for i in range(len(ansatz_list)):\n",
    "    print(f'At step {i}, with {ansatz_names[i]}')   \n",
    "    counts = []\n",
    "    values = []\n",
    "    t0 = time.time()\n",
    "    result = run_qve_w_specified_optimizer(COBYLA, ansatz_list[i], iters)\n",
    "    t1 = time.time()\n",
    "    print(f'Length of this optimization {len(values)}, time taken = {np.round(t1-t0,3)} \\n')\n",
    "    counts_a = counts\n",
    "    values_a = values \n",
    "    r_cobyla.append(pd.DataFrame({f'{ansatz_names[i]}': values_a}))\n",
    "    "
   ]
  },
  {
   "cell_type": "code",
   "execution_count": 8,
   "id": "c5f00ec9",
   "metadata": {},
   "outputs": [],
   "source": [
    "df1 = pd.concat([r_cobyla[i] for i in range(len(r_cobyla))], axis = 1)\n",
    "df1.to_csv('l4_l2.0_op_ev_20_30_40_indv_cobyla.csv')"
   ]
  },
  {
   "cell_type": "markdown",
   "id": "3ed0eddb",
   "metadata": {},
   "source": [
    "# SPSA \n",
    "### 1000 iterations\n",
    "\n",
    "At step 0, with ev_op_Hp20\n",
    "VQE result: 5.07011\n",
    "Length of this optimization 2051, time taken = 2018.96 \n",
    "\n",
    "At step 1, with ev_op_Hp30\n",
    "VQE result: 4.59715\n",
    "Length of this optimization 2051, time taken = 2634.783 \n",
    "\n",
    "At step 2, with ev_op_H40\n",
    "VQE result: 4.52666\n",
    "Length of this optimization 2051, time taken = 3522.86 \n",
    "\n",
    "At step 3, with ev_op_Hp20_2f\n",
    "VQE result: 4.67121\n",
    "Length of this optimization 2051, time taken = 2750.232 \n",
    "\n",
    "At step 4, with ev_op_Hp30_2f\n",
    "VQE result: 5.05835\n",
    "Length of this optimization 2051, time taken = 3919.943 \n",
    "\n",
    "### 550 iterations\n",
    "\n",
    "At step 0, with ev_op_Hp15\n",
    "VQE result: 4.61577\n",
    "Length of this optimization 1151, time taken = 1548.719 \n",
    "\n",
    "At step 1, with ev_op_Hp20\n",
    "VQE result: 4.72853\n",
    "Length of this optimization 1151, time taken = 1670.138 \n",
    "\n",
    "At step 2, with ev_op_Hp25\n",
    "VQE result: 4.77875\n",
    "Length of this optimization 1151, time taken = 6832.995 \n",
    "\n",
    "At step 3, with ev_op_Hp30\n",
    "VQE result: 4.12597\n",
    "Length of this optimization 1151, time taken = 20321.974 \n",
    "\n",
    "At step 4, with ev_op_H40\n",
    "VQE result: 7.83938\n",
    "Length of this optimization 1151, time taken = 2912.388 \n",
    "\n",
    "At step 5, with ev_op_Hp15_2f\n",
    "VQE result: 4.03526\n",
    "Length of this optimization 1151, time taken = 1944.099 \n",
    "\n",
    "At step 6, with ev_op_Hp20_2f\n",
    "VQE result: 4.51575\n",
    "Length of this optimization 1151, time taken = 2068.24"
   ]
  },
  {
   "cell_type": "code",
   "execution_count": 9,
   "id": "04d18881",
   "metadata": {},
   "outputs": [
    {
     "name": "stdout",
     "output_type": "stream",
     "text": [
      "At step 0, with ev_op_Hp15\n",
      "VQE result: 5.26024\n",
      "Length of this optimization 1351, time taken = 1386.879 \n",
      "\n",
      "At step 1, with ev_op_Hp20\n",
      "VQE result: 4.82453\n",
      "Length of this optimization 1351, time taken = 1465.449 \n",
      "\n",
      "At step 2, with ev_op_Hp25\n",
      "VQE result: 4.63808\n",
      "Length of this optimization 1351, time taken = 1562.864 \n",
      "\n",
      "At step 3, with ev_op_Hp30\n",
      "VQE result: 4.26867\n",
      "Length of this optimization 1351, time taken = 1871.368 \n",
      "\n",
      "At step 4, with ev_op_H40\n",
      "VQE result: 4.56014\n",
      "Length of this optimization 1351, time taken = 2476.029 \n",
      "\n",
      "At step 5, with ev_op_Hp15_2f\n",
      "VQE result: 4.12574\n",
      "Length of this optimization 1351, time taken = 1748.22 \n",
      "\n",
      "At step 6, with ev_op_Hp20_2f\n",
      "VQE result: 4.10240\n",
      "Length of this optimization 1351, time taken = 1900.309 \n",
      "\n",
      "At step 7, with ev_op_Hp25_2f\n",
      "VQE result: 4.52611\n",
      "Length of this optimization 1351, time taken = 2134.527 \n",
      "\n",
      "At step 8, with ev_op_Hp30_2f\n",
      "VQE result: 4.76864\n",
      "Length of this optimization 1351, time taken = 2757.219 \n",
      "\n",
      "At step 9, with ev_op_Hp40_2f\n",
      "VQE result: 12.95906\n",
      "Length of this optimization 1351, time taken = 4011.487 \n",
      "\n",
      "10\n"
     ]
    }
   ],
   "source": [
    "r_spsa=[]\n",
    "for i in range(len(ansatz_list)):\n",
    "    print(f'At step {i}, with {ansatz_names[i]}')\n",
    "    counts = []\n",
    "    values = []\n",
    "    t0 = time.time()\n",
    "    result = run_qve_w_specified_optimizer(SPSA, ansatz_list[i],650)\n",
    "    t1 = time.time()\n",
    "    print(f'Length of this optimization {len(values)}, time taken = {np.round(t1-t0,3)} \\n')\n",
    "    counts_a = counts\n",
    "    values_a = values \n",
    "    r_spsa.append(pd.DataFrame({f'{ansatz_names[i]}': values_a}))\n",
    "    \n",
    "print(len(r_spsa))\n",
    "    "
   ]
  },
  {
   "cell_type": "code",
   "execution_count": 10,
   "id": "15eab7d7",
   "metadata": {},
   "outputs": [],
   "source": [
    "df2 = pd.concat([r_spsa[i] for i in range(len(r_spsa))], axis = 1)\n",
    "df2.to_csv('l4_l2.0_op_ev_20_30_40_indv_spsa.csv')"
   ]
  },
  {
   "cell_type": "code",
   "execution_count": 12,
   "id": "99f163ca",
   "metadata": {},
   "outputs": [
    {
     "name": "stdout",
     "output_type": "stream",
     "text": [
      "At step 0, with ev_op_Hp15\n",
      "VQE result: 4.95306\n",
      "Length of this optimization 1751, time taken = 1431.4 \n",
      "\n",
      "At step 1, with ev_op_Hp20\n",
      "VQE result: 4.95798\n",
      "Length of this optimization 1751, time taken = 1536.466 \n",
      "\n",
      "At step 2, with ev_op_Hp25\n",
      "VQE result: 4.64100\n",
      "Length of this optimization 1751, time taken = 1674.356 \n",
      "\n",
      "At step 3, with ev_op_Hp30\n",
      "VQE result: 4.77990\n",
      "Length of this optimization 1751, time taken = 2071.127 \n",
      "\n",
      "At step 4, with ev_op_H40\n",
      "VQE result: 4.44978\n",
      "Length of this optimization 1751, time taken = 2823.295 \n",
      "\n",
      "At step 5, with ev_op_Hp15_2f\n",
      "VQE result: 4.62553\n",
      "Length of this optimization 1751, time taken = 1925.163 \n",
      "\n",
      "At step 6, with ev_op_Hp20_2f\n",
      "VQE result: 4.32279\n",
      "Length of this optimization 1751, time taken = 2096.367 \n",
      "\n",
      "At step 7, with ev_op_Hp25_2f\n",
      "VQE result: 4.62304\n",
      "Length of this optimization 1751, time taken = 2423.337 \n",
      "\n",
      "At step 8, with ev_op_Hp30_2f\n",
      "VQE result: 4.85916\n",
      "Length of this optimization 1751, time taken = 25381.44 \n",
      "\n",
      "At step 9, with ev_op_Hp40_2f\n",
      "VQE result: 15.46845\n",
      "Length of this optimization 1751, time taken = 5241.883 \n",
      "\n",
      "10\n"
     ]
    }
   ],
   "source": [
    "r_spsa2=[]\n",
    "for i in range(len(ansatz_list)):\n",
    "    print(f'At step {i}, with {ansatz_names[i]}')\n",
    "    counts = []\n",
    "    values = []\n",
    "    t0 = time.time()\n",
    "    result = run_qve_w_specified_optimizer(SPSA, ansatz_list[i],850)\n",
    "    t1 = time.time()\n",
    "    print(f'Length of this optimization {len(values)}, time taken = {np.round(t1-t0,3)} \\n')\n",
    "    counts_a = counts\n",
    "    values_a = values \n",
    "    r_spsa2.append(pd.DataFrame({f'{ansatz_names[i]}': values_a}))\n",
    "    \n",
    "print(len(r_spsa2))"
   ]
  },
  {
   "cell_type": "code",
   "execution_count": 13,
   "id": "2e0252ff",
   "metadata": {},
   "outputs": [],
   "source": [
    "df3 = pd.concat([r_spsa2[i] for i in range(len(r_spsa2))], axis = 1)\n",
    "df3.to_csv('l4_l2.0_op_ev_20_30_40_indv_spsa_850.csv')"
   ]
  }
 ],
 "metadata": {
  "kernelspec": {
   "display_name": "Python 3 (ipykernel)",
   "language": "python",
   "name": "python3"
  },
  "language_info": {
   "codemirror_mode": {
    "name": "ipython",
    "version": 3
   },
   "file_extension": ".py",
   "mimetype": "text/x-python",
   "name": "python",
   "nbconvert_exporter": "python",
   "pygments_lexer": "ipython3",
   "version": "3.12.7"
  }
 },
 "nbformat": 4,
 "nbformat_minor": 5
}
